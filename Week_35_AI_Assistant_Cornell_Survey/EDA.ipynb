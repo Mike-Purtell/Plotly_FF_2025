{
 "cells": [
  {
   "cell_type": "code",
   "execution_count": 25,
   "id": "654d4f62",
   "metadata": {},
   "outputs": [],
   "source": [
    "import polars as pl\n",
    "import polars.selectors as cs\n",
    "import os\n"
   ]
  },
  {
   "cell_type": "code",
   "execution_count": 31,
   "id": "00601c56",
   "metadata": {},
   "outputs": [],
   "source": [
    "#----- FUNCTIONS ---------------------------------------------------------------\n",
    "def read_and_clean_csv():\n",
    "    print('reading and cleaning csv file')\n",
    "    no_education = 'I’ve never completed any formal education'\n",
    "    elem_education = 'Primary / elementary school'\n",
    "    high_school = (\n",
    "        'Secondary school (e.g. American high school, ' +\n",
    "        'German Realschule or Gymnasium, etc.)'\n",
    "    )\n",
    "    some_college = (\n",
    "        \"Some college or university study \" +\n",
    "        \"without earning a bachelor’s degree\"\n",
    "    )\n",
    "    bachelors = 'Bachelor’s degree (BA, BS, B.Eng., etc.)'\n",
    "    masters = 'Master’s degree (MA, MS, M.Eng., MBA, etc.)'\n",
    "    doctorate = 'Doctoral degree (Ph.D, Ed.D., etc.)'\n",
    "    professional = 'Professional degree (JD, MD, etc.)'\n",
    "    return(\n",
    "        pl.scan_csv('dataset.csv')\n",
    "        .select(\n",
    "            COUNTRY = cs.starts_with('[1]').cast(pl.Categorical()),\n",
    "            GENDER = cs.starts_with('[2]').cast(pl.Categorical()),\n",
    "            AGE_RANGE = cs.starts_with('[3]')\n",
    "                .replace('60 or older', '60+')\n",
    "                .cast(pl.Categorical()),\n",
    "            WORK_LANG = pl.concat_list(cs.starts_with('[9]'))\n",
    "                .list.eval(pl.element().filter(pl.element().is_not_null())),\n",
    "            EDUCATION = cs.starts_with('[12]')\n",
    "                .replace(no_education, 'None')\n",
    "                .replace(elem_education, 'Elementary')\n",
    "                .replace(high_school, 'High School')\n",
    "                .replace(some_college, 'Some College')\n",
    "                .replace(bachelors, 'Bachelors')\n",
    "                .replace(masters, 'Masters')\n",
    "                .replace(doctorate, 'Doctorate')\n",
    "            .replace(professional, 'Professional')\n",
    "            .cast(pl.Categorical()),\n",
    "            JOB_ROLE = pl.concat_list(cs.starts_with('[23]'))\n",
    "                .list.eval(pl.element().filter(pl.element().is_not_null())),\n",
    "            JOB_LEVEL = cs.starts_with('[24]').cast(pl.Categorical()),\n",
    "            YEARS_EXPERIENCE = cs.starts_with('[25]')\n",
    "                .str.replace(' years', '')\n",
    "                .str.replace(' year', '')\n",
    "                .str.replace('Less than 1', '<1')\n",
    "                .str.replace(\"I don't have any professional coding experience\", '0'),\n",
    "            CS_LANGS = pl.concat_list(cs.starts_with('[44]'))\n",
    "                .list.eval(pl.element().filter(pl.element().is_not_null())),\n",
    "            AI_ASST = pl.concat_list(cs.starts_with('[62]'))\n",
    "                .list.eval(pl.element().filter(pl.element().is_not_null())),\n",
    "            AI_FEATURES = pl.concat_list(cs.starts_with('[63]'))\n",
    "                .list.eval(pl.element().filter(pl.element().is_not_null())),\n",
    "        )\n",
    "        .with_columns(\n",
    "            JOB_ROLE_COUNT = pl.col('JOB_ROLE').list.len(),\n",
    "            WORK_LANG_COUNT = pl.col('WORK_LANG').list.len(),\n",
    "            CS_LANGS_COUNT = pl.col('CS_LANGS').list.len(),\n",
    "            AI_ASST_COUNT = pl.col('AI_ASST').list.len(),\n",
    "            AI_FEATURES_COUNT = pl.col('AI_FEATURES').list.len(),\n",
    "        )\n",
    "        .with_columns(\n",
    "            JOB_ROLE_WT = pl.when(pl.col('JOB_ROLE_COUNT') > 0)\n",
    "                .then(1/pl.col('JOB_ROLE_COUNT')).otherwise(pl.lit(0)),        \n",
    "            WORK_LANG_WT = pl.when(pl.col('WORK_LANG_COUNT') > 0)\n",
    "                .then(1/pl.col('WORK_LANG_COUNT')).otherwise(pl.lit(0)),\n",
    "            CS_LANGS_WT = pl.when(pl.col('CS_LANGS_COUNT') > 0)\n",
    "                .then(1/pl.col('CS_LANGS_COUNT')).otherwise(pl.lit(0)),\n",
    "            AI_ASST_WT = pl.when(pl.col('AI_ASST_COUNT') > 0)\n",
    "                .then(1/pl.col('AI_ASST_COUNT')).otherwise(pl.lit(0)),\n",
    "            AI_FEATURES_WT = pl.when(pl.col('AI_FEATURES_COUNT') > 0)\n",
    "                .then(1/pl.col('AI_FEATURES_COUNT')).otherwise(pl.lit(0)),\n",
    "        )\n",
    "        .drop_nulls('GENDER')\n",
    "        .select(\n",
    "            'COUNTRY', 'GENDER', 'AGE_RANGE', \n",
    "            'EDUCATION',  'JOB_LEVEL', 'YEARS_EXPERIENCE', \n",
    "            'JOB_ROLE',     'JOB_ROLE_COUNT',     'JOB_ROLE_WT',       \n",
    "            'WORK_LANG',    'WORK_LANG_COUNT',     'WORK_LANG_WT',\n",
    "            'CS_LANGS',     'CS_LANGS_COUNT',      'CS_LANGS_WT',\n",
    "            'AI_ASST',      'AI_ASST_COUNT',       'AI_ASST_WT',\n",
    "            'AI_FEATURES',  'AI_FEATURES_COUNT',   'AI_FEATURES_WT',\n",
    "        )\n",
    "        .with_columns(cs.float().cast(pl.Float32))\n",
    "        .with_columns(cs.integer().cast(pl.UInt8))\n",
    "        .with_row_index(name='INDEX', offset=1)\n",
    "        .with_columns(pl.col('INDEX').cast(pl.UInt16))\n",
    "        .explode('JOB_ROLE')\n",
    "        .explode('WORK_LANG')\n",
    "        .explode('CS_LANGS') \n",
    "        .explode('AI_ASST')\n",
    "        .explode('AI_FEATURES')\n",
    "        .with_columns(cs.string().cast(pl.Categorical()))\n",
    "        .collect()  # convert Lazy Frame to Data Frame\n",
    "    )"
   ]
  },
  {
   "cell_type": "code",
   "execution_count": 32,
   "id": "38f323cc",
   "metadata": {},
   "outputs": [
    {
     "name": "stdout",
     "output_type": "stream",
     "text": [
      "reading and cleaning csv file\n",
      "shape: (2_262_495, 22)\n",
      "┌───────┬─────────────┬────────┬───────────┬───┬────────────┬────────────┬────────────┬────────────┐\n",
      "│ INDEX ┆ COUNTRY     ┆ GENDER ┆ AGE_RANGE ┆ … ┆ AI_ASST_WT ┆ AI_FEATURE ┆ AI_FEATURE ┆ AI_FEATURE │\n",
      "│ ---   ┆ ---         ┆ ---    ┆ ---       ┆   ┆ ---        ┆ S          ┆ S_COUNT    ┆ S_WT       │\n",
      "│ u16   ┆ cat         ┆ cat    ┆ cat       ┆   ┆ f32        ┆ ---        ┆ ---        ┆ ---        │\n",
      "│       ┆             ┆        ┆           ┆   ┆            ┆ cat        ┆ u8         ┆ f32        │\n",
      "╞═══════╪═════════════╪════════╪═══════════╪═══╪════════════╪════════════╪════════════╪════════════╡\n",
      "│ 1     ┆ Italy       ┆ Male   ┆ 60+       ┆ … ┆ 0.0        ┆ null       ┆ 0          ┆ 0.0        │\n",
      "│ 1     ┆ Italy       ┆ Male   ┆ 60+       ┆ … ┆ 0.0        ┆ null       ┆ 0          ┆ 0.0        │\n",
      "│ 1     ┆ Italy       ┆ Male   ┆ 60+       ┆ … ┆ 0.0        ┆ null       ┆ 0          ┆ 0.0        │\n",
      "│ 1     ┆ Italy       ┆ Male   ┆ 60+       ┆ … ┆ 0.0        ┆ null       ┆ 0          ┆ 0.0        │\n",
      "│ 1     ┆ Italy       ┆ Male   ┆ 60+       ┆ … ┆ 0.0        ┆ null       ┆ 0          ┆ 0.0        │\n",
      "│ …     ┆ …           ┆ …      ┆ …         ┆ … ┆ …          ┆ …          ┆ …          ┆ …          │\n",
      "│ 14739 ┆ Russian     ┆ Male   ┆ 30–39     ┆ … ┆ 0.333333   ┆ Summarizin ┆ 14         ┆ 0.071429   │\n",
      "│       ┆ Federation  ┆        ┆           ┆   ┆            ┆ g recent   ┆            ┆            │\n",
      "│       ┆             ┆        ┆           ┆   ┆            ┆ code       ┆            ┆            │\n",
      "│       ┆             ┆        ┆           ┆   ┆            ┆ change…    ┆            ┆            │\n",
      "│ 14739 ┆ Russian     ┆ Male   ┆ 30–39     ┆ … ┆ 0.333333   ┆ Refactorin ┆ 14         ┆ 0.071429   │\n",
      "│       ┆ Federation  ┆        ┆           ┆   ┆            ┆ g code     ┆            ┆            │\n",
      "│ 14739 ┆ Russian     ┆ Male   ┆ 30–39     ┆ … ┆ 0.333333   ┆ Debugging  ┆ 14         ┆ 0.071429   │\n",
      "│       ┆ Federation  ┆        ┆           ┆   ┆            ┆ code       ┆            ┆            │\n",
      "│ 14739 ┆ Russian     ┆ Male   ┆ 30–39     ┆ … ┆ 0.333333   ┆ Help in    ┆ 14         ┆ 0.071429   │\n",
      "│       ┆ Federation  ┆        ┆           ┆   ┆            ┆ choosing   ┆            ┆            │\n",
      "│       ┆             ┆        ┆           ┆   ┆            ┆ framework- ┆            ┆            │\n",
      "│       ┆             ┆        ┆           ┆   ┆            ┆ rel…       ┆            ┆            │\n",
      "│ 14739 ┆ Russian     ┆ Male   ┆ 30–39     ┆ … ┆ 0.333333   ┆ Generating ┆ 14         ┆ 0.071429   │\n",
      "│       ┆ Federation  ┆        ┆           ┆   ┆            ┆ CLI        ┆            ┆            │\n",
      "│       ┆             ┆        ┆           ┆   ┆            ┆ commands   ┆            ┆            │\n",
      "│       ┆             ┆        ┆           ┆   ┆            ┆ by nat…    ┆            ┆            │\n",
      "└───────┴─────────────┴────────┴───────────┴───┴────────────┴────────────┴────────────┴────────────┘\n"
     ]
    }
   ],
   "source": [
    "#----- GATHER AND CLEAN DATA ---------------------------------------------------\n",
    "\n",
    "if False: # os.path.exists('df.parquet'):     # read parquet file if it exists\n",
    "    print('reading data from parquet file')\n",
    "    df=pl.read_parquet('df.parquet')\n",
    "else:                                # read csv file, clean, save df as parquet\n",
    "    df = read_and_clean_csv()\n",
    "    print(df)\n",
    "    df.write_parquet('df.parquet')"
   ]
  },
  {
   "cell_type": "code",
   "execution_count": 28,
   "id": "664406ac",
   "metadata": {},
   "outputs": [
    {
     "name": "stdout",
     "output_type": "stream",
     "text": [
      "len(df.columns) = 22\n",
      "df.columns = ['INDEX', 'COUNTRY', 'GENDER', 'AGE_RANGE', 'EDUCATION', 'JOB_LEVEL', 'YEARS_EXPERIENCE', 'JOB_ROLE', 'JOB_ROLE_COUNT', 'JOB_ROLE_WT', 'WORK_LANG', 'WORK_LANG_COUNT', 'WORK_LANG_WT', 'CS_LANGS', 'CS_LANGS_COUNT', 'CS_LANGS_WT', 'AI_ASST', 'AI_ASST_COUNT', 'AI_ASST_WT', 'AI_FEATURES', 'AI_FEATURES_COUNT', 'AI_FEATURES_WT']\n",
      "df.shape = (2287701, 22)\n",
      "Rows: 10\n",
      "Columns: 22\n",
      "$ INDEX             <u16> 4652, 17951, 5107, 17545, 14236, 4313, 316, 3177, 8437, 9445\n",
      "$ COUNTRY           <cat> Bangladesh, United States, India, Greece, Mexico, United States, Nigeria, Indonesia, Austria, India\n",
      "$ GENDER            <cat> Male, Male, Male, Male, Male, Male, Male, Male, Male, Male\n",
      "$ AGE_RANGE         <cat> 21–29, 30–39, 18–20, 18–20, 21–29, 21–29, 21–29, 18–20, 21–29, 21–29\n",
      "$ EDUCATION         <cat> Doctorate, Bachelors, Some College, Some College, Some College, Bachelors, Some College, Bachelors, Some College, Bachelors\n",
      "$ JOB_LEVEL         <cat> Senior, Middle, None, None, None, Middle, Middle, Junior, None, Senior\n",
      "$ YEARS_EXPERIENCE  <cat> 6–10, 6–10, 0, 0, <1, 1–2, 3–5, <1, 1–2, 3–5\n",
      "$ JOB_ROLE          <cat> Developer / Programmer / Software Engineer, Technical Writer, None, None, None, Technical Support, Developer / Programmer / Software Engineer, Developer / Programmer / Software Engineer, None, Instructor / Teacher / Tutor\n",
      "$ JOB_ROLE_COUNT     <u8> 8, 3, 0, 0, 0, 2, 2, 1, 0, 4\n",
      "$ JOB_ROLE_WT       <f32> 0.125, 0.3333333432674408, 0.0, 0.0, 0.0, 0.5, 0.5, 1.0, 0.0, 0.25\n",
      "$ WORK_LANG         <cat> English, English, Hindi, Other, English, English, English, Japanese, German, English\n",
      "$ WORK_LANG_COUNT    <u8> 2, 1, 2, 2, 2, 1, 1, 2, 6, 1\n",
      "$ WORK_LANG_WT      <f32> 0.5, 1.0, 0.5, 0.5, 0.5, 1.0, 1.0, 0.5, 0.1666666716337204, 1.0\n",
      "$ CS_LANGS          <cat> TypeScript, SQL (PL / SQL, T-SQL, and other programming extensions of SQL), HTML / CSS, Python, SQL (PL / SQL, T-SQL, and other programming extensions of SQL), Shell scripting languages (Bash / Shell / PowerShell), JavaScript, Go, Shell scripting languages (Bash / Shell / PowerShell), Scala\n",
      "$ CS_LANGS_COUNT     <u8> 9, 3, 7, 6, 6, 7, 8, 8, 21, 5\n",
      "$ CS_LANGS_WT       <f32> 0.1111111119389534, 0.3333333432674408, 0.1428571492433548, 0.1666666716337204, 0.1666666716337204, 0.1428571492433548, 0.125, 0.125, 0.0476190485060215, 0.20000000298023224\n",
      "$ AI_ASST           <cat> ChatGPT, Google Bard, Soundraw, ChatGPT, Microsoft Bing Chat, GitHub Copilot, JetBrains AI Assistant, ChatGPT, Visual Studio IntelliCode, ChatGPT\n",
      "$ AI_ASST_COUNT      <u8> 2, 4, 6, 2, 4, 3, 5, 3, 5, 2\n",
      "$ AI_ASST_WT        <f32> 0.5, 0.25, 0.1666666716337204, 0.5, 0.25, 0.3333333432674408, 0.20000000298023224, 0.3333333432674408, 0.20000000298023224, 0.5\n",
      "$ AI_FEATURES       <cat> Generating tests, Assistive technologies (for example, AI-powered text-to-speech and speech-to-text tools), Data analytics for educational insights, Refactoring code, Explaining code, Study planning and time management, Refactoring code, Performing code reviews, Language translation and pronunciation, Generating code\n",
      "$ AI_FEATURES_COUNT  <u8> 9, 6, 15, 11, 8, 6, 6, 19, 15, 2\n",
      "$ AI_FEATURES_WT    <f32> 0.1111111119389534, 0.1666666716337204, 0.06666667014360428, 0.09090909361839294, 0.125, 0.1666666716337204, 0.1666666716337204, 0.05263157933950424, 0.06666667014360428, 0.5\n",
      "\n"
     ]
    }
   ],
   "source": [
    "print(f'{len(df.columns) = }')\n",
    "print(f'{df.columns = }')\n",
    "print(f'{df.shape = }')\n",
    "df.sample(10).glimpse()"
   ]
  },
  {
   "cell_type": "markdown",
   "id": "df929dee",
   "metadata": {},
   "source": []
  },
  {
   "cell_type": "code",
   "execution_count": 29,
   "id": "49817002",
   "metadata": {},
   "outputs": [
    {
     "data": {
      "text/html": [
       "<div><style>\n",
       ".dataframe > thead > tr,\n",
       ".dataframe > tbody > tr {\n",
       "  text-align: right;\n",
       "  white-space: pre-wrap;\n",
       "}\n",
       "</style>\n",
       "<small>shape: (6, 2)</small><table border=\"1\" class=\"dataframe\"><thead><tr><th>GENDER</th><th>count</th></tr><tr><td>cat</td><td>u32</td></tr></thead><tbody><tr><td>null</td><td>25206</td></tr><tr><td>&quot;Male&quot;</td><td>1976028</td></tr><tr><td>&quot;Non-binary, genderqueer, or ge…</td><td>19015</td></tr><tr><td>&quot;Female&quot;</td><td>241130</td></tr><tr><td>&quot;Other&quot;</td><td>1349</td></tr><tr><td>&quot;Prefer not to say&quot;</td><td>24973</td></tr></tbody></table></div>"
      ],
      "text/plain": [
       "shape: (6, 2)\n",
       "┌─────────────────────────────────┬─────────┐\n",
       "│ GENDER                          ┆ count   │\n",
       "│ ---                             ┆ ---     │\n",
       "│ cat                             ┆ u32     │\n",
       "╞═════════════════════════════════╪═════════╡\n",
       "│ null                            ┆ 25206   │\n",
       "│ Male                            ┆ 1976028 │\n",
       "│ Non-binary, genderqueer, or ge… ┆ 19015   │\n",
       "│ Female                          ┆ 241130  │\n",
       "│ Other                           ┆ 1349    │\n",
       "│ Prefer not to say               ┆ 24973   │\n",
       "└─────────────────────────────────┴─────────┘"
      ]
     },
     "execution_count": 29,
     "metadata": {},
     "output_type": "execute_result"
    }
   ],
   "source": [
    "df['GENDER'].value_counts() #.unique().to_list() # .value_counts().sort('AGE_RANGE') # ['NET_SALARY'].to_list()"
   ]
  },
  {
   "cell_type": "code",
   "execution_count": 30,
   "id": "857a1a0a",
   "metadata": {},
   "outputs": [
    {
     "name": "stdout",
     "output_type": "stream",
     "text": [
      "Rows: 2287701\n",
      "Columns: 22\n",
      "$ INDEX             <u16> 1, 1, 1, 1, 1, 1, 1, 1, 1, 1\n",
      "$ COUNTRY           <cat> Italy, Italy, Italy, Italy, Italy, Italy, Italy, Italy, Italy, Italy\n",
      "$ GENDER            <cat> Male, Male, Male, Male, Male, Male, Male, Male, Male, Male\n",
      "$ AGE_RANGE         <cat> 60+, 60+, 60+, 60+, 60+, 60+, 60+, 60+, 60+, 60+\n",
      "$ EDUCATION         <cat> Masters, Masters, Masters, Masters, Masters, Masters, Masters, Masters, Masters, Masters\n",
      "$ JOB_LEVEL         <cat> Senior, Senior, Senior, Senior, Senior, Senior, Senior, Senior, Senior, Senior\n",
      "$ YEARS_EXPERIENCE  <cat> 16+, 16+, 16+, 16+, 16+, 16+, 16+, 16+, 16+, 16+\n",
      "$ JOB_ROLE          <cat> Developer / Programmer / Software Engineer, Developer / Programmer / Software Engineer, Developer / Programmer / Software Engineer, Developer / Programmer / Software Engineer, Developer / Programmer / Software Engineer, Developer / Programmer / Software Engineer, Developer / Programmer / Software Engineer, Developer / Programmer / Software Engineer, Developer / Programmer / Software Engineer, Developer / Programmer / Software Engineer\n",
      "$ JOB_ROLE_COUNT     <u8> 2, 2, 2, 2, 2, 2, 2, 2, 2, 2\n",
      "$ JOB_ROLE_WT       <f32> 0.5, 0.5, 0.5, 0.5, 0.5, 0.5, 0.5, 0.5, 0.5, 0.5\n",
      "$ WORK_LANG         <cat> English, English, English, English, English, English, English, English, English, English\n",
      "$ WORK_LANG_COUNT    <u8> 2, 2, 2, 2, 2, 2, 2, 2, 2, 2\n",
      "$ WORK_LANG_WT      <f32> 0.5, 0.5, 0.5, 0.5, 0.5, 0.5, 0.5, 0.5, 0.5, 0.5\n",
      "$ CS_LANGS          <cat> Assembly, C, C#, C++, Java, Objective-C, PHP, Rust, Shell scripting languages (Bash / Shell / PowerShell), Swift\n",
      "$ CS_LANGS_COUNT     <u8> 10, 10, 10, 10, 10, 10, 10, 10, 10, 10\n",
      "$ CS_LANGS_WT       <f32> 0.10000000149011612, 0.10000000149011612, 0.10000000149011612, 0.10000000149011612, 0.10000000149011612, 0.10000000149011612, 0.10000000149011612, 0.10000000149011612, 0.10000000149011612, 0.10000000149011612\n",
      "$ AI_ASST           <cat> None, None, None, None, None, None, None, None, None, None\n",
      "$ AI_ASST_COUNT      <u8> 0, 0, 0, 0, 0, 0, 0, 0, 0, 0\n",
      "$ AI_ASST_WT        <f32> 0.0, 0.0, 0.0, 0.0, 0.0, 0.0, 0.0, 0.0, 0.0, 0.0\n",
      "$ AI_FEATURES       <cat> None, None, None, None, None, None, None, None, None, None\n",
      "$ AI_FEATURES_COUNT  <u8> 0, 0, 0, 0, 0, 0, 0, 0, 0, 0\n",
      "$ AI_FEATURES_WT    <f32> 0.0, 0.0, 0.0, 0.0, 0.0, 0.0, 0.0, 0.0, 0.0, 0.0\n",
      "\n"
     ]
    }
   ],
   "source": [
    "df.glimpse()"
   ]
  }
 ],
 "metadata": {
  "kernelspec": {
   "display_name": "Python 3",
   "language": "python",
   "name": "python3"
  },
  "language_info": {
   "codemirror_mode": {
    "name": "ipython",
    "version": 3
   },
   "file_extension": ".py",
   "mimetype": "text/x-python",
   "name": "python",
   "nbconvert_exporter": "python",
   "pygments_lexer": "ipython3",
   "version": "3.13.5"
  }
 },
 "nbformat": 4,
 "nbformat_minor": 5
}
