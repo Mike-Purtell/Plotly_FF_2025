{
 "cells": [
  {
   "cell_type": "code",
   "execution_count": null,
   "id": "d788182f",
   "metadata": {},
   "outputs": [],
   "source": [
    "import polars as pl\n",
    "import os"
   ]
  },
  {
   "cell_type": "code",
   "execution_count": null,
   "id": "28ba852c",
   "metadata": {},
   "outputs": [],
   "source": [
    "parquet_data_source = 'df.parque'\n",
    "csv_data_source = 'europe_monthly_electricity.csv' \n",
    "date_fmt ='%m/%d/%Y'\n",
    "if os.path.exists(parquet_data_source): # use pre-cleaned parquet file\n",
    "    print(f'Reading data from {parquet_data_source}')\n",
    "    df = pl.read_parquet(parquet_data_source)\n",
    "\n",
    "else:  # read data from csv and clean\n",
    "    print(f'Reading data from {csv_data_source}')\n",
    "    df = (\n",
    "        pl.read_csv(\n",
    "            csv_data_source,\n",
    "            )\n",
    "        .select(\n",
    "            COUNTRY = pl.col('Area'),\n",
    "            ISO_3_CODE = pl.col('ISO 3 code'),\n",
    "            YEAR = pl.col('Date')\n",
    "                .str.to_date(format=date_fmt)\n",
    "                .dt.year(),\n",
    "            MONTH = pl.col('Date')\n",
    "                .str.to_date(format=date_fmt)\n",
    "                .dt.strftime(\"%b\"),\n",
    "            MONTH_NUM = pl.col('Date')\n",
    "                .str.to_date(format=date_fmt)\n",
    "                .dt.month(),\n",
    "            DATE = pl.col('Date')\n",
    "                .str.to_date(format=date_fmt),\n",
    "            EU = pl.col('EU').cast(pl.Boolean),\n",
    "            OECD = pl.col('OECD').cast(pl.Boolean),\n",
    "            G20 = pl.col('G20').cast(pl.Boolean),\n",
    "            G7 = pl.col('G7').cast(pl.Boolean),\n",
    "            CAT = pl.col('Category').cast(pl.Categorical),\n",
    "            SUBCAT = pl.col('Subcategory').cast(pl.Categorical),\n",
    "            EMISSION = pl.col('Variable').cast(pl.Categorical),\n",
    "            UNIT = pl.col('Unit').cast(pl.Categorical),\n",
    "            VALUE = pl.col('Value'),\n",
    "        )\n",
    "        .drop_nulls(subset='ISO_3_CODE') \n",
    "        .filter(pl.col('YEAR') > 2014)   # data is parse prior to 2015\n",
    "    )\n",
    "\n",
    "df\n",
    "df.write_excel('df.xlsx')\n",
    "df.write_parquet('df.parquet')\n",
    "print(df.columns)\n",
    "\n"
   ]
  },
  {
   "cell_type": "code",
   "execution_count": null,
   "id": "77c7db1b",
   "metadata": {},
   "outputs": [],
   "source": [
    "for col in df.columns:\n",
    "    print(df[col].value_counts())"
   ]
  },
  {
   "cell_type": "markdown",
   "id": "cab67aaa",
   "metadata": {},
   "source": [
    "#### select, rename, cast columns"
   ]
  },
  {
   "cell_type": "code",
   "execution_count": null,
   "id": "0fd70529",
   "metadata": {},
   "outputs": [],
   "source": [
    "for i, col in enumerate(df.columns):\n",
    "    select_string = (\n",
    "        f\"{col.upper().replace(' ', '_')} \" + \n",
    "        f\"= pl.col('{col}'), # .cast(pl.String)',\"\n",
    "    )\n",
    "\n",
    "    print(select_string)\n",
    "    # print(f\"{col.upper().replace(' ', '_')} = pl.col('{col} # .cast(pl.String)'),\")"
   ]
  }
 ],
 "metadata": {
  "kernelspec": {
   "display_name": "Python 3",
   "language": "python",
   "name": "python3"
  },
  "language_info": {
   "codemirror_mode": {
    "name": "ipython",
    "version": 3
   },
   "file_extension": ".py",
   "mimetype": "text/x-python",
   "name": "python",
   "nbconvert_exporter": "python",
   "pygments_lexer": "ipython3",
   "version": "3.13.5"
  }
 },
 "nbformat": 4,
 "nbformat_minor": 5
}
