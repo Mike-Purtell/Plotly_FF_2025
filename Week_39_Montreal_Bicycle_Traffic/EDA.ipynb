{
 "cells": [
  {
   "cell_type": "code",
   "execution_count": 2,
   "id": "4bd90764",
   "metadata": {},
   "outputs": [
    {
     "name": "stdout",
     "output_type": "stream",
     "text": [
      "reading dataset from parquet file\n",
      "shape: (10_446, 8)\n",
      "┌───────────┬────────────┬────────────┬───────────┬──────────┬────────────┬────────────┬───────────┐\n",
      "│ ID        ┆ DATE       ┆ LON        ┆ LAT       ┆ PASSAGES ┆ PASSAGES_B ┆ LOC        ┆ NEARBY    │\n",
      "│ ---       ┆ ---        ┆ ---        ┆ ---       ┆ ---      ┆ Y_ID       ┆ ---        ┆ ---       │\n",
      "│ u32       ┆ date       ┆ f64        ┆ f64       ┆ u16      ┆ ---        ┆ str        ┆ str       │\n",
      "│           ┆            ┆            ┆           ┆          ┆ u32        ┆            ┆           │\n",
      "╞═══════════╪════════════╪════════════╪═══════════╪══════════╪════════════╪════════════╪═══════════╡\n",
      "│ 100001753 ┆ 2024-01-01 ┆ -73.544424 ┆ 45.530216 ┆ 65       ┆ 188124     ┆ Rue        ┆ Rue Notre │\n",
      "│           ┆            ┆            ┆           ┆          ┆            ┆ Notre-Dame ┆ -Dame     │\n",
      "│           ┆            ┆            ┆           ┆          ┆            ┆ Est, Ville ┆ Est, Vill │\n",
      "│           ┆            ┆            ┆           ┆          ┆            ┆ -Mari…     ┆ e-Mari…   │\n",
      "│ 100001753 ┆ 2024-01-02 ┆ -73.544424 ┆ 45.530216 ┆ 83       ┆ 188124     ┆ Rue        ┆ Rue Notre │\n",
      "│           ┆            ┆            ┆           ┆          ┆            ┆ Notre-Dame ┆ -Dame     │\n",
      "│           ┆            ┆            ┆           ┆          ┆            ┆ Est, Ville ┆ Est, Vill │\n",
      "│           ┆            ┆            ┆           ┆          ┆            ┆ -Mari…     ┆ e-Mari…   │\n",
      "│ 100001753 ┆ 2024-01-03 ┆ -73.544424 ┆ 45.530216 ┆ 137      ┆ 188124     ┆ Rue        ┆ Rue Notre │\n",
      "│           ┆            ┆            ┆           ┆          ┆            ┆ Notre-Dame ┆ -Dame     │\n",
      "│           ┆            ┆            ┆           ┆          ┆            ┆ Est, Ville ┆ Est, Vill │\n",
      "│           ┆            ┆            ┆           ┆          ┆            ┆ -Mari…     ┆ e-Mari…   │\n",
      "│ 100001753 ┆ 2024-01-04 ┆ -73.544424 ┆ 45.530216 ┆ 120      ┆ 188124     ┆ Rue        ┆ Rue Notre │\n",
      "│           ┆            ┆            ┆           ┆          ┆            ┆ Notre-Dame ┆ -Dame     │\n",
      "│           ┆            ┆            ┆           ┆          ┆            ┆ Est, Ville ┆ Est, Vill │\n",
      "│           ┆            ┆            ┆           ┆          ┆            ┆ -Mari…     ┆ e-Mari…   │\n",
      "│ 100001753 ┆ 2024-01-05 ┆ -73.544424 ┆ 45.530216 ┆ 90       ┆ 188124     ┆ Rue        ┆ Rue Notre │\n",
      "│           ┆            ┆            ┆           ┆          ┆            ┆ Notre-Dame ┆ -Dame     │\n",
      "│           ┆            ┆            ┆           ┆          ┆            ┆ Est, Ville ┆ Est, Vill │\n",
      "│           ┆            ┆            ┆           ┆          ┆            ┆ -Mari…     ┆ e-Mari…   │\n",
      "│ …         ┆ …          ┆ …          ┆ …         ┆ …        ┆ …          ┆ …          ┆ …         │\n",
      "│ 300028650 ┆ 2024-08-05 ┆ -73.618385 ┆ 45.547048 ┆ 918      ┆ 179593     ┆ Rue        ┆ Rue de    │\n",
      "│           ┆            ┆            ┆           ┆          ┆            ┆ Villeray   ┆ Normanvil │\n",
      "│           ┆            ┆            ┆           ┆          ┆            ┆            ┆ le        │\n",
      "│ 300028650 ┆ 2024-08-06 ┆ -73.618385 ┆ 45.547048 ┆ 1804     ┆ 179593     ┆ Rue        ┆ Rue de    │\n",
      "│           ┆            ┆            ┆           ┆          ┆            ┆ Villeray   ┆ Normanvil │\n",
      "│           ┆            ┆            ┆           ┆          ┆            ┆            ┆ le        │\n",
      "│ 300028650 ┆ 2024-08-07 ┆ -73.618385 ┆ 45.547048 ┆ 1994     ┆ 179593     ┆ Rue        ┆ Rue de    │\n",
      "│           ┆            ┆            ┆           ┆          ┆            ┆ Villeray   ┆ Normanvil │\n",
      "│           ┆            ┆            ┆           ┆          ┆            ┆            ┆ le        │\n",
      "│ 300028650 ┆ 2024-08-08 ┆ -73.618385 ┆ 45.547048 ┆ 1719     ┆ 179593     ┆ Rue        ┆ Rue de    │\n",
      "│           ┆            ┆            ┆           ┆          ┆            ┆ Villeray   ┆ Normanvil │\n",
      "│           ┆            ┆            ┆           ┆          ┆            ┆            ┆ le        │\n",
      "│ 300028650 ┆ 2024-08-09 ┆ -73.618385 ┆ 45.547048 ┆ 218      ┆ 179593     ┆ Rue        ┆ Rue de    │\n",
      "│           ┆            ┆            ┆           ┆          ┆            ┆ Villeray   ┆ Normanvil │\n",
      "│           ┆            ┆            ┆           ┆          ┆            ┆            ┆ le        │\n",
      "└───────────┴────────────┴────────────┴───────────┴──────────┴────────────┴────────────┴───────────┘\n"
     ]
    },
    {
     "data": {
      "application/vnd.plotly.v1+json": {
       "config": {
        "plotlyServerURL": "https://plot.ly"
       },
       "data": [
        {
         "customdata": [
          [
           "Avenue Sainte-Croix",
           "Cégep de Saint-Laurent",
           28107,
           100053055
          ],
          [
           "8239 Avenue Souligny",
           "8239 Avenue Souligny",
           72326,
           100053210
          ],
          [
           "Rue Lajeunesse",
           "Rue Sauve",
           158646,
           300014993
          ],
          [
           "McGill  University",
           "McGill University",
           359384,
           100017441
          ],
          [
           "Rue de Louvain Est",
           "Av Christophe Columb",
           1834,
           100035409
          ],
          [
           "Rue Saint-Denis, Rue Rachel",
           "Rue Saint-Denis, Rue Rachel",
           396902,
           300014996
          ],
          [
           "ETS (École de technologie supérieure)",
           "Griffintown",
           228936,
           300022314
          ],
          [
           "Rue Rachel Est, Ave Papineau",
           "Le Plateau-Mont Royal",
           646746,
           100003034
          ],
          [
           "Écocentre",
           "La Petite-Patrie",
           253512,
           100052603
          ],
          [
           "Rue Villeray",
           "Rue de Normanville",
           179593,
           300028650
          ],
          [
           "Avenue Bennett",
           "Ovila-Pelletier Park",
           107070,
           100052606
          ],
          [
           "CLSC de Rosemont",
           "CLSC de Rosemont",
           394245,
           100052600
          ],
          [
           "Rue Cloutier, Mile-End",
           "Plotly HQ",
           636775,
           100025474
          ],
          [
           "Avenue Laurier Est",
           "Greenpeace Canada",
           403444,
           100007390
          ],
          [
           "7716 Avenue Querbes",
           "7716 Avenue Querbes",
           12,
           100057051
          ],
          [
           "Avenue Pierre-Dupuy, Parc de Dieppe",
           null,
           119731,
           100003040
          ],
          [
           "Rue Rachel Est, Ave Charlemagne, Rosemont",
           "Rosemont",
           114456,
           100055268
          ],
          [
           "Rue de Bellechasse",
           "Ukraine Park",
           144455,
           300014916
          ],
          [
           "7293 Rue Saint-Denis",
           "Jean-Talon Market",
           245674,
           300020817
          ],
          [
           "1851 Avenue Valois",
           "1851 Avenue Valois",
           39917,
           100053059
          ],
          [
           "Autoroute Ville-Marie ",
           "Place-d'Armes",
           122838,
           100047030
          ],
          [
           "1460 Boulevard De Maisonneuve Est",
           "1460 Boulevard De Maisonneuve Est",
           303029,
           100056188
          ],
          [
           "Rue Basile-Routhier, Parcours Gouin reception pavilion",
           "Parcours Gouin reception pavilion",
           198088,
           100041114
          ],
          [
           "Rue Berri",
           "Shaare Zion Cemetery",
           97170,
           300014994
          ],
          [
           "Avenue Greene",
           "Square Greene",
           265337,
           300020478
          ],
          [
           "1669 Rue Berri",
           "Poste de police SPVM",
           700592,
           100003032
          ],
          [
           "Rue Saint-Denis, Mile-End",
           "Plotly HQ",
           504749,
           300014985
          ],
          [
           "159 Rue Rachel Est",
           "Le Plateau-Mont Royal",
           427615,
           100012217
          ],
          [
           "Chemin de la Côte-Sainte-Catherine",
           "Jardins collectifs du parc Beaubien",
           280458,
           100003041
          ],
          [
           "Rue Saint-Antoine Ouest",
           "Parc de La Presse",
           62740,
           100011747
          ],
          [
           "Rue Saint-Urbain",
           "Le Plateau-Mont Royal",
           156909,
           100017523
          ],
          [
           "2115 Boulevard De Maisonneuve Ouest",
           null,
           199200,
           100011783
          ],
          [
           "Mont Royal",
           " Sentier entrée du cimetière",
           58450,
           100053209
          ],
          [
           "Rue Saint-Denis, Rue des Carrieres",
           "Plotly HQ",
           447659,
           300014986
          ],
          [
           "Rue Saint-Denis, Ave Duluth",
           "Le Plateau-Mont Royal",
           409999,
           300014995
          ],
          [
           "7433 Rue Boyer",
           "Villeray",
           127976,
           100035408
          ],
          [
           "Pont A25",
           "Pont Olivier-Charbonneau",
           54364,
           300021685
          ],
          [
           "4262 Rue de Brebeuf",
           "Ma Poule Mouillée (Best Chicken)",
           134629,
           100004575
          ],
          [
           "Rue Notre-Dame Est",
           "Rue Liebert",
           74317,
           100052605
          ],
          [
           "Avenue du Parc",
           "Monument to Sir George-Étienne Cartier",
           339726,
           100003042
          ],
          [
           "5221 Boulevard De Maisonneuve Ouest",
           "McGill Health Center",
           35605,
           100057053
          ],
          [
           "Boulevard Maurice-Duplessis",
           "Bd Maurice-Duplessis",
           872,
           100057050
          ],
          [
           "Route 138",
           "Prairies River Bridge",
           47535,
           100052602
          ],
          [
           "Rue Notre-Dame Est, Ville-Marie",
           "Rue Notre-Dame Est, Ville-Marie",
           188124,
           100001753
          ],
          [
           "5702 Rue Boyer",
           "La Petite-Patrie",
           101592,
           100012218
          ],
          [
           "1111 Rue de Bellechasse",
           " La Petite-Patrie",
           563878,
           300020679
          ],
          [
           "1150 Boulevard René-Lévesque",
           "1150 Boulevard René-Lévesque",
           46895,
           100011748
          ],
          [
           "7293 Rue Saint-Denis",
           "Jean-Talon Market",
           288618,
           300020816
          ],
          [
           "1515, Chemin Remembrance",
           "Cimetière Notre Dame GP",
           53668,
           100054585
          ],
          [
           "16e Avenue",
           "16e Avenue",
           53123,
           100054073
          ]
         ],
         "hovertemplate": "Location: %{customdata[0]}<br>Nearby: %{customdata[1]}<br>Passages: %{customdata[2]:,d}<br>ID: %{customdata[3]}<br><extra></extra>",
         "lat": {
          "bdata": "8v8Iw4DBRkAj6uGROsxGQE+E/SyWxkZA4bu4/8jARkD//1ayY8dGQKeZT47EwkZA43v2zmi/RkBcWGOz5cNGQCVy2VpfxEZAN7I6qwXGRkDRQBX+DMdGQLv31hSKxUZA4Tcglo/DRkBL0WsIjsNGQDTA+Gncw0ZALz+InSnARkCVF/zj3cZGQHr/aWUZx0ZAfXwkl//ERkASAPT7/sVGQKxpMuLEwEZAcVmdDbvCRkCp6SYwX8dGQD7D0LGDxkZAH7/YtFK+RkD/zapdE8JGQDSAjevfw0ZAwDJ96ILCRkBzUEI+6MFGQBPEzMzMwEZAb1ANiXvCRkD+/1cdObxGQBEcP1QawUZAE3cWSujDRkDDpT9sq8JGQB33VxyQxUZAyz/t8NfQRkDpbir9hMNGQAhBWFTEy0ZABYE41sXBRkAx+/BlorxGQMfpMF9e1EZAyiXY8LbZRkDx8S0e3sNGQBLAqKROxEZAQE3jpZvERkC5g+YBLMJGQGt8JJf/xEZA/UvwhjTARkDuvo5xxcdGQA==",
          "dtype": "f8"
         },
         "legendgroup": "",
         "lon": {
          "bdata": "opdMvgprUsB5tNXITmFSwMTEHA/saVLA7y/YDdtkUsCrP9o4YmlSwH5FlTj8ZFLAJug4lAdkUsCqeuZXc2RSwIP2NIfaZVLALhWsnZNnUsCEB/z2e2JSwL72s0D2Y1LAsmDEYJlmUsDCIBtqr2VSwEmMJ4NIaFLA5msKnddiUsD+G2SSkWNSwLel7c8vZVLArf5OzHpnUsDE7ptxtmJSwDLyUYTQY1LAqM5LQY1jUsAjhxkOFmtSwCzd/yIDalLAa6DTGrllUsCarlKzB2RSwH6ywZo0ZlLAlmrl0CJlUsC1uOxZ4WZSwOnJFrqyY1LA7WgdpKxlUsC76TAaA2dSwECkh6HVZVLARqAlIjdmUsB2zhOg3WRSwIpXg7h3Z1LAT5E+dEFnUsAVVayowWRSwMRZU+yjYFLAYBC4dTdlUsCNCLILtmZSwMvl3AW4YlLAL119l+1eUsB5eDrZ12JSwGYkN8MNZlLA5js8vVJmUsCPLTBkdWNSwDGFXaJ6Z1LAIMz3jERmUsAdQAT0zGVSwA==",
          "dtype": "f8"
         },
         "marker": {
          "color": {
           "bdata": "y20AAIYaAQC2awIA2HsFACoHAABmDgYASH4DAFreCQBI3gMAib0CAD6iAQAFBAYAZ7cJAPQnBgAMAAAAs9MBABi/AQBHNAIAqr8DAO2bAADW3wEAtZ8EAMgFAwCSewEAeQwEALCwCgCtswcAX4YGAIpHBAAU9QAA7WQCACAKAwBS5AAAq9QGAI9BBgDo8wEAXNQAAOUNAgBNIgEADi8FABWLAABoAwAAr7kAANzeAgDYjAEAppoIAC+3AABqZwQApNEAAIPPAAA=",
           "dtype": "u4"
          },
          "coloraxis": "coloraxis",
          "opacity": 0.75,
          "size": {
           "bdata": "y20AAIYaAQC2awIA2HsFACoHAABmDgYASH4DAFreCQBI3gMAib0CAD6iAQAFBAYAZ7cJAPQnBgAMAAAAs9MBABi/AQBHNAIAqr8DAO2bAADW3wEAtZ8EAMgFAwCSewEAeQwEALCwCgCtswcAX4YGAIpHBAAU9QAA7WQCACAKAwBS5AAAq9QGAI9BBgDo8wEAXNQAAOUNAgBNIgEADi8FABWLAABoAwAAr7kAANzeAgDYjAEAppoIAC+3AABqZwQApNEAAIPPAAA=",
           "dtype": "u4"
          },
          "sizemode": "area",
          "sizeref": 1751.48
         },
         "mode": "markers",
         "name": "",
         "showlegend": false,
         "subplot": "map",
         "type": "scattermap"
        }
       ],
       "layout": {
        "coloraxis": {
         "colorbar": {
          "title": {
           "text": "PASSAGES_BY_ID"
          }
         },
         "colorscale": [
          [
           0,
           "#0d0887"
          ],
          [
           0.1111111111111111,
           "#46039f"
          ],
          [
           0.2222222222222222,
           "#7201a8"
          ],
          [
           0.3333333333333333,
           "#9c179e"
          ],
          [
           0.4444444444444444,
           "#bd3786"
          ],
          [
           0.5555555555555556,
           "#d8576b"
          ],
          [
           0.6666666666666666,
           "#ed7953"
          ],
          [
           0.7777777777777778,
           "#fb9f3a"
          ],
          [
           0.8888888888888888,
           "#fdca26"
          ],
          [
           1,
           "#f0f921"
          ]
         ],
         "showscale": false
        },
        "legend": {
         "itemsizing": "constant",
         "tracegroupgap": 0
        },
        "map": {
         "center": {
          "lat": 45.58569420505026,
          "lon": -73.57823629253166
         },
         "domain": {
          "x": [
           0,
           1
          ],
          "y": [
           0,
           1
          ]
         },
         "style": "open-street-map",
         "zoom": 9
        },
        "mapbox": {
         "center": {
          "lat": 45.58569420505026,
          "lon": -73.57823629253166
         },
         "style": "open-street-map",
         "zoom": 9
        },
        "margin": {
         "t": 60
        },
        "template": {
         "data": {
          "bar": [
           {
            "error_x": {
             "color": "#2a3f5f"
            },
            "error_y": {
             "color": "#2a3f5f"
            },
            "marker": {
             "line": {
              "color": "#E5ECF6",
              "width": 0.5
             },
             "pattern": {
              "fillmode": "overlay",
              "size": 10,
              "solidity": 0.2
             }
            },
            "type": "bar"
           }
          ],
          "barpolar": [
           {
            "marker": {
             "line": {
              "color": "#E5ECF6",
              "width": 0.5
             },
             "pattern": {
              "fillmode": "overlay",
              "size": 10,
              "solidity": 0.2
             }
            },
            "type": "barpolar"
           }
          ],
          "carpet": [
           {
            "aaxis": {
             "endlinecolor": "#2a3f5f",
             "gridcolor": "white",
             "linecolor": "white",
             "minorgridcolor": "white",
             "startlinecolor": "#2a3f5f"
            },
            "baxis": {
             "endlinecolor": "#2a3f5f",
             "gridcolor": "white",
             "linecolor": "white",
             "minorgridcolor": "white",
             "startlinecolor": "#2a3f5f"
            },
            "type": "carpet"
           }
          ],
          "choropleth": [
           {
            "colorbar": {
             "outlinewidth": 0,
             "ticks": ""
            },
            "type": "choropleth"
           }
          ],
          "contour": [
           {
            "colorbar": {
             "outlinewidth": 0,
             "ticks": ""
            },
            "colorscale": [
             [
              0,
              "#0d0887"
             ],
             [
              0.1111111111111111,
              "#46039f"
             ],
             [
              0.2222222222222222,
              "#7201a8"
             ],
             [
              0.3333333333333333,
              "#9c179e"
             ],
             [
              0.4444444444444444,
              "#bd3786"
             ],
             [
              0.5555555555555556,
              "#d8576b"
             ],
             [
              0.6666666666666666,
              "#ed7953"
             ],
             [
              0.7777777777777778,
              "#fb9f3a"
             ],
             [
              0.8888888888888888,
              "#fdca26"
             ],
             [
              1,
              "#f0f921"
             ]
            ],
            "type": "contour"
           }
          ],
          "contourcarpet": [
           {
            "colorbar": {
             "outlinewidth": 0,
             "ticks": ""
            },
            "type": "contourcarpet"
           }
          ],
          "heatmap": [
           {
            "colorbar": {
             "outlinewidth": 0,
             "ticks": ""
            },
            "colorscale": [
             [
              0,
              "#0d0887"
             ],
             [
              0.1111111111111111,
              "#46039f"
             ],
             [
              0.2222222222222222,
              "#7201a8"
             ],
             [
              0.3333333333333333,
              "#9c179e"
             ],
             [
              0.4444444444444444,
              "#bd3786"
             ],
             [
              0.5555555555555556,
              "#d8576b"
             ],
             [
              0.6666666666666666,
              "#ed7953"
             ],
             [
              0.7777777777777778,
              "#fb9f3a"
             ],
             [
              0.8888888888888888,
              "#fdca26"
             ],
             [
              1,
              "#f0f921"
             ]
            ],
            "type": "heatmap"
           }
          ],
          "histogram": [
           {
            "marker": {
             "pattern": {
              "fillmode": "overlay",
              "size": 10,
              "solidity": 0.2
             }
            },
            "type": "histogram"
           }
          ],
          "histogram2d": [
           {
            "colorbar": {
             "outlinewidth": 0,
             "ticks": ""
            },
            "colorscale": [
             [
              0,
              "#0d0887"
             ],
             [
              0.1111111111111111,
              "#46039f"
             ],
             [
              0.2222222222222222,
              "#7201a8"
             ],
             [
              0.3333333333333333,
              "#9c179e"
             ],
             [
              0.4444444444444444,
              "#bd3786"
             ],
             [
              0.5555555555555556,
              "#d8576b"
             ],
             [
              0.6666666666666666,
              "#ed7953"
             ],
             [
              0.7777777777777778,
              "#fb9f3a"
             ],
             [
              0.8888888888888888,
              "#fdca26"
             ],
             [
              1,
              "#f0f921"
             ]
            ],
            "type": "histogram2d"
           }
          ],
          "histogram2dcontour": [
           {
            "colorbar": {
             "outlinewidth": 0,
             "ticks": ""
            },
            "colorscale": [
             [
              0,
              "#0d0887"
             ],
             [
              0.1111111111111111,
              "#46039f"
             ],
             [
              0.2222222222222222,
              "#7201a8"
             ],
             [
              0.3333333333333333,
              "#9c179e"
             ],
             [
              0.4444444444444444,
              "#bd3786"
             ],
             [
              0.5555555555555556,
              "#d8576b"
             ],
             [
              0.6666666666666666,
              "#ed7953"
             ],
             [
              0.7777777777777778,
              "#fb9f3a"
             ],
             [
              0.8888888888888888,
              "#fdca26"
             ],
             [
              1,
              "#f0f921"
             ]
            ],
            "type": "histogram2dcontour"
           }
          ],
          "mesh3d": [
           {
            "colorbar": {
             "outlinewidth": 0,
             "ticks": ""
            },
            "type": "mesh3d"
           }
          ],
          "parcoords": [
           {
            "line": {
             "colorbar": {
              "outlinewidth": 0,
              "ticks": ""
             }
            },
            "type": "parcoords"
           }
          ],
          "pie": [
           {
            "automargin": true,
            "type": "pie"
           }
          ],
          "scatter": [
           {
            "fillpattern": {
             "fillmode": "overlay",
             "size": 10,
             "solidity": 0.2
            },
            "type": "scatter"
           }
          ],
          "scatter3d": [
           {
            "line": {
             "colorbar": {
              "outlinewidth": 0,
              "ticks": ""
             }
            },
            "marker": {
             "colorbar": {
              "outlinewidth": 0,
              "ticks": ""
             }
            },
            "type": "scatter3d"
           }
          ],
          "scattercarpet": [
           {
            "marker": {
             "colorbar": {
              "outlinewidth": 0,
              "ticks": ""
             }
            },
            "type": "scattercarpet"
           }
          ],
          "scattergeo": [
           {
            "marker": {
             "colorbar": {
              "outlinewidth": 0,
              "ticks": ""
             }
            },
            "type": "scattergeo"
           }
          ],
          "scattergl": [
           {
            "marker": {
             "colorbar": {
              "outlinewidth": 0,
              "ticks": ""
             }
            },
            "type": "scattergl"
           }
          ],
          "scattermap": [
           {
            "marker": {
             "colorbar": {
              "outlinewidth": 0,
              "ticks": ""
             }
            },
            "type": "scattermap"
           }
          ],
          "scattermapbox": [
           {
            "marker": {
             "colorbar": {
              "outlinewidth": 0,
              "ticks": ""
             }
            },
            "type": "scattermapbox"
           }
          ],
          "scatterpolar": [
           {
            "marker": {
             "colorbar": {
              "outlinewidth": 0,
              "ticks": ""
             }
            },
            "type": "scatterpolar"
           }
          ],
          "scatterpolargl": [
           {
            "marker": {
             "colorbar": {
              "outlinewidth": 0,
              "ticks": ""
             }
            },
            "type": "scatterpolargl"
           }
          ],
          "scatterternary": [
           {
            "marker": {
             "colorbar": {
              "outlinewidth": 0,
              "ticks": ""
             }
            },
            "type": "scatterternary"
           }
          ],
          "surface": [
           {
            "colorbar": {
             "outlinewidth": 0,
             "ticks": ""
            },
            "colorscale": [
             [
              0,
              "#0d0887"
             ],
             [
              0.1111111111111111,
              "#46039f"
             ],
             [
              0.2222222222222222,
              "#7201a8"
             ],
             [
              0.3333333333333333,
              "#9c179e"
             ],
             [
              0.4444444444444444,
              "#bd3786"
             ],
             [
              0.5555555555555556,
              "#d8576b"
             ],
             [
              0.6666666666666666,
              "#ed7953"
             ],
             [
              0.7777777777777778,
              "#fb9f3a"
             ],
             [
              0.8888888888888888,
              "#fdca26"
             ],
             [
              1,
              "#f0f921"
             ]
            ],
            "type": "surface"
           }
          ],
          "table": [
           {
            "cells": {
             "fill": {
              "color": "#EBF0F8"
             },
             "line": {
              "color": "white"
             }
            },
            "header": {
             "fill": {
              "color": "#C8D4E3"
             },
             "line": {
              "color": "white"
             }
            },
            "type": "table"
           }
          ]
         },
         "layout": {
          "annotationdefaults": {
           "arrowcolor": "#2a3f5f",
           "arrowhead": 0,
           "arrowwidth": 1
          },
          "autotypenumbers": "strict",
          "coloraxis": {
           "colorbar": {
            "outlinewidth": 0,
            "ticks": ""
           }
          },
          "colorscale": {
           "diverging": [
            [
             0,
             "#8e0152"
            ],
            [
             0.1,
             "#c51b7d"
            ],
            [
             0.2,
             "#de77ae"
            ],
            [
             0.3,
             "#f1b6da"
            ],
            [
             0.4,
             "#fde0ef"
            ],
            [
             0.5,
             "#f7f7f7"
            ],
            [
             0.6,
             "#e6f5d0"
            ],
            [
             0.7,
             "#b8e186"
            ],
            [
             0.8,
             "#7fbc41"
            ],
            [
             0.9,
             "#4d9221"
            ],
            [
             1,
             "#276419"
            ]
           ],
           "sequential": [
            [
             0,
             "#0d0887"
            ],
            [
             0.1111111111111111,
             "#46039f"
            ],
            [
             0.2222222222222222,
             "#7201a8"
            ],
            [
             0.3333333333333333,
             "#9c179e"
            ],
            [
             0.4444444444444444,
             "#bd3786"
            ],
            [
             0.5555555555555556,
             "#d8576b"
            ],
            [
             0.6666666666666666,
             "#ed7953"
            ],
            [
             0.7777777777777778,
             "#fb9f3a"
            ],
            [
             0.8888888888888888,
             "#fdca26"
            ],
            [
             1,
             "#f0f921"
            ]
           ],
           "sequentialminus": [
            [
             0,
             "#0d0887"
            ],
            [
             0.1111111111111111,
             "#46039f"
            ],
            [
             0.2222222222222222,
             "#7201a8"
            ],
            [
             0.3333333333333333,
             "#9c179e"
            ],
            [
             0.4444444444444444,
             "#bd3786"
            ],
            [
             0.5555555555555556,
             "#d8576b"
            ],
            [
             0.6666666666666666,
             "#ed7953"
            ],
            [
             0.7777777777777778,
             "#fb9f3a"
            ],
            [
             0.8888888888888888,
             "#fdca26"
            ],
            [
             1,
             "#f0f921"
            ]
           ]
          },
          "colorway": [
           "#636efa",
           "#EF553B",
           "#00cc96",
           "#ab63fa",
           "#FFA15A",
           "#19d3f3",
           "#FF6692",
           "#B6E880",
           "#FF97FF",
           "#FECB52"
          ],
          "font": {
           "color": "#2a3f5f"
          },
          "geo": {
           "bgcolor": "white",
           "lakecolor": "white",
           "landcolor": "#E5ECF6",
           "showlakes": true,
           "showland": true,
           "subunitcolor": "white"
          },
          "hoverlabel": {
           "align": "left"
          },
          "hovermode": "closest",
          "mapbox": {
           "style": "light"
          },
          "paper_bgcolor": "white",
          "plot_bgcolor": "#E5ECF6",
          "polar": {
           "angularaxis": {
            "gridcolor": "white",
            "linecolor": "white",
            "ticks": ""
           },
           "bgcolor": "#E5ECF6",
           "radialaxis": {
            "gridcolor": "white",
            "linecolor": "white",
            "ticks": ""
           }
          },
          "scene": {
           "xaxis": {
            "backgroundcolor": "#E5ECF6",
            "gridcolor": "white",
            "gridwidth": 2,
            "linecolor": "white",
            "showbackground": true,
            "ticks": "",
            "zerolinecolor": "white"
           },
           "yaxis": {
            "backgroundcolor": "#E5ECF6",
            "gridcolor": "white",
            "gridwidth": 2,
            "linecolor": "white",
            "showbackground": true,
            "ticks": "",
            "zerolinecolor": "white"
           },
           "zaxis": {
            "backgroundcolor": "#E5ECF6",
            "gridcolor": "white",
            "gridwidth": 2,
            "linecolor": "white",
            "showbackground": true,
            "ticks": "",
            "zerolinecolor": "white"
           }
          },
          "shapedefaults": {
           "line": {
            "color": "#2a3f5f"
           }
          },
          "ternary": {
           "aaxis": {
            "gridcolor": "white",
            "linecolor": "white",
            "ticks": ""
           },
           "baxis": {
            "gridcolor": "white",
            "linecolor": "white",
            "ticks": ""
           },
           "bgcolor": "#E5ECF6",
           "caxis": {
            "gridcolor": "white",
            "linecolor": "white",
            "ticks": ""
           }
          },
          "title": {
           "x": 0.05
          },
          "xaxis": {
           "automargin": true,
           "gridcolor": "white",
           "linecolor": "white",
           "ticks": "",
           "title": {
            "standoff": 15
           },
           "zerolinecolor": "white",
           "zerolinewidth": 2
          },
          "yaxis": {
           "automargin": true,
           "gridcolor": "white",
           "linecolor": "white",
           "ticks": "",
           "title": {
            "standoff": 15
           },
           "zerolinecolor": "white",
           "zerolinewidth": 2
          }
         }
        },
        "title": {
         "text": "Bicycle traffic by location"
        }
       }
      }
     },
     "metadata": {},
     "output_type": "display_data"
    }
   ],
   "source": [
    "import polars as pl\n",
    "import plotly.express as px\n",
    "import os\n",
    "#  Dataset has 10 unique customers & locations, 92 unique customer/locatio pairs\n",
    "#  dropped the HOUR and MINUTE fields, data grouped by ID, DATE, LONG/LAT\n",
    "#----- LOAD AND CLEAN THE DATASET\n",
    "\n",
    "\n",
    "map_styles = [\n",
    "    'basic', 'carto-darkmatter', 'carto-darkmatter-nolabels', 'carto-positron', \n",
    "    'carto-positron-nolabels', 'carto-voyager', 'carto-voyager-nolabels', \n",
    "    'dark', 'light', 'open-street-map', 'outdoors', 'satellite', \n",
    "    'satellite-streets', 'streets', 'white-bg']\n",
    "my_map_style=map_styles[9]\n",
    "\n",
    "df_locations = pl.read_excel('df_locations.xlsx')\n",
    "\n",
    "if 'df.parquet' in os.listdir('.'):\n",
    "    print('reading dataset from parquet file')\n",
    "    df = pl.read_parquet('df.parquet')\n",
    "else:\n",
    "    print('reading dataset from csv file')\n",
    "    df  = (\n",
    "        pl.scan_csv('pistes-cyclables-2024.csv')\n",
    "        .select(\n",
    "            ID = pl.col('id_compteur').cast(pl.UInt32),\n",
    "            DATE = pl.col('date').str.to_date(format='%m/%d/%Y'),\n",
    "            LON = pl.col('longitude').mean().over('id_compteur'),  # east-west location,   X\n",
    "            LAT = pl.col('latitude').mean().over('id_compteur'),   # north-south location, Y\n",
    "            PASSAGES = pl.col('nb_passages'),\n",
    "        )\n",
    "        .filter(pl.col('ID').is_not_null())\n",
    "        .group_by(['ID', 'DATE','LON', 'LAT']).agg(pl.col('PASSAGES').sum())\n",
    "        .with_columns(PASSAGES_BY_ID = pl.col('PASSAGES').sum().over('ID'))\n",
    "        .with_columns(pl.col('PASSAGES').cast(pl.UInt16)) \n",
    "        .with_columns(pl.col('PASSAGES_BY_ID').cast(pl.UInt32)) \n",
    "        .sort(['ID', 'DATE'])\n",
    "        .collect()\n",
    "        .join(\n",
    "            df_locations.select('ID', 'LOC', 'NEARBY'),\n",
    "            on='ID',\n",
    "            how='left'\n",
    "        )\n",
    "    )\n",
    "    df.write_parquet('df.parquet')\n",
    "\n",
    "print(df)\n",
    "# create a dashboard to show:\n",
    "#   slider to filter minimum passages value\n",
    "# # Convert Polars DataFrame to a dictionary for Plotly\n",
    "# heatmap_data = df.to_dict(as_series=False)\n",
    "\n",
    "# Create the scatter map\n",
    "center_lon = 0.5*(df['LON'].min() + df['LON'].max())\n",
    "center_lat = 0.5*(df['LAT'].min() + df['LAT'].max())\n",
    "fig = px.scatter_map(\n",
    "    df.unique('ID'),\n",
    "    lat='LAT', lon='LON',\n",
    "    size='PASSAGES_BY_ID',\n",
    "    color='PASSAGES_BY_ID', \n",
    "    zoom=9,\n",
    "    center={'lat':center_lat, 'lon':center_lon},  \n",
    "    map_style=my_map_style,\n",
    "    opacity=0.75,\n",
    "    custom_data=['LOC', 'NEARBY', 'PASSAGES_BY_ID', 'ID'],\n",
    ")\n",
    "fig.update_traces(\n",
    "    hovertemplate =\n",
    "        'Location: %{customdata[0]}<br>' +\n",
    "        'Nearby: %{customdata[1]}<br>' +\n",
    "        'Passages: %{customdata[2]:,d}<br>' +\n",
    "        'ID: %{customdata[3]}<br>' +\n",
    "        '<extra></extra>'\n",
    ")\n",
    "fig.update_layout(\n",
    "    title=dict(text='Bicycle traffic by location')\n",
    ")\n",
    "fig.update(layout_coloraxis_showscale=False)\n",
    "fig.show()"
   ]
  },
  {
   "cell_type": "code",
   "execution_count": 3,
   "id": "5e7e7138",
   "metadata": {},
   "outputs": [
    {
     "data": {
      "text/html": [
       "<div><style>\n",
       ".dataframe > thead > tr,\n",
       ".dataframe > tbody > tr {\n",
       "  text-align: right;\n",
       "  white-space: pre-wrap;\n",
       "}\n",
       "</style>\n",
       "<small>shape: (50, 2)</small><table border=\"1\" class=\"dataframe\"><thead><tr><th>PASSAGES_BY_ID</th><th>count</th></tr><tr><td>u32</td><td>u32</td></tr></thead><tbody><tr><td>58450</td><td>15</td></tr><tr><td>53668</td><td>78</td></tr><tr><td>35605</td><td>160</td></tr><tr><td>872</td><td>162</td></tr><tr><td>114456</td><td>162</td></tr><tr><td>&hellip;</td><td>&hellip;</td></tr><tr><td>253512</td><td>222</td></tr><tr><td>127976</td><td>222</td></tr><tr><td>563878</td><td>222</td></tr><tr><td>245674</td><td>222</td></tr><tr><td>39917</td><td>222</td></tr></tbody></table></div>"
      ],
      "text/plain": [
       "shape: (50, 2)\n",
       "┌────────────────┬───────┐\n",
       "│ PASSAGES_BY_ID ┆ count │\n",
       "│ ---            ┆ ---   │\n",
       "│ u32            ┆ u32   │\n",
       "╞════════════════╪═══════╡\n",
       "│ 58450          ┆ 15    │\n",
       "│ 53668          ┆ 78    │\n",
       "│ 35605          ┆ 160   │\n",
       "│ 872            ┆ 162   │\n",
       "│ 114456         ┆ 162   │\n",
       "│ …              ┆ …     │\n",
       "│ 253512         ┆ 222   │\n",
       "│ 127976         ┆ 222   │\n",
       "│ 563878         ┆ 222   │\n",
       "│ 245674         ┆ 222   │\n",
       "│ 39917          ┆ 222   │\n",
       "└────────────────┴───────┘"
      ]
     },
     "execution_count": 3,
     "metadata": {},
     "output_type": "execute_result"
    }
   ],
   "source": [
    "df['PASSAGES_BY_ID'].value_counts().sort('count')# .shape"
   ]
  },
  {
   "cell_type": "code",
   "execution_count": 4,
   "id": "9e54c2a2",
   "metadata": {},
   "outputs": [
    {
     "data": {
      "text/html": [
       "<div><style>\n",
       ".dataframe > thead > tr,\n",
       ".dataframe > tbody > tr {\n",
       "  text-align: right;\n",
       "  white-space: pre-wrap;\n",
       "}\n",
       "</style>\n",
       "<small>shape: (26, 3)</small><table border=\"1\" class=\"dataframe\"><thead><tr><th>X</th><th>Y</th><th>Z</th></tr><tr><td>str</td><td>str</td><td>i64</td></tr></thead><tbody><tr><td>&quot;A&quot;</td><td>&quot;65&quot;</td><td>65</td></tr><tr><td>&quot;B&quot;</td><td>&quot;66&quot;</td><td>66</td></tr><tr><td>&quot;C&quot;</td><td>&quot;67&quot;</td><td>67</td></tr><tr><td>&quot;D&quot;</td><td>&quot;68&quot;</td><td>68</td></tr><tr><td>&quot;E&quot;</td><td>&quot;69&quot;</td><td>69</td></tr><tr><td>&hellip;</td><td>&hellip;</td><td>&hellip;</td></tr><tr><td>&quot;V&quot;</td><td>&quot;86&quot;</td><td>86</td></tr><tr><td>&quot;W&quot;</td><td>&quot;87&quot;</td><td>87</td></tr><tr><td>&quot;X&quot;</td><td>&quot;88&quot;</td><td>88</td></tr><tr><td>&quot;Y&quot;</td><td>&quot;89&quot;</td><td>89</td></tr><tr><td>&quot;Z&quot;</td><td>&quot;90&quot;</td><td>90</td></tr></tbody></table></div>"
      ],
      "text/plain": [
       "shape: (26, 3)\n",
       "┌─────┬─────┬─────┐\n",
       "│ X   ┆ Y   ┆ Z   │\n",
       "│ --- ┆ --- ┆ --- │\n",
       "│ str ┆ str ┆ i64 │\n",
       "╞═════╪═════╪═════╡\n",
       "│ A   ┆ 65  ┆ 65  │\n",
       "│ B   ┆ 66  ┆ 66  │\n",
       "│ C   ┆ 67  ┆ 67  │\n",
       "│ D   ┆ 68  ┆ 68  │\n",
       "│ E   ┆ 69  ┆ 69  │\n",
       "│ …   ┆ …   ┆ …   │\n",
       "│ V   ┆ 86  ┆ 86  │\n",
       "│ W   ┆ 87  ┆ 87  │\n",
       "│ X   ┆ 88  ┆ 88  │\n",
       "│ Y   ┆ 89  ┆ 89  │\n",
       "│ Z   ┆ 90  ┆ 90  │\n",
       "└─────┴─────┴─────┘"
      ]
     },
     "execution_count": 4,
     "metadata": {},
     "output_type": "execute_result"
    }
   ],
   "source": [
    "df_cat = pl.DataFrame({\n",
    "    'X':[chr(i) for i in range(65,91)],\n",
    "    'Y':[str(i) for i in range(65,91)],\n",
    "    'Z': [i for i in range(65,91)],\n",
    "})\n",
    "df_cat"
   ]
  },
  {
   "cell_type": "code",
   "execution_count": 5,
   "id": "7a1835ab",
   "metadata": {},
   "outputs": [
    {
     "data": {
      "text/html": [
       "<div><style>\n",
       ".dataframe > thead > tr,\n",
       ".dataframe > tbody > tr {\n",
       "  text-align: right;\n",
       "  white-space: pre-wrap;\n",
       "}\n",
       "</style>\n",
       "<small>shape: (26, 3)</small><table border=\"1\" class=\"dataframe\"><thead><tr><th>X</th><th>Y</th><th>Z</th></tr><tr><td>str</td><td>cat</td><td>i64</td></tr></thead><tbody><tr><td>&quot;A&quot;</td><td>&quot;65&quot;</td><td>65</td></tr><tr><td>&quot;B&quot;</td><td>&quot;66&quot;</td><td>66</td></tr><tr><td>&quot;C&quot;</td><td>&quot;67&quot;</td><td>67</td></tr><tr><td>&quot;D&quot;</td><td>&quot;68&quot;</td><td>68</td></tr><tr><td>&quot;E&quot;</td><td>&quot;69&quot;</td><td>69</td></tr><tr><td>&hellip;</td><td>&hellip;</td><td>&hellip;</td></tr><tr><td>&quot;V&quot;</td><td>&quot;86&quot;</td><td>86</td></tr><tr><td>&quot;W&quot;</td><td>&quot;87&quot;</td><td>87</td></tr><tr><td>&quot;X&quot;</td><td>&quot;88&quot;</td><td>88</td></tr><tr><td>&quot;Y&quot;</td><td>&quot;89&quot;</td><td>89</td></tr><tr><td>&quot;Z&quot;</td><td>&quot;90&quot;</td><td>90</td></tr></tbody></table></div>"
      ],
      "text/plain": [
       "shape: (26, 3)\n",
       "┌─────┬─────┬─────┐\n",
       "│ X   ┆ Y   ┆ Z   │\n",
       "│ --- ┆ --- ┆ --- │\n",
       "│ str ┆ cat ┆ i64 │\n",
       "╞═════╪═════╪═════╡\n",
       "│ A   ┆ 65  ┆ 65  │\n",
       "│ B   ┆ 66  ┆ 66  │\n",
       "│ C   ┆ 67  ┆ 67  │\n",
       "│ D   ┆ 68  ┆ 68  │\n",
       "│ E   ┆ 69  ┆ 69  │\n",
       "│ …   ┆ …   ┆ …   │\n",
       "│ V   ┆ 86  ┆ 86  │\n",
       "│ W   ┆ 87  ┆ 87  │\n",
       "│ X   ┆ 88  ┆ 88  │\n",
       "│ Y   ┆ 89  ┆ 89  │\n",
       "│ Z   ┆ 90  ┆ 90  │\n",
       "└─────┴─────┴─────┘"
      ]
     },
     "execution_count": 5,
     "metadata": {},
     "output_type": "execute_result"
    }
   ],
   "source": [
    "df_cat.with_columns(pl.col('Y').cast(pl.Categorical))\n"
   ]
  },
  {
   "cell_type": "code",
   "execution_count": 26,
   "id": "57ae6a21",
   "metadata": {},
   "outputs": [],
   "source": [
    "import pandas as pd\n",
    "df = pd.read_csv('pistes-cyclables-2024.csv')\n",
    "df.to_parquet('pistes-cyclables-2024.parquet')\n"
   ]
  }
 ],
 "metadata": {
  "kernelspec": {
   "display_name": "Python 3",
   "language": "python",
   "name": "python3"
  },
  "language_info": {
   "codemirror_mode": {
    "name": "ipython",
    "version": 3
   },
   "file_extension": ".py",
   "mimetype": "text/x-python",
   "name": "python",
   "nbconvert_exporter": "python",
   "pygments_lexer": "ipython3",
   "version": "3.13.5"
  }
 },
 "nbformat": 4,
 "nbformat_minor": 5
}
