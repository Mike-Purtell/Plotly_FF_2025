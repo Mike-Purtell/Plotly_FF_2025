{
 "cells": [
  {
   "cell_type": "code",
   "execution_count": null,
   "id": "86d7d23e",
   "metadata": {},
   "outputs": [],
   "source": [
    "import polars as pl"
   ]
  },
  {
   "cell_type": "code",
   "execution_count": null,
   "id": "d788182f",
   "metadata": {},
   "outputs": [],
   "source": [
    "df = (\n",
    "    pl.scan_csv(\n",
    "        'Building_Permits_Issued_Past_180_Days.csv',\n",
    "        # try_parse_dates=True,\n",
    "        ignore_errors=True\n",
    "    )\n",
    "    .select(\n",
    "        ID = pl.col('OBJECTID'),\n",
    "        WORK = pl.col('workclass'),\n",
    "        # PERMITCLASS = pl.col('permitclass'),\n",
    "        PROP_DESC = pl.col('proposedworkdescription'),\n",
    "        TYPE = pl.col('permitclassmapped'),\n",
    "        APP_DATE = pl.col('applieddate').str.split(' ').list.first().str.to_date(),\n",
    "        ISS_DATE = pl.col('issueddate').str.split(' ').list.first().str.to_date(),\n",
    "        EST_COST = pl.col('estprojectcost'),\n",
    "        # CONSTCOMPLETEDOFFICIAL = pl.col('constcompletedofficial'),\n",
    "        CEN_USE = pl.col('censuslanduse'),\n",
    "        # CENSUSLANDUSECODE = pl.col('censuslandusecode'),\n",
    "        CONTRACTOR = pl.col('contractorcompanyname'),\n",
    "        CONT_CITY = pl.col('contractorcity'),\n",
    "        # COUNTYLOCATION = pl.col('countylocation'),\n",
    "        DESC = pl.col('description'),\n",
    "        EXP_DATE = pl.col('expiresdate').str.split(' ').list.first().str.to_date(),\n",
    "        FEE = pl.col('fee'),\n",
    "        # HOUSINGUNITSTOTAL = pl.col('housingunitstotal'),\n",
    "        # ISSUEDDATE_MTH = pl.col('issueddate_mth'),\n",
    "        # ISSUEDDATE_YR = pl.col('issueddate_yr'),\n",
    "        # JURISDICTION_INOUT_RAL = pl.col('jurisdiction_inout_ral'),\n",
    "        LAT = pl.col('latitude_perm'),\n",
    "        LONG = pl.col('longitude_perm'),\n",
    "        ZIP = pl.col('originalzip'),\n",
    "        PROP_USE = pl.col('proposeduse'),\n",
    "        # RECORDUPDATEDATE = pl.col('recordupdatedate'),\n",
    "        STATUS = pl.col('statuscurrent'),\n",
    "        # STATUSCURRENTMAPPED = pl.col('statuscurrentmapped'),\n",
    "        EXIST_OR_NEW = pl.col('workclassmapped'),\n",
    "        # CREATIONDATE = pl.col('CreationDate'),\n",
    "        # EDITDATE = pl.col('EditDate'),\n",
    "        # PERMITNUM = pl.col('permitnum'),\n",
    "    )\n",
    "    .collect()\n",
    ")\n",
    "df.glimpse()"
   ]
  },
  {
   "cell_type": "code",
   "execution_count": null,
   "id": "3168df57",
   "metadata": {},
   "outputs": [],
   "source": [
    "for c in df.columns:\n",
    "    print(\n",
    "        df[c]\n",
    "        #.drop_nulls()\n",
    "        .value_counts()\n",
    "        .with_columns(PCT = (100*pl.col('count')/pl.col('count').sum()).round(1))\n",
    "        .sort('PCT')\n",
    "    )"
   ]
  },
  {
   "cell_type": "code",
   "execution_count": null,
   "id": "f1a3f60b",
   "metadata": {},
   "outputs": [],
   "source": [
    "df['PERMITNUM'].value_counts().sort('count')"
   ]
  },
  {
   "cell_type": "code",
   "execution_count": null,
   "id": "4fe5a6de",
   "metadata": {},
   "outputs": [],
   "source": [
    "for c in list(df.columns):\n",
    "    print(c)"
   ]
  },
  {
   "cell_type": "code",
   "execution_count": 85,
   "id": "fbab7e4b",
   "metadata": {},
   "outputs": [
    {
     "data": {
      "text/html": [
       "<div><style>\n",
       ".dataframe > thead > tr,\n",
       ".dataframe > tbody > tr {\n",
       "  text-align: right;\n",
       "  white-space: pre-wrap;\n",
       "}\n",
       "</style>\n",
       "<small>shape: (18, 2)</small><table border=\"1\" class=\"dataframe\"><thead><tr><th>ZIP</th><th>INFO</th></tr><tr><td>i64</td><td>str</td></tr></thead><tbody><tr><td>27529</td><td>&quot;A small part of Clayton, which…</td></tr><tr><td>27560</td><td>&quot;Morrisville, located to the we…</td></tr><tr><td>27587</td><td>&quot;Wake Forest, a town just north…</td></tr><tr><td>27601</td><td>&quot;Downtown Raleigh, the heart of…</td></tr><tr><td>27603</td><td>&quot;Southeastern Raleigh, includin…</td></tr><tr><td>&hellip;</td><td>&hellip;</td></tr><tr><td>27613</td><td>&quot;Western Raleigh, near the Brie…</td></tr><tr><td>27614</td><td>&quot;Northern Raleigh, including pa…</td></tr><tr><td>27615</td><td>&quot;North Raleigh, a more suburban…</td></tr><tr><td>27616</td><td>&quot;Northeastern Raleigh, includin…</td></tr><tr><td>27617</td><td>&quot;Northern Raleigh, around the B…</td></tr></tbody></table></div>"
      ],
      "text/plain": [
       "shape: (18, 2)\n",
       "┌───────┬─────────────────────────────────┐\n",
       "│ ZIP   ┆ INFO                            │\n",
       "│ ---   ┆ ---                             │\n",
       "│ i64   ┆ str                             │\n",
       "╞═══════╪═════════════════════════════════╡\n",
       "│ 27529 ┆ A small part of Clayton, which… │\n",
       "│ 27560 ┆ Morrisville, located to the we… │\n",
       "│ 27587 ┆ Wake Forest, a town just north… │\n",
       "│ 27601 ┆ Downtown Raleigh, the heart of… │\n",
       "│ 27603 ┆ Southeastern Raleigh, includin… │\n",
       "│ …     ┆ …                               │\n",
       "│ 27613 ┆ Western Raleigh, near the Brie… │\n",
       "│ 27614 ┆ Northern Raleigh, including pa… │\n",
       "│ 27615 ┆ North Raleigh, a more suburban… │\n",
       "│ 27616 ┆ Northeastern Raleigh, includin… │\n",
       "│ 27617 ┆ Northern Raleigh, around the B… │\n",
       "└───────┴─────────────────────────────────┘"
      ]
     },
     "execution_count": 85,
     "metadata": {},
     "output_type": "execute_result"
    }
   ],
   "source": [
    "import polars as pl\n",
    "df_zip = pl.read_csv(\n",
    "    'ZIP_INFO.csv'\n",
    ")\n",
    "df_zip"
   ]
  },
  {
   "cell_type": "code",
   "execution_count": 90,
   "id": "4ca9ddb3",
   "metadata": {},
   "outputs": [
    {
     "name": "stdout",
     "output_type": "stream",
     "text": [
      "27529 A small part of Clayton, which is just outside of Raleigh to the southeast.\n",
      "27560 Morrisville, located to the west of Raleigh near the Research Triangle Park (RTP).\n",
      "27587 Wake Forest, a town just north of Raleigh.\n",
      "27601 Downtown Raleigh, the heart of the city with government buildings and local businesses.\n",
      "27603 Southeastern Raleigh, including areas near downtown and the State Fairgrounds.\n",
      "27604 North Raleigh, near the Five Points area.\n",
      "27605 Central Raleigh, surrounding the Glenwood South area.\n",
      "27606 South Raleigh, including areas near North Carolina State University (NCSU).\n",
      "27607 West Raleigh, near the University of North Carolina at Raleigh campus and surrounding areas.\n",
      "27608 Central Raleigh, close to the Cameron Village area and older historic neighborhoods.\n",
      "27609 Central Raleigh, near the North Carolina State University campus and the Crabtree Valley Mall area.\n",
      "27610 East Raleigh, including areas near the Raleigh Convention Center and historic neighborhoods.\n",
      "27612 Western Raleigh, including parts of the North Hills area.\n",
      "27613 Western Raleigh, near the Brier Creek area.\n",
      "27614 Northern Raleigh, including parts of the Leesville Road and Wakefield area.\n",
      "27615 North Raleigh, a more suburban area with neighborhoods like Bedford and Wakefield.\n",
      "27616 Northeastern Raleigh, including suburban areas and the neighborhood of Capital Boulevard.\n",
      "27617 Northern Raleigh, around the Brier Creek area and surrounding suburban communities.\n"
     ]
    }
   ],
   "source": [
    "zip_code_list = sorted(list(df_zip['ZIP']))\n",
    "zip_code_list\n",
    "for z in zip_code_list:\n",
    "    print(z, df_zip.filter(pl.col('ZIP')== z)['INFO'].item())"
   ]
  }
 ],
 "metadata": {
  "kernelspec": {
   "display_name": "Python 3",
   "language": "python",
   "name": "python3"
  },
  "language_info": {
   "codemirror_mode": {
    "name": "ipython",
    "version": 3
   },
   "file_extension": ".py",
   "mimetype": "text/x-python",
   "name": "python",
   "nbconvert_exporter": "python",
   "pygments_lexer": "ipython3",
   "version": "3.13.5"
  }
 },
 "nbformat": 4,
 "nbformat_minor": 5
}
