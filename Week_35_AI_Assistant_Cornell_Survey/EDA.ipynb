{
 "cells": [
  {
   "cell_type": "code",
   "execution_count": null,
   "id": "654d4f62",
   "metadata": {},
   "outputs": [],
   "source": [
    "import polars as pl\n",
    "import polars.selectors as cs\n",
    "import os\n"
   ]
  },
  {
   "cell_type": "code",
   "execution_count": null,
   "id": "00601c56",
   "metadata": {},
   "outputs": [],
   "source": [
    "#----- FUNCTIONS ---------------------------------------------------------------\n",
    "def read_and_clean_csv():\n",
    "    print('reading and cleaning csv file')\n",
    "    no_education = 'I’ve never completed any formal education'\n",
    "    elem_education = 'Primary / elementary school'\n",
    "    high_school = (\n",
    "        'Secondary school (e.g. American high school, ' +\n",
    "        'German Realschule or Gymnasium, etc.)'\n",
    "    )\n",
    "    some_college = (\n",
    "        \"Some college or university study \" +\n",
    "        \"without earning a bachelor’s degree\"\n",
    "    )\n",
    "    bachelors = 'Bachelor’s degree (BA, BS, B.Eng., etc.)'\n",
    "    masters = 'Master’s degree (MA, MS, M.Eng., MBA, etc.)'\n",
    "    doctorate = 'Doctoral degree (Ph.D, Ed.D., etc.)'\n",
    "    professional = 'Professional degree (JD, MD, etc.)'\n",
    "    return(\n",
    "        pl.scan_csv('dataset.csv')\n",
    "        .select(\n",
    "            COUNTRY = cs.starts_with('[1]').cast(pl.Categorical()),\n",
    "            GENDER = cs.starts_with('[2]').cast(pl.Categorical()),\n",
    "            AGE_RANGE = cs.starts_with('[3]')\n",
    "                .replace('60 or older', '60+')\n",
    "                .cast(pl.Categorical()),\n",
    "            WORK_LANG = pl.concat_list(cs.starts_with('[9]'))\n",
    "                .list.eval(pl.element().filter(pl.element().is_not_null())),\n",
    "            EDUCATION = cs.starts_with('[12]')\n",
    "                .replace(no_education, 'None')\n",
    "                .replace(elem_education, 'Elementary')\n",
    "                .replace(high_school, 'High School')\n",
    "                .replace(some_college, 'Some College')\n",
    "                .replace(bachelors, 'Bachelors')\n",
    "                .replace(masters, 'Masters')\n",
    "                .replace(doctorate, 'Doctorate')\n",
    "            .replace(professional, 'Professional')\n",
    "            .cast(pl.Categorical()),\n",
    "            JOB_ROLE = pl.concat_list(cs.starts_with('[23]'))\n",
    "                .list.eval(pl.element().filter(pl.element().is_not_null())),\n",
    "            JOB_LEVEL = cs.starts_with('[24]').cast(pl.Categorical()),\n",
    "            YEARS_EXPERIENCE = cs.starts_with('[25]')\n",
    "                .str.replace(' years', '')\n",
    "                .str.replace(' year', '')\n",
    "                .str.replace('Less than 1', '<1')\n",
    "                .str.replace(\"I don't have any professional coding experience\", '0'),\n",
    "            CS_LANGS = pl.concat_list(cs.starts_with('[44]'))\n",
    "                .list.eval(pl.element().filter(pl.element().is_not_null())),\n",
    "            AI_ASST = pl.concat_list(cs.starts_with('[62]'))\n",
    "                .list.eval(pl.element().filter(pl.element().is_not_null())),\n",
    "            AI_FEATURES = pl.concat_list(cs.starts_with('[63]'))\n",
    "                .list.eval(pl.element().filter(pl.element().is_not_null())),\n",
    "        )\n",
    "        .with_columns(\n",
    "            JOB_ROLE_COUNT = pl.col('JOB_ROLE').list.len(),\n",
    "            WORK_LANG_COUNT = pl.col('WORK_LANG').list.len(),\n",
    "            CS_LANGS_COUNT = pl.col('CS_LANGS').list.len(),\n",
    "            AI_ASST_COUNT = pl.col('AI_ASST').list.len(),\n",
    "            AI_FEATURES_COUNT = pl.col('AI_FEATURES').list.len(),\n",
    "        )\n",
    "        .with_columns(\n",
    "            JOB_ROLE_WT = pl.when(pl.col('JOB_ROLE_COUNT') > 0)\n",
    "                .then(1/pl.col('JOB_ROLE_COUNT')).otherwise(pl.lit(0)),        \n",
    "            WORK_LANG_WT = pl.when(pl.col('WORK_LANG_COUNT') > 0)\n",
    "                .then(1/pl.col('WORK_LANG_COUNT')).otherwise(pl.lit(0)),\n",
    "            CS_LANGS_WT = pl.when(pl.col('CS_LANGS_COUNT') > 0)\n",
    "                .then(1/pl.col('CS_LANGS_COUNT')).otherwise(pl.lit(0)),\n",
    "            AI_ASST_WT = pl.when(pl.col('AI_ASST_COUNT') > 0)\n",
    "                .then(1/pl.col('AI_ASST_COUNT')).otherwise(pl.lit(0)),\n",
    "            AI_FEATURES_WT = pl.when(pl.col('AI_FEATURES_COUNT') > 0)\n",
    "                .then(1/pl.col('AI_FEATURES_COUNT')).otherwise(pl.lit(0)),\n",
    "        )\n",
    "        .drop_nulls('GENDER')\n",
    "        .select(\n",
    "            'COUNTRY', 'GENDER', 'AGE_RANGE', \n",
    "            'EDUCATION',  'JOB_LEVEL', 'YEARS_EXPERIENCE', \n",
    "            'JOB_ROLE',     'JOB_ROLE_COUNT',     'JOB_ROLE_WT',       \n",
    "            'WORK_LANG',    'WORK_LANG_COUNT',     'WORK_LANG_WT',\n",
    "            'CS_LANGS',     'CS_LANGS_COUNT',      'CS_LANGS_WT',\n",
    "            'AI_ASST',      'AI_ASST_COUNT',       'AI_ASST_WT',\n",
    "            'AI_FEATURES',  'AI_FEATURES_COUNT',   'AI_FEATURES_WT',\n",
    "        )\n",
    "        .with_columns(cs.float().cast(pl.Float32))\n",
    "        .with_columns(cs.integer().cast(pl.UInt8))\n",
    "        .with_row_index(name='INDEX', offset=1)\n",
    "        .with_columns(pl.col('INDEX').cast(pl.UInt16))\n",
    "        .explode('JOB_ROLE')\n",
    "        .explode('WORK_LANG')\n",
    "        .explode('CS_LANGS') \n",
    "        .explode('AI_ASST')\n",
    "        .explode('AI_FEATURES')\n",
    "        .with_columns(cs.string().cast(pl.Categorical()))\n",
    "        .collect()  # convert Lazy Frame to Data Frame\n",
    "    )"
   ]
  },
  {
   "cell_type": "code",
   "execution_count": null,
   "id": "38f323cc",
   "metadata": {},
   "outputs": [],
   "source": [
    "#----- GATHER AND CLEAN DATA ---------------------------------------------------\n",
    "\n",
    "if False: # os.path.exists('df.parquet'):     # read parquet file if it exists\n",
    "    print('reading data from parquet file')\n",
    "    df=pl.read_parquet('df.parquet')\n",
    "else:                                # read csv file, clean, save df as parquet\n",
    "    df = read_and_clean_csv()\n",
    "    print(df)\n",
    "    df.write_parquet('df.parquet')"
   ]
  },
  {
   "cell_type": "code",
   "execution_count": null,
   "id": "664406ac",
   "metadata": {},
   "outputs": [],
   "source": [
    "print(f'{len(df.columns) = }')\n",
    "print(f'{df.columns = }')\n",
    "print(f'{df.shape = }')\n",
    "df.sample(10).glimpse()"
   ]
  },
  {
   "cell_type": "markdown",
   "id": "df929dee",
   "metadata": {},
   "source": []
  },
  {
   "cell_type": "code",
   "execution_count": null,
   "id": "49817002",
   "metadata": {},
   "outputs": [],
   "source": [
    "df['GENDER'].value_counts() #.unique().to_list() # .value_counts().sort('AGE_RANGE') # ['NET_SALARY'].to_list()"
   ]
  },
  {
   "cell_type": "code",
   "execution_count": null,
   "id": "857a1a0a",
   "metadata": {},
   "outputs": [],
   "source": [
    "df.glimpse()"
   ]
  },
  {
   "cell_type": "code",
   "execution_count": null,
   "id": "e6bf08bb",
   "metadata": {},
   "outputs": [],
   "source": []
  }
 ],
 "metadata": {
  "kernelspec": {
   "display_name": "Python 3",
   "language": "python",
   "name": "python3"
  },
  "language_info": {
   "codemirror_mode": {
    "name": "ipython",
    "version": 3
   },
   "file_extension": ".py",
   "mimetype": "text/x-python",
   "name": "python",
   "nbconvert_exporter": "python",
   "pygments_lexer": "ipython3",
   "version": "3.13.5"
  }
 },
 "nbformat": 4,
 "nbformat_minor": 5
}
