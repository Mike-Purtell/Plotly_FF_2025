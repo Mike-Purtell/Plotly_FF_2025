{
 "cells": [
  {
   "cell_type": "code",
   "execution_count": null,
   "metadata": {},
   "outputs": [],
   "source": [
    "import polars as pl\n",
    "import plotly.express as px\n",
    "\n",
    "#-------------------------------------------------------------------------------\n",
    "#    Read and clean the data\n",
    "#-------------------------------------------------------------------------------\n",
    "scatter_matrix_cols = [\n",
    "    'DEHP_ng_serving',  'DBP_ng_serving','DEP_ng_serving', 'BBP_ng_serving']\n",
    "df_scatter_matrix = (\n",
    "    pl.scan_csv('samples.tsv', separator='\\t')\n",
    "    .select(pl.col(['shipped_in'] + scatter_matrix_cols))\n",
    "    .with_columns(pl.col(scatter_matrix_cols).str.replace(r'<',''))\n",
    "    .with_columns(pl.col(scatter_matrix_cols).str.replace(r'>',''))\n",
    "    .with_columns(pl.col(scatter_matrix_cols).cast(pl.Float64))\n",
    "    .filter(pl.col('DBP_ng_serving') < 8000)\n",
    "    .filter(pl.col('DEHP_ng_serving') < 5000)  # adam filtered on 20K\n",
    "    .collect()\n",
    ")\n",
    "\n",
    "#-------------------------------------------------------------------------------\n",
    "#    Generate the scatter_matrix\n",
    "#-------------------------------------------------------------------------------\n",
    "fig = px.scatter_matrix(\n",
    "    df_scatter_matrix,\n",
    "    dimensions=scatter_matrix_cols,\n",
    "    template='simple_white',\n",
    "    height=1000, width=1200,\n",
    "    title=(\n",
    "        'Bay Area Foods with Plastic - px.scatter_matrix' + \n",
    "        \"<br><sup>Data Source: PlasticList. 'Data on Plastic Chemicals in Bay Area Foods'.\" +  \n",
    "        '  plasticlist.org. Accessed Jan 10, 2025.</sup>'\n",
    "    ),\n",
    "    color='shipped_in'\n",
    ")\n",
    "fig.update_layout(title=dict(font=dict(size=22)))\n",
    "\n",
    "# remove plots from the grid diagonal, and from the upper half\n",
    "fig.update_traces(\n",
    "    diagonal_visible=False,\n",
    "    showupperhalf=False,\n",
    "    marker=dict(size=5),\n",
    ")\n",
    "\n",
    "# move the legend closer to the data\n",
    "fig.update_layout(\n",
    "        legend=dict(\n",
    "        yanchor='middle',\n",
    "        y=0.9,\n",
    "        xanchor=\"left\",\n",
    "        x=0.4,\n",
    "        font=dict(size=16)\n",
    "    )\n",
    ")\n",
    "fig.write_html('scatter_matrix.html')\n",
    "fig.show()\n"
   ]
  }
 ],
 "metadata": {
  "kernelspec": {
   "display_name": "Python 3",
   "language": "python",
   "name": "python3"
  },
  "language_info": {
   "codemirror_mode": {
    "name": "ipython",
    "version": 3
   },
   "file_extension": ".py",
   "mimetype": "text/x-python",
   "name": "python",
   "nbconvert_exporter": "python",
   "pygments_lexer": "ipython3",
   "version": "3.13.1"
  }
 },
 "nbformat": 4,
 "nbformat_minor": 2
}
