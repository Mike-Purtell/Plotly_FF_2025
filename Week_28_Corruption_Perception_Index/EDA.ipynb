{
 "cells": [
  {
   "cell_type": "code",
   "execution_count": 1,
   "id": "d788182f",
   "metadata": {},
   "outputs": [
    {
     "data": {
      "text/plain": [
       "polars.config.Config"
      ]
     },
     "execution_count": 1,
     "metadata": {},
     "output_type": "execute_result"
    }
   ],
   "source": [
    "import polars as pl\n",
    "pl.Config().set_tbl_rows(30)"
   ]
  },
  {
   "cell_type": "code",
   "execution_count": 2,
   "id": "28ba852c",
   "metadata": {},
   "outputs": [
    {
     "name": "stdout",
     "output_type": "stream",
     "text": [
      "['COUNTRY', 'ISO3', 'REGION', 'CPI_2024', 'RANK_2024', 'STD_ERR_2024', 'REG_MED', 'REG_RANK_MED']\n"
     ]
    },
    {
     "data": {
      "text/html": [
       "<div><style>\n",
       ".dataframe > thead > tr,\n",
       ".dataframe > tbody > tr {\n",
       "  text-align: right;\n",
       "  white-space: pre-wrap;\n",
       "}\n",
       "</style>\n",
       "<small>shape: (180, 8)</small><table border=\"1\" class=\"dataframe\"><thead><tr><th>COUNTRY</th><th>ISO3</th><th>REGION</th><th>CPI_2024</th><th>RANK_2024</th><th>STD_ERR_2024</th><th>REG_MED</th><th>REG_RANK_MED</th></tr><tr><td>str</td><td>str</td><td>str</td><td>i64</td><td>i64</td><td>f64</td><td>f64</td><td>f64</td></tr></thead><tbody><tr><td>&quot;Denmark&quot;</td><td>&quot;DNK&quot;</td><td>&quot;WE/EU&quot;</td><td>90</td><td>1</td><td>1.98</td><td>63.0</td><td>32.0</td></tr><tr><td>&quot;Finland&quot;</td><td>&quot;FIN&quot;</td><td>&quot;WE/EU&quot;</td><td>88</td><td>2</td><td>1.83</td><td>63.0</td><td>32.0</td></tr><tr><td>&quot;Singapore&quot;</td><td>&quot;SGP&quot;</td><td>&quot;AP&quot;</td><td>84</td><td>3</td><td>1.48</td><td>38.0</td><td>96.0</td></tr><tr><td>&quot;New Zealand&quot;</td><td>&quot;NZL&quot;</td><td>&quot;AP&quot;</td><td>83</td><td>4</td><td>1.77</td><td>38.0</td><td>96.0</td></tr><tr><td>&quot;Luxembourg&quot;</td><td>&quot;LUX&quot;</td><td>&quot;WE/EU&quot;</td><td>81</td><td>5</td><td>2.0</td><td>63.0</td><td>32.0</td></tr><tr><td>&quot;Norway&quot;</td><td>&quot;NOR&quot;</td><td>&quot;WE/EU&quot;</td><td>81</td><td>5</td><td>1.65</td><td>63.0</td><td>32.0</td></tr><tr><td>&quot;Switzerland&quot;</td><td>&quot;CHE&quot;</td><td>&quot;WE/EU&quot;</td><td>81</td><td>5</td><td>1.81</td><td>63.0</td><td>32.0</td></tr><tr><td>&quot;Sweden&quot;</td><td>&quot;SWE&quot;</td><td>&quot;WE/EU&quot;</td><td>80</td><td>8</td><td>2.48</td><td>63.0</td><td>32.0</td></tr><tr><td>&quot;Netherlands&quot;</td><td>&quot;NLD&quot;</td><td>&quot;WE/EU&quot;</td><td>78</td><td>9</td><td>2.34</td><td>63.0</td><td>32.0</td></tr><tr><td>&quot;Australia&quot;</td><td>&quot;AUS&quot;</td><td>&quot;AP&quot;</td><td>77</td><td>10</td><td>1.67</td><td>38.0</td><td>96.0</td></tr><tr><td>&quot;Iceland&quot;</td><td>&quot;ISL&quot;</td><td>&quot;WE/EU&quot;</td><td>77</td><td>10</td><td>2.6</td><td>63.0</td><td>32.0</td></tr><tr><td>&quot;Ireland&quot;</td><td>&quot;IRL&quot;</td><td>&quot;WE/EU&quot;</td><td>77</td><td>10</td><td>1.55</td><td>63.0</td><td>32.0</td></tr><tr><td>&quot;Estonia&quot;</td><td>&quot;EST&quot;</td><td>&quot;WE/EU&quot;</td><td>76</td><td>13</td><td>1.09</td><td>63.0</td><td>32.0</td></tr><tr><td>&quot;Uruguay&quot;</td><td>&quot;URY&quot;</td><td>&quot;AME&quot;</td><td>76</td><td>13</td><td>1.46</td><td>39.0</td><td>92.0</td></tr><tr><td>&quot;Canada&quot;</td><td>&quot;CAN&quot;</td><td>&quot;AME&quot;</td><td>75</td><td>15</td><td>1.95</td><td>39.0</td><td>92.0</td></tr><tr><td>&hellip;</td><td>&hellip;</td><td>&hellip;</td><td>&hellip;</td><td>&hellip;</td><td>&hellip;</td><td>&hellip;</td><td>&hellip;</td></tr><tr><td>&quot;Burundi&quot;</td><td>&quot;BDI&quot;</td><td>&quot;SSA&quot;</td><td>17</td><td>165</td><td>3.37</td><td>31.0</td><td>127.0</td></tr><tr><td>&quot;Turkmenistan&quot;</td><td>&quot;TKM&quot;</td><td>&quot;ECA&quot;</td><td>17</td><td>165</td><td>0.89</td><td>35.0</td><td>105.0</td></tr><tr><td>&quot;Haiti&quot;</td><td>&quot;HTI&quot;</td><td>&quot;AME&quot;</td><td>16</td><td>168</td><td>2.13</td><td>39.0</td><td>92.0</td></tr><tr><td>&quot;Myanmar&quot;</td><td>&quot;MMR&quot;</td><td>&quot;AP&quot;</td><td>16</td><td>168</td><td>2.01</td><td>38.0</td><td>96.0</td></tr><tr><td>&quot;Korea, North&quot;</td><td>&quot;PRK&quot;</td><td>&quot;AP&quot;</td><td>15</td><td>170</td><td>4.12</td><td>38.0</td><td>96.0</td></tr><tr><td>&quot;Sudan&quot;</td><td>&quot;SDN&quot;</td><td>&quot;SSA&quot;</td><td>15</td><td>170</td><td>1.9</td><td>31.0</td><td>127.0</td></tr><tr><td>&quot;Nicaragua&quot;</td><td>&quot;NIC&quot;</td><td>&quot;AME&quot;</td><td>14</td><td>172</td><td>1.44</td><td>39.0</td><td>92.0</td></tr><tr><td>&quot;Equatorial Guinea&quot;</td><td>&quot;GNQ&quot;</td><td>&quot;SSA&quot;</td><td>13</td><td>173</td><td>2.54</td><td>31.0</td><td>127.0</td></tr><tr><td>&quot;Eritrea&quot;</td><td>&quot;ERI&quot;</td><td>&quot;SSA&quot;</td><td>13</td><td>173</td><td>5.51</td><td>31.0</td><td>127.0</td></tr><tr><td>&quot;Libya&quot;</td><td>&quot;LBY&quot;</td><td>&quot;MENA&quot;</td><td>13</td><td>173</td><td>2.63</td><td>38.0</td><td>95.5</td></tr><tr><td>&quot;Yemen&quot;</td><td>&quot;YEM&quot;</td><td>&quot;MENA&quot;</td><td>13</td><td>173</td><td>1.72</td><td>38.0</td><td>95.5</td></tr><tr><td>&quot;Syria&quot;</td><td>&quot;SYR&quot;</td><td>&quot;MENA&quot;</td><td>12</td><td>177</td><td>1.83</td><td>38.0</td><td>95.5</td></tr><tr><td>&quot;Venezuela&quot;</td><td>&quot;VEN&quot;</td><td>&quot;AME&quot;</td><td>10</td><td>178</td><td>1.27</td><td>39.0</td><td>92.0</td></tr><tr><td>&quot;Somalia&quot;</td><td>&quot;SOM&quot;</td><td>&quot;SSA&quot;</td><td>9</td><td>179</td><td>2.3</td><td>31.0</td><td>127.0</td></tr><tr><td>&quot;South Sudan&quot;</td><td>&quot;SSD&quot;</td><td>&quot;SSA&quot;</td><td>8</td><td>180</td><td>2.09</td><td>31.0</td><td>127.0</td></tr></tbody></table></div>"
      ],
      "text/plain": [
       "shape: (180, 8)\n",
       "┌───────────────────┬──────┬────────┬──────────┬───────────┬──────────────┬─────────┬──────────────┐\n",
       "│ COUNTRY           ┆ ISO3 ┆ REGION ┆ CPI_2024 ┆ RANK_2024 ┆ STD_ERR_2024 ┆ REG_MED ┆ REG_RANK_MED │\n",
       "│ ---               ┆ ---  ┆ ---    ┆ ---      ┆ ---       ┆ ---          ┆ ---     ┆ ---          │\n",
       "│ str               ┆ str  ┆ str    ┆ i64      ┆ i64       ┆ f64          ┆ f64     ┆ f64          │\n",
       "╞═══════════════════╪══════╪════════╪══════════╪═══════════╪══════════════╪═════════╪══════════════╡\n",
       "│ Denmark           ┆ DNK  ┆ WE/EU  ┆ 90       ┆ 1         ┆ 1.98         ┆ 63.0    ┆ 32.0         │\n",
       "│ Finland           ┆ FIN  ┆ WE/EU  ┆ 88       ┆ 2         ┆ 1.83         ┆ 63.0    ┆ 32.0         │\n",
       "│ Singapore         ┆ SGP  ┆ AP     ┆ 84       ┆ 3         ┆ 1.48         ┆ 38.0    ┆ 96.0         │\n",
       "│ New Zealand       ┆ NZL  ┆ AP     ┆ 83       ┆ 4         ┆ 1.77         ┆ 38.0    ┆ 96.0         │\n",
       "│ Luxembourg        ┆ LUX  ┆ WE/EU  ┆ 81       ┆ 5         ┆ 2.0          ┆ 63.0    ┆ 32.0         │\n",
       "│ Norway            ┆ NOR  ┆ WE/EU  ┆ 81       ┆ 5         ┆ 1.65         ┆ 63.0    ┆ 32.0         │\n",
       "│ Switzerland       ┆ CHE  ┆ WE/EU  ┆ 81       ┆ 5         ┆ 1.81         ┆ 63.0    ┆ 32.0         │\n",
       "│ Sweden            ┆ SWE  ┆ WE/EU  ┆ 80       ┆ 8         ┆ 2.48         ┆ 63.0    ┆ 32.0         │\n",
       "│ Netherlands       ┆ NLD  ┆ WE/EU  ┆ 78       ┆ 9         ┆ 2.34         ┆ 63.0    ┆ 32.0         │\n",
       "│ Australia         ┆ AUS  ┆ AP     ┆ 77       ┆ 10        ┆ 1.67         ┆ 38.0    ┆ 96.0         │\n",
       "│ Iceland           ┆ ISL  ┆ WE/EU  ┆ 77       ┆ 10        ┆ 2.6          ┆ 63.0    ┆ 32.0         │\n",
       "│ Ireland           ┆ IRL  ┆ WE/EU  ┆ 77       ┆ 10        ┆ 1.55         ┆ 63.0    ┆ 32.0         │\n",
       "│ Estonia           ┆ EST  ┆ WE/EU  ┆ 76       ┆ 13        ┆ 1.09         ┆ 63.0    ┆ 32.0         │\n",
       "│ Uruguay           ┆ URY  ┆ AME    ┆ 76       ┆ 13        ┆ 1.46         ┆ 39.0    ┆ 92.0         │\n",
       "│ Canada            ┆ CAN  ┆ AME    ┆ 75       ┆ 15        ┆ 1.95         ┆ 39.0    ┆ 92.0         │\n",
       "│ …                 ┆ …    ┆ …      ┆ …        ┆ …         ┆ …            ┆ …       ┆ …            │\n",
       "│ Burundi           ┆ BDI  ┆ SSA    ┆ 17       ┆ 165       ┆ 3.37         ┆ 31.0    ┆ 127.0        │\n",
       "│ Turkmenistan      ┆ TKM  ┆ ECA    ┆ 17       ┆ 165       ┆ 0.89         ┆ 35.0    ┆ 105.0        │\n",
       "│ Haiti             ┆ HTI  ┆ AME    ┆ 16       ┆ 168       ┆ 2.13         ┆ 39.0    ┆ 92.0         │\n",
       "│ Myanmar           ┆ MMR  ┆ AP     ┆ 16       ┆ 168       ┆ 2.01         ┆ 38.0    ┆ 96.0         │\n",
       "│ Korea, North      ┆ PRK  ┆ AP     ┆ 15       ┆ 170       ┆ 4.12         ┆ 38.0    ┆ 96.0         │\n",
       "│ Sudan             ┆ SDN  ┆ SSA    ┆ 15       ┆ 170       ┆ 1.9          ┆ 31.0    ┆ 127.0        │\n",
       "│ Nicaragua         ┆ NIC  ┆ AME    ┆ 14       ┆ 172       ┆ 1.44         ┆ 39.0    ┆ 92.0         │\n",
       "│ Equatorial Guinea ┆ GNQ  ┆ SSA    ┆ 13       ┆ 173       ┆ 2.54         ┆ 31.0    ┆ 127.0        │\n",
       "│ Eritrea           ┆ ERI  ┆ SSA    ┆ 13       ┆ 173       ┆ 5.51         ┆ 31.0    ┆ 127.0        │\n",
       "│ Libya             ┆ LBY  ┆ MENA   ┆ 13       ┆ 173       ┆ 2.63         ┆ 38.0    ┆ 95.5         │\n",
       "│ Yemen             ┆ YEM  ┆ MENA   ┆ 13       ┆ 173       ┆ 1.72         ┆ 38.0    ┆ 95.5         │\n",
       "│ Syria             ┆ SYR  ┆ MENA   ┆ 12       ┆ 177       ┆ 1.83         ┆ 38.0    ┆ 95.5         │\n",
       "│ Venezuela         ┆ VEN  ┆ AME    ┆ 10       ┆ 178       ┆ 1.27         ┆ 39.0    ┆ 92.0         │\n",
       "│ Somalia           ┆ SOM  ┆ SSA    ┆ 9        ┆ 179       ┆ 2.3          ┆ 31.0    ┆ 127.0        │\n",
       "│ South Sudan       ┆ SSD  ┆ SSA    ┆ 8        ┆ 180       ┆ 2.09         ┆ 31.0    ┆ 127.0        │\n",
       "└───────────────────┴──────┴────────┴──────────┴───────────┴──────────────┴─────────┴──────────────┘"
      ]
     },
     "execution_count": 2,
     "metadata": {},
     "output_type": "execute_result"
    }
   ],
   "source": [
    "df_cpi = (\n",
    "    pl.read_csv('CPI2024.csv')\n",
    "    .select(\n",
    "        COUNTRY = pl.col('Country / Territory'),\n",
    "        ISO3 = pl.col('ISO3'), # no mods to ISO3 column\n",
    "        REGION = pl.col('Region'),\n",
    "        CPI_2024 = pl.col('CPI 2024 score'),\n",
    "        RANK_2024= pl.col('Rank'),\n",
    "        STD_ERR_2024 = pl.col('standard error 2024')\n",
    "    )\n",
    "    .with_columns(\n",
    "        REG_MED = pl.col('CPI_2024').median().over('REGION'),\n",
    "        REG_RANK_MED = pl.col('RANK_2024').median().over('REGION'),\n",
    "    )\n",
    ")\n",
    "print(df_cpi.columns)\n",
    "df_cpi"
   ]
  },
  {
   "cell_type": "code",
   "execution_count": 3,
   "id": "b570e4ff",
   "metadata": {},
   "outputs": [
    {
     "name": "stdout",
     "output_type": "stream",
     "text": [
      "['COUNTRY', 'ISO3', 'YEAR', 'REGION', 'CPI_SCORE', 'RANK', 'STD_ERR', 'COUNTRY_MED', 'REGIONAL_MED']\n"
     ]
    },
    {
     "data": {
      "text/html": [
       "<div><style>\n",
       ".dataframe > thead > tr,\n",
       ".dataframe > tbody > tr {\n",
       "  text-align: right;\n",
       "  white-space: pre-wrap;\n",
       "}\n",
       "</style>\n",
       "<small>shape: (13, 9)</small><table border=\"1\" class=\"dataframe\"><thead><tr><th>COUNTRY</th><th>ISO3</th><th>YEAR</th><th>REGION</th><th>CPI_SCORE</th><th>RANK</th><th>STD_ERR</th><th>COUNTRY_MED</th><th>REGIONAL_MED</th></tr><tr><td>str</td><td>str</td><td>i64</td><td>str</td><td>i64</td><td>i64</td><td>f64</td><td>f64</td><td>f64</td></tr></thead><tbody><tr><td>&quot;Iran&quot;</td><td>&quot;IRN&quot;</td><td>2012</td><td>&quot;MENA&quot;</td><td>28</td><td>133</td><td>4.6</td><td>26.0</td><td>39.0</td></tr><tr><td>&quot;Iran&quot;</td><td>&quot;IRN&quot;</td><td>2013</td><td>&quot;MENA&quot;</td><td>25</td><td>144</td><td>3.9</td><td>26.0</td><td>39.0</td></tr><tr><td>&quot;Iran&quot;</td><td>&quot;IRN&quot;</td><td>2014</td><td>&quot;MENA&quot;</td><td>27</td><td>136</td><td>4.72</td><td>26.0</td><td>39.0</td></tr><tr><td>&quot;Iran&quot;</td><td>&quot;IRN&quot;</td><td>2015</td><td>&quot;MENA&quot;</td><td>27</td><td>130</td><td>3.28</td><td>26.0</td><td>39.0</td></tr><tr><td>&quot;Iran&quot;</td><td>&quot;IRN&quot;</td><td>2016</td><td>&quot;MENA&quot;</td><td>29</td><td>131</td><td>2.47</td><td>26.0</td><td>39.0</td></tr><tr><td>&quot;Iran&quot;</td><td>&quot;IRN&quot;</td><td>2017</td><td>&quot;MENA&quot;</td><td>30</td><td>130</td><td>3.51</td><td>26.0</td><td>39.0</td></tr><tr><td>&quot;Iran&quot;</td><td>&quot;IRN&quot;</td><td>2018</td><td>&quot;MENA&quot;</td><td>28</td><td>138</td><td>2.89</td><td>26.0</td><td>39.0</td></tr><tr><td>&quot;Iran&quot;</td><td>&quot;IRN&quot;</td><td>2019</td><td>&quot;MENA&quot;</td><td>26</td><td>146</td><td>3.63</td><td>26.0</td><td>39.0</td></tr><tr><td>&quot;Iran&quot;</td><td>&quot;IRN&quot;</td><td>2020</td><td>&quot;MENA&quot;</td><td>25</td><td>149</td><td>2.56</td><td>26.0</td><td>39.0</td></tr><tr><td>&quot;Iran&quot;</td><td>&quot;IRN&quot;</td><td>2021</td><td>&quot;MENA&quot;</td><td>25</td><td>150</td><td>2.29</td><td>26.0</td><td>39.0</td></tr><tr><td>&quot;Iran&quot;</td><td>&quot;IRN&quot;</td><td>2022</td><td>&quot;MENA&quot;</td><td>25</td><td>147</td><td>2.32</td><td>26.0</td><td>39.0</td></tr><tr><td>&quot;Iran&quot;</td><td>&quot;IRN&quot;</td><td>2023</td><td>&quot;MENA&quot;</td><td>24</td><td>149</td><td>2.63</td><td>26.0</td><td>39.0</td></tr><tr><td>&quot;Iran&quot;</td><td>&quot;IRN&quot;</td><td>2024</td><td>&quot;MENA&quot;</td><td>23</td><td>151</td><td>2.22</td><td>26.0</td><td>39.0</td></tr></tbody></table></div>"
      ],
      "text/plain": [
       "shape: (13, 9)\n",
       "┌─────────┬──────┬──────┬────────┬───┬──────┬─────────┬─────────────┬──────────────┐\n",
       "│ COUNTRY ┆ ISO3 ┆ YEAR ┆ REGION ┆ … ┆ RANK ┆ STD_ERR ┆ COUNTRY_MED ┆ REGIONAL_MED │\n",
       "│ ---     ┆ ---  ┆ ---  ┆ ---    ┆   ┆ ---  ┆ ---     ┆ ---         ┆ ---          │\n",
       "│ str     ┆ str  ┆ i64  ┆ str    ┆   ┆ i64  ┆ f64     ┆ f64         ┆ f64          │\n",
       "╞═════════╪══════╪══════╪════════╪═══╪══════╪═════════╪═════════════╪══════════════╡\n",
       "│ Iran    ┆ IRN  ┆ 2012 ┆ MENA   ┆ … ┆ 133  ┆ 4.6     ┆ 26.0        ┆ 39.0         │\n",
       "│ Iran    ┆ IRN  ┆ 2013 ┆ MENA   ┆ … ┆ 144  ┆ 3.9     ┆ 26.0        ┆ 39.0         │\n",
       "│ Iran    ┆ IRN  ┆ 2014 ┆ MENA   ┆ … ┆ 136  ┆ 4.72    ┆ 26.0        ┆ 39.0         │\n",
       "│ Iran    ┆ IRN  ┆ 2015 ┆ MENA   ┆ … ┆ 130  ┆ 3.28    ┆ 26.0        ┆ 39.0         │\n",
       "│ Iran    ┆ IRN  ┆ 2016 ┆ MENA   ┆ … ┆ 131  ┆ 2.47    ┆ 26.0        ┆ 39.0         │\n",
       "│ Iran    ┆ IRN  ┆ 2017 ┆ MENA   ┆ … ┆ 130  ┆ 3.51    ┆ 26.0        ┆ 39.0         │\n",
       "│ Iran    ┆ IRN  ┆ 2018 ┆ MENA   ┆ … ┆ 138  ┆ 2.89    ┆ 26.0        ┆ 39.0         │\n",
       "│ Iran    ┆ IRN  ┆ 2019 ┆ MENA   ┆ … ┆ 146  ┆ 3.63    ┆ 26.0        ┆ 39.0         │\n",
       "│ Iran    ┆ IRN  ┆ 2020 ┆ MENA   ┆ … ┆ 149  ┆ 2.56    ┆ 26.0        ┆ 39.0         │\n",
       "│ Iran    ┆ IRN  ┆ 2021 ┆ MENA   ┆ … ┆ 150  ┆ 2.29    ┆ 26.0        ┆ 39.0         │\n",
       "│ Iran    ┆ IRN  ┆ 2022 ┆ MENA   ┆ … ┆ 147  ┆ 2.32    ┆ 26.0        ┆ 39.0         │\n",
       "│ Iran    ┆ IRN  ┆ 2023 ┆ MENA   ┆ … ┆ 149  ┆ 2.63    ┆ 26.0        ┆ 39.0         │\n",
       "│ Iran    ┆ IRN  ┆ 2024 ┆ MENA   ┆ … ┆ 151  ┆ 2.22    ┆ 26.0        ┆ 39.0         │\n",
       "└─────────┴──────┴──────┴────────┴───┴──────┴─────────┴─────────────┴──────────────┘"
      ]
     },
     "execution_count": 3,
     "metadata": {},
     "output_type": "execute_result"
    }
   ],
   "source": [
    "df_historical = (\n",
    "    pl.read_csv('CPI-historical.csv')\n",
    "    .select(\n",
    "        COUNTRY = pl.col('Country / Territory'),\n",
    "        ISO3 = pl.col('ISO3'), # no mods to ISO3 column\n",
    "        YEAR = pl.col('Year'),\n",
    "        REGION = pl.col('Region'),\n",
    "        CPI_SCORE = pl.col('CPI score'),\n",
    "        RANK= pl.col('Rank'),\n",
    "        STD_ERR = pl.col('Standard error')\n",
    "    )\n",
    "    .with_columns(\n",
    "        COUNTRY_MED = pl.col('CPI_SCORE').median().over('COUNTRY'),\n",
    "        REGIONAL_MED = pl.col('CPI_SCORE').median().over('REGION'),\n",
    "    )\n",
    ")\n",
    "print(df_historical.columns)\n",
    "df_historical.filter(pl.col('COUNTRY') == 'Iran')"
   ]
  },
  {
   "cell_type": "code",
   "execution_count": 4,
   "id": "ab70b7ba",
   "metadata": {},
   "outputs": [
    {
     "data": {
      "text/html": [
       "<div><style>\n",
       ".dataframe > thead > tr,\n",
       ".dataframe > tbody > tr {\n",
       "  text-align: right;\n",
       "  white-space: pre-wrap;\n",
       "}\n",
       "</style>\n",
       "<small>shape: (6, 2)</small><table border=\"1\" class=\"dataframe\"><thead><tr><th>REGION</th><th>count</th></tr><tr><td>str</td><td>u32</td></tr></thead><tbody><tr><td>&quot;MENA&quot;</td><td>234</td></tr><tr><td>&quot;SSA&quot;</td><td>630</td></tr><tr><td>&quot;AP&quot;</td><td>388</td></tr><tr><td>&quot;AME&quot;</td><td>410</td></tr><tr><td>&quot;ECA&quot;</td><td>247</td></tr><tr><td>&quot;WE/EU&quot;</td><td>403</td></tr></tbody></table></div>"
      ],
      "text/plain": [
       "shape: (6, 2)\n",
       "┌────────┬───────┐\n",
       "│ REGION ┆ count │\n",
       "│ ---    ┆ ---   │\n",
       "│ str    ┆ u32   │\n",
       "╞════════╪═══════╡\n",
       "│ MENA   ┆ 234   │\n",
       "│ SSA    ┆ 630   │\n",
       "│ AP     ┆ 388   │\n",
       "│ AME    ┆ 410   │\n",
       "│ ECA    ┆ 247   │\n",
       "│ WE/EU  ┆ 403   │\n",
       "└────────┴───────┘"
      ]
     },
     "execution_count": 4,
     "metadata": {},
     "output_type": "execute_result"
    }
   ],
   "source": [
    "df_historical['REGION'].value_counts() #.sort('Year')"
   ]
  },
  {
   "cell_type": "code",
   "execution_count": 14,
   "id": "d1fcf1c5",
   "metadata": {},
   "outputs": [
    {
     "data": {
      "text/plain": [
       "{'Korea, North', 'Korea, South', 'United States'}"
      ]
     },
     "execution_count": 14,
     "metadata": {},
     "output_type": "execute_result"
    }
   ],
   "source": [
    "(\n",
    "    set(df_cpi['COUNTRY']) - \n",
    "    set(df_historical['COUNTRY'])\n",
    ")"
   ]
  },
  {
   "cell_type": "code",
   "execution_count": 15,
   "id": "27d93f6f",
   "metadata": {},
   "outputs": [
    {
     "data": {
      "text/plain": [
       "{'Brunei Darussalam',\n",
       " 'North Korea',\n",
       " 'Puerto Rico',\n",
       " 'South Korea',\n",
       " 'United States of America'}"
      ]
     },
     "execution_count": 15,
     "metadata": {},
     "output_type": "execute_result"
    }
   ],
   "source": [
    "(\n",
    "    set(df_historical['COUNTRY']) - \n",
    "    set(df_cpi['COUNTRY'])\n",
    ")"
   ]
  },
  {
   "cell_type": "code",
   "execution_count": 6,
   "id": "5c49ebfa",
   "metadata": {},
   "outputs": [
    {
     "data": {
      "text/plain": [
       "[400, 500, 600, 700, 800, 900]"
      ]
     },
     "execution_count": 6,
     "metadata": {},
     "output_type": "execute_result"
    }
   ],
   "source": [
    "[t for t in range(400, 1000, 100)]"
   ]
  },
  {
   "cell_type": "code",
   "execution_count": 7,
   "id": "78c58976",
   "metadata": {},
   "outputs": [
    {
     "data": {
      "text/plain": [
       "[1000, 2000, 3000, 4000, 5000, 6000, 7000, 8000, 9000, 10000]"
      ]
     },
     "execution_count": 7,
     "metadata": {},
     "output_type": "execute_result"
    }
   ],
   "source": [
    "[t for t in range(1000, 11000, 1000)]"
   ]
  },
  {
   "cell_type": "code",
   "execution_count": 8,
   "id": "d858a8f8",
   "metadata": {},
   "outputs": [
    {
     "data": {
      "text/plain": [
       "[400,\n",
       " 500,\n",
       " 600,\n",
       " 700,\n",
       " 800,\n",
       " 900,\n",
       " 1000,\n",
       " 2000,\n",
       " 3000,\n",
       " 4000,\n",
       " 5000,\n",
       " 6000,\n",
       " 7000,\n",
       " 8000,\n",
       " 9000,\n",
       " 10000]"
      ]
     },
     "execution_count": 8,
     "metadata": {},
     "output_type": "execute_result"
    }
   ],
   "source": [
    "[t for t in range(400, 1000, 100)] +  [t for t in range(1000, 11000, 1000)]"
   ]
  }
 ],
 "metadata": {
  "kernelspec": {
   "display_name": "Python 3",
   "language": "python",
   "name": "python3"
  },
  "language_info": {
   "codemirror_mode": {
    "name": "ipython",
    "version": 3
   },
   "file_extension": ".py",
   "mimetype": "text/x-python",
   "name": "python",
   "nbconvert_exporter": "python",
   "pygments_lexer": "ipython3",
   "version": "3.13.5"
  }
 },
 "nbformat": 4,
 "nbformat_minor": 5
}
