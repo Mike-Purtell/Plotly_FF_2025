{
 "cells": [
  {
   "cell_type": "code",
   "execution_count": 1,
   "id": "4bd90764",
   "metadata": {},
   "outputs": [
    {
     "name": "stdout",
     "output_type": "stream",
     "text": [
      "reading dataset from parquet file\n",
      "shape: (10_446, 8)\n",
      "┌───────────┬────────────┬────────────┬───────────┬──────────┬────────────┬────────────┬───────────┐\n",
      "│ ID        ┆ DATE       ┆ LON        ┆ LAT       ┆ PASSAGES ┆ PASSAGES_B ┆ LOC        ┆ NEARBY    │\n",
      "│ ---       ┆ ---        ┆ ---        ┆ ---       ┆ ---      ┆ Y_ID       ┆ ---        ┆ ---       │\n",
      "│ u32       ┆ date       ┆ f64        ┆ f64       ┆ u16      ┆ ---        ┆ str        ┆ str       │\n",
      "│           ┆            ┆            ┆           ┆          ┆ u32        ┆            ┆           │\n",
      "╞═══════════╪════════════╪════════════╪═══════════╪══════════╪════════════╪════════════╪═══════════╡\n",
      "│ 100001753 ┆ 2024-01-01 ┆ -73.544424 ┆ 45.530216 ┆ 65       ┆ 188124     ┆ Rue        ┆ Rue Notre │\n",
      "│           ┆            ┆            ┆           ┆          ┆            ┆ Notre-Dame ┆ -Dame     │\n",
      "│           ┆            ┆            ┆           ┆          ┆            ┆ Est, Ville ┆ Est, Vill │\n",
      "│           ┆            ┆            ┆           ┆          ┆            ┆ -Mari…     ┆ e-Mari…   │\n",
      "│ 100001753 ┆ 2024-01-02 ┆ -73.544424 ┆ 45.530216 ┆ 83       ┆ 188124     ┆ Rue        ┆ Rue Notre │\n",
      "│           ┆            ┆            ┆           ┆          ┆            ┆ Notre-Dame ┆ -Dame     │\n",
      "│           ┆            ┆            ┆           ┆          ┆            ┆ Est, Ville ┆ Est, Vill │\n",
      "│           ┆            ┆            ┆           ┆          ┆            ┆ -Mari…     ┆ e-Mari…   │\n",
      "│ 100001753 ┆ 2024-01-03 ┆ -73.544424 ┆ 45.530216 ┆ 137      ┆ 188124     ┆ Rue        ┆ Rue Notre │\n",
      "│           ┆            ┆            ┆           ┆          ┆            ┆ Notre-Dame ┆ -Dame     │\n",
      "│           ┆            ┆            ┆           ┆          ┆            ┆ Est, Ville ┆ Est, Vill │\n",
      "│           ┆            ┆            ┆           ┆          ┆            ┆ -Mari…     ┆ e-Mari…   │\n",
      "│ 100001753 ┆ 2024-01-04 ┆ -73.544424 ┆ 45.530216 ┆ 120      ┆ 188124     ┆ Rue        ┆ Rue Notre │\n",
      "│           ┆            ┆            ┆           ┆          ┆            ┆ Notre-Dame ┆ -Dame     │\n",
      "│           ┆            ┆            ┆           ┆          ┆            ┆ Est, Ville ┆ Est, Vill │\n",
      "│           ┆            ┆            ┆           ┆          ┆            ┆ -Mari…     ┆ e-Mari…   │\n",
      "│ 100001753 ┆ 2024-01-05 ┆ -73.544424 ┆ 45.530216 ┆ 90       ┆ 188124     ┆ Rue        ┆ Rue Notre │\n",
      "│           ┆            ┆            ┆           ┆          ┆            ┆ Notre-Dame ┆ -Dame     │\n",
      "│           ┆            ┆            ┆           ┆          ┆            ┆ Est, Ville ┆ Est, Vill │\n",
      "│           ┆            ┆            ┆           ┆          ┆            ┆ -Mari…     ┆ e-Mari…   │\n",
      "│ …         ┆ …          ┆ …          ┆ …         ┆ …        ┆ …          ┆ …          ┆ …         │\n",
      "│ 300028650 ┆ 2024-08-05 ┆ -73.618385 ┆ 45.547048 ┆ 918      ┆ 179593     ┆ Rue        ┆ Rue de    │\n",
      "│           ┆            ┆            ┆           ┆          ┆            ┆ Villeray   ┆ Normanvil │\n",
      "│           ┆            ┆            ┆           ┆          ┆            ┆            ┆ le        │\n",
      "│ 300028650 ┆ 2024-08-06 ┆ -73.618385 ┆ 45.547048 ┆ 1804     ┆ 179593     ┆ Rue        ┆ Rue de    │\n",
      "│           ┆            ┆            ┆           ┆          ┆            ┆ Villeray   ┆ Normanvil │\n",
      "│           ┆            ┆            ┆           ┆          ┆            ┆            ┆ le        │\n",
      "│ 300028650 ┆ 2024-08-07 ┆ -73.618385 ┆ 45.547048 ┆ 1994     ┆ 179593     ┆ Rue        ┆ Rue de    │\n",
      "│           ┆            ┆            ┆           ┆          ┆            ┆ Villeray   ┆ Normanvil │\n",
      "│           ┆            ┆            ┆           ┆          ┆            ┆            ┆ le        │\n",
      "│ 300028650 ┆ 2024-08-08 ┆ -73.618385 ┆ 45.547048 ┆ 1719     ┆ 179593     ┆ Rue        ┆ Rue de    │\n",
      "│           ┆            ┆            ┆           ┆          ┆            ┆ Villeray   ┆ Normanvil │\n",
      "│           ┆            ┆            ┆           ┆          ┆            ┆            ┆ le        │\n",
      "│ 300028650 ┆ 2024-08-09 ┆ -73.618385 ┆ 45.547048 ┆ 218      ┆ 179593     ┆ Rue        ┆ Rue de    │\n",
      "│           ┆            ┆            ┆           ┆          ┆            ┆ Villeray   ┆ Normanvil │\n",
      "│           ┆            ┆            ┆           ┆          ┆            ┆            ┆ le        │\n",
      "└───────────┴────────────┴────────────┴───────────┴──────────┴────────────┴────────────┴───────────┘\n"
     ]
    },
    {
     "data": {
      "application/vnd.plotly.v1+json": {
       "config": {
        "plotlyServerURL": "https://plot.ly"
       },
       "data": [
        {
         "customdata": [
          [
           "Avenue Sainte-Croix",
           "Cégep de Saint-Laurent",
           28107,
           100053055
          ],
          [
           "Rue Saint-Denis, Rue Rachel",
           "Rue Saint-Denis, Rue Rachel",
           396902,
           300014996
          ],
          [
           "Rue de Louvain Est",
           "Av Christophe Columb",
           1834,
           100035409
          ],
          [
           "Rue Lajeunesse",
           "Rue Sauve",
           158646,
           300014993
          ],
          [
           "McGill  University",
           "McGill University",
           359384,
           100017441
          ],
          [
           "8239 Avenue Souligny",
           "8239 Avenue Souligny",
           72326,
           100053210
          ],
          [
           "Rue Rachel Est, Ave Papineau",
           "Le Plateau-Mont Royal",
           646746,
           100003034
          ],
          [
           "ETS (École de technologie supérieure)",
           "Griffintown",
           228936,
           300022314
          ],
          [
           "Rue Cloutier, Mile-End",
           "Plotly HQ",
           636775,
           100025474
          ],
          [
           "Écocentre",
           "La Petite-Patrie",
           253512,
           100052603
          ],
          [
           "Avenue Pierre-Dupuy, Parc de Dieppe",
           null,
           119731,
           100003040
          ],
          [
           "7716 Avenue Querbes",
           "7716 Avenue Querbes",
           12,
           100057051
          ],
          [
           "Avenue Bennett",
           "Ovila-Pelletier Park",
           107070,
           100052606
          ],
          [
           "Avenue Laurier Est",
           "Greenpeace Canada",
           403444,
           100007390
          ],
          [
           "Rue Villeray",
           "Rue de Normanville",
           179593,
           300028650
          ],
          [
           "CLSC de Rosemont",
           "CLSC de Rosemont",
           394245,
           100052600
          ],
          [
           "Rue Rachel Est, Ave Charlemagne, Rosemont",
           "Rosemont",
           114456,
           100055268
          ],
          [
           "Rue de Bellechasse",
           "Ukraine Park",
           144455,
           300014916
          ],
          [
           "7293 Rue Saint-Denis",
           "Villeray",
           245674,
           300020817
          ],
          [
           "1460 Boulevard De Maisonneuve Est",
           "1460 Boulevard De Maisonneuve Est",
           303029,
           100056188
          ],
          [
           "Rue Basile-Routhier, Parcours Gouin reception pavilion",
           "Parcours Gouin reception pavilion",
           198088,
           100041114
          ],
          [
           "1851 Avenue Valois",
           "1851 Avenue Valois",
           39917,
           100053059
          ],
          [
           "Autoroute Ville-Marie ",
           "Place-d'Armes",
           122838,
           100047030
          ],
          [
           "Rue Saint-Denis, Mile-End",
           "Plotly HQ",
           504749,
           300014985
          ],
          [
           "Rue Berri",
           "Shaare Zion Cemetery",
           97170,
           300014994
          ],
          [
           "1669 Rue Berri",
           "Poste de police SPVM",
           700592,
           100003032
          ],
          [
           "Avenue Greene",
           "Square Greene",
           265337,
           300020478
          ],
          [
           "Chemin de la Côte-Sainte-Catherine",
           "Jardins collectifs du parc Beaubien",
           280458,
           100003041
          ],
          [
           "159 Rue Rachel Est",
           "Le Plateau-Mont Royal",
           427615,
           100012217
          ],
          [
           "Rue Saint-Antoine Ouest",
           "Parc de La Presse",
           62740,
           100011747
          ],
          [
           "Rue Saint-Urbain",
           "Le Plateau-Mont Royal",
           156909,
           100017523
          ],
          [
           "2115 Boulevard De Maisonneuve Ouest",
           null,
           199200,
           100011783
          ],
          [
           "4262 Rue de Brebeuf",
           "Ma Poule Mouillée (Excellent Chicken)",
           134629,
           100004575
          ],
          [
           "Pont A25",
           "Pont Olivier-Charbonneau",
           54364,
           300021685
          ],
          [
           "Rue Saint-Denis, Rue des Carrieres",
           "Plotly HQ",
           447659,
           300014986
          ],
          [
           "Mont Royal",
           " Sentier entrée du cimetière",
           58450,
           100053209
          ],
          [
           "7433 Rue Boyer",
           "Villeray",
           127976,
           100035408
          ],
          [
           "Rue Saint-Denis, Ave Duluth",
           "Le Plateau-Mont Royal",
           409999,
           300014995
          ],
          [
           "Avenue du Parc",
           "Monument to Sir George-Étienne Cartier",
           339726,
           100003042
          ],
          [
           "5221 Boulevard De Maisonneuve Ouest",
           "McGill Health Center",
           35605,
           100057053
          ],
          [
           "Rue Notre-Dame Est, Ville-Marie",
           "Rue Notre-Dame Est, Ville-Marie",
           188124,
           100001753
          ],
          [
           "5702 Rue Boyer",
           "La Petite-Patrie",
           101592,
           100012218
          ],
          [
           "Boulevard Maurice-Duplessis",
           "Bd Maurice-Duplessis",
           872,
           100057050
          ],
          [
           "Route 138",
           "Prairies River Bridge",
           47535,
           100052602
          ],
          [
           "Rue Notre-Dame Est",
           "Rue Liebert",
           74317,
           100052605
          ],
          [
           "16e Avenue",
           "16e Avenue",
           53123,
           100054073
          ],
          [
           "7293 Rue Saint-Denis",
           "Villeray",
           288618,
           300020816
          ],
          [
           "1111 Rue de Bellechasse",
           " La Petite-Patrie",
           563878,
           300020679
          ],
          [
           "1150 Boulevard René-Lévesque",
           "1150 Boulevard René-Lévesque",
           46895,
           100011748
          ],
          [
           "1515, Chemin Remembrance",
           "Cimetière Notre Dame GP",
           53668,
           100054585
          ]
         ],
         "hovertemplate": "Location: %{customdata[0]}<br>Nearby: %{customdata[1]}<br>Passages: %{customdata[2]:,d}<br>ID: %{customdata[3]}<br><extra></extra>",
         "lat": {
          "bdata": "8v8Iw4DBRkCnmU+OxMJGQP//VrJjx0ZAT4T9LJbGRkDhu7j/yMBGQCPq4ZE6zEZAXFhjs+XDRkDje/bOaL9GQOE3IJaPw0ZAJXLZWl/ERkAvP4idKcBGQDTA+Gncw0ZA0UAV/gzHRkBL0WsIjsNGQDeyOqsFxkZAu/fWFIrFRkCVF/zj3cZGQHr/aWUZx0ZAfXwkl//ERkBxWZ0Nu8JGQKnpJjBfx0ZAEgD0+/7FRkCsaTLixMBGQDSAjevfw0ZAPsPQsYPGRkD/zapdE8JGQB+/2LRSvkZAc1BCPujBRkDAMn3ogsJGQBPEzMzMwEZAb1ANiXvCRkD+/1cdObxGQOluKv2Ew0ZAyz/t8NfQRkATdxZK6MNGQBEcP1QawUZAHfdXHJDFRkDDpT9sq8JGQAWBONbFwUZAMfvwZaK8RkDx8S0e3sNGQBLAqKROxEZAx+kwX17URkDKJdjwttlGQAhBWFTEy0ZA7r6OccXHRkBrfCSX/8RGQEBN46WbxEZAuYPmASzCRkD9S/CGNMBGQA==",
          "dtype": "f8"
         },
         "legendgroup": "",
         "lon": {
          "bdata": "opdMvgprUsB+RZU4/GRSwKs/2jhiaVLAxMQcD+xpUsDvL9gN22RSwHm01chOYVLAqnrmV3NkUsAm6DiUB2RSwLJgxGCZZlLAg/Y0h9plUsDmawqd12JSwEmMJ4NIaFLAhAf89ntiUsDCIBtqr2VSwC4VrJ2TZ1LAvvazQPZjUsD+G2SSkWNSwLel7c8vZVLArf5OzHpnUsCozktBjWNSwCOHGQ4Wa1LAxO6bcbZiUsAy8lGE0GNSwH6ywZo0ZlLALN3/IgNqUsCarlKzB2RSwGug0xq5ZVLAtbjsWeFmUsCWauXQImVSwOnJFrqyY1LA7WgdpKxlUsC76TAaA2dSwBVVrKjBZFLAT5E+dEFnUsBGoCUiN2ZSwECkh6HVZVLAileDuHdnUsB2zhOg3WRSwGAQuHU3ZVLAjQiyC7ZmUsB5eDrZ12JSwGYkN8MNZlLAy+XcBbhiUsAvXX2X7V5SwMRZU+yjYFLAHUAE9MxlUsAxhV2iemdSwOY7PL1SZlLAjy0wZHVjUsAgzPeMRGZSwA==",
          "dtype": "f8"
         },
         "marker": {
          "color": {
           "bdata": "y20AAGYOBgAqBwAAtmsCANh7BQCGGgEAWt4JAEh+AwBntwkASN4DALPTAQAMAAAAPqIBAPQnBgCJvQIABQQGABi/AQBHNAIAqr8DALWfBADIBQMA7ZsAANbfAQCtswcAknsBALCwCgB5DAQAikcEAF+GBgAU9QAA7WQCACAKAwDlDQIAXNQAAKvUBgBS5AAA6PMBAI9BBgAOLwUAFYsAANzeAgDYjAEAaAMAAK+5AABNIgEAg88AAGpnBACmmggAL7cAAKTRAAA=",
           "dtype": "u4"
          },
          "coloraxis": "coloraxis",
          "opacity": 0.75,
          "size": {
           "bdata": "y20AAGYOBgAqBwAAtmsCANh7BQCGGgEAWt4JAEh+AwBntwkASN4DALPTAQAMAAAAPqIBAPQnBgCJvQIABQQGABi/AQBHNAIAqr8DALWfBADIBQMA7ZsAANbfAQCtswcAknsBALCwCgB5DAQAikcEAF+GBgAU9QAA7WQCACAKAwDlDQIAXNQAAKvUBgBS5AAA6PMBAI9BBgAOLwUAFYsAANzeAgDYjAEAaAMAAK+5AABNIgEAg88AAGpnBACmmggAL7cAAKTRAAA=",
           "dtype": "u4"
          },
          "sizemode": "area",
          "sizeref": 1751.48
         },
         "mode": "markers",
         "name": "",
         "showlegend": false,
         "subplot": "map",
         "type": "scattermap"
        }
       ],
       "layout": {
        "coloraxis": {
         "colorbar": {
          "title": {
           "text": "PASSAGES_BY_ID"
          }
         },
         "colorscale": [
          [
           0,
           "#0d0887"
          ],
          [
           0.1111111111111111,
           "#46039f"
          ],
          [
           0.2222222222222222,
           "#7201a8"
          ],
          [
           0.3333333333333333,
           "#9c179e"
          ],
          [
           0.4444444444444444,
           "#bd3786"
          ],
          [
           0.5555555555555556,
           "#d8576b"
          ],
          [
           0.6666666666666666,
           "#ed7953"
          ],
          [
           0.7777777777777778,
           "#fb9f3a"
          ],
          [
           0.8888888888888888,
           "#fdca26"
          ],
          [
           1,
           "#f0f921"
          ]
         ],
         "showscale": false
        },
        "legend": {
         "itemsizing": "constant",
         "tracegroupgap": 0
        },
        "map": {
         "center": {
          "lat": 45.58569420505026,
          "lon": -73.57823629253166
         },
         "domain": {
          "x": [
           0,
           1
          ],
          "y": [
           0,
           1
          ]
         },
         "style": "open-street-map",
         "zoom": 9
        },
        "mapbox": {
         "center": {
          "lat": 45.58569420505026,
          "lon": -73.57823629253166
         },
         "style": "open-street-map",
         "zoom": 9
        },
        "margin": {
         "t": 60
        },
        "template": {
         "data": {
          "bar": [
           {
            "error_x": {
             "color": "#2a3f5f"
            },
            "error_y": {
             "color": "#2a3f5f"
            },
            "marker": {
             "line": {
              "color": "#E5ECF6",
              "width": 0.5
             },
             "pattern": {
              "fillmode": "overlay",
              "size": 10,
              "solidity": 0.2
             }
            },
            "type": "bar"
           }
          ],
          "barpolar": [
           {
            "marker": {
             "line": {
              "color": "#E5ECF6",
              "width": 0.5
             },
             "pattern": {
              "fillmode": "overlay",
              "size": 10,
              "solidity": 0.2
             }
            },
            "type": "barpolar"
           }
          ],
          "carpet": [
           {
            "aaxis": {
             "endlinecolor": "#2a3f5f",
             "gridcolor": "white",
             "linecolor": "white",
             "minorgridcolor": "white",
             "startlinecolor": "#2a3f5f"
            },
            "baxis": {
             "endlinecolor": "#2a3f5f",
             "gridcolor": "white",
             "linecolor": "white",
             "minorgridcolor": "white",
             "startlinecolor": "#2a3f5f"
            },
            "type": "carpet"
           }
          ],
          "choropleth": [
           {
            "colorbar": {
             "outlinewidth": 0,
             "ticks": ""
            },
            "type": "choropleth"
           }
          ],
          "contour": [
           {
            "colorbar": {
             "outlinewidth": 0,
             "ticks": ""
            },
            "colorscale": [
             [
              0,
              "#0d0887"
             ],
             [
              0.1111111111111111,
              "#46039f"
             ],
             [
              0.2222222222222222,
              "#7201a8"
             ],
             [
              0.3333333333333333,
              "#9c179e"
             ],
             [
              0.4444444444444444,
              "#bd3786"
             ],
             [
              0.5555555555555556,
              "#d8576b"
             ],
             [
              0.6666666666666666,
              "#ed7953"
             ],
             [
              0.7777777777777778,
              "#fb9f3a"
             ],
             [
              0.8888888888888888,
              "#fdca26"
             ],
             [
              1,
              "#f0f921"
             ]
            ],
            "type": "contour"
           }
          ],
          "contourcarpet": [
           {
            "colorbar": {
             "outlinewidth": 0,
             "ticks": ""
            },
            "type": "contourcarpet"
           }
          ],
          "heatmap": [
           {
            "colorbar": {
             "outlinewidth": 0,
             "ticks": ""
            },
            "colorscale": [
             [
              0,
              "#0d0887"
             ],
             [
              0.1111111111111111,
              "#46039f"
             ],
             [
              0.2222222222222222,
              "#7201a8"
             ],
             [
              0.3333333333333333,
              "#9c179e"
             ],
             [
              0.4444444444444444,
              "#bd3786"
             ],
             [
              0.5555555555555556,
              "#d8576b"
             ],
             [
              0.6666666666666666,
              "#ed7953"
             ],
             [
              0.7777777777777778,
              "#fb9f3a"
             ],
             [
              0.8888888888888888,
              "#fdca26"
             ],
             [
              1,
              "#f0f921"
             ]
            ],
            "type": "heatmap"
           }
          ],
          "histogram": [
           {
            "marker": {
             "pattern": {
              "fillmode": "overlay",
              "size": 10,
              "solidity": 0.2
             }
            },
            "type": "histogram"
           }
          ],
          "histogram2d": [
           {
            "colorbar": {
             "outlinewidth": 0,
             "ticks": ""
            },
            "colorscale": [
             [
              0,
              "#0d0887"
             ],
             [
              0.1111111111111111,
              "#46039f"
             ],
             [
              0.2222222222222222,
              "#7201a8"
             ],
             [
              0.3333333333333333,
              "#9c179e"
             ],
             [
              0.4444444444444444,
              "#bd3786"
             ],
             [
              0.5555555555555556,
              "#d8576b"
             ],
             [
              0.6666666666666666,
              "#ed7953"
             ],
             [
              0.7777777777777778,
              "#fb9f3a"
             ],
             [
              0.8888888888888888,
              "#fdca26"
             ],
             [
              1,
              "#f0f921"
             ]
            ],
            "type": "histogram2d"
           }
          ],
          "histogram2dcontour": [
           {
            "colorbar": {
             "outlinewidth": 0,
             "ticks": ""
            },
            "colorscale": [
             [
              0,
              "#0d0887"
             ],
             [
              0.1111111111111111,
              "#46039f"
             ],
             [
              0.2222222222222222,
              "#7201a8"
             ],
             [
              0.3333333333333333,
              "#9c179e"
             ],
             [
              0.4444444444444444,
              "#bd3786"
             ],
             [
              0.5555555555555556,
              "#d8576b"
             ],
             [
              0.6666666666666666,
              "#ed7953"
             ],
             [
              0.7777777777777778,
              "#fb9f3a"
             ],
             [
              0.8888888888888888,
              "#fdca26"
             ],
             [
              1,
              "#f0f921"
             ]
            ],
            "type": "histogram2dcontour"
           }
          ],
          "mesh3d": [
           {
            "colorbar": {
             "outlinewidth": 0,
             "ticks": ""
            },
            "type": "mesh3d"
           }
          ],
          "parcoords": [
           {
            "line": {
             "colorbar": {
              "outlinewidth": 0,
              "ticks": ""
             }
            },
            "type": "parcoords"
           }
          ],
          "pie": [
           {
            "automargin": true,
            "type": "pie"
           }
          ],
          "scatter": [
           {
            "fillpattern": {
             "fillmode": "overlay",
             "size": 10,
             "solidity": 0.2
            },
            "type": "scatter"
           }
          ],
          "scatter3d": [
           {
            "line": {
             "colorbar": {
              "outlinewidth": 0,
              "ticks": ""
             }
            },
            "marker": {
             "colorbar": {
              "outlinewidth": 0,
              "ticks": ""
             }
            },
            "type": "scatter3d"
           }
          ],
          "scattercarpet": [
           {
            "marker": {
             "colorbar": {
              "outlinewidth": 0,
              "ticks": ""
             }
            },
            "type": "scattercarpet"
           }
          ],
          "scattergeo": [
           {
            "marker": {
             "colorbar": {
              "outlinewidth": 0,
              "ticks": ""
             }
            },
            "type": "scattergeo"
           }
          ],
          "scattergl": [
           {
            "marker": {
             "colorbar": {
              "outlinewidth": 0,
              "ticks": ""
             }
            },
            "type": "scattergl"
           }
          ],
          "scattermap": [
           {
            "marker": {
             "colorbar": {
              "outlinewidth": 0,
              "ticks": ""
             }
            },
            "type": "scattermap"
           }
          ],
          "scattermapbox": [
           {
            "marker": {
             "colorbar": {
              "outlinewidth": 0,
              "ticks": ""
             }
            },
            "type": "scattermapbox"
           }
          ],
          "scatterpolar": [
           {
            "marker": {
             "colorbar": {
              "outlinewidth": 0,
              "ticks": ""
             }
            },
            "type": "scatterpolar"
           }
          ],
          "scatterpolargl": [
           {
            "marker": {
             "colorbar": {
              "outlinewidth": 0,
              "ticks": ""
             }
            },
            "type": "scatterpolargl"
           }
          ],
          "scatterternary": [
           {
            "marker": {
             "colorbar": {
              "outlinewidth": 0,
              "ticks": ""
             }
            },
            "type": "scatterternary"
           }
          ],
          "surface": [
           {
            "colorbar": {
             "outlinewidth": 0,
             "ticks": ""
            },
            "colorscale": [
             [
              0,
              "#0d0887"
             ],
             [
              0.1111111111111111,
              "#46039f"
             ],
             [
              0.2222222222222222,
              "#7201a8"
             ],
             [
              0.3333333333333333,
              "#9c179e"
             ],
             [
              0.4444444444444444,
              "#bd3786"
             ],
             [
              0.5555555555555556,
              "#d8576b"
             ],
             [
              0.6666666666666666,
              "#ed7953"
             ],
             [
              0.7777777777777778,
              "#fb9f3a"
             ],
             [
              0.8888888888888888,
              "#fdca26"
             ],
             [
              1,
              "#f0f921"
             ]
            ],
            "type": "surface"
           }
          ],
          "table": [
           {
            "cells": {
             "fill": {
              "color": "#EBF0F8"
             },
             "line": {
              "color": "white"
             }
            },
            "header": {
             "fill": {
              "color": "#C8D4E3"
             },
             "line": {
              "color": "white"
             }
            },
            "type": "table"
           }
          ]
         },
         "layout": {
          "annotationdefaults": {
           "arrowcolor": "#2a3f5f",
           "arrowhead": 0,
           "arrowwidth": 1
          },
          "autotypenumbers": "strict",
          "coloraxis": {
           "colorbar": {
            "outlinewidth": 0,
            "ticks": ""
           }
          },
          "colorscale": {
           "diverging": [
            [
             0,
             "#8e0152"
            ],
            [
             0.1,
             "#c51b7d"
            ],
            [
             0.2,
             "#de77ae"
            ],
            [
             0.3,
             "#f1b6da"
            ],
            [
             0.4,
             "#fde0ef"
            ],
            [
             0.5,
             "#f7f7f7"
            ],
            [
             0.6,
             "#e6f5d0"
            ],
            [
             0.7,
             "#b8e186"
            ],
            [
             0.8,
             "#7fbc41"
            ],
            [
             0.9,
             "#4d9221"
            ],
            [
             1,
             "#276419"
            ]
           ],
           "sequential": [
            [
             0,
             "#0d0887"
            ],
            [
             0.1111111111111111,
             "#46039f"
            ],
            [
             0.2222222222222222,
             "#7201a8"
            ],
            [
             0.3333333333333333,
             "#9c179e"
            ],
            [
             0.4444444444444444,
             "#bd3786"
            ],
            [
             0.5555555555555556,
             "#d8576b"
            ],
            [
             0.6666666666666666,
             "#ed7953"
            ],
            [
             0.7777777777777778,
             "#fb9f3a"
            ],
            [
             0.8888888888888888,
             "#fdca26"
            ],
            [
             1,
             "#f0f921"
            ]
           ],
           "sequentialminus": [
            [
             0,
             "#0d0887"
            ],
            [
             0.1111111111111111,
             "#46039f"
            ],
            [
             0.2222222222222222,
             "#7201a8"
            ],
            [
             0.3333333333333333,
             "#9c179e"
            ],
            [
             0.4444444444444444,
             "#bd3786"
            ],
            [
             0.5555555555555556,
             "#d8576b"
            ],
            [
             0.6666666666666666,
             "#ed7953"
            ],
            [
             0.7777777777777778,
             "#fb9f3a"
            ],
            [
             0.8888888888888888,
             "#fdca26"
            ],
            [
             1,
             "#f0f921"
            ]
           ]
          },
          "colorway": [
           "#636efa",
           "#EF553B",
           "#00cc96",
           "#ab63fa",
           "#FFA15A",
           "#19d3f3",
           "#FF6692",
           "#B6E880",
           "#FF97FF",
           "#FECB52"
          ],
          "font": {
           "color": "#2a3f5f"
          },
          "geo": {
           "bgcolor": "white",
           "lakecolor": "white",
           "landcolor": "#E5ECF6",
           "showlakes": true,
           "showland": true,
           "subunitcolor": "white"
          },
          "hoverlabel": {
           "align": "left"
          },
          "hovermode": "closest",
          "mapbox": {
           "style": "light"
          },
          "paper_bgcolor": "white",
          "plot_bgcolor": "#E5ECF6",
          "polar": {
           "angularaxis": {
            "gridcolor": "white",
            "linecolor": "white",
            "ticks": ""
           },
           "bgcolor": "#E5ECF6",
           "radialaxis": {
            "gridcolor": "white",
            "linecolor": "white",
            "ticks": ""
           }
          },
          "scene": {
           "xaxis": {
            "backgroundcolor": "#E5ECF6",
            "gridcolor": "white",
            "gridwidth": 2,
            "linecolor": "white",
            "showbackground": true,
            "ticks": "",
            "zerolinecolor": "white"
           },
           "yaxis": {
            "backgroundcolor": "#E5ECF6",
            "gridcolor": "white",
            "gridwidth": 2,
            "linecolor": "white",
            "showbackground": true,
            "ticks": "",
            "zerolinecolor": "white"
           },
           "zaxis": {
            "backgroundcolor": "#E5ECF6",
            "gridcolor": "white",
            "gridwidth": 2,
            "linecolor": "white",
            "showbackground": true,
            "ticks": "",
            "zerolinecolor": "white"
           }
          },
          "shapedefaults": {
           "line": {
            "color": "#2a3f5f"
           }
          },
          "ternary": {
           "aaxis": {
            "gridcolor": "white",
            "linecolor": "white",
            "ticks": ""
           },
           "baxis": {
            "gridcolor": "white",
            "linecolor": "white",
            "ticks": ""
           },
           "bgcolor": "#E5ECF6",
           "caxis": {
            "gridcolor": "white",
            "linecolor": "white",
            "ticks": ""
           }
          },
          "title": {
           "x": 0.05
          },
          "xaxis": {
           "automargin": true,
           "gridcolor": "white",
           "linecolor": "white",
           "ticks": "",
           "title": {
            "standoff": 15
           },
           "zerolinecolor": "white",
           "zerolinewidth": 2
          },
          "yaxis": {
           "automargin": true,
           "gridcolor": "white",
           "linecolor": "white",
           "ticks": "",
           "title": {
            "standoff": 15
           },
           "zerolinecolor": "white",
           "zerolinewidth": 2
          }
         }
        },
        "title": {
         "text": "Bicycle traffic by location"
        }
       }
      }
     },
     "metadata": {},
     "output_type": "display_data"
    }
   ],
   "source": [
    "import polars as pl\n",
    "import plotly.express as px\n",
    "import os\n",
    "#  Dataset has 10 unique customers & locations, 92 unique customer/locatio pairs\n",
    "#  dropped the HOUR and MINUTE fields, data grouped by ID, DATE, LONG/LAT\n",
    "#----- LOAD AND CLEAN THE DATASET\n",
    "\n",
    "\n",
    "map_styles = [\n",
    "    'basic', 'carto-darkmatter', 'carto-darkmatter-nolabels', 'carto-positron', \n",
    "    'carto-positron-nolabels', 'carto-voyager', 'carto-voyager-nolabels', \n",
    "    'dark', 'light', 'open-street-map', 'outdoors', 'satellite', \n",
    "    'satellite-streets', 'streets', 'white-bg']\n",
    "my_map_style=map_styles[9]\n",
    "\n",
    "df_locations = pl.read_excel('df_locations.xlsx')\n",
    "\n",
    "if 'df.parquet' in os.listdir('.'):\n",
    "    print('reading dataset from parquet file')\n",
    "    df = pl.read_parquet('df.parquet')\n",
    "else:\n",
    "    print('reading dataset from csv file')\n",
    "    df  = (\n",
    "        pl.scan_csv('pistes-cyclables-2024.csv')\n",
    "        .select(\n",
    "            ID = pl.col('id_compteur').cast(pl.UInt32),\n",
    "            DATE = pl.col('date').str.to_date(format='%m/%d/%Y'),\n",
    "            LON = pl.col('longitude').mean().over('id_compteur'),  # east-west location,   X\n",
    "            LAT = pl.col('latitude').mean().over('id_compteur'),   # north-south location, Y\n",
    "            PASSAGES = pl.col('nb_passages'),\n",
    "        )\n",
    "        .filter(pl.col('ID').is_not_null())\n",
    "        .group_by(['ID', 'DATE','LON', 'LAT']).agg(pl.col('PASSAGES').sum())\n",
    "        .with_columns(PASSAGES_BY_ID = pl.col('PASSAGES').sum().over('ID'))\n",
    "        .with_columns(pl.col('PASSAGES').cast(pl.UInt16)) \n",
    "        .with_columns(pl.col('PASSAGES_BY_ID').cast(pl.UInt32)) \n",
    "        .sort(['ID', 'DATE'])\n",
    "        .collect()\n",
    "        .join(\n",
    "            df_locations.select('ID', 'LOC', 'NEARBY'),\n",
    "            on='ID',\n",
    "            how='left'\n",
    "        )\n",
    "    )\n",
    "    df.write_parquet('df.parquet')\n",
    "\n",
    "print(df)\n",
    "# create a dashboard to show:\n",
    "#   slider to filter minimum passages value\n",
    "# # Convert Polars DataFrame to a dictionary for Plotly\n",
    "# heatmap_data = df.to_dict(as_series=False)\n",
    "\n",
    "# Create the scatter map\n",
    "center_lon = 0.5*(df['LON'].min() + df['LON'].max())\n",
    "center_lat = 0.5*(df['LAT'].min() + df['LAT'].max())\n",
    "fig = px.scatter_map(\n",
    "    df.unique('ID'),\n",
    "    lat='LAT', lon='LON',\n",
    "    size='PASSAGES_BY_ID',\n",
    "    color='PASSAGES_BY_ID', \n",
    "    zoom=9,\n",
    "    center={'lat':center_lat, 'lon':center_lon},  \n",
    "    map_style=my_map_style,\n",
    "    opacity=0.75,\n",
    "    custom_data=['LOC', 'NEARBY', 'PASSAGES_BY_ID', 'ID'],\n",
    ")\n",
    "fig.update_traces(\n",
    "    hovertemplate =\n",
    "        'Location: %{customdata[0]}<br>' +\n",
    "        'Nearby: %{customdata[1]}<br>' +\n",
    "        'Passages: %{customdata[2]:,d}<br>' +\n",
    "        'ID: %{customdata[3]}<br>' +\n",
    "        '<extra></extra>'\n",
    ")\n",
    "fig.update_layout(\n",
    "    title=dict(text='Bicycle traffic by location')\n",
    ")\n",
    "fig.update(layout_coloraxis_showscale=False)\n",
    "fig.show()"
   ]
  },
  {
   "cell_type": "code",
   "execution_count": 2,
   "id": "5e7e7138",
   "metadata": {},
   "outputs": [
    {
     "data": {
      "text/html": [
       "<div><style>\n",
       ".dataframe > thead > tr,\n",
       ".dataframe > tbody > tr {\n",
       "  text-align: right;\n",
       "  white-space: pre-wrap;\n",
       "}\n",
       "</style>\n",
       "<small>shape: (50, 2)</small><table border=\"1\" class=\"dataframe\"><thead><tr><th>PASSAGES_BY_ID</th><th>count</th></tr><tr><td>u32</td><td>u32</td></tr></thead><tbody><tr><td>58450</td><td>15</td></tr><tr><td>53668</td><td>78</td></tr><tr><td>35605</td><td>160</td></tr><tr><td>114456</td><td>162</td></tr><tr><td>872</td><td>162</td></tr><tr><td>&hellip;</td><td>&hellip;</td></tr><tr><td>228936</td><td>222</td></tr><tr><td>199200</td><td>222</td></tr><tr><td>62740</td><td>222</td></tr><tr><td>119731</td><td>222</td></tr><tr><td>47535</td><td>222</td></tr></tbody></table></div>"
      ],
      "text/plain": [
       "shape: (50, 2)\n",
       "┌────────────────┬───────┐\n",
       "│ PASSAGES_BY_ID ┆ count │\n",
       "│ ---            ┆ ---   │\n",
       "│ u32            ┆ u32   │\n",
       "╞════════════════╪═══════╡\n",
       "│ 58450          ┆ 15    │\n",
       "│ 53668          ┆ 78    │\n",
       "│ 35605          ┆ 160   │\n",
       "│ 114456         ┆ 162   │\n",
       "│ 872            ┆ 162   │\n",
       "│ …              ┆ …     │\n",
       "│ 228936         ┆ 222   │\n",
       "│ 199200         ┆ 222   │\n",
       "│ 62740          ┆ 222   │\n",
       "│ 119731         ┆ 222   │\n",
       "│ 47535          ┆ 222   │\n",
       "└────────────────┴───────┘"
      ]
     },
     "execution_count": 2,
     "metadata": {},
     "output_type": "execute_result"
    }
   ],
   "source": [
    "df['PASSAGES_BY_ID'].value_counts().sort('count')# .shape"
   ]
  },
  {
   "cell_type": "code",
   "execution_count": 3,
   "id": "9e54c2a2",
   "metadata": {},
   "outputs": [
    {
     "data": {
      "text/html": [
       "<div><style>\n",
       ".dataframe > thead > tr,\n",
       ".dataframe > tbody > tr {\n",
       "  text-align: right;\n",
       "  white-space: pre-wrap;\n",
       "}\n",
       "</style>\n",
       "<small>shape: (26, 3)</small><table border=\"1\" class=\"dataframe\"><thead><tr><th>X</th><th>Y</th><th>Z</th></tr><tr><td>str</td><td>str</td><td>i64</td></tr></thead><tbody><tr><td>&quot;A&quot;</td><td>&quot;65&quot;</td><td>65</td></tr><tr><td>&quot;B&quot;</td><td>&quot;66&quot;</td><td>66</td></tr><tr><td>&quot;C&quot;</td><td>&quot;67&quot;</td><td>67</td></tr><tr><td>&quot;D&quot;</td><td>&quot;68&quot;</td><td>68</td></tr><tr><td>&quot;E&quot;</td><td>&quot;69&quot;</td><td>69</td></tr><tr><td>&hellip;</td><td>&hellip;</td><td>&hellip;</td></tr><tr><td>&quot;V&quot;</td><td>&quot;86&quot;</td><td>86</td></tr><tr><td>&quot;W&quot;</td><td>&quot;87&quot;</td><td>87</td></tr><tr><td>&quot;X&quot;</td><td>&quot;88&quot;</td><td>88</td></tr><tr><td>&quot;Y&quot;</td><td>&quot;89&quot;</td><td>89</td></tr><tr><td>&quot;Z&quot;</td><td>&quot;90&quot;</td><td>90</td></tr></tbody></table></div>"
      ],
      "text/plain": [
       "shape: (26, 3)\n",
       "┌─────┬─────┬─────┐\n",
       "│ X   ┆ Y   ┆ Z   │\n",
       "│ --- ┆ --- ┆ --- │\n",
       "│ str ┆ str ┆ i64 │\n",
       "╞═════╪═════╪═════╡\n",
       "│ A   ┆ 65  ┆ 65  │\n",
       "│ B   ┆ 66  ┆ 66  │\n",
       "│ C   ┆ 67  ┆ 67  │\n",
       "│ D   ┆ 68  ┆ 68  │\n",
       "│ E   ┆ 69  ┆ 69  │\n",
       "│ …   ┆ …   ┆ …   │\n",
       "│ V   ┆ 86  ┆ 86  │\n",
       "│ W   ┆ 87  ┆ 87  │\n",
       "│ X   ┆ 88  ┆ 88  │\n",
       "│ Y   ┆ 89  ┆ 89  │\n",
       "│ Z   ┆ 90  ┆ 90  │\n",
       "└─────┴─────┴─────┘"
      ]
     },
     "execution_count": 3,
     "metadata": {},
     "output_type": "execute_result"
    }
   ],
   "source": [
    "df_cat = pl.DataFrame({\n",
    "    'X':[chr(i) for i in range(65,91)],\n",
    "    'Y':[str(i) for i in range(65,91)],\n",
    "    'Z': [i for i in range(65,91)],\n",
    "})\n",
    "df_cat"
   ]
  },
  {
   "cell_type": "code",
   "execution_count": 4,
   "id": "7a1835ab",
   "metadata": {},
   "outputs": [
    {
     "data": {
      "text/html": [
       "<div><style>\n",
       ".dataframe > thead > tr,\n",
       ".dataframe > tbody > tr {\n",
       "  text-align: right;\n",
       "  white-space: pre-wrap;\n",
       "}\n",
       "</style>\n",
       "<small>shape: (26, 3)</small><table border=\"1\" class=\"dataframe\"><thead><tr><th>X</th><th>Y</th><th>Z</th></tr><tr><td>str</td><td>cat</td><td>i64</td></tr></thead><tbody><tr><td>&quot;A&quot;</td><td>&quot;65&quot;</td><td>65</td></tr><tr><td>&quot;B&quot;</td><td>&quot;66&quot;</td><td>66</td></tr><tr><td>&quot;C&quot;</td><td>&quot;67&quot;</td><td>67</td></tr><tr><td>&quot;D&quot;</td><td>&quot;68&quot;</td><td>68</td></tr><tr><td>&quot;E&quot;</td><td>&quot;69&quot;</td><td>69</td></tr><tr><td>&hellip;</td><td>&hellip;</td><td>&hellip;</td></tr><tr><td>&quot;V&quot;</td><td>&quot;86&quot;</td><td>86</td></tr><tr><td>&quot;W&quot;</td><td>&quot;87&quot;</td><td>87</td></tr><tr><td>&quot;X&quot;</td><td>&quot;88&quot;</td><td>88</td></tr><tr><td>&quot;Y&quot;</td><td>&quot;89&quot;</td><td>89</td></tr><tr><td>&quot;Z&quot;</td><td>&quot;90&quot;</td><td>90</td></tr></tbody></table></div>"
      ],
      "text/plain": [
       "shape: (26, 3)\n",
       "┌─────┬─────┬─────┐\n",
       "│ X   ┆ Y   ┆ Z   │\n",
       "│ --- ┆ --- ┆ --- │\n",
       "│ str ┆ cat ┆ i64 │\n",
       "╞═════╪═════╪═════╡\n",
       "│ A   ┆ 65  ┆ 65  │\n",
       "│ B   ┆ 66  ┆ 66  │\n",
       "│ C   ┆ 67  ┆ 67  │\n",
       "│ D   ┆ 68  ┆ 68  │\n",
       "│ E   ┆ 69  ┆ 69  │\n",
       "│ …   ┆ …   ┆ …   │\n",
       "│ V   ┆ 86  ┆ 86  │\n",
       "│ W   ┆ 87  ┆ 87  │\n",
       "│ X   ┆ 88  ┆ 88  │\n",
       "│ Y   ┆ 89  ┆ 89  │\n",
       "│ Z   ┆ 90  ┆ 90  │\n",
       "└─────┴─────┴─────┘"
      ]
     },
     "execution_count": 4,
     "metadata": {},
     "output_type": "execute_result"
    }
   ],
   "source": [
    "df_cat.with_columns(pl.col('Y').cast(pl.Categorical))\n"
   ]
  },
  {
   "cell_type": "code",
   "execution_count": 5,
   "id": "b3ab7b85",
   "metadata": {},
   "outputs": [],
   "source": [
    "# import polars as pl\n",
    "# from geopy.geocoders import Nominatim\n",
    "# from geopy.extra.rate_limiter import RateLimiter\n",
    "# import pandas as pd\n",
    "\n",
    "# # Initialize geolocator with a custom user agent\n",
    "# geolocator = Nominatim(user_agent=\"my_montreal_bicycle_app\")\n",
    "\n",
    "# # Create a rate-limited version of the reverse geocoding function\n",
    "# # This helps avoid hitting API limits\n",
    "# reverse = RateLimiter(geolocator.reverse, min_delay_seconds=1)\n",
    "\n",
    "# # Get unique coordinate pairs\n",
    "# coords = df.select(['LON', 'LAT']).unique().to_dict(as_series=False)\n",
    "# results = []\n",
    "\n",
    "# # Process each coordinate pair\n",
    "# for lon, lat in zip(coords['LON'], coords['LAT']):\n",
    "#     try:\n",
    "#         location = reverse((lat, lon), exactly_one=True)\n",
    "#         if location:\n",
    "#             # Extract relevant parts of the address\n",
    "#             address_parts = {\n",
    "#                 'LON': lon,\n",
    "#                 'LAT': lat,\n",
    "#                 'Full_Address': location.address,\n",
    "#                 'Place': location.raw.get('address', {}).get('amenity') or \n",
    "#                         location.raw.get('address', {}).get('road') or \n",
    "#                         location.raw.get('address', {}).get('neighbourhood'),\n",
    "#                 'Road': location.raw.get('address', {}).get('road'),\n",
    "#                 'Neighbourhood': location.raw.get('address', {}).get('neighbourhood'),\n",
    "#                 'Suburb': location.raw.get('address', {}).get('suburb'),\n",
    "#                 'City': location.raw.get('address', {}).get('city') or \n",
    "#                        location.raw.get('address', {}).get('town')\n",
    "#             }\n",
    "#             results.append(address_parts)\n",
    "#         else:\n",
    "#             results.append({\n",
    "#                 'LON': lon,\n",
    "#                 'LAT': lat,\n",
    "#                 'Full_Address': 'Not found',\n",
    "#                 'Place': 'Not found',\n",
    "#                 'Road': 'Not found',\n",
    "#                 'Neighbourhood': 'Not found',\n",
    "#                 'Suburb': 'Not found',\n",
    "#                 'City': 'Not found'\n",
    "#             })\n",
    "#     except Exception as e:\n",
    "#         print(f\"Error with coordinates ({lat}, {lon}): {str(e)}\")\n",
    "#         results.append({\n",
    "#             'LON': lon,\n",
    "#             'LAT': lat,\n",
    "#             'Full_Address': f'Error: {str(e)}',\n",
    "#             'Place': 'Error',\n",
    "#             'Road': 'Error',\n",
    "#             'Neighbourhood': 'Error',\n",
    "#             'Suburb': 'Error',\n",
    "#             'City': 'Error'\n",
    "#         })\n",
    "\n",
    "# # Convert to DataFrame and save to CSV\n",
    "# places_df = pd.DataFrame(results)\n",
    "# places_df.to_csv('montreal_bicycle_locations.csv', index=False)\n",
    "# print(\"First few locations:\")\n",
    "# print(places_df.head())\n",
    "# print(\"\\nSaved all locations to 'montreal_bicycle_locations.csv'\")"
   ]
  },
  {
   "cell_type": "code",
   "execution_count": 6,
   "id": "205f31f9",
   "metadata": {},
   "outputs": [
    {
     "data": {
      "text/html": [
       "<div><style>\n",
       ".dataframe > thead > tr,\n",
       ".dataframe > tbody > tr {\n",
       "  text-align: right;\n",
       "  white-space: pre-wrap;\n",
       "}\n",
       "</style>\n",
       "<small>shape: (3_191, 2)</small><table border=\"1\" class=\"dataframe\"><thead><tr><th>PASSAGES</th><th>count</th></tr><tr><td>u16</td><td>u32</td></tr></thead><tbody><tr><td>3830</td><td>1</td></tr><tr><td>1820</td><td>1</td></tr><tr><td>1932</td><td>1</td></tr><tr><td>3376</td><td>1</td></tr><tr><td>823</td><td>1</td></tr><tr><td>&hellip;</td><td>&hellip;</td></tr><tr><td>3</td><td>39</td></tr><tr><td>5</td><td>48</td></tr><tr><td>2</td><td>53</td></tr><tr><td>1</td><td>69</td></tr><tr><td>0</td><td>734</td></tr></tbody></table></div>"
      ],
      "text/plain": [
       "shape: (3_191, 2)\n",
       "┌──────────┬───────┐\n",
       "│ PASSAGES ┆ count │\n",
       "│ ---      ┆ ---   │\n",
       "│ u16      ┆ u32   │\n",
       "╞══════════╪═══════╡\n",
       "│ 3830     ┆ 1     │\n",
       "│ 1820     ┆ 1     │\n",
       "│ 1932     ┆ 1     │\n",
       "│ 3376     ┆ 1     │\n",
       "│ 823      ┆ 1     │\n",
       "│ …        ┆ …     │\n",
       "│ 3        ┆ 39    │\n",
       "│ 5        ┆ 48    │\n",
       "│ 2        ┆ 53    │\n",
       "│ 1        ┆ 69    │\n",
       "│ 0        ┆ 734   │\n",
       "└──────────┴───────┘"
      ]
     },
     "execution_count": 6,
     "metadata": {},
     "output_type": "execute_result"
    }
   ],
   "source": [
    "df['PASSAGES'].value_counts().sort('count')"
   ]
  },
  {
   "cell_type": "code",
   "execution_count": 7,
   "id": "b7492036",
   "metadata": {},
   "outputs": [],
   "source": [
    "# # import polars as pl\n",
    "# from geopy.geocoders import Nominatim\n",
    "# from geopy.extra.rate_limiter import RateLimiter\n",
    "# import pandas as pd\n",
    "\n",
    "# # Initialize geolocator with a custom user agent\n",
    "# geolocator = Nominatim(user_agent=\"my_montreal_bicycle_app\")\n",
    "\n",
    "# # Create a rate-limited version of the reverse geocoding function\n",
    "# # This helps avoid hitting API limits\n",
    "# reverse = RateLimiter(geolocator.reverse, min_delay_seconds=1)\n",
    "\n",
    "# # Get unique coordinate pairs\n",
    "# coords = df.select(['LON', 'LAT']).unique().to_dict(as_series=False)\n",
    "# results = []\n",
    "\n",
    "# # Process each coordinate pair\n",
    "# for lon, lat in zip(coords['LON'], coords['LAT']):\n",
    "#     try:\n",
    "#         location = reverse((lat, lon), exactly_one=True)\n",
    "#         if location:\n",
    "#             # Extract relevant parts of the address\n",
    "#             address_parts = {\n",
    "#                 'LON': lon,\n",
    "#                 'LAT': lat,\n",
    "#                 'Full_Address': location.address,\n",
    "#                 'Place': location.raw.get('address', {}).get('amenity') or \n",
    "#                         location.raw.get('address', {}).get('road') or \n",
    "#                         location.raw.get('address', {}).get('neighbourhood'),\n",
    "#                 'Road': location.raw.get('address', {}).get('road'),\n",
    "#                 'Neighbourhood': location.raw.get('address', {}).get('neighbourhood'),\n",
    "#                 'Suburb': location.raw.get('address', {}).get('suburb'),\n",
    "#                 'City': location.raw.get('address', {}).get('city') or \n",
    "#                        location.raw.get('address', {}).get('town')\n",
    "#             }\n",
    "#             results.append(address_parts)\n",
    "#         else:\n",
    "#             results.append({\n",
    "#                 'LON': lon,\n",
    "#                 'LAT': lat,\n",
    "#                 'Full_Address': 'Not found',\n",
    "#                 'Place': 'Not found',\n",
    "#                 'Road': 'Not found',\n",
    "#                 'Neighbourhood': 'Not found',\n",
    "#                 'Suburb': 'Not found',\n",
    "#                 'City': 'Not found'\n",
    "#             })\n",
    "#     except Exception as e:\n",
    "#         print(f\"Error with coordinates ({lat}, {lon}): {str(e)}\")\n",
    "#         results.append({\n",
    "#             'LON': lon,\n",
    "#             'LAT': lat,\n",
    "#             'Full_Address': f'Error: {str(e)}',\n",
    "#             'Place': 'Error',\n",
    "#             'Road': 'Error',\n",
    "#             'Neighbourhood': 'Error',\n",
    "#             'Suburb': 'Error',\n",
    "#             'City': 'Error'\n",
    "#         })\n",
    "\n",
    "# # Convert to DataFrame and save to CSV\n",
    "# places_df = pd.DataFrame(results)\n",
    "# places_df.to_csv('montreal_bicycle_locations.csv', index=False)\n",
    "# print(\"First few locations:\")\n",
    "# print(places_df.head())\n",
    "# print(\"\\nSaved all locations to 'montreal_bicycle_locations.csv'\")"
   ]
  }
 ],
 "metadata": {
  "kernelspec": {
   "display_name": "Python 3",
   "language": "python",
   "name": "python3"
  },
  "language_info": {
   "codemirror_mode": {
    "name": "ipython",
    "version": 3
   },
   "file_extension": ".py",
   "mimetype": "text/x-python",
   "name": "python",
   "nbconvert_exporter": "python",
   "pygments_lexer": "ipython3",
   "version": "3.13.5"
  }
 },
 "nbformat": 4,
 "nbformat_minor": 5
}
