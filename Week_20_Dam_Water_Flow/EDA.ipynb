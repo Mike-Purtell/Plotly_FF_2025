{
 "cells": [
  {
   "cell_type": "code",
   "execution_count": 2,
   "id": "08c7ffee",
   "metadata": {},
   "outputs": [
    {
     "name": "stdout",
     "output_type": "stream",
     "text": [
      "len(state_list) = 52\n",
      "state_list = ['Alabama', 'Alaska', 'Arizona', 'Arkansas', 'California', 'Colorado', 'Connecticut', 'Delaware', 'Florida', 'Georgia', 'Guam', 'Hawaii', 'Idaho', 'Illinois', 'Indiana', 'Iowa', 'Kansas', 'Kentucky', 'Louisiana', 'Maine', 'Maryland', 'Massachusetts', 'Michigan', 'Minnesota', 'Mississippi', 'Missouri', 'Montana', 'Nebraska', 'Nevada', 'New Hampshire', 'New Jersey', 'New Mexico', 'New York', 'North Carolina', 'North Dakota', 'Ohio', 'Oklahoma', 'Oregon', 'Pennsylvania', 'Puerto Rico', 'Rhode Island', 'South Carolina', 'South Dakota', 'Tennessee', 'Texas', 'Utah', 'Vermont', 'Virginia', 'Washington', 'West Virginia', 'Wisconsin', 'Wyoming']\n",
      "Rows: 88924\n",
      "Columns: 16\n",
      "$ DAM                    <str> 'Aichi Forge Usa Dam', 'Oxy Usa Retention Pond', 'Dod Usa 4', 'Dod Usa 2', 'Girl Scouts of Usa Dam', 'Rlf/Pawnee Mine/Slurry Impoundment 2 Dam', 'Exxonmobil Coal Usa/Mine 2/Recirculation Lake Dam', 'Exxonmobil Coal Usa/Mine 2/Freshwater Lake Dam', 'Rlf/Pawnee Mine/Slurry Impoundment 3 Dam', 'Asso.Minerals (Usa) Ltd. Dam'\n",
      "$ LAT                    <f64> 38.28828, 47.156385, 35.67191196, 35.70340894, 35.2356, 39.57607, 38.53781, 38.53631, 39.58123, 29.890339\n",
      "$ LONG                   <f64> -84.55619, -102.770612, -95.18729125, -95.13637547, -81.265, -89.51917, -89.60861, -89.60401, -89.52183, -81.7066\n",
      "$ STATE                  <str> 'Kentucky', 'North Dakota', 'Oklahoma', 'Oklahoma', 'North Carolina', 'Illinois', 'Illinois', 'Illinois', 'Illinois', 'Florida'\n",
      "$ COUNTY                 <str> 'Scott', 'Dunn', 'Muskogee', 'Muskogee', 'Gaston', 'Christian', 'Clinton', 'Clinton', 'Christian', 'Clay'\n",
      "$ CITY                   <str> 'DELAPLAIN-AREA', None, 'BRAGGS', 'ARROWHEAD POINT', None, 'PAWNEE', 'DAMIANSVILLE', 'DAMIANSVILLE', None, 'ST AUGUSTINE'\n",
      "$ WATERWAY               <str> 'TR-DRY RUN', None, 'TR-SAND CREEK', 'TR-WEST SPANIARD CREEK', 'Crowders Creek', 'TRIB SANGCHRIS LAKE', 'TRIB GRASSY BRANCH', 'TRIB GRASSY BRANCH', 'TRIB SANGCHRIS LAKE', 'CLARKES CREEK-OFFSTREAM'\n",
      "$ YEAR_COMP              <i64> 1974, None, 1940, 1939, 1982, 1985, 1975, 1975, 1999, 1970\n",
      "$ DECADE_COMP            <str> '1970-1979', 'Undetermined', '1940-1949', '1930-1939', '1980-1989', '1980-1989', '1970-1979', '1970-1979', '1990-1999', '1970-1979'\n",
      "$ VOL_CUB_YDS            <i64> None, None, 0, 0, None, 0, 0, 0, 0, 2220\n",
      "$ NID_CAP_ACR_FT         <f64> 86.8, 682.6, 50.0, 50.0, 18.0, 3700.0, 394.0, 423.0, 214.0, 2220.0\n",
      "$ MAX_STG_ACR_FT         <f64> 86.8, 682.6, 50.0, 50.0, 18.0, 3700.0, 394.0, 423.0, 214.0, 2220.0\n",
      "$ NORM_STG_ACR_FT        <f64> 26.6, None, 25.0, 25.0, 12.0, 3520.0, 180.0, 187.0, 171.0, 1680.0\n",
      "$ DRAINAGE_SQ_MILES      <f64> 1.35, None, None, None, 0.12, None, 0.14, 1.23, 0.02, 0.0\n",
      "$ SURF_AREA_SQM          <f64> 8.0, None, None, 5.0, 2.0, None, 31.8, 545.0, 12.0, 165.0\n",
      "$ MAX_DISCHRG_CUB_FT_SEC <i64> None, None, 20, 200, None, None, 2930, 230, 9, 11170\n",
      "\n"
     ]
    }
   ],
   "source": [
    "import polars as pl\n",
    "import plotly.express as px\n",
    "\n",
    "source_data = 'nation.csv'\n",
    "df = (\n",
    "    pl.scan_csv(\n",
    "        'nation.csv',\n",
    "        ignore_errors=True, \n",
    "        skip_rows=1\n",
    "    )\n",
    "    .select(\n",
    "        DAM = pl.col('Dam Name'),\n",
    "        LAT = pl.col('Latitude'),\n",
    "        LONG = pl.col('Longitude'),\n",
    "        STATE = pl.col('State'),\n",
    "        COUNTY = pl.col('County'),\n",
    "        CITY = pl.col('City'),\n",
    "        WATERWAY = pl.col('River or Stream Name'),\n",
    "        YEAR_COMP = pl.col('Year Completed'),\n",
    "        DECADE_COMP = pl.col('Year Completed Category'),\n",
    "\n",
    "        # storage statisics for group_by aggregations\n",
    "        VOL_CUB_YDS = pl.col('Volume (Cubic Yards)'),\n",
    "        NID_CAP_ACR_FT = pl.col('NID Storage (Acre-Ft)'),\n",
    "        MAX_STG_ACR_FT = pl.col('Max Storage (Acre-Ft)'),\n",
    "        NORM_STG_ACR_FT = pl.col('Normal Storage (Acre-Ft)'),\n",
    "        DRAINAGE_SQ_MILES = pl.col('Drainage Area (Sq Miles)'),\n",
    "        SURF_AREA_SQM = pl.col('Surface Area (Acres)'),\n",
    "        MAX_DISCHRG_CUB_FT_SEC = pl.col('Max Discharge (Cubic Ft/Second)'),\n",
    "\n",
    "    )\n",
    "    .filter(pl.col('MAX_STG_ACR_FT').is_not_null())\n",
    "    .filter(pl.col('MAX_STG_ACR_FT') > 0.0)\n",
    "    # .filter(pl.col('CITY').str.to_uppercase().str.contains('SAN J'))\n",
    "    .collect()\n",
    ")\n",
    "\n",
    "\n",
    "state_list = sorted(df['STATE'].unique().to_list())\n",
    "print(f'{len(state_list) = }')\n",
    "print(f'{state_list = }')\n",
    "df.glimpse()"
   ]
  },
  {
   "cell_type": "code",
   "execution_count": 3,
   "id": "da215791",
   "metadata": {},
   "outputs": [
    {
     "data": {
      "application/vnd.plotly.v1+json": {
       "config": {
        "plotlyServerURL": "https://plot.ly"
       },
       "data": [
        {
         "hovertemplate": "STATE=%{x}<br>count=%{y}<extra></extra>",
         "legendgroup": "",
         "marker": {
          "color": "#636efa",
          "symbol": "circle"
         },
         "mode": "markers",
         "name": "",
         "orientation": "v",
         "showlegend": false,
         "type": "scatter",
         "x": [
          "Guam",
          "Puerto Rico",
          "Idaho",
          "Delaware",
          "Alaska",
          "Hawaii",
          "Rhode Island",
          "Arizona",
          "New Mexico",
          "Vermont",
          "Maryland",
          "New Jersey",
          "West Virginia",
          "Nevada",
          "Maine",
          "Utah",
          "New Hampshire",
          "Louisiana",
          "Connecticut",
          "Oregon",
          "Washington",
          "North Dakota",
          "Florida",
          "Wisconsin",
          "Indiana",
          "Kentucky",
          "Michigan",
          "Minnesota",
          "Tennessee",
          "Arkansas",
          "Massachusetts",
          "Wyoming",
          "Ohio",
          "California",
          "Pennsylvania",
          "Illinois",
          "New York",
          "Colorado",
          "Alabama",
          "South Carolina",
          "South Dakota",
          "Virginia",
          "Nebraska",
          "Montana",
          "North Carolina",
          "Iowa",
          "Oklahoma",
          "Missouri",
          "Georgia",
          "Mississippi",
          "Kansas",
          "Texas"
         ],
         "xaxis": "x",
         "y": {
          "bdata": "AQAAACMAAABJAAAAUwAAAGEAAAB8AAAA1AAAAAgBAABiAQAAcwEAAH4BAACXAQAA1gEAAPIBAAA2AgAATAIAAJUCAAC/AgAA1QIAAO0CAAAqAwAAlwMAAN8DAADfAwAA7QMAAP0DAAABBAAAcQQAAK8EAADIBAAALwUAAF8FAACABQAAtwUAALsFAAAlBgAATQcAAKYHAACNCAAAhwkAANcJAACMCgAAkAsAAJELAADODAAAyQ8AAIATAADqFAAADxUAAMgXAABUGQAA6xwAAA==",
          "dtype": "u4"
         },
         "yaxis": "y"
        }
       ],
       "layout": {
        "legend": {
         "tracegroupgap": 0
        },
        "margin": {
         "t": 60
        },
        "template": {
         "data": {
          "bar": [
           {
            "error_x": {
             "color": "#2a3f5f"
            },
            "error_y": {
             "color": "#2a3f5f"
            },
            "marker": {
             "line": {
              "color": "#E5ECF6",
              "width": 0.5
             },
             "pattern": {
              "fillmode": "overlay",
              "size": 10,
              "solidity": 0.2
             }
            },
            "type": "bar"
           }
          ],
          "barpolar": [
           {
            "marker": {
             "line": {
              "color": "#E5ECF6",
              "width": 0.5
             },
             "pattern": {
              "fillmode": "overlay",
              "size": 10,
              "solidity": 0.2
             }
            },
            "type": "barpolar"
           }
          ],
          "carpet": [
           {
            "aaxis": {
             "endlinecolor": "#2a3f5f",
             "gridcolor": "white",
             "linecolor": "white",
             "minorgridcolor": "white",
             "startlinecolor": "#2a3f5f"
            },
            "baxis": {
             "endlinecolor": "#2a3f5f",
             "gridcolor": "white",
             "linecolor": "white",
             "minorgridcolor": "white",
             "startlinecolor": "#2a3f5f"
            },
            "type": "carpet"
           }
          ],
          "choropleth": [
           {
            "colorbar": {
             "outlinewidth": 0,
             "ticks": ""
            },
            "type": "choropleth"
           }
          ],
          "contour": [
           {
            "colorbar": {
             "outlinewidth": 0,
             "ticks": ""
            },
            "colorscale": [
             [
              0,
              "#0d0887"
             ],
             [
              0.1111111111111111,
              "#46039f"
             ],
             [
              0.2222222222222222,
              "#7201a8"
             ],
             [
              0.3333333333333333,
              "#9c179e"
             ],
             [
              0.4444444444444444,
              "#bd3786"
             ],
             [
              0.5555555555555556,
              "#d8576b"
             ],
             [
              0.6666666666666666,
              "#ed7953"
             ],
             [
              0.7777777777777778,
              "#fb9f3a"
             ],
             [
              0.8888888888888888,
              "#fdca26"
             ],
             [
              1,
              "#f0f921"
             ]
            ],
            "type": "contour"
           }
          ],
          "contourcarpet": [
           {
            "colorbar": {
             "outlinewidth": 0,
             "ticks": ""
            },
            "type": "contourcarpet"
           }
          ],
          "heatmap": [
           {
            "colorbar": {
             "outlinewidth": 0,
             "ticks": ""
            },
            "colorscale": [
             [
              0,
              "#0d0887"
             ],
             [
              0.1111111111111111,
              "#46039f"
             ],
             [
              0.2222222222222222,
              "#7201a8"
             ],
             [
              0.3333333333333333,
              "#9c179e"
             ],
             [
              0.4444444444444444,
              "#bd3786"
             ],
             [
              0.5555555555555556,
              "#d8576b"
             ],
             [
              0.6666666666666666,
              "#ed7953"
             ],
             [
              0.7777777777777778,
              "#fb9f3a"
             ],
             [
              0.8888888888888888,
              "#fdca26"
             ],
             [
              1,
              "#f0f921"
             ]
            ],
            "type": "heatmap"
           }
          ],
          "histogram": [
           {
            "marker": {
             "pattern": {
              "fillmode": "overlay",
              "size": 10,
              "solidity": 0.2
             }
            },
            "type": "histogram"
           }
          ],
          "histogram2d": [
           {
            "colorbar": {
             "outlinewidth": 0,
             "ticks": ""
            },
            "colorscale": [
             [
              0,
              "#0d0887"
             ],
             [
              0.1111111111111111,
              "#46039f"
             ],
             [
              0.2222222222222222,
              "#7201a8"
             ],
             [
              0.3333333333333333,
              "#9c179e"
             ],
             [
              0.4444444444444444,
              "#bd3786"
             ],
             [
              0.5555555555555556,
              "#d8576b"
             ],
             [
              0.6666666666666666,
              "#ed7953"
             ],
             [
              0.7777777777777778,
              "#fb9f3a"
             ],
             [
              0.8888888888888888,
              "#fdca26"
             ],
             [
              1,
              "#f0f921"
             ]
            ],
            "type": "histogram2d"
           }
          ],
          "histogram2dcontour": [
           {
            "colorbar": {
             "outlinewidth": 0,
             "ticks": ""
            },
            "colorscale": [
             [
              0,
              "#0d0887"
             ],
             [
              0.1111111111111111,
              "#46039f"
             ],
             [
              0.2222222222222222,
              "#7201a8"
             ],
             [
              0.3333333333333333,
              "#9c179e"
             ],
             [
              0.4444444444444444,
              "#bd3786"
             ],
             [
              0.5555555555555556,
              "#d8576b"
             ],
             [
              0.6666666666666666,
              "#ed7953"
             ],
             [
              0.7777777777777778,
              "#fb9f3a"
             ],
             [
              0.8888888888888888,
              "#fdca26"
             ],
             [
              1,
              "#f0f921"
             ]
            ],
            "type": "histogram2dcontour"
           }
          ],
          "mesh3d": [
           {
            "colorbar": {
             "outlinewidth": 0,
             "ticks": ""
            },
            "type": "mesh3d"
           }
          ],
          "parcoords": [
           {
            "line": {
             "colorbar": {
              "outlinewidth": 0,
              "ticks": ""
             }
            },
            "type": "parcoords"
           }
          ],
          "pie": [
           {
            "automargin": true,
            "type": "pie"
           }
          ],
          "scatter": [
           {
            "fillpattern": {
             "fillmode": "overlay",
             "size": 10,
             "solidity": 0.2
            },
            "type": "scatter"
           }
          ],
          "scatter3d": [
           {
            "line": {
             "colorbar": {
              "outlinewidth": 0,
              "ticks": ""
             }
            },
            "marker": {
             "colorbar": {
              "outlinewidth": 0,
              "ticks": ""
             }
            },
            "type": "scatter3d"
           }
          ],
          "scattercarpet": [
           {
            "marker": {
             "colorbar": {
              "outlinewidth": 0,
              "ticks": ""
             }
            },
            "type": "scattercarpet"
           }
          ],
          "scattergeo": [
           {
            "marker": {
             "colorbar": {
              "outlinewidth": 0,
              "ticks": ""
             }
            },
            "type": "scattergeo"
           }
          ],
          "scattergl": [
           {
            "marker": {
             "colorbar": {
              "outlinewidth": 0,
              "ticks": ""
             }
            },
            "type": "scattergl"
           }
          ],
          "scattermap": [
           {
            "marker": {
             "colorbar": {
              "outlinewidth": 0,
              "ticks": ""
             }
            },
            "type": "scattermap"
           }
          ],
          "scattermapbox": [
           {
            "marker": {
             "colorbar": {
              "outlinewidth": 0,
              "ticks": ""
             }
            },
            "type": "scattermapbox"
           }
          ],
          "scatterpolar": [
           {
            "marker": {
             "colorbar": {
              "outlinewidth": 0,
              "ticks": ""
             }
            },
            "type": "scatterpolar"
           }
          ],
          "scatterpolargl": [
           {
            "marker": {
             "colorbar": {
              "outlinewidth": 0,
              "ticks": ""
             }
            },
            "type": "scatterpolargl"
           }
          ],
          "scatterternary": [
           {
            "marker": {
             "colorbar": {
              "outlinewidth": 0,
              "ticks": ""
             }
            },
            "type": "scatterternary"
           }
          ],
          "surface": [
           {
            "colorbar": {
             "outlinewidth": 0,
             "ticks": ""
            },
            "colorscale": [
             [
              0,
              "#0d0887"
             ],
             [
              0.1111111111111111,
              "#46039f"
             ],
             [
              0.2222222222222222,
              "#7201a8"
             ],
             [
              0.3333333333333333,
              "#9c179e"
             ],
             [
              0.4444444444444444,
              "#bd3786"
             ],
             [
              0.5555555555555556,
              "#d8576b"
             ],
             [
              0.6666666666666666,
              "#ed7953"
             ],
             [
              0.7777777777777778,
              "#fb9f3a"
             ],
             [
              0.8888888888888888,
              "#fdca26"
             ],
             [
              1,
              "#f0f921"
             ]
            ],
            "type": "surface"
           }
          ],
          "table": [
           {
            "cells": {
             "fill": {
              "color": "#EBF0F8"
             },
             "line": {
              "color": "white"
             }
            },
            "header": {
             "fill": {
              "color": "#C8D4E3"
             },
             "line": {
              "color": "white"
             }
            },
            "type": "table"
           }
          ]
         },
         "layout": {
          "annotationdefaults": {
           "arrowcolor": "#2a3f5f",
           "arrowhead": 0,
           "arrowwidth": 1
          },
          "autotypenumbers": "strict",
          "coloraxis": {
           "colorbar": {
            "outlinewidth": 0,
            "ticks": ""
           }
          },
          "colorscale": {
           "diverging": [
            [
             0,
             "#8e0152"
            ],
            [
             0.1,
             "#c51b7d"
            ],
            [
             0.2,
             "#de77ae"
            ],
            [
             0.3,
             "#f1b6da"
            ],
            [
             0.4,
             "#fde0ef"
            ],
            [
             0.5,
             "#f7f7f7"
            ],
            [
             0.6,
             "#e6f5d0"
            ],
            [
             0.7,
             "#b8e186"
            ],
            [
             0.8,
             "#7fbc41"
            ],
            [
             0.9,
             "#4d9221"
            ],
            [
             1,
             "#276419"
            ]
           ],
           "sequential": [
            [
             0,
             "#0d0887"
            ],
            [
             0.1111111111111111,
             "#46039f"
            ],
            [
             0.2222222222222222,
             "#7201a8"
            ],
            [
             0.3333333333333333,
             "#9c179e"
            ],
            [
             0.4444444444444444,
             "#bd3786"
            ],
            [
             0.5555555555555556,
             "#d8576b"
            ],
            [
             0.6666666666666666,
             "#ed7953"
            ],
            [
             0.7777777777777778,
             "#fb9f3a"
            ],
            [
             0.8888888888888888,
             "#fdca26"
            ],
            [
             1,
             "#f0f921"
            ]
           ],
           "sequentialminus": [
            [
             0,
             "#0d0887"
            ],
            [
             0.1111111111111111,
             "#46039f"
            ],
            [
             0.2222222222222222,
             "#7201a8"
            ],
            [
             0.3333333333333333,
             "#9c179e"
            ],
            [
             0.4444444444444444,
             "#bd3786"
            ],
            [
             0.5555555555555556,
             "#d8576b"
            ],
            [
             0.6666666666666666,
             "#ed7953"
            ],
            [
             0.7777777777777778,
             "#fb9f3a"
            ],
            [
             0.8888888888888888,
             "#fdca26"
            ],
            [
             1,
             "#f0f921"
            ]
           ]
          },
          "colorway": [
           "#636efa",
           "#EF553B",
           "#00cc96",
           "#ab63fa",
           "#FFA15A",
           "#19d3f3",
           "#FF6692",
           "#B6E880",
           "#FF97FF",
           "#FECB52"
          ],
          "font": {
           "color": "#2a3f5f"
          },
          "geo": {
           "bgcolor": "white",
           "lakecolor": "white",
           "landcolor": "#E5ECF6",
           "showlakes": true,
           "showland": true,
           "subunitcolor": "white"
          },
          "hoverlabel": {
           "align": "left"
          },
          "hovermode": "closest",
          "mapbox": {
           "style": "light"
          },
          "paper_bgcolor": "white",
          "plot_bgcolor": "#E5ECF6",
          "polar": {
           "angularaxis": {
            "gridcolor": "white",
            "linecolor": "white",
            "ticks": ""
           },
           "bgcolor": "#E5ECF6",
           "radialaxis": {
            "gridcolor": "white",
            "linecolor": "white",
            "ticks": ""
           }
          },
          "scene": {
           "xaxis": {
            "backgroundcolor": "#E5ECF6",
            "gridcolor": "white",
            "gridwidth": 2,
            "linecolor": "white",
            "showbackground": true,
            "ticks": "",
            "zerolinecolor": "white"
           },
           "yaxis": {
            "backgroundcolor": "#E5ECF6",
            "gridcolor": "white",
            "gridwidth": 2,
            "linecolor": "white",
            "showbackground": true,
            "ticks": "",
            "zerolinecolor": "white"
           },
           "zaxis": {
            "backgroundcolor": "#E5ECF6",
            "gridcolor": "white",
            "gridwidth": 2,
            "linecolor": "white",
            "showbackground": true,
            "ticks": "",
            "zerolinecolor": "white"
           }
          },
          "shapedefaults": {
           "line": {
            "color": "#2a3f5f"
           }
          },
          "ternary": {
           "aaxis": {
            "gridcolor": "white",
            "linecolor": "white",
            "ticks": ""
           },
           "baxis": {
            "gridcolor": "white",
            "linecolor": "white",
            "ticks": ""
           },
           "bgcolor": "#E5ECF6",
           "caxis": {
            "gridcolor": "white",
            "linecolor": "white",
            "ticks": ""
           }
          },
          "title": {
           "x": 0.05
          },
          "xaxis": {
           "automargin": true,
           "gridcolor": "white",
           "linecolor": "white",
           "ticks": "",
           "title": {
            "standoff": 15
           },
           "zerolinecolor": "white",
           "zerolinewidth": 2
          },
          "yaxis": {
           "automargin": true,
           "gridcolor": "white",
           "linecolor": "white",
           "ticks": "",
           "title": {
            "standoff": 15
           },
           "zerolinecolor": "white",
           "zerolinewidth": 2
          }
         }
        },
        "xaxis": {
         "anchor": "y",
         "domain": [
          0,
          1
         ],
         "title": {
          "text": "STATE"
         }
        },
        "yaxis": {
         "anchor": "x",
         "domain": [
          0,
          1
         ],
         "title": {
          "text": "count"
         }
        }
       }
      }
     },
     "metadata": {},
     "output_type": "display_data"
    }
   ],
   "source": [
    "fig=px.scatter(\n",
    "    df['STATE'].value_counts().sort('count'),\n",
    "    'STATE',\n",
    "    'count'\n",
    ")\n",
    "fig.show()"
   ]
  },
  {
   "cell_type": "code",
   "execution_count": 4,
   "id": "308b1245",
   "metadata": {},
   "outputs": [
    {
     "data": {
      "text/html": [
       "<div><style>\n",
       ".dataframe > thead > tr,\n",
       ".dataframe > tbody > tr {\n",
       "  text-align: right;\n",
       "  white-space: pre-wrap;\n",
       "}\n",
       "</style>\n",
       "<small>shape: (7, 3)</small><table border=\"1\" class=\"dataframe\"><thead><tr><th>STATISTIC</th><th>TOTAL</th><th>AVERAGE</th></tr><tr><td>str</td><td>f64</td><td>f64</td></tr></thead><tbody><tr><td>&quot;VOL_CUB_YDS&quot;</td><td>8.44385988e8</td><td>577160.620643</td></tr><tr><td>&quot;NID_CAP_ACR_FT&quot;</td><td>8.3616e7</td><td>57153.823308</td></tr><tr><td>&quot;MAX_STG_ACR_FT&quot;</td><td>8.3609e7</td><td>57148.936774</td></tr><tr><td>&quot;NORM_STG_ACR_FT&quot;</td><td>5.5405e7</td><td>37870.993917</td></tr><tr><td>&quot;DRAINAGE_SQ_MILES&quot;</td><td>177064.68</td><td>121.028489</td></tr><tr><td>&quot;SURF_AREA_SQM&quot;</td><td>1.0531e6</td><td>719.807546</td></tr><tr><td>&quot;MAX_DISCHRG_CUB_FT_SEC&quot;</td><td>1.3724434e7</td><td>9381.021189</td></tr></tbody></table></div>"
      ],
      "text/plain": [
       "shape: (7, 3)\n",
       "┌────────────────────────┬──────────────┬───────────────┐\n",
       "│ STATISTIC              ┆ TOTAL        ┆ AVERAGE       │\n",
       "│ ---                    ┆ ---          ┆ ---           │\n",
       "│ str                    ┆ f64          ┆ f64           │\n",
       "╞════════════════════════╪══════════════╪═══════════════╡\n",
       "│ VOL_CUB_YDS            ┆ 8.44385988e8 ┆ 577160.620643 │\n",
       "│ NID_CAP_ACR_FT         ┆ 8.3616e7     ┆ 57153.823308  │\n",
       "│ MAX_STG_ACR_FT         ┆ 8.3609e7     ┆ 57148.936774  │\n",
       "│ NORM_STG_ACR_FT        ┆ 5.5405e7     ┆ 37870.993917  │\n",
       "│ DRAINAGE_SQ_MILES      ┆ 177064.68    ┆ 121.028489    │\n",
       "│ SURF_AREA_SQM          ┆ 1.0531e6     ┆ 719.807546    │\n",
       "│ MAX_DISCHRG_CUB_FT_SEC ┆ 1.3724434e7  ┆ 9381.021189   │\n",
       "└────────────────────────┴──────────────┴───────────────┘"
      ]
     },
     "execution_count": 4,
     "metadata": {},
     "output_type": "execute_result"
    }
   ],
   "source": [
    "state ='California'\n",
    "dam_info = [\n",
    "    'DAM','LAT','LONG','STATE','COUNTY','CITY','WATERWAY','YEAR_COMP',\n",
    "]\n",
    "dam_stats = [\n",
    "  'VOL_CUB_YDS', 'NID_CAP_ACR_FT', 'MAX_STG_ACR_FT', 'NORM_STG_ACR_FT',\n",
    " 'DRAINAGE_SQ_MILES', 'SURF_AREA_SQM', 'MAX_DISCHRG_CUB_FT_SEC'\n",
    " ]\n",
    "df_state = (\n",
    "    df\n",
    "    .filter(pl.col('STATE') == state)\n",
    "    .select(['STATE'] + dam_stats)\n",
    ")\n",
    "state_dam_count = df_state.height\n",
    "df_state_stats = (\n",
    "    df_state.group_by('STATE').agg(pl.col(dam_stats).sum())\n",
    "    .transpose(\n",
    "        include_header=True,\n",
    "        header_name='STATISTIC',\n",
    "    )\n",
    "    .rename({'column_0': 'TOTAL'})\n",
    "    .filter(pl.col('STATISTIC') != 'STATE')\n",
    "    .with_columns(pl.col('TOTAL').cast(pl.Float64))\n",
    "    .with_columns(AVERAGE = pl.col('TOTAL')/state_dam_count)\n",
    ")\n",
    "df_state_stats"
   ]
  },
  {
   "cell_type": "code",
   "execution_count": 12,
   "id": "cec1e850",
   "metadata": {},
   "outputs": [
    {
     "data": {
      "text/html": [
       "<div><style>\n",
       ".dataframe > thead > tr,\n",
       ".dataframe > tbody > tr {\n",
       "  text-align: right;\n",
       "  white-space: pre-wrap;\n",
       "}\n",
       "</style>\n",
       "<small>shape: (88_924, 16)</small><table border=\"1\" class=\"dataframe\"><thead><tr><th>DAM</th><th>LAT</th><th>LONG</th><th>STATE</th><th>COUNTY</th><th>CITY</th><th>WATERWAY</th><th>YEAR_COMP</th><th>DECADE_COMP</th><th>VOL_CUB_YDS</th><th>NID_CAP_ACR_FT</th><th>MAX_STG_ACR_FT</th><th>NORM_STG_ACR_FT</th><th>DRAINAGE_SQ_MILES</th><th>SURF_AREA_SQM</th><th>MAX_DISCHRG_CUB_FT_SEC</th></tr><tr><td>str</td><td>f64</td><td>f64</td><td>str</td><td>str</td><td>str</td><td>str</td><td>i64</td><td>str</td><td>i64</td><td>f64</td><td>f64</td><td>f64</td><td>f64</td><td>f64</td><td>i64</td></tr></thead><tbody><tr><td>&quot;Aichi Forge Usa Dam&quot;</td><td>38.28828</td><td>-84.55619</td><td>&quot;Kentucky&quot;</td><td>&quot;Scott&quot;</td><td>&quot;DELAPLAIN-AREA&quot;</td><td>&quot;TR-DRY RUN&quot;</td><td>1974</td><td>&quot;1970-1979&quot;</td><td>null</td><td>86.8</td><td>86.8</td><td>26.6</td><td>1.35</td><td>8.0</td><td>null</td></tr><tr><td>&quot;Oxy Usa Retention Pond&quot;</td><td>47.156385</td><td>-102.770612</td><td>&quot;North Dakota&quot;</td><td>&quot;Dunn&quot;</td><td>null</td><td>null</td><td>null</td><td>&quot;Undetermined&quot;</td><td>null</td><td>682.6</td><td>682.6</td><td>null</td><td>null</td><td>null</td><td>null</td></tr><tr><td>&quot;Dod Usa 4&quot;</td><td>35.671912</td><td>-95.187291</td><td>&quot;Oklahoma&quot;</td><td>&quot;Muskogee&quot;</td><td>&quot;BRAGGS&quot;</td><td>&quot;TR-SAND CREEK&quot;</td><td>1940</td><td>&quot;1940-1949&quot;</td><td>0</td><td>50.0</td><td>50.0</td><td>25.0</td><td>null</td><td>null</td><td>20</td></tr><tr><td>&quot;Dod Usa 2&quot;</td><td>35.703409</td><td>-95.136375</td><td>&quot;Oklahoma&quot;</td><td>&quot;Muskogee&quot;</td><td>&quot;ARROWHEAD POINT&quot;</td><td>&quot;TR-WEST SPANIARD CREEK&quot;</td><td>1939</td><td>&quot;1930-1939&quot;</td><td>0</td><td>50.0</td><td>50.0</td><td>25.0</td><td>null</td><td>5.0</td><td>200</td></tr><tr><td>&quot;Girl Scouts of Usa Dam&quot;</td><td>35.2356</td><td>-81.265</td><td>&quot;North Carolina&quot;</td><td>&quot;Gaston&quot;</td><td>null</td><td>&quot;Crowders Creek&quot;</td><td>1982</td><td>&quot;1980-1989&quot;</td><td>null</td><td>18.0</td><td>18.0</td><td>12.0</td><td>0.12</td><td>2.0</td><td>null</td></tr><tr><td>&hellip;</td><td>&hellip;</td><td>&hellip;</td><td>&hellip;</td><td>&hellip;</td><td>&hellip;</td><td>&hellip;</td><td>&hellip;</td><td>&hellip;</td><td>&hellip;</td><td>&hellip;</td><td>&hellip;</td><td>&hellip;</td><td>&hellip;</td><td>&hellip;</td><td>&hellip;</td></tr><tr><td>&quot;Foster Dam&quot;</td><td>44.415614</td><td>-122.670161</td><td>&quot;Oregon&quot;</td><td>&quot;Linn&quot;</td><td>&quot;SWEETHOME&quot;</td><td>&quot;SOUTH SANTIAM RIVER&quot;</td><td>1967</td><td>&quot;1960-1969&quot;</td><td>1806000</td><td>61000.0</td><td>61000.0</td><td>56000.0</td><td>494.0</td><td>1220.0</td><td>195000</td></tr><tr><td>&quot;Lockport Lock and Controlling …</td><td>41.568934</td><td>-88.078054</td><td>&quot;Illinois&quot;</td><td>&quot;Will&quot;</td><td>&quot;JOLIET&quot;</td><td>&quot;CHICAGO SANITARY &amp; SHIP CANAL&quot;</td><td>1933</td><td>&quot;1930-1939&quot;</td><td>0</td><td>25000.0</td><td>25000.0</td><td>0.0</td><td>740.0</td><td>2112.0</td><td>36000</td></tr><tr><td>&quot;Arkabutla Dam&quot;</td><td>34.759214</td><td>-90.123745</td><td>&quot;Mississippi&quot;</td><td>&quot;DeSoto&quot;</td><td>&quot;TUNICA&quot;</td><td>&quot;COLDWATER RIVER&quot;</td><td>1943</td><td>&quot;1940-1949&quot;</td><td>4700000</td><td>1.3838e6</td><td>1.3838e6</td><td>31500.0</td><td>1000.0</td><td>5100.0</td><td>111000</td></tr><tr><td>&quot;Grapevine Dam&quot;</td><td>32.969859</td><td>-97.056211</td><td>&quot;Texas&quot;</td><td>&quot;Tarrant&quot;</td><td>&quot;CARROLLTON&quot;</td><td>&quot;DENTON CREEK&quot;</td><td>1952</td><td>&quot;1950-1959&quot;</td><td>7070000</td><td>788000.0</td><td>788000.0</td><td>181000.0</td><td>688.0</td><td>7380.0</td><td>191310</td></tr><tr><td>&quot;Lewisville Dam&quot;</td><td>33.069315</td><td>-96.964539</td><td>&quot;Texas&quot;</td><td>&quot;Denton&quot;</td><td>&quot;LEWISVILLE&quot;</td><td>&quot;ELM FORK OF THE TRINITY RIVER&quot;</td><td>1955</td><td>&quot;1950-1959&quot;</td><td>14422000</td><td>1.8043e6</td><td>1.8043e6</td><td>618400.0</td><td>1660.0</td><td>23280.0</td><td>216800</td></tr></tbody></table></div>"
      ],
      "text/plain": [
       "shape: (88_924, 16)\n",
       "┌───────────┬───────────┬───────────┬───────────┬───┬───────────┬───────────┬───────────┬──────────┐\n",
       "│ DAM       ┆ LAT       ┆ LONG      ┆ STATE     ┆ … ┆ NORM_STG_ ┆ DRAINAGE_ ┆ SURF_AREA ┆ MAX_DISC │\n",
       "│ ---       ┆ ---       ┆ ---       ┆ ---       ┆   ┆ ACR_FT    ┆ SQ_MILES  ┆ _SQM      ┆ HRG_CUB_ │\n",
       "│ str       ┆ f64       ┆ f64       ┆ str       ┆   ┆ ---       ┆ ---       ┆ ---       ┆ FT_SEC   │\n",
       "│           ┆           ┆           ┆           ┆   ┆ f64       ┆ f64       ┆ f64       ┆ ---      │\n",
       "│           ┆           ┆           ┆           ┆   ┆           ┆           ┆           ┆ i64      │\n",
       "╞═══════════╪═══════════╪═══════════╪═══════════╪═══╪═══════════╪═══════════╪═══════════╪══════════╡\n",
       "│ Aichi     ┆ 38.28828  ┆ -84.55619 ┆ Kentucky  ┆ … ┆ 26.6      ┆ 1.35      ┆ 8.0       ┆ null     │\n",
       "│ Forge Usa ┆           ┆           ┆           ┆   ┆           ┆           ┆           ┆          │\n",
       "│ Dam       ┆           ┆           ┆           ┆   ┆           ┆           ┆           ┆          │\n",
       "│ Oxy Usa   ┆ 47.156385 ┆ -102.7706 ┆ North     ┆ … ┆ null      ┆ null      ┆ null      ┆ null     │\n",
       "│ Retention ┆           ┆ 12        ┆ Dakota    ┆   ┆           ┆           ┆           ┆          │\n",
       "│ Pond      ┆           ┆           ┆           ┆   ┆           ┆           ┆           ┆          │\n",
       "│ Dod Usa 4 ┆ 35.671912 ┆ -95.18729 ┆ Oklahoma  ┆ … ┆ 25.0      ┆ null      ┆ null      ┆ 20       │\n",
       "│           ┆           ┆ 1         ┆           ┆   ┆           ┆           ┆           ┆          │\n",
       "│ Dod Usa 2 ┆ 35.703409 ┆ -95.13637 ┆ Oklahoma  ┆ … ┆ 25.0      ┆ null      ┆ 5.0       ┆ 200      │\n",
       "│           ┆           ┆ 5         ┆           ┆   ┆           ┆           ┆           ┆          │\n",
       "│ Girl      ┆ 35.2356   ┆ -81.265   ┆ North     ┆ … ┆ 12.0      ┆ 0.12      ┆ 2.0       ┆ null     │\n",
       "│ Scouts of ┆           ┆           ┆ Carolina  ┆   ┆           ┆           ┆           ┆          │\n",
       "│ Usa Dam   ┆           ┆           ┆           ┆   ┆           ┆           ┆           ┆          │\n",
       "│ …         ┆ …         ┆ …         ┆ …         ┆ … ┆ …         ┆ …         ┆ …         ┆ …        │\n",
       "│ Foster    ┆ 44.415614 ┆ -122.6701 ┆ Oregon    ┆ … ┆ 56000.0   ┆ 494.0     ┆ 1220.0    ┆ 195000   │\n",
       "│ Dam       ┆           ┆ 61        ┆           ┆   ┆           ┆           ┆           ┆          │\n",
       "│ Lockport  ┆ 41.568934 ┆ -88.07805 ┆ Illinois  ┆ … ┆ 0.0       ┆ 740.0     ┆ 2112.0    ┆ 36000    │\n",
       "│ Lock and  ┆           ┆ 4         ┆           ┆   ┆           ┆           ┆           ┆          │\n",
       "│ Controlli ┆           ┆           ┆           ┆   ┆           ┆           ┆           ┆          │\n",
       "│ ng …      ┆           ┆           ┆           ┆   ┆           ┆           ┆           ┆          │\n",
       "│ Arkabutla ┆ 34.759214 ┆ -90.12374 ┆ Mississip ┆ … ┆ 31500.0   ┆ 1000.0    ┆ 5100.0    ┆ 111000   │\n",
       "│ Dam       ┆           ┆ 5         ┆ pi        ┆   ┆           ┆           ┆           ┆          │\n",
       "│ Grapevine ┆ 32.969859 ┆ -97.05621 ┆ Texas     ┆ … ┆ 181000.0  ┆ 688.0     ┆ 7380.0    ┆ 191310   │\n",
       "│ Dam       ┆           ┆ 1         ┆           ┆   ┆           ┆           ┆           ┆          │\n",
       "│ Lewisvill ┆ 33.069315 ┆ -96.96453 ┆ Texas     ┆ … ┆ 618400.0  ┆ 1660.0    ┆ 23280.0   ┆ 216800   │\n",
       "│ e Dam     ┆           ┆ 9         ┆           ┆   ┆           ┆           ┆           ┆          │\n",
       "└───────────┴───────────┴───────────┴───────────┴───┴───────────┴───────────┴───────────┴──────────┘"
      ]
     },
     "execution_count": 12,
     "metadata": {},
     "output_type": "execute_result"
    }
   ],
   "source": [
    "(\n",
    "    df\n",
    "    .with_columns(\n",
    "        DAM = pl.col('DAM').str.split(' ').list.slice(0, 5).list.join(' ')\n",
    "    )\n",
    ")"
   ]
  }
 ],
 "metadata": {
  "kernelspec": {
   "display_name": "Python 3",
   "language": "python",
   "name": "python3"
  },
  "language_info": {
   "codemirror_mode": {
    "name": "ipython",
    "version": 3
   },
   "file_extension": ".py",
   "mimetype": "text/x-python",
   "name": "python",
   "nbconvert_exporter": "python",
   "pygments_lexer": "ipython3",
   "version": "3.13.1"
  }
 },
 "nbformat": 4,
 "nbformat_minor": 5
}
