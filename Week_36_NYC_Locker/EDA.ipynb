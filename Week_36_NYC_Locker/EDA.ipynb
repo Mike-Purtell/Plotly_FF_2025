{
 "cells": [
  {
   "cell_type": "code",
   "execution_count": null,
   "id": "4061ee11",
   "metadata": {},
   "outputs": [],
   "source": [
    "import polars as pl\n",
    "import polars.selectors as cs\n",
    "import plotly.express as px\n",
    "\n",
    "\n",
    "df = (\n",
    "    pl.read_csv(\n",
    "        'LockerNYC_Reservations_20250903.csv',\n",
    "    )\n",
    "    .rename(    \n",
    "        lambda c: \n",
    "            c.upper()          # all column names to upper case\n",
    "            .replace(' ', '_') # replace blanks with underscores\n",
    "            .replace(r'(', '') # replace left parens with underscores\n",
    "            .replace(r')', '') # replace left parens with underscores\n",
    "    )\n",
    "    .select(\n",
    "        ['TYPE', 'DELIVERED',\n",
    "        'RECEIVED',\n",
    "        'LOCKER_NAME', 'LOCKER_BOX_DOOR', 'LOCKER_SIZE', \n",
    "        'PICKUP_DURATION', 'DELIVERY_DURATION', \n",
    "        'LOCATION_TYPE', 'ADDRESS', 'LATITUDE', 'LONGITUDE', \n",
    "        'BOROUGH',\n",
    "        'RECEIVE_DATE', 'CREATED_DATE', 'DELIVERY_DATE', 'WITHDRAW_DATE', 'EXPIRE_DATE',\n",
    "        ],\n",
    "    )\n",
    "    .with_columns(cs.ends_with('_DATE').str.to_datetime(format=\"%m/%d/%Y %H:%M\"))\n",
    "    .with_columns(ZIP_CODE = pl.col('ADDRESS').str.split(' ').list.last())\n",
    "    .with_columns(ADDRESS = pl.col('ADDRESS').str.split(',').list.first())\n",
    ")\n",
    "print(df.sample(3))\n"
   ]
  },
  {
   "cell_type": "code",
   "execution_count": null,
   "id": "0d737bb4",
   "metadata": {},
   "outputs": [],
   "source": [
    "(\n",
    "    df\n",
    "    .filter(pl.col('CREATED_DATE') != pl.col('RECEIVE_DATE'))\n",
    "    .filter(pl.col('PICKUP_DURATION').is_not_null())\n",
    "    .sample(10)\n",
    "    .glimpse()\n",
    ")"
   ]
  },
  {
   "cell_type": "code",
   "execution_count": null,
   "id": "857de896",
   "metadata": {},
   "outputs": [],
   "source": [
    "(\n",
    "    df\n",
    "    .filter(pl.col('CREATED_DATE') != pl.col('RECEIVE_DATE'))\n",
    "    .filter(pl.col('PICKUP_DURATION').is_not_null())\n",
    "    .select('CREATED_DATE', 'DELIVERY_DATE', 'RECEIVE_DATE','WITHDRAW_DATE', 'EXPIRE_DATE' )\n",
    "    .sample(5)\n",
    "    .transpose(include_header=True)\n",
    "    .sort('column_0')\n",
    ")\n",
    "\n",
    "\n",
    "\n",
    "# .str.strptime(pl.Datetime, fmt=\"%m/%d/%Y %H:%M\")\n"
   ]
  },
  {
   "cell_type": "code",
   "execution_count": null,
   "id": "2ff8ac0f",
   "metadata": {},
   "outputs": [],
   "source": [
    "for c in df.columns:\n",
    "    print(\n",
    "        c, \n",
    "        df[c]\n",
    "        .value_counts()\n",
    "        .with_columns(\n",
    "            PCT = (100*pl.col('count')/pl.col('count').sum()).cast(pl.Float32)\n",
    "        )\n",
    "    )"
   ]
  },
  {
   "cell_type": "code",
   "execution_count": null,
   "id": "7198f0b1",
   "metadata": {},
   "outputs": [],
   "source": [
    "print(list(df.columns))\n",
    "print()"
   ]
  },
  {
   "cell_type": "code",
   "execution_count": null,
   "id": "2ece95a1",
   "metadata": {},
   "outputs": [],
   "source": [
    "print(sorted(list(set(df['BOROUGH']))))"
   ]
  },
  {
   "cell_type": "code",
   "execution_count": null,
   "id": "42a70bf2",
   "metadata": {},
   "outputs": [],
   "source": [
    "fig = px.scatter_map(\n",
    "    df,\n",
    "    lat = 'LATITUDE',\n",
    "    lon = 'LONGITUDE',\n",
    "    color='BOROUGH'\n",
    ")\n",
    "fig.show()"
   ]
  },
  {
   "cell_type": "code",
   "execution_count": null,
   "id": "fdf84de0",
   "metadata": {},
   "outputs": [],
   "source": [
    "group_by_cols = ['LOCKER_NAME', 'ADDRESS', 'LOCATION_TYPE', 'LATITUDE', 'LONGITUDE', 'BOROUGH']\n",
    "df_group_by = (\n",
    "    df\n",
    "    .group_by(group_by_cols).len()\n",
    "    .rename({'len':  'COUNT'})\n",
    "    .sort('COUNT')\n",
    ")\n",
    "df_group_by\n",
    "# df_group_by['len'].sum()"
   ]
  },
  {
   "cell_type": "code",
   "execution_count": null,
   "id": "4609744d",
   "metadata": {},
   "outputs": [],
   "source": [
    "df.columns"
   ]
  }
 ],
 "metadata": {
  "kernelspec": {
   "display_name": "Python 3",
   "language": "python",
   "name": "python3"
  },
  "language_info": {
   "codemirror_mode": {
    "name": "ipython",
    "version": 3
   },
   "file_extension": ".py",
   "mimetype": "text/x-python",
   "name": "python",
   "nbconvert_exporter": "python",
   "pygments_lexer": "ipython3",
   "version": "3.13.5"
  }
 },
 "nbformat": 4,
 "nbformat_minor": 5
}
