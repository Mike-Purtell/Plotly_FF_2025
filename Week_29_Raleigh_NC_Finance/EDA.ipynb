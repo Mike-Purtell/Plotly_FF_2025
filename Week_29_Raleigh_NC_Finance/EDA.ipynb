{
 "cells": [
  {
   "cell_type": "code",
   "execution_count": 1,
   "id": "d788182f",
   "metadata": {},
   "outputs": [
    {
     "data": {
      "text/plain": [
       "polars.config.Config"
      ]
     },
     "execution_count": 1,
     "metadata": {},
     "output_type": "execute_result"
    }
   ],
   "source": [
    "import polars as pl\n",
    "pl.Config().set_tbl_rows(30)"
   ]
  },
  {
   "cell_type": "code",
   "execution_count": 41,
   "id": "28ba852c",
   "metadata": {},
   "outputs": [
    {
     "name": "stdout",
     "output_type": "stream",
     "text": [
      "['FUND_CODE', 'FUND_NAME', 'DEPT_CODE', 'DEPT', 'DIV_CODE', 'DIV', 'UNIT_CODE', 'COST_CENTER', 'TYPE_CODE', 'TYPE_NAME', 'CAT_CODE', 'EXP_CAT', 'CLASS_CODE', 'CLASS_NAME', 'CODE', 'EXP_LINE_ITEM', 'REC_DATE', 'CHECK_NUM', 'DOC_ID', 'BUD_AMT', 'ACT_AMT']\n",
      "shape: (1, 21)\n",
      "┌───────────┬────────────┬───────────┬────────────┬───┬───────────┬────────────┬─────────┬─────────┐\n",
      "│ FUND_CODE ┆ FUND_NAME  ┆ DEPT_CODE ┆ DEPT       ┆ … ┆ CHECK_NUM ┆ DOC_ID     ┆ BUD_AMT ┆ ACT_AMT │\n",
      "│ ---       ┆ ---        ┆ ---       ┆ ---        ┆   ┆ ---       ┆ ---        ┆ ---     ┆ ---     │\n",
      "│ i64       ┆ str        ┆ i64       ┆ str        ┆   ┆ str       ┆ str        ┆ i64     ┆ str     │\n",
      "╞═══════════╪════════════╪═══════════╪════════════╪═══╪═══════════╪════════════╪═════════╪═════════╡\n",
      "│ 1000      ┆ General    ┆ 10        ┆ Board Of   ┆ … ┆ null      ┆ WCBE,10,20 ┆ 308762  ┆ null    │\n",
      "│           ┆ Fund       ┆           ┆ Commission ┆   ┆           ┆ 2306210000 ┆         ┆         │\n",
      "│           ┆            ┆           ┆ ers        ┆   ┆           ┆ 0003       ┆         ┆         │\n",
      "└───────────┴────────────┴───────────┴────────────┴───┴───────────┴────────────┴─────────┴─────────┘\n",
      "shape: (9, 22)\n",
      "┌────────────┬───────────┬───────────┬───────────┬───┬───────────┬───────────┬───────────┬─────────┐\n",
      "│ statistic  ┆ FUND_CODE ┆ FUND_NAME ┆ DEPT_CODE ┆ … ┆ CHECK_NUM ┆ DOC_ID    ┆ BUD_AMT   ┆ ACT_AMT │\n",
      "│ ---        ┆ ---       ┆ ---       ┆ ---       ┆   ┆ ---       ┆ ---       ┆ ---       ┆ ---     │\n",
      "│ str        ┆ f64       ┆ str       ┆ f64       ┆   ┆ str       ┆ str       ┆ f64       ┆ str     │\n",
      "╞════════════╪═══════════╪═══════════╪═══════════╪═══╪═══════════╪═══════════╪═══════════╪═════════╡\n",
      "│ count      ┆ 176167.0  ┆ 176167    ┆ 176167.0  ┆ … ┆ 35575     ┆ 176167    ┆ 14189.0   ┆ 161978  │\n",
      "│ null_count ┆ 0.0       ┆ 0         ┆ 0.0       ┆ … ┆ 140592    ┆ 0         ┆ 161978.0  ┆ 14189   │\n",
      "│ mean       ┆ 1303.6928 ┆ null      ┆ 41.607276 ┆ … ┆ null      ┆ null      ┆ 182799.13 ┆ null    │\n",
      "│            ┆ 03        ┆           ┆           ┆   ┆           ┆           ┆ 2779      ┆         │\n",
      "│ std        ┆ 896.81921 ┆ null      ┆ 10.014724 ┆ … ┆ null      ┆ null      ┆ 3.6599e6  ┆ null    │\n",
      "│            ┆ 8         ┆           ┆           ┆   ┆           ┆           ┆           ┆         │\n",
      "│ min        ┆ 1000.0    ┆ Affordabl ┆ 10.0      ┆ … ┆ 10151235  ┆ AD,22,AU2 ┆ -3.767061 ┆ -1      │\n",
      "│            ┆           ┆ e Housing ┆           ┆   ┆           ┆ 020072300 ┆ e7        ┆         │\n",
      "│            ┆           ┆ CIP       ┆           ┆   ┆           ┆ 1827      ┆           ┆         │\n",
      "│ 25%        ┆ 1000.0    ┆ null      ┆ 40.0      ┆ … ┆ null      ┆ null      ┆ 52.0      ┆ null    │\n",
      "│ 50%        ┆ 1000.0    ┆ null      ┆ 46.0      ┆ … ┆ null      ┆ null      ┆ 1000.0    ┆ null    │\n",
      "│ 75%        ┆ 1000.0    ┆ null      ┆ 46.0      ┆ … ┆ null      ┆ null      ┆ 11904.0   ┆ null    │\n",
      "│ max        ┆ 6200.0    ┆ Workforce ┆ 97.0      ┆ … ┆ 620025927 ┆ WCDE,58,2 ┆ 2.64703e8 ┆ 9999    │\n",
      "│            ┆           ┆ Developme ┆           ┆   ┆ 3         ┆ 023073000 ┆           ┆         │\n",
      "│            ┆           ┆ nt        ┆           ┆   ┆           ┆ 000122    ┆           ┆         │\n",
      "└────────────┴───────────┴───────────┴───────────┴───┴───────────┴───────────┴───────────┴─────────┘\n"
     ]
    }
   ],
   "source": [
    "df_budget = (\n",
    "    pl.read_csv(\n",
    "        'Budget_FY2023.csv',\n",
    "        schema_overrides={  # top of these cols are integer-like\n",
    "            'Div_Code': pl.String,\n",
    "            'Unit_Code': pl.String,\n",
    "            }\n",
    "        )\n",
    "    .select(  # dropped FY (all values are 2023)\n",
    "        FUND_CODE = pl.col('Fund_Code').cast(pl.Int64),\n",
    "        FUND_NAME = pl.col('Fund_Name'),\n",
    "        DEPT_CODE = pl.col('Dept_Code'),\n",
    "        DEPT = pl.col('Department'),\n",
    "        DIV_CODE = pl.col('Div_Code'),\n",
    "        DIV = pl.col('Division'),\n",
    "        UNIT_CODE = pl.col('Unit_Code'),\n",
    "        COST_CENTER = pl.col('Cost_Center'),\n",
    "        TYPE_CODE = pl.col('Obj_Type_Code'),\n",
    "        TYPE_NAME = pl.col('Obj_Type_Name'),\n",
    "        CAT_CODE = pl.col('Obj_Cat_Code'),\n",
    "        EXP_CAT = pl.col('Expenditure_Category'),\n",
    "        CLASS_CODE = pl.col('Obj_Class_Code'),\n",
    "        CLASS_NAME = pl.col('Obj_Class_Name'),\n",
    "        CODE = pl.col('Obj_Code'),\n",
    "        EXP_LINE_ITEM = pl.col('Expenditure_Line_Item'),\n",
    "        REC_DATE = pl.col('Record_Date'),\n",
    "        CHECK_NUM = pl.col('Check_Number'),\n",
    "        DOC_ID = pl.col('Document_ID'),\n",
    "        BUD_AMT = pl.col('Budgeted_Amount'),\n",
    "        ACT_AMT = pl.col('Actual_Amount'),\n",
    "    )\n",
    ")\n",
    "print(df_budget.columns)\n",
    "print(df_budget.head(1))\n",
    "print(df_budget.describe())"
   ]
  },
  {
   "cell_type": "code",
   "execution_count": null,
   "id": "1cd4e588",
   "metadata": {},
   "outputs": [],
   "source": []
  },
  {
   "cell_type": "code",
   "execution_count": 21,
   "id": "0fd70529",
   "metadata": {},
   "outputs": [
    {
     "name": "stdout",
     "output_type": "stream",
     "text": [
      "FY = pl.col('FY'),\n",
      "APD = pl.col('APD'),\n",
      "FUND_CODE = pl.col('Fund_Code'),\n",
      "FUND_NAME = pl.col('Fund_Name'),\n",
      "DEPT_CODE = pl.col('Dept_Code'),\n",
      "DEPARTMENT = pl.col('Department'),\n",
      "DIV_CODE = pl.col('Div_Code'),\n",
      "DIVISION = pl.col('Division'),\n",
      "UNIT_CODE = pl.col('Unit_Code'),\n",
      "COST_CENTER = pl.col('Cost_Center'),\n",
      "OBJ_TYPE_CODE = pl.col('Obj_Type_Code'),\n",
      "OBJ_TYPE_NAME = pl.col('Obj_Type_Name'),\n",
      "OBJ_CAT_CODE = pl.col('Obj_Cat_Code'),\n",
      "EXPENDITURE_CATEGORY = pl.col('Expenditure_Category'),\n",
      "OBJ_CLASS_CODE = pl.col('Obj_Class_Code'),\n",
      "OBJ_CLASS_NAME = pl.col('Obj_Class_Name'),\n",
      "OBJ_CODE = pl.col('Obj_Code'),\n",
      "EXPENDITURE_LINE_ITEM = pl.col('Expenditure_Line_Item'),\n",
      "RECORD_DATE = pl.col('Record_Date'),\n",
      "CHECK_NUMBER = pl.col('Check_Number'),\n",
      "DOCUMENT_ID = pl.col('Document_ID'),\n",
      "BUDGETED_AMOUNT = pl.col('Budgeted_Amount'),\n",
      "ACTUAL_AMOUNT = pl.col('Actual_Amount'),\n"
     ]
    }
   ],
   "source": [
    "for col in df_budget.columns:\n",
    "    print(f\"{col.upper()} = pl.col('{col}'),\")"
   ]
  },
  {
   "cell_type": "code",
   "execution_count": 3,
   "id": "b570e4ff",
   "metadata": {},
   "outputs": [
    {
     "name": "stdout",
     "output_type": "stream",
     "text": [
      "['COUNTRY', 'ISO3', 'YEAR', 'REGION', 'CPI_SCORE', 'RANK', 'STD_ERR', 'COUNTRY_MED', 'REGIONAL_MED']\n"
     ]
    },
    {
     "data": {
      "text/html": [
       "<div><style>\n",
       ".dataframe > thead > tr,\n",
       ".dataframe > tbody > tr {\n",
       "  text-align: right;\n",
       "  white-space: pre-wrap;\n",
       "}\n",
       "</style>\n",
       "<small>shape: (13, 9)</small><table border=\"1\" class=\"dataframe\"><thead><tr><th>COUNTRY</th><th>ISO3</th><th>YEAR</th><th>REGION</th><th>CPI_SCORE</th><th>RANK</th><th>STD_ERR</th><th>COUNTRY_MED</th><th>REGIONAL_MED</th></tr><tr><td>str</td><td>str</td><td>i64</td><td>str</td><td>i64</td><td>i64</td><td>f64</td><td>f64</td><td>f64</td></tr></thead><tbody><tr><td>&quot;Iran&quot;</td><td>&quot;IRN&quot;</td><td>2012</td><td>&quot;MENA&quot;</td><td>28</td><td>133</td><td>4.6</td><td>26.0</td><td>39.0</td></tr><tr><td>&quot;Iran&quot;</td><td>&quot;IRN&quot;</td><td>2013</td><td>&quot;MENA&quot;</td><td>25</td><td>144</td><td>3.9</td><td>26.0</td><td>39.0</td></tr><tr><td>&quot;Iran&quot;</td><td>&quot;IRN&quot;</td><td>2014</td><td>&quot;MENA&quot;</td><td>27</td><td>136</td><td>4.72</td><td>26.0</td><td>39.0</td></tr><tr><td>&quot;Iran&quot;</td><td>&quot;IRN&quot;</td><td>2015</td><td>&quot;MENA&quot;</td><td>27</td><td>130</td><td>3.28</td><td>26.0</td><td>39.0</td></tr><tr><td>&quot;Iran&quot;</td><td>&quot;IRN&quot;</td><td>2016</td><td>&quot;MENA&quot;</td><td>29</td><td>131</td><td>2.47</td><td>26.0</td><td>39.0</td></tr><tr><td>&quot;Iran&quot;</td><td>&quot;IRN&quot;</td><td>2017</td><td>&quot;MENA&quot;</td><td>30</td><td>130</td><td>3.51</td><td>26.0</td><td>39.0</td></tr><tr><td>&quot;Iran&quot;</td><td>&quot;IRN&quot;</td><td>2018</td><td>&quot;MENA&quot;</td><td>28</td><td>138</td><td>2.89</td><td>26.0</td><td>39.0</td></tr><tr><td>&quot;Iran&quot;</td><td>&quot;IRN&quot;</td><td>2019</td><td>&quot;MENA&quot;</td><td>26</td><td>146</td><td>3.63</td><td>26.0</td><td>39.0</td></tr><tr><td>&quot;Iran&quot;</td><td>&quot;IRN&quot;</td><td>2020</td><td>&quot;MENA&quot;</td><td>25</td><td>149</td><td>2.56</td><td>26.0</td><td>39.0</td></tr><tr><td>&quot;Iran&quot;</td><td>&quot;IRN&quot;</td><td>2021</td><td>&quot;MENA&quot;</td><td>25</td><td>150</td><td>2.29</td><td>26.0</td><td>39.0</td></tr><tr><td>&quot;Iran&quot;</td><td>&quot;IRN&quot;</td><td>2022</td><td>&quot;MENA&quot;</td><td>25</td><td>147</td><td>2.32</td><td>26.0</td><td>39.0</td></tr><tr><td>&quot;Iran&quot;</td><td>&quot;IRN&quot;</td><td>2023</td><td>&quot;MENA&quot;</td><td>24</td><td>149</td><td>2.63</td><td>26.0</td><td>39.0</td></tr><tr><td>&quot;Iran&quot;</td><td>&quot;IRN&quot;</td><td>2024</td><td>&quot;MENA&quot;</td><td>23</td><td>151</td><td>2.22</td><td>26.0</td><td>39.0</td></tr></tbody></table></div>"
      ],
      "text/plain": [
       "shape: (13, 9)\n",
       "┌─────────┬──────┬──────┬────────┬───┬──────┬─────────┬─────────────┬──────────────┐\n",
       "│ COUNTRY ┆ ISO3 ┆ YEAR ┆ REGION ┆ … ┆ RANK ┆ STD_ERR ┆ COUNTRY_MED ┆ REGIONAL_MED │\n",
       "│ ---     ┆ ---  ┆ ---  ┆ ---    ┆   ┆ ---  ┆ ---     ┆ ---         ┆ ---          │\n",
       "│ str     ┆ str  ┆ i64  ┆ str    ┆   ┆ i64  ┆ f64     ┆ f64         ┆ f64          │\n",
       "╞═════════╪══════╪══════╪════════╪═══╪══════╪═════════╪═════════════╪══════════════╡\n",
       "│ Iran    ┆ IRN  ┆ 2012 ┆ MENA   ┆ … ┆ 133  ┆ 4.6     ┆ 26.0        ┆ 39.0         │\n",
       "│ Iran    ┆ IRN  ┆ 2013 ┆ MENA   ┆ … ┆ 144  ┆ 3.9     ┆ 26.0        ┆ 39.0         │\n",
       "│ Iran    ┆ IRN  ┆ 2014 ┆ MENA   ┆ … ┆ 136  ┆ 4.72    ┆ 26.0        ┆ 39.0         │\n",
       "│ Iran    ┆ IRN  ┆ 2015 ┆ MENA   ┆ … ┆ 130  ┆ 3.28    ┆ 26.0        ┆ 39.0         │\n",
       "│ Iran    ┆ IRN  ┆ 2016 ┆ MENA   ┆ … ┆ 131  ┆ 2.47    ┆ 26.0        ┆ 39.0         │\n",
       "│ Iran    ┆ IRN  ┆ 2017 ┆ MENA   ┆ … ┆ 130  ┆ 3.51    ┆ 26.0        ┆ 39.0         │\n",
       "│ Iran    ┆ IRN  ┆ 2018 ┆ MENA   ┆ … ┆ 138  ┆ 2.89    ┆ 26.0        ┆ 39.0         │\n",
       "│ Iran    ┆ IRN  ┆ 2019 ┆ MENA   ┆ … ┆ 146  ┆ 3.63    ┆ 26.0        ┆ 39.0         │\n",
       "│ Iran    ┆ IRN  ┆ 2020 ┆ MENA   ┆ … ┆ 149  ┆ 2.56    ┆ 26.0        ┆ 39.0         │\n",
       "│ Iran    ┆ IRN  ┆ 2021 ┆ MENA   ┆ … ┆ 150  ┆ 2.29    ┆ 26.0        ┆ 39.0         │\n",
       "│ Iran    ┆ IRN  ┆ 2022 ┆ MENA   ┆ … ┆ 147  ┆ 2.32    ┆ 26.0        ┆ 39.0         │\n",
       "│ Iran    ┆ IRN  ┆ 2023 ┆ MENA   ┆ … ┆ 149  ┆ 2.63    ┆ 26.0        ┆ 39.0         │\n",
       "│ Iran    ┆ IRN  ┆ 2024 ┆ MENA   ┆ … ┆ 151  ┆ 2.22    ┆ 26.0        ┆ 39.0         │\n",
       "└─────────┴──────┴──────┴────────┴───┴──────┴─────────┴─────────────┴──────────────┘"
      ]
     },
     "execution_count": 3,
     "metadata": {},
     "output_type": "execute_result"
    }
   ],
   "source": [
    "df_historical = (\n",
    "    pl.read_csv('CPI-historical.csv')\n",
    "    .select(\n",
    "        COUNTRY = pl.col('Country / Territory'),\n",
    "        ISO3 = pl.col('ISO3'), # no mods to ISO3 column\n",
    "        YEAR = pl.col('Year'),\n",
    "        REGION = pl.col('Region'),\n",
    "        CPI_SCORE = pl.col('CPI score'),\n",
    "        RANK= pl.col('Rank'),\n",
    "        STD_ERR = pl.col('Standard error')\n",
    "    )\n",
    "    .with_columns(\n",
    "        COUNTRY_MED = pl.col('CPI_SCORE').median().over('COUNTRY'),\n",
    "        REGIONAL_MED = pl.col('CPI_SCORE').median().over('REGION'),\n",
    "    )\n",
    ")\n",
    "print(df_historical.columns)\n",
    "df_historical.filter(pl.col('COUNTRY') == 'Iran')"
   ]
  },
  {
   "cell_type": "code",
   "execution_count": 4,
   "id": "ab70b7ba",
   "metadata": {},
   "outputs": [
    {
     "data": {
      "text/html": [
       "<div><style>\n",
       ".dataframe > thead > tr,\n",
       ".dataframe > tbody > tr {\n",
       "  text-align: right;\n",
       "  white-space: pre-wrap;\n",
       "}\n",
       "</style>\n",
       "<small>shape: (6, 2)</small><table border=\"1\" class=\"dataframe\"><thead><tr><th>REGION</th><th>count</th></tr><tr><td>str</td><td>u32</td></tr></thead><tbody><tr><td>&quot;MENA&quot;</td><td>234</td></tr><tr><td>&quot;SSA&quot;</td><td>630</td></tr><tr><td>&quot;AP&quot;</td><td>388</td></tr><tr><td>&quot;AME&quot;</td><td>410</td></tr><tr><td>&quot;ECA&quot;</td><td>247</td></tr><tr><td>&quot;WE/EU&quot;</td><td>403</td></tr></tbody></table></div>"
      ],
      "text/plain": [
       "shape: (6, 2)\n",
       "┌────────┬───────┐\n",
       "│ REGION ┆ count │\n",
       "│ ---    ┆ ---   │\n",
       "│ str    ┆ u32   │\n",
       "╞════════╪═══════╡\n",
       "│ MENA   ┆ 234   │\n",
       "│ SSA    ┆ 630   │\n",
       "│ AP     ┆ 388   │\n",
       "│ AME    ┆ 410   │\n",
       "│ ECA    ┆ 247   │\n",
       "│ WE/EU  ┆ 403   │\n",
       "└────────┴───────┘"
      ]
     },
     "execution_count": 4,
     "metadata": {},
     "output_type": "execute_result"
    }
   ],
   "source": [
    "df_historical['REGION'].value_counts() #.sort('Year')"
   ]
  },
  {
   "cell_type": "code",
   "execution_count": 14,
   "id": "d1fcf1c5",
   "metadata": {},
   "outputs": [
    {
     "data": {
      "text/plain": [
       "{'Korea, North', 'Korea, South', 'United States'}"
      ]
     },
     "execution_count": 14,
     "metadata": {},
     "output_type": "execute_result"
    }
   ],
   "source": [
    "(\n",
    "    set(df_cpi['COUNTRY']) - \n",
    "    set(df_historical['COUNTRY'])\n",
    ")"
   ]
  },
  {
   "cell_type": "code",
   "execution_count": 15,
   "id": "27d93f6f",
   "metadata": {},
   "outputs": [
    {
     "data": {
      "text/plain": [
       "{'Brunei Darussalam',\n",
       " 'North Korea',\n",
       " 'Puerto Rico',\n",
       " 'South Korea',\n",
       " 'United States of America'}"
      ]
     },
     "execution_count": 15,
     "metadata": {},
     "output_type": "execute_result"
    }
   ],
   "source": [
    "(\n",
    "    set(df_historical['COUNTRY']) - \n",
    "    set(df_cpi['COUNTRY'])\n",
    ")"
   ]
  },
  {
   "cell_type": "code",
   "execution_count": 6,
   "id": "5c49ebfa",
   "metadata": {},
   "outputs": [
    {
     "data": {
      "text/plain": [
       "[400, 500, 600, 700, 800, 900]"
      ]
     },
     "execution_count": 6,
     "metadata": {},
     "output_type": "execute_result"
    }
   ],
   "source": [
    "[t for t in range(400, 1000, 100)]"
   ]
  },
  {
   "cell_type": "code",
   "execution_count": 7,
   "id": "78c58976",
   "metadata": {},
   "outputs": [
    {
     "data": {
      "text/plain": [
       "[1000, 2000, 3000, 4000, 5000, 6000, 7000, 8000, 9000, 10000]"
      ]
     },
     "execution_count": 7,
     "metadata": {},
     "output_type": "execute_result"
    }
   ],
   "source": [
    "[t for t in range(1000, 11000, 1000)]"
   ]
  },
  {
   "cell_type": "code",
   "execution_count": 8,
   "id": "d858a8f8",
   "metadata": {},
   "outputs": [
    {
     "data": {
      "text/plain": [
       "[400,\n",
       " 500,\n",
       " 600,\n",
       " 700,\n",
       " 800,\n",
       " 900,\n",
       " 1000,\n",
       " 2000,\n",
       " 3000,\n",
       " 4000,\n",
       " 5000,\n",
       " 6000,\n",
       " 7000,\n",
       " 8000,\n",
       " 9000,\n",
       " 10000]"
      ]
     },
     "execution_count": 8,
     "metadata": {},
     "output_type": "execute_result"
    }
   ],
   "source": [
    "[t for t in range(400, 1000, 100)] +  [t for t in range(1000, 11000, 1000)]"
   ]
  }
 ],
 "metadata": {
  "kernelspec": {
   "display_name": "Python 3",
   "language": "python",
   "name": "python3"
  },
  "language_info": {
   "codemirror_mode": {
    "name": "ipython",
    "version": 3
   },
   "file_extension": ".py",
   "mimetype": "text/x-python",
   "name": "python",
   "nbconvert_exporter": "python",
   "pygments_lexer": "ipython3",
   "version": "3.13.5"
  }
 },
 "nbformat": 4,
 "nbformat_minor": 5
}
