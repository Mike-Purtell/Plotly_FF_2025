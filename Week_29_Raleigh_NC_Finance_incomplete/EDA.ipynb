{
 "cells": [
  {
   "cell_type": "code",
   "execution_count": null,
   "id": "d788182f",
   "metadata": {},
   "outputs": [],
   "source": [
    "import polars as pl\n",
    "import polars.selectors as cs\n",
    "# pl.Config().set_tbl_rows(30)"
   ]
  },
  {
   "cell_type": "code",
   "execution_count": null,
   "id": "28ba852c",
   "metadata": {},
   "outputs": [],
   "source": [
    "df_budget = (\n",
    "    pl.read_csv(\n",
    "        'Budget_FY2023.csv',\n",
    "        schema_overrides={  # top of these cols are integer-like\n",
    "            'Div_Code': pl.String,\n",
    "            'Unit_Code': pl.String,\n",
    "            },\n",
    "        try_parse_dates=True\n",
    "        )\n",
    "    .select(  # dropped FY (all values are 2023)\n",
    "        APD = pl.col('APD'), # .cast(pl.String)',\n",
    "        # FUND_CODE = pl.col('Fund_Code'), # .cast(pl.String)',\n",
    "        FUND = pl.col('Fund_Name').cast(pl.Categorical),\n",
    "        # DEPT_CODE = pl.col('Dept_Code'), # .cast(pl.String)',\n",
    "        DEPT = pl.col('Department').cast(pl.Categorical),\n",
    "        # DIV_CODE = pl.col('Div_Code').cast(pl.Categorical),\n",
    "        DIV = pl.col('Division').cast(pl.Categorical),\n",
    "        # UNIT_CODE = pl.col('Unit_Code').cast(pl.Categorical),\n",
    "        COST_CENTER = pl.col('Cost_Center').cast(pl.Categorical),\n",
    "        # TYPE_CODE = pl.col('Obj_Type_Code'), # .cast(pl.String)',\n",
    "        EXP_NAME = pl.col('Obj_Type_Name').cast(pl.Categorical),\n",
    "        # CAT_CODE = pl.col('Obj_Cat_Code'), # .cast(pl.String)',\n",
    "        EXP_CAT = pl.col('Expenditure_Category').cast(pl.Categorical),\n",
    "        # CLASS_CODE = pl.col('Obj_Class_Code'), # .cast(pl.String)',\n",
    "        CLASS_NAME = pl.col('Obj_Class_Name').cast(pl.Categorical),\n",
    "        # CODE = pl.col('Obj_Code'), # .cast(pl.String)',\n",
    "        EXP_ITEM = pl.col('Expenditure_Line_Item').cast(pl.Categorical),\n",
    "        REC_DATE = (\n",
    "            pl.col('Record_Date')\n",
    "            .str.split(' ').list.first()   # keep date portion of string\n",
    "            .str.strptime(pl.Date, format=\"%m/%d/%Y\")\n",
    "        ),\n",
    "        # CHECK_NUM = pl.col('Check_Number'), # .cast(pl.String)',\n",
    "        # DOCUMENT_ID = pl.col('Document_ID'), # .cast(pl.String)',\n",
    "        BUD_AMT = pl.col('Budgeted_Amount'), # .cast(pl.String)',\n",
    "        ACT_AMT = pl.col('Actual_Amount'), # .cast(pl.String)',\n",
    "        # ACT_PCT_BUD = (\n",
    "        #     pl.col('Actual_Amount') /\n",
    "        #     pl.col('Budgeted_Amount')\n",
    "        # )\n",
    "    )\n",
    ")\n",
    "df_budget.head(2)"
   ]
  },
  {
   "cell_type": "code",
   "execution_count": null,
   "id": "77c7db1b",
   "metadata": {},
   "outputs": [],
   "source": [
    "for col in ['EXP_NAME', 'EXP_CAT', 'CLASS_NAME']:\n",
    "    print(df_budget[col].value_counts())"
   ]
  },
  {
   "cell_type": "code",
   "execution_count": null,
   "id": "1bfc78d1",
   "metadata": {},
   "outputs": [],
   "source": [
    "int_cols = (\n",
    "    df_budget.select(cs.by_dtype(pl.Int64))\n",
    "    .columns\n",
    ")\n",
    "int_cols\n",
    "str_cols = (\n",
    "    df_budget.select(cs.by_dtype(pl.String))\n",
    "    .columns\n",
    ")\n",
    "str_cols\n"
   ]
  },
  {
   "cell_type": "code",
   "execution_count": null,
   "id": "6806d086",
   "metadata": {},
   "outputs": [],
   "source": [
    "for col in str_cols:\n",
    "    print(df_budget[col].value_counts())"
   ]
  },
  {
   "cell_type": "code",
   "execution_count": null,
   "id": "62002e91",
   "metadata": {},
   "outputs": [],
   "source": [
    "for col in int_cols:\n",
    "    print(df_budget[col].value_counts())"
   ]
  },
  {
   "cell_type": "markdown",
   "id": "cab67aaa",
   "metadata": {},
   "source": [
    "#### select, rename, cast columns"
   ]
  },
  {
   "cell_type": "code",
   "execution_count": null,
   "id": "0fd70529",
   "metadata": {},
   "outputs": [],
   "source": [
    "for i, col in enumerate(df_budget.columns):\n",
    "    select_string = (\n",
    "        f\"{col.upper().replace(' ', '_')} \" + \n",
    "        f\"= pl.col('{col}'), # .cast(pl.String)',\"\n",
    "    )\n",
    "    if i<5:\n",
    "        print(select_string)\n",
    "    # print(f\"{col.upper().replace(' ', '_')} = pl.col('{col} # .cast(pl.String)'),\")"
   ]
  }
 ],
 "metadata": {
  "kernelspec": {
   "display_name": "Python 3",
   "language": "python",
   "name": "python3"
  },
  "language_info": {
   "codemirror_mode": {
    "name": "ipython",
    "version": 3
   },
   "file_extension": ".py",
   "mimetype": "text/x-python",
   "name": "python",
   "nbconvert_exporter": "python",
   "pygments_lexer": "ipython3",
   "version": "3.13.5"
  }
 },
 "nbformat": 4,
 "nbformat_minor": 5
}
