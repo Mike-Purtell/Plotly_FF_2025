{
 "cells": [
  {
   "cell_type": "code",
   "execution_count": 4,
   "id": "80911e33",
   "metadata": {},
   "outputs": [
    {
     "name": "stdout",
     "output_type": "stream",
     "text": [
      "df_col_defs = ['Year', 'Total carbon emissions from fossil fuel consumption and cement production (million metric tons of C)', 'Carbon emissions from solid fuel consumption', 'Carbon emissions from liquid fuel consumption', 'Carbon emissions from gas fuel consumption', 'Carbon emissions from cement production', 'Carbon emissions from gas flaring', 'Per capita carbon emissions (metric tons of carbon; after 1949 only)']\n",
      "df_col_names = ['YEAR', 'FOSSIL', 'SOLID', 'LIQUID', 'GAS', 'CEMENT', 'FLARING', 'PER_CAP']\n",
      "dict_cols = {'Year': 'YEAR', 'Total carbon emissions from fossil fuel consumption and cement production (million metric tons of C)': 'FOSSIL', 'Carbon emissions from solid fuel consumption': 'SOLID', 'Carbon emissions from liquid fuel consumption': 'LIQUID', 'Carbon emissions from gas fuel consumption': 'GAS', 'Carbon emissions from cement production': 'CEMENT', 'Carbon emissions from gas flaring': 'FLARING', 'Per capita carbon emissions (metric tons of carbon; after 1949 only)': 'PER_CAP'}\n"
     ]
    },
    {
     "data": {
      "text/html": [
       "<div><style>\n",
       ".dataframe > thead > tr,\n",
       ".dataframe > tbody > tr {\n",
       "  text-align: right;\n",
       "  white-space: pre-wrap;\n",
       "}\n",
       "</style>\n",
       "<small>shape: (271, 8)</small><table border=\"1\" class=\"dataframe\"><thead><tr><th>YEAR</th><th>FOSSIL</th><th>SOLID</th><th>LIQUID</th><th>GAS</th><th>CEMENT</th><th>FLARING</th><th>PER_CAP</th></tr><tr><td>str</td><td>i64</td><td>i64</td><td>i64</td><td>i64</td><td>i64</td><td>i64</td><td>f32</td></tr></thead><tbody><tr><td>&quot;1751&quot;</td><td>3</td><td>3</td><td>0</td><td>0</td><td>0</td><td>0</td><td>null</td></tr><tr><td>&quot;1752&quot;</td><td>3</td><td>3</td><td>0</td><td>0</td><td>0</td><td>0</td><td>null</td></tr><tr><td>&quot;1753&quot;</td><td>3</td><td>3</td><td>0</td><td>0</td><td>0</td><td>0</td><td>null</td></tr><tr><td>&quot;1754&quot;</td><td>3</td><td>3</td><td>0</td><td>0</td><td>0</td><td>0</td><td>null</td></tr><tr><td>&quot;1755&quot;</td><td>3</td><td>3</td><td>0</td><td>0</td><td>0</td><td>0</td><td>null</td></tr><tr><td>&hellip;</td><td>&hellip;</td><td>&hellip;</td><td>&hellip;</td><td>&hellip;</td><td>&hellip;</td><td>&hellip;</td><td>&hellip;</td></tr><tr><td>&quot;2017&quot;</td><td>9865</td><td>3975</td><td>3431</td><td>1986</td><td>387</td><td>87</td><td>1.297627</td></tr><tr><td>&quot;2018&quot;</td><td>10120</td><td>4095</td><td>3473</td><td>2060</td><td>405</td><td>86</td><td>1.316166</td></tr><tr><td>&quot;2019&quot;</td><td>10193</td><td>4067</td><td>3473</td><td>2147</td><td>414</td><td>91</td><td>1.311672</td></tr><tr><td>&quot;2020&quot;</td><td>9764</td><td>3939</td><td>3187</td><td>2127</td><td>426</td><td>86</td><td>1.243612</td></tr><tr><td>&quot;2021&quot;</td><td>10248</td><td>4135</td><td>3331</td><td>2234</td><td>458</td><td>90</td><td>1.293518</td></tr></tbody></table></div>"
      ],
      "text/plain": [
       "shape: (271, 8)\n",
       "┌──────┬────────┬───────┬────────┬──────┬────────┬─────────┬──────────┐\n",
       "│ YEAR ┆ FOSSIL ┆ SOLID ┆ LIQUID ┆ GAS  ┆ CEMENT ┆ FLARING ┆ PER_CAP  │\n",
       "│ ---  ┆ ---    ┆ ---   ┆ ---    ┆ ---  ┆ ---    ┆ ---     ┆ ---      │\n",
       "│ str  ┆ i64    ┆ i64   ┆ i64    ┆ i64  ┆ i64    ┆ i64     ┆ f32      │\n",
       "╞══════╪════════╪═══════╪════════╪══════╪════════╪═════════╪══════════╡\n",
       "│ 1751 ┆ 3      ┆ 3     ┆ 0      ┆ 0    ┆ 0      ┆ 0       ┆ null     │\n",
       "│ 1752 ┆ 3      ┆ 3     ┆ 0      ┆ 0    ┆ 0      ┆ 0       ┆ null     │\n",
       "│ 1753 ┆ 3      ┆ 3     ┆ 0      ┆ 0    ┆ 0      ┆ 0       ┆ null     │\n",
       "│ 1754 ┆ 3      ┆ 3     ┆ 0      ┆ 0    ┆ 0      ┆ 0       ┆ null     │\n",
       "│ 1755 ┆ 3      ┆ 3     ┆ 0      ┆ 0    ┆ 0      ┆ 0       ┆ null     │\n",
       "│ …    ┆ …      ┆ …     ┆ …      ┆ …    ┆ …      ┆ …       ┆ …        │\n",
       "│ 2017 ┆ 9865   ┆ 3975  ┆ 3431   ┆ 1986 ┆ 387    ┆ 87      ┆ 1.297627 │\n",
       "│ 2018 ┆ 10120  ┆ 4095  ┆ 3473   ┆ 2060 ┆ 405    ┆ 86      ┆ 1.316166 │\n",
       "│ 2019 ┆ 10193  ┆ 4067  ┆ 3473   ┆ 2147 ┆ 414    ┆ 91      ┆ 1.311672 │\n",
       "│ 2020 ┆ 9764   ┆ 3939  ┆ 3187   ┆ 2127 ┆ 426    ┆ 86      ┆ 1.243612 │\n",
       "│ 2021 ┆ 10248  ┆ 4135  ┆ 3331   ┆ 2234 ┆ 458    ┆ 90      ┆ 1.293518 │\n",
       "└──────┴────────┴───────┴────────┴──────┴────────┴─────────┴──────────┘"
      ]
     },
     "execution_count": 4,
     "metadata": {},
     "output_type": "execute_result"
    }
   ],
   "source": [
    "import polars as pl\n",
    "import plotly.express as px\n",
    "\n",
    "df_col_defs  = [c for c in pl.scan_csv('global.1751_2021.csv').collect_schema()]\n",
    "df_col_names = [\n",
    "    'YEAR', 'FOSSIL', 'SOLID', 'LIQUID', 'GAS', 'CEMENT', 'FLARING', 'PER_CAP']\n",
    "\n",
    "print(f'{df_col_defs = }')\n",
    "print(f'{df_col_names = }')\n",
    "dict_cols = dict(zip( df_col_defs, df_col_names))\n",
    "\n",
    "print(f'{dict_cols = }') \n",
    " \n",
    "df_by_year = (\n",
    "    pl.scan_csv('global.1751_2021.csv')\n",
    "    .rename(dict_cols)\n",
    "    .with_columns(\n",
    "        pl.col('PER_CAP').cast(pl.Float32),\n",
    "        pl.col('YEAR').cast(pl.String)\n",
    "    )\n",
    "\n",
    "    .collect()\n",
    ")\n",
    "df_by_year"
   ]
  },
  {
   "cell_type": "code",
   "execution_count": 5,
   "id": "537a7229",
   "metadata": {},
   "outputs": [
    {
     "data": {
      "text/html": [
       "<div><style>\n",
       ".dataframe > thead > tr,\n",
       ".dataframe > tbody > tr {\n",
       "  text-align: right;\n",
       "  white-space: pre-wrap;\n",
       "}\n",
       "</style>\n",
       "<small>shape: (271, 8)</small><table border=\"1\" class=\"dataframe\"><thead><tr><th>YEAR</th><th>FOSSIL</th><th>SOLID</th><th>LIQUID</th><th>GAS</th><th>CEMENT</th><th>FLARING</th><th>PER_CAP</th></tr><tr><td>str</td><td>i64</td><td>i64</td><td>i64</td><td>i64</td><td>i64</td><td>i64</td><td>f32</td></tr></thead><tbody><tr><td>&quot;1751&quot;</td><td>null</td><td>null</td><td>null</td><td>null</td><td>null</td><td>null</td><td>null</td></tr><tr><td>&quot;1752&quot;</td><td>0</td><td>0</td><td>0</td><td>0</td><td>0</td><td>0</td><td>null</td></tr><tr><td>&quot;1753&quot;</td><td>0</td><td>0</td><td>0</td><td>0</td><td>0</td><td>0</td><td>null</td></tr><tr><td>&quot;1754&quot;</td><td>0</td><td>0</td><td>0</td><td>0</td><td>0</td><td>0</td><td>null</td></tr><tr><td>&quot;1755&quot;</td><td>0</td><td>0</td><td>0</td><td>0</td><td>0</td><td>0</td><td>null</td></tr><tr><td>&hellip;</td><td>&hellip;</td><td>&hellip;</td><td>&hellip;</td><td>&hellip;</td><td>&hellip;</td><td>&hellip;</td><td>&hellip;</td></tr><tr><td>&quot;2017&quot;</td><td>138</td><td>52</td><td>24</td><td>57</td><td>-1</td><td>6</td><td>0.003182</td></tr><tr><td>&quot;2018&quot;</td><td>255</td><td>120</td><td>42</td><td>74</td><td>18</td><td>-1</td><td>0.01854</td></tr><tr><td>&quot;2019&quot;</td><td>73</td><td>-28</td><td>0</td><td>87</td><td>9</td><td>5</td><td>-0.004495</td></tr><tr><td>&quot;2020&quot;</td><td>-429</td><td>-128</td><td>-286</td><td>-20</td><td>12</td><td>-5</td><td>-0.06806</td></tr><tr><td>&quot;2021&quot;</td><td>484</td><td>196</td><td>144</td><td>107</td><td>32</td><td>4</td><td>0.049906</td></tr></tbody></table></div>"
      ],
      "text/plain": [
       "shape: (271, 8)\n",
       "┌──────┬────────┬───────┬────────┬──────┬────────┬─────────┬───────────┐\n",
       "│ YEAR ┆ FOSSIL ┆ SOLID ┆ LIQUID ┆ GAS  ┆ CEMENT ┆ FLARING ┆ PER_CAP   │\n",
       "│ ---  ┆ ---    ┆ ---   ┆ ---    ┆ ---  ┆ ---    ┆ ---     ┆ ---       │\n",
       "│ str  ┆ i64    ┆ i64   ┆ i64    ┆ i64  ┆ i64    ┆ i64     ┆ f32       │\n",
       "╞══════╪════════╪═══════╪════════╪══════╪════════╪═════════╪═══════════╡\n",
       "│ 1751 ┆ null   ┆ null  ┆ null   ┆ null ┆ null   ┆ null    ┆ null      │\n",
       "│ 1752 ┆ 0      ┆ 0     ┆ 0      ┆ 0    ┆ 0      ┆ 0       ┆ null      │\n",
       "│ 1753 ┆ 0      ┆ 0     ┆ 0      ┆ 0    ┆ 0      ┆ 0       ┆ null      │\n",
       "│ 1754 ┆ 0      ┆ 0     ┆ 0      ┆ 0    ┆ 0      ┆ 0       ┆ null      │\n",
       "│ 1755 ┆ 0      ┆ 0     ┆ 0      ┆ 0    ┆ 0      ┆ 0       ┆ null      │\n",
       "│ …    ┆ …      ┆ …     ┆ …      ┆ …    ┆ …      ┆ …       ┆ …         │\n",
       "│ 2017 ┆ 138    ┆ 52    ┆ 24     ┆ 57   ┆ -1     ┆ 6       ┆ 0.003182  │\n",
       "│ 2018 ┆ 255    ┆ 120   ┆ 42     ┆ 74   ┆ 18     ┆ -1      ┆ 0.01854   │\n",
       "│ 2019 ┆ 73     ┆ -28   ┆ 0      ┆ 87   ┆ 9      ┆ 5       ┆ -0.004495 │\n",
       "│ 2020 ┆ -429   ┆ -128  ┆ -286   ┆ -20  ┆ 12     ┆ -5      ┆ -0.06806  │\n",
       "│ 2021 ┆ 484    ┆ 196   ┆ 144    ┆ 107  ┆ 32     ┆ 4       ┆ 0.049906  │\n",
       "└──────┴────────┴───────┴────────┴──────┴────────┴─────────┴───────────┘"
      ]
     },
     "execution_count": 5,
     "metadata": {},
     "output_type": "execute_result"
    }
   ],
   "source": [
    "df_year_diff = (\n",
    "    df_by_year\n",
    "        .with_columns(\n",
    "            pl.col(\n",
    "                'FOSSIL', 'SOLID', 'LIQUID', 'GAS', \n",
    "                'CEMENT', 'FLARING', 'PER_CAP'\n",
    "            ).diff()\n",
    "        )\n",
    ")\n",
    "df_year_diff"
   ]
  },
  {
   "cell_type": "code",
   "execution_count": 8,
   "id": "6aa52ca6",
   "metadata": {},
   "outputs": [
    {
     "data": {
      "text/html": [
       "<div><style>\n",
       ".dataframe > thead > tr,\n",
       ".dataframe > tbody > tr {\n",
       "  text-align: right;\n",
       "  white-space: pre-wrap;\n",
       "}\n",
       "</style>\n",
       "<small>shape: (27, 8)</small><table border=\"1\" class=\"dataframe\"><thead><tr><th>DECADE</th><th>FOSSIL</th><th>SOLID</th><th>LIQUID</th><th>GAS</th><th>CEMENT</th><th>FLARING</th><th>PER_CAP</th></tr><tr><td>str</td><td>i64</td><td>i64</td><td>i64</td><td>i64</td><td>i64</td><td>i64</td><td>f32</td></tr></thead><tbody><tr><td>&quot;1750&#x27;s&quot;</td><td>27</td><td>27</td><td>0</td><td>0</td><td>0</td><td>0</td><td>0.0</td></tr><tr><td>&quot;1760&#x27;s&quot;</td><td>30</td><td>30</td><td>0</td><td>0</td><td>0</td><td>0</td><td>0.0</td></tr><tr><td>&quot;1770&#x27;s&quot;</td><td>39</td><td>39</td><td>0</td><td>0</td><td>0</td><td>0</td><td>0.0</td></tr><tr><td>&quot;1780&#x27;s&quot;</td><td>49</td><td>49</td><td>0</td><td>0</td><td>0</td><td>0</td><td>0.0</td></tr><tr><td>&quot;1790&#x27;s&quot;</td><td>62</td><td>62</td><td>0</td><td>0</td><td>0</td><td>0</td><td>0.0</td></tr><tr><td>&hellip;</td><td>&hellip;</td><td>&hellip;</td><td>&hellip;</td><td>&hellip;</td><td>&hellip;</td><td>&hellip;</td><td>&hellip;</td></tr><tr><td>&quot;1970&#x27;s&quot;</td><td>46780</td><td>16645</td><td>22109</td><td>6053</td><td>983</td><td>995</td><td>11.694313</td></tr><tr><td>&quot;1980&#x27;s&quot;</td><td>54595</td><td>21517</td><td>22938</td><td>8250</td><td>1334</td><td>554</td><td>11.399605</td></tr><tr><td>&quot;1990&#x27;s&quot;</td><td>62775</td><td>23374</td><td>26065</td><td>11340</td><td>1598</td><td>401</td><td>11.073403</td></tr><tr><td>&quot;2000&#x27;s&quot;</td><td>77848</td><td>30269</td><td>29902</td><td>14593</td><td>2504</td><td>581</td><td>11.944291</td></tr><tr><td>&quot;2010&#x27;s&quot;</td><td>96624</td><td>40065</td><td>33075</td><td>18910</td><td>3789</td><td>785</td><td>13.095598</td></tr></tbody></table></div>"
      ],
      "text/plain": [
       "shape: (27, 8)\n",
       "┌────────┬────────┬───────┬────────┬───────┬────────┬─────────┬───────────┐\n",
       "│ DECADE ┆ FOSSIL ┆ SOLID ┆ LIQUID ┆ GAS   ┆ CEMENT ┆ FLARING ┆ PER_CAP   │\n",
       "│ ---    ┆ ---    ┆ ---   ┆ ---    ┆ ---   ┆ ---    ┆ ---     ┆ ---       │\n",
       "│ str    ┆ i64    ┆ i64   ┆ i64    ┆ i64   ┆ i64    ┆ i64     ┆ f32       │\n",
       "╞════════╪════════╪═══════╪════════╪═══════╪════════╪═════════╪═══════════╡\n",
       "│ 1750's ┆ 27     ┆ 27    ┆ 0      ┆ 0     ┆ 0      ┆ 0       ┆ 0.0       │\n",
       "│ 1760's ┆ 30     ┆ 30    ┆ 0      ┆ 0     ┆ 0      ┆ 0       ┆ 0.0       │\n",
       "│ 1770's ┆ 39     ┆ 39    ┆ 0      ┆ 0     ┆ 0      ┆ 0       ┆ 0.0       │\n",
       "│ 1780's ┆ 49     ┆ 49    ┆ 0      ┆ 0     ┆ 0      ┆ 0       ┆ 0.0       │\n",
       "│ 1790's ┆ 62     ┆ 62    ┆ 0      ┆ 0     ┆ 0      ┆ 0       ┆ 0.0       │\n",
       "│ …      ┆ …      ┆ …     ┆ …      ┆ …     ┆ …      ┆ …       ┆ …         │\n",
       "│ 1970's ┆ 46780  ┆ 16645 ┆ 22109  ┆ 6053  ┆ 983    ┆ 995     ┆ 11.694313 │\n",
       "│ 1980's ┆ 54595  ┆ 21517 ┆ 22938  ┆ 8250  ┆ 1334   ┆ 554     ┆ 11.399605 │\n",
       "│ 1990's ┆ 62775  ┆ 23374 ┆ 26065  ┆ 11340 ┆ 1598   ┆ 401     ┆ 11.073403 │\n",
       "│ 2000's ┆ 77848  ┆ 30269 ┆ 29902  ┆ 14593 ┆ 2504   ┆ 581     ┆ 11.944291 │\n",
       "│ 2010's ┆ 96624  ┆ 40065 ┆ 33075  ┆ 18910 ┆ 3789   ┆ 785     ┆ 13.095598 │\n",
       "└────────┴────────┴───────┴────────┴───────┴────────┴─────────┴───────────┘"
      ]
     },
     "execution_count": 8,
     "metadata": {},
     "output_type": "execute_result"
    }
   ],
   "source": [
    "df_by_decade = (\n",
    "    df_by_year\n",
    "    .with_columns(\n",
    "         DECADE = pl.col('YEAR').str.slice(0,3) +  pl.lit(\"0's\")\n",
    "    )\n",
    "    .filter(pl.col('DECADE') != \"2020's\")\n",
    "    .group_by('DECADE').agg(\n",
    "        pl.col('FOSSIL').sum(),\n",
    "        pl.col('SOLID').sum(),\n",
    "        pl.col('LIQUID').sum(),\n",
    "        pl.col('GAS').sum(),\n",
    "        pl.col('CEMENT').sum(),\n",
    "        pl.col('FLARING').sum(),\n",
    "        pl.col('PER_CAP').sum(),\n",
    "    )\n",
    "    .sort('DECADE')\n",
    ")\n",
    "df_decade"
   ]
  },
  {
   "cell_type": "code",
   "execution_count": 9,
   "id": "8088fc68",
   "metadata": {},
   "outputs": [
    {
     "data": {
      "text/html": [
       "<div><style>\n",
       ".dataframe > thead > tr,\n",
       ".dataframe > tbody > tr {\n",
       "  text-align: right;\n",
       "  white-space: pre-wrap;\n",
       "}\n",
       "</style>\n",
       "<small>shape: (27, 8)</small><table border=\"1\" class=\"dataframe\"><thead><tr><th>DECADE</th><th>FOSSIL</th><th>SOLID</th><th>LIQUID</th><th>GAS</th><th>CEMENT</th><th>FLARING</th><th>PER_CAP</th></tr><tr><td>str</td><td>i64</td><td>i64</td><td>i64</td><td>i64</td><td>i64</td><td>i64</td><td>f32</td></tr></thead><tbody><tr><td>&quot;1750&#x27;s&quot;</td><td>null</td><td>null</td><td>null</td><td>null</td><td>null</td><td>null</td><td>null</td></tr><tr><td>&quot;1760&#x27;s&quot;</td><td>3</td><td>3</td><td>0</td><td>0</td><td>0</td><td>0</td><td>0.0</td></tr><tr><td>&quot;1770&#x27;s&quot;</td><td>9</td><td>9</td><td>0</td><td>0</td><td>0</td><td>0</td><td>0.0</td></tr><tr><td>&quot;1780&#x27;s&quot;</td><td>10</td><td>10</td><td>0</td><td>0</td><td>0</td><td>0</td><td>0.0</td></tr><tr><td>&quot;1790&#x27;s&quot;</td><td>13</td><td>13</td><td>0</td><td>0</td><td>0</td><td>0</td><td>0.0</td></tr><tr><td>&hellip;</td><td>&hellip;</td><td>&hellip;</td><td>&hellip;</td><td>&hellip;</td><td>&hellip;</td><td>&hellip;</td><td>&hellip;</td></tr><tr><td>&quot;1970&#x27;s&quot;</td><td>15960</td><td>2384</td><td>9998</td><td>2737</td><td>407</td><td>438</td><td>2.309635</td></tr><tr><td>&quot;1980&#x27;s&quot;</td><td>7815</td><td>4872</td><td>829</td><td>2197</td><td>351</td><td>-441</td><td>-0.294708</td></tr><tr><td>&quot;1990&#x27;s&quot;</td><td>8180</td><td>1857</td><td>3127</td><td>3090</td><td>264</td><td>-153</td><td>-0.326201</td></tr><tr><td>&quot;2000&#x27;s&quot;</td><td>15073</td><td>6895</td><td>3837</td><td>3253</td><td>906</td><td>180</td><td>0.870888</td></tr><tr><td>&quot;2010&#x27;s&quot;</td><td>18776</td><td>9796</td><td>3173</td><td>4317</td><td>1285</td><td>204</td><td>1.151307</td></tr></tbody></table></div>"
      ],
      "text/plain": [
       "shape: (27, 8)\n",
       "┌────────┬────────┬───────┬────────┬──────┬────────┬─────────┬───────────┐\n",
       "│ DECADE ┆ FOSSIL ┆ SOLID ┆ LIQUID ┆ GAS  ┆ CEMENT ┆ FLARING ┆ PER_CAP   │\n",
       "│ ---    ┆ ---    ┆ ---   ┆ ---    ┆ ---  ┆ ---    ┆ ---     ┆ ---       │\n",
       "│ str    ┆ i64    ┆ i64   ┆ i64    ┆ i64  ┆ i64    ┆ i64     ┆ f32       │\n",
       "╞════════╪════════╪═══════╪════════╪══════╪════════╪═════════╪═══════════╡\n",
       "│ 1750's ┆ null   ┆ null  ┆ null   ┆ null ┆ null   ┆ null    ┆ null      │\n",
       "│ 1760's ┆ 3      ┆ 3     ┆ 0      ┆ 0    ┆ 0      ┆ 0       ┆ 0.0       │\n",
       "│ 1770's ┆ 9      ┆ 9     ┆ 0      ┆ 0    ┆ 0      ┆ 0       ┆ 0.0       │\n",
       "│ 1780's ┆ 10     ┆ 10    ┆ 0      ┆ 0    ┆ 0      ┆ 0       ┆ 0.0       │\n",
       "│ 1790's ┆ 13     ┆ 13    ┆ 0      ┆ 0    ┆ 0      ┆ 0       ┆ 0.0       │\n",
       "│ …      ┆ …      ┆ …     ┆ …      ┆ …    ┆ …      ┆ …       ┆ …         │\n",
       "│ 1970's ┆ 15960  ┆ 2384  ┆ 9998   ┆ 2737 ┆ 407    ┆ 438     ┆ 2.309635  │\n",
       "│ 1980's ┆ 7815   ┆ 4872  ┆ 829    ┆ 2197 ┆ 351    ┆ -441    ┆ -0.294708 │\n",
       "│ 1990's ┆ 8180   ┆ 1857  ┆ 3127   ┆ 3090 ┆ 264    ┆ -153    ┆ -0.326201 │\n",
       "│ 2000's ┆ 15073  ┆ 6895  ┆ 3837   ┆ 3253 ┆ 906    ┆ 180     ┆ 0.870888  │\n",
       "│ 2010's ┆ 18776  ┆ 9796  ┆ 3173   ┆ 4317 ┆ 1285   ┆ 204     ┆ 1.151307  │\n",
       "└────────┴────────┴───────┴────────┴──────┴────────┴─────────┴───────────┘"
      ]
     },
     "execution_count": 9,
     "metadata": {},
     "output_type": "execute_result"
    }
   ],
   "source": [
    "df_decade_diff = (\n",
    "    df_by_decade\n",
    "        .with_columns(\n",
    "            pl.col(\n",
    "                'FOSSIL', 'SOLID', 'LIQUID', 'GAS', \n",
    "                'CEMENT', 'FLARING', 'PER_CAP'\n",
    "            ).diff()\n",
    "        )\n",
    ")\n",
    "df_decade_diff"
   ]
  },
  {
   "cell_type": "code",
   "execution_count": null,
   "id": "f445f994",
   "metadata": {},
   "outputs": [],
   "source": [
    "fig = px.line(\n",
    "    df,\n",
    "    x='YEAR',\n",
    "    y=df_col_names[1:],\n",
    "    template='simple_white',\n",
    ")\n",
    "fig.show()"
   ]
  },
  {
   "cell_type": "code",
   "execution_count": null,
   "id": "ee64c3ba",
   "metadata": {},
   "outputs": [],
   "source": [
    "fig = px.area(\n",
    "    df,\n",
    "    x='YEAR',\n",
    "    y=df_col_names[1:],\n",
    "    template='simple_white',\n",
    ")\n",
    "fig.show()"
   ]
  },
  {
   "cell_type": "code",
   "execution_count": null,
   "id": "9fc3db4c",
   "metadata": {},
   "outputs": [],
   "source": [
    "import dash_bootstrap_components as dbc\n",
    "len([t for t in dir(dbc.themes) if not t.startswith('_')])"
   ]
  },
  {
   "cell_type": "code",
   "execution_count": 12,
   "id": "46d899b8",
   "metadata": {},
   "outputs": [
    {
     "data": {
      "text/plain": [
       "([1760,\n",
       "  1770,\n",
       "  1780,\n",
       "  1790,\n",
       "  1800,\n",
       "  1810,\n",
       "  1820,\n",
       "  1830,\n",
       "  1840,\n",
       "  1850,\n",
       "  1860,\n",
       "  1870,\n",
       "  1880,\n",
       "  1890,\n",
       "  1900,\n",
       "  1910,\n",
       "  1920,\n",
       "  1930,\n",
       "  1940,\n",
       "  1950,\n",
       "  1960,\n",
       "  1970,\n",
       "  1980,\n",
       "  1990,\n",
       "  2000,\n",
       "  2010,\n",
       "  2020],)"
      ]
     },
     "execution_count": 12,
     "metadata": {},
     "output_type": "execute_result"
    }
   ],
   "source": [
    "sorted([int(x) for x in df_by_year['YEAR'].unique() if int(x)%10 ==0]),"
   ]
  }
 ],
 "metadata": {
  "kernelspec": {
   "display_name": "Python 3",
   "language": "python",
   "name": "python3"
  },
  "language_info": {
   "codemirror_mode": {
    "name": "ipython",
    "version": 3
   },
   "file_extension": ".py",
   "mimetype": "text/x-python",
   "name": "python",
   "nbconvert_exporter": "python",
   "pygments_lexer": "ipython3",
   "version": "3.13.1"
  }
 },
 "nbformat": 4,
 "nbformat_minor": 5
}
