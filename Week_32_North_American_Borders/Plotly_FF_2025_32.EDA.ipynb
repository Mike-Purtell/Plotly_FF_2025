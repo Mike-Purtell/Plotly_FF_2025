{
 "cells": [
  {
   "cell_type": "code",
   "execution_count": 14,
   "id": "28ba852c",
   "metadata": {},
   "outputs": [
    {
     "name": "stdout",
     "output_type": "stream",
     "text": [
      "Reading data from Border_Crossing_Entry_Data.parquet\n",
      "Rows: 129023\n",
      "Columns: 9\n",
      "$ BORDER     <enum> US-Canada, US-Canada, US-Canada, US-Canada, US-Canada, US-Canada, US-Canada, US-Canada, US-Canada, US-Canada\n",
      "$ STATE      <enum> Alaska, Alaska, Alaska, Alaska, Alaska, Alaska, Alaska, Alaska, Alaska, Alaska\n",
      "$ STATE_ABBR <enum> AK, AK, AK, AK, AK, AK, AK, AK, AK, AK\n",
      "$ PORT       <enum> Alcan, Alcan, Alcan, Alcan, Alcan, Alcan, Alcan, Alcan, Alcan, Alcan\n",
      "$ TRANSPO    <enum> Bus, Bus, Bus, Bus, Bus, Bus, Bus, Bus, Bus, Bus\n",
      "$ DATE       <date> 1996-01-01, 1996-03-01, 1996-04-01, 1996-05-01, 1996-06-01, 1996-07-01, 1996-08-01, 1996-09-01, 1996-10-01, 1996-11-01\n",
      "$ LAT         <f64> -141.001444, -141.001444, -141.001444, -141.001444, -141.001444, -141.001444, -141.001444, -141.001444, -141.001444, -141.001444\n",
      "$ LONG        <f64> 62.614961, 62.614961, 62.614961, 62.614961, 62.614961, 62.614961, 62.614961, 62.614961, 62.614961, 62.614961\n",
      "$ VALUE       <u32> 12, 14, 23, 668, 5683, 6630, 6348, 3478, 14, 22\n",
      "\n",
      "None\n",
      "['BORDER', 'STATE', 'STATE_ABBR', 'PORT', 'TRANSPO', 'DATE', 'LAT', 'LONG', 'VALUE']\n",
      "Schema({'BORDER': Enum(categories=['US-Canada', 'US-Mexico']), 'STATE': Enum(categories=['Alaska', 'Arizona', 'California', 'Idaho', 'Maine', 'Michigan', 'Minnesota', 'Montana', 'New Mexico', 'New York', 'North Dakota', 'Texas', 'Vermont', 'Washington']), 'STATE_ABBR': Enum(categories=['AK', 'AZ', 'CA', 'ID', 'ME', 'MI', 'MN', 'MT', 'NM', 'NY', 'ND', 'TX', 'VT', 'WA']), 'PORT': Enum(categories=['Alcan', 'Alexandria Bay', 'Algonac', 'Ambrose', 'Anacortes', 'Andrade', 'Antler', 'Bar Harbor', 'Baudette', 'Beecher Falls', 'Blaine', 'Boquillas', 'Boundary', 'Bridgewater', 'Brownsville', 'Buffalo Niagara Falls', 'Calais', 'Calexico', 'Calexico East', 'Cape Vincent', 'Carbury', 'Champlain Rouses Point', 'Columbus', 'Cross Border Xpress', 'Dalton Cache', 'Danville', 'Del Bonita', 'Del Rio', 'Derby Line', 'Detroit', 'Douglas', 'Dunseith', 'Eagle Pass', 'Eastport', 'El Paso', 'Ferry', 'Fort Fairfield', 'Fort Kent', 'Fortuna', 'Friday Harbor', 'Frontier', 'Grand Portage', 'Hannah', 'Hansboro', 'Hidalgo', 'Highgate Springs', 'Houlton', 'International Falls', 'Jackman', 'Kenneth G Ward', 'Ketchikan', 'Lancaster', 'Laredo', 'Laurier', 'Limestone', 'Lukeville', 'Madawaska', 'Maida', 'Massena', 'Metaline Falls', 'Morgan', 'Naco', 'Neche', 'Nighthawk', 'Nogales', 'Noonan', 'Northgate', 'Norton', 'Noyes', 'Ogdensburg', 'Opheim', 'Oroville', 'Otay Mesa', 'Pembina', 'Piegan', 'Pinecreek', 'Point Roberts', 'Port Angeles', 'Port Huron', 'Portal', 'Porthill', 'Portland', 'Presidio', 'Progreso', 'Raymond', 'Richford', 'Rio Grande City', 'Roma', 'Roosville', 'Roseau', 'San Luis', 'San Ysidro', 'Santa Teresa', 'Sarles', 'Sasabe', 'Sault Sainte Marie', 'Scobey', 'Sherwood', 'Skagway', 'St John', 'Sumas', 'Sweetgrass', 'Tecate', 'Tornillo', 'Trout River', 'Turner', 'Van Buren', 'Vanceboro', 'Walhalla', 'Warroad', 'Westhope', 'Whitetail', 'Whitlash', 'Wildhorse', 'Willow Creek', 'Ysleta']), 'TRANSPO': Enum(categories=['Bus', 'Car', 'Train', 'Truck', 'Walk']), 'DATE': Date, 'LAT': Float64, 'LONG': Float64, 'VALUE': UInt32})\n"
     ]
    }
   ],
   "source": [
    "import polars as pl\n",
    "import polars.selectors as cs\n",
    "import plotly.express as px\n",
    "import os\n",
    "import us\n",
    "\n",
    "parquet_data_source = 'Border_Crossing_Entry_Data.parquet'\n",
    "csv_data_source = 'Border_Crossing_Entry_Data.csv' \n",
    "date_fmt ='%b-%y'\n",
    "\n",
    "state_list = [\n",
    "    'Alaska',  'Arizona', 'California', 'Idaho', 'Maine', 'Michigan',\n",
    "    'Minnesota', 'Montana', 'New Mexico', 'New York', 'North Dakota', 'Texas',\n",
    "    'Vermont', 'Washington'\n",
    "    ]\n",
    "state_abbr_list = [\n",
    "    'AK', 'AZ', 'CA', 'ID', 'ME', 'MI',\n",
    "    'MN', 'MT', 'NM', 'NY', 'ND', 'TX', \n",
    "    'VT', 'WA'\n",
    "]\n",
    "\n",
    "\n",
    "df_states = pl.DataFrame({\n",
    "    'STATE' :state_list,\n",
    "    'STATE_ABBR' : state_abbr_list\n",
    "})\n",
    "\n",
    "\n",
    "measure_list = [\n",
    "    'Bus Passengers', 'Buses', 'Pedestrians', 'Personal Vehicle Passengers', \n",
    "    'Personal Vehicles', 'Rail Containers Empty', 'Rail Containers Loaded', \n",
    "    'Train Passengers', 'Trains', 'Truck Containers Empty', \n",
    "    'Truck Containers Loaded', 'Trucks'\n",
    "    ]\n",
    "transpo_list = [\n",
    "    'Bus', 'Bus', 'Walk', 'Car', \n",
    "    'Car', 'Train', 'Train', \n",
    "    'Train', 'Train', 'Truck', 'Truck', 'Truck'\n",
    "]\n",
    "\n",
    "\n",
    "df_transpo = pl.DataFrame({\n",
    "    'MEASURE'    : measure_list,\n",
    "    'TRANSPO'    : transpo_list\n",
    "})\n",
    "\n",
    "if os.path.exists(parquet_data_source): # use pre-cleaned parquet file\n",
    "    print(f'Reading data from {parquet_data_source}')\n",
    "    df = (\n",
    "        pl.scan_parquet(parquet_data_source)\n",
    "        .with_columns(pl.col('LAT', 'LONG').cast(pl.Float64))\n",
    "        .collect()\n",
    "    )\n",
    "\n",
    "else:  # read data from csv and clean\n",
    "    print(f'Reading data from {csv_data_source}')\n",
    "    df = (\n",
    "        pl.scan_csv(csv_data_source,try_parse_dates=True)\n",
    "        .rename(lambda c: c.upper()) # col names to upper case\n",
    "        .select(\n",
    "            PORT = pl.col('PORT NAME'),\n",
    "            STATE = pl.col('STATE'),\n",
    "            BORDER = pl.col('BORDER')\n",
    "                .str.replace(' Border', ''),\n",
    "            MEASURE = pl.col('MEASURE'),\n",
    "            DATE = pl.col('DATE').str.to_date(format=date_fmt),\n",
    "            VALUE = pl.col('VALUE').cast(pl.UInt32),\n",
    "            POINT = pl.col('POINT')   # get rid or parens and word POINT\n",
    "                .str.replace_all('POINT ', '')\n",
    "                .str.strip_chars('(')\n",
    "                .str.strip_chars(')')\n",
    "        )\n",
    "        .filter(pl.col('VALUE') > 0.0)\n",
    "        .with_columns(  # LONG and LAT in point column have better resolution\n",
    "            LAT = pl.col('POINT').str.split(' ').list.first().cast(pl.Float64),\n",
    "            LONG = pl.col('POINT').str.split(' ').list.last().cast(pl.Float64),        \n",
    "        )\n",
    "        .drop('POINT')\n",
    "        .drop_nulls(subset='STATE')\n",
    "        .collect()\n",
    "        .join(\n",
    "            df_states,\n",
    "            on='STATE',\n",
    "            how='left'\n",
    "        )\n",
    "        .join(\n",
    "            df_transpo,\n",
    "            on='MEASURE',\n",
    "            how='left'\n",
    "        )\n",
    "        .group_by(\n",
    "            'BORDER', 'STATE', 'STATE_ABBR', 'PORT', 'TRANSPO', \n",
    "            'DATE', 'LAT', 'LONG', \n",
    "            )\n",
    "            .agg(pl.col('VALUE').sum())  \n",
    "    )\n",
    "    port_list=sorted(df.unique('PORT').get_column('PORT').to_list())\n",
    "\n",
    "    state_enum = pl.Enum(state_list)\n",
    "    state_abbr_enum = pl.Enum(state_abbr_list)\n",
    "    transpo_enum = pl.Enum(sorted(list(set(transpo_list))))\n",
    "    port_enum = pl.Enum(sorted(list(set(port_list))))\n",
    "    border_enum = pl.Enum(['US-Canada', 'US-Mexico'])\n",
    "    df = (\n",
    "        df\n",
    "        .lazy()\n",
    "        .with_columns(\n",
    "            STATE=pl.col('STATE').cast(state_enum),\n",
    "            STATE_ABBR=pl.col('STATE_ABBR').cast(state_abbr_enum),\n",
    "            TRANSPO=pl.col('TRANSPO').cast(transpo_enum),\n",
    "            PORT=pl.col('PORT').cast(port_enum),\n",
    "            BORDER = pl.col('BORDER').cast(border_enum)\n",
    "        )\n",
    "        .collect()\n",
    "    )\n",
    "\n",
    "\n",
    "\n",
    "    df.write_parquet(parquet_data_source)\n",
    "    # df.write_excel('df.xlsx')\n",
    "\n",
    "print(df.glimpse())\n",
    "print(df.columns)\n",
    "print(df.schema)\n",
    "\n"
   ]
  },
  {
   "cell_type": "code",
   "execution_count": 15,
   "id": "1b4b1b0a",
   "metadata": {},
   "outputs": [
    {
     "name": "stdout",
     "output_type": "stream",
     "text": [
      "Bus\n",
      "Car\n",
      "Train\n",
      "Truck\n",
      "Walk\n"
     ]
    }
   ],
   "source": [
    "transpos = sorted(df.get_column('TRANSPO').unique().to_list())\n",
    "for t in transpos:\n",
    "    print(t)"
   ]
  },
  {
   "cell_type": "code",
   "execution_count": 16,
   "id": "efc0ce17",
   "metadata": {},
   "outputs": [
    {
     "ename": "ColumnNotFoundError",
     "evalue": "\"MEASURE\" not found",
     "output_type": "error",
     "traceback": [
      "\u001b[1;31m---------------------------------------------------------------------------\u001b[0m",
      "\u001b[1;31mColumnNotFoundError\u001b[0m                       Traceback (most recent call last)",
      "Cell \u001b[1;32mIn[16], line 3\u001b[0m\n\u001b[0;32m      1\u001b[0m df_transpo \u001b[38;5;241m=\u001b[39m (\n\u001b[0;32m      2\u001b[0m     \u001b[43mdf\u001b[49m\n\u001b[1;32m----> 3\u001b[0m \u001b[43m    \u001b[49m\u001b[38;5;241;43m.\u001b[39;49m\u001b[43munique\u001b[49m\u001b[43m(\u001b[49m\u001b[38;5;124;43m'\u001b[39;49m\u001b[38;5;124;43mMEASURE\u001b[39;49m\u001b[38;5;124;43m'\u001b[39;49m\u001b[43m)\u001b[49m\n\u001b[0;32m      4\u001b[0m     \u001b[38;5;241m.\u001b[39mselect(\u001b[38;5;124m'\u001b[39m\u001b[38;5;124mMEASURE\u001b[39m\u001b[38;5;124m'\u001b[39m, \u001b[38;5;124m'\u001b[39m\u001b[38;5;124mTRANSPO\u001b[39m\u001b[38;5;124m'\u001b[39m)\n\u001b[0;32m      5\u001b[0m     \u001b[38;5;241m.\u001b[39msort(\u001b[38;5;124m'\u001b[39m\u001b[38;5;124mMEASURE\u001b[39m\u001b[38;5;124m'\u001b[39m)\n\u001b[0;32m      6\u001b[0m )\n\u001b[0;32m      7\u001b[0m \u001b[38;5;28mprint\u001b[39m(df_transpo\u001b[38;5;241m.\u001b[39mget_column(\u001b[38;5;124m'\u001b[39m\u001b[38;5;124mMEASURE\u001b[39m\u001b[38;5;124m'\u001b[39m)\u001b[38;5;241m.\u001b[39mto_list())\n\u001b[0;32m      8\u001b[0m \u001b[38;5;28mprint\u001b[39m(df_transpo\u001b[38;5;241m.\u001b[39mget_column(\u001b[38;5;124m'\u001b[39m\u001b[38;5;124mTRANSPO\u001b[39m\u001b[38;5;124m'\u001b[39m)\u001b[38;5;241m.\u001b[39mto_list())\n",
      "File \u001b[1;32mc:\\Users\\mpurt\\AppData\\Local\\Programs\\Python\\Python313\\Lib\\site-packages\\polars\\dataframe\\frame.py:10694\u001b[0m, in \u001b[0;36mDataFrame.unique\u001b[1;34m(self, subset, keep, maintain_order)\u001b[0m\n\u001b[0;32m  10611\u001b[0m \u001b[38;5;250m\u001b[39m\u001b[38;5;124;03m\"\"\"\u001b[39;00m\n\u001b[0;32m  10612\u001b[0m \u001b[38;5;124;03mDrop duplicate rows from this dataframe.\u001b[39;00m\n\u001b[0;32m  10613\u001b[0m \n\u001b[1;32m   (...)\u001b[0m\n\u001b[0;32m  10687\u001b[0m \u001b[38;5;124;03m└─────┴─────┴─────┘\u001b[39;00m\n\u001b[0;32m  10688\u001b[0m \u001b[38;5;124;03m\"\"\"\u001b[39;00m\n\u001b[0;32m  10689\u001b[0m \u001b[38;5;28;01mfrom\u001b[39;00m \u001b[38;5;21;01mpolars\u001b[39;00m\u001b[38;5;21;01m.\u001b[39;00m\u001b[38;5;21;01mlazyframe\u001b[39;00m\u001b[38;5;21;01m.\u001b[39;00m\u001b[38;5;21;01mopt_flags\u001b[39;00m \u001b[38;5;28;01mimport\u001b[39;00m QueryOptFlags\n\u001b[0;32m  10691\u001b[0m \u001b[38;5;28;01mreturn\u001b[39;00m (\n\u001b[0;32m  10692\u001b[0m     \u001b[38;5;28;43mself\u001b[39;49m\u001b[38;5;241;43m.\u001b[39;49m\u001b[43mlazy\u001b[49m\u001b[43m(\u001b[49m\u001b[43m)\u001b[49m\n\u001b[0;32m  10693\u001b[0m \u001b[43m    \u001b[49m\u001b[38;5;241;43m.\u001b[39;49m\u001b[43munique\u001b[49m\u001b[43m(\u001b[49m\u001b[43msubset\u001b[49m\u001b[38;5;241;43m=\u001b[39;49m\u001b[43msubset\u001b[49m\u001b[43m,\u001b[49m\u001b[43m \u001b[49m\u001b[43mkeep\u001b[49m\u001b[38;5;241;43m=\u001b[39;49m\u001b[43mkeep\u001b[49m\u001b[43m,\u001b[49m\u001b[43m \u001b[49m\u001b[43mmaintain_order\u001b[49m\u001b[38;5;241;43m=\u001b[39;49m\u001b[43mmaintain_order\u001b[49m\u001b[43m)\u001b[49m\n\u001b[1;32m> 10694\u001b[0m \u001b[43m    \u001b[49m\u001b[38;5;241;43m.\u001b[39;49m\u001b[43mcollect\u001b[49m\u001b[43m(\u001b[49m\u001b[43moptimizations\u001b[49m\u001b[38;5;241;43m=\u001b[39;49m\u001b[43mQueryOptFlags\u001b[49m\u001b[38;5;241;43m.\u001b[39;49m\u001b[43m_eager\u001b[49m\u001b[43m(\u001b[49m\u001b[43m)\u001b[49m\u001b[43m)\u001b[49m\n\u001b[0;32m  10695\u001b[0m )\n",
      "File \u001b[1;32mc:\\Users\\mpurt\\AppData\\Local\\Programs\\Python\\Python313\\Lib\\site-packages\\polars\\_utils\\deprecation.py:97\u001b[0m, in \u001b[0;36mdeprecate_streaming_parameter.<locals>.decorate.<locals>.wrapper\u001b[1;34m(*args, **kwargs)\u001b[0m\n\u001b[0;32m     93\u001b[0m         kwargs[\u001b[38;5;124m\"\u001b[39m\u001b[38;5;124mengine\u001b[39m\u001b[38;5;124m\"\u001b[39m] \u001b[38;5;241m=\u001b[39m \u001b[38;5;124m\"\u001b[39m\u001b[38;5;124min-memory\u001b[39m\u001b[38;5;124m\"\u001b[39m\n\u001b[0;32m     95\u001b[0m     \u001b[38;5;28;01mdel\u001b[39;00m kwargs[\u001b[38;5;124m\"\u001b[39m\u001b[38;5;124mstreaming\u001b[39m\u001b[38;5;124m\"\u001b[39m]\n\u001b[1;32m---> 97\u001b[0m \u001b[38;5;28;01mreturn\u001b[39;00m \u001b[43mfunction\u001b[49m\u001b[43m(\u001b[49m\u001b[38;5;241;43m*\u001b[39;49m\u001b[43margs\u001b[49m\u001b[43m,\u001b[49m\u001b[43m \u001b[49m\u001b[38;5;241;43m*\u001b[39;49m\u001b[38;5;241;43m*\u001b[39;49m\u001b[43mkwargs\u001b[49m\u001b[43m)\u001b[49m\n",
      "File \u001b[1;32mc:\\Users\\mpurt\\AppData\\Local\\Programs\\Python\\Python313\\Lib\\site-packages\\polars\\lazyframe\\opt_flags.py:330\u001b[0m, in \u001b[0;36mforward_old_opt_flags.<locals>.decorate.<locals>.wrapper\u001b[1;34m(*args, **kwargs)\u001b[0m\n\u001b[0;32m    327\u001b[0m         optflags \u001b[38;5;241m=\u001b[39m cb(optflags, kwargs\u001b[38;5;241m.\u001b[39mpop(key))  \u001b[38;5;66;03m# type: ignore[no-untyped-call,unused-ignore]\u001b[39;00m\n\u001b[0;32m    329\u001b[0m kwargs[\u001b[38;5;124m\"\u001b[39m\u001b[38;5;124moptimizations\u001b[39m\u001b[38;5;124m\"\u001b[39m] \u001b[38;5;241m=\u001b[39m optflags\n\u001b[1;32m--> 330\u001b[0m \u001b[38;5;28;01mreturn\u001b[39;00m \u001b[43mfunction\u001b[49m\u001b[43m(\u001b[49m\u001b[38;5;241;43m*\u001b[39;49m\u001b[43margs\u001b[49m\u001b[43m,\u001b[49m\u001b[43m \u001b[49m\u001b[38;5;241;43m*\u001b[39;49m\u001b[38;5;241;43m*\u001b[39;49m\u001b[43mkwargs\u001b[49m\u001b[43m)\u001b[49m\n",
      "File \u001b[1;32mc:\\Users\\mpurt\\AppData\\Local\\Programs\\Python\\Python313\\Lib\\site-packages\\polars\\lazyframe\\frame.py:2332\u001b[0m, in \u001b[0;36mLazyFrame.collect\u001b[1;34m(self, type_coercion, predicate_pushdown, projection_pushdown, simplify_expression, slice_pushdown, comm_subplan_elim, comm_subexpr_elim, cluster_with_columns, collapse_joins, no_optimization, engine, background, optimizations, **_kwargs)\u001b[0m\n\u001b[0;32m   2330\u001b[0m \u001b[38;5;66;03m# Only for testing purposes\u001b[39;00m\n\u001b[0;32m   2331\u001b[0m callback \u001b[38;5;241m=\u001b[39m _kwargs\u001b[38;5;241m.\u001b[39mget(\u001b[38;5;124m\"\u001b[39m\u001b[38;5;124mpost_opt_callback\u001b[39m\u001b[38;5;124m\"\u001b[39m, callback)\n\u001b[1;32m-> 2332\u001b[0m \u001b[38;5;28;01mreturn\u001b[39;00m wrap_df(\u001b[43mldf\u001b[49m\u001b[38;5;241;43m.\u001b[39;49m\u001b[43mcollect\u001b[49m\u001b[43m(\u001b[49m\u001b[43mengine\u001b[49m\u001b[43m,\u001b[49m\u001b[43m \u001b[49m\u001b[43mcallback\u001b[49m\u001b[43m)\u001b[49m)\n",
      "\u001b[1;31mColumnNotFoundError\u001b[0m: \"MEASURE\" not found"
     ]
    }
   ],
   "source": [
    "df_transpo = (\n",
    "    df\n",
    "    .unique('MEASURE')\n",
    "    .select('MEASURE', 'TRANSPO')\n",
    "    .sort('MEASURE')\n",
    ")\n",
    "print(df_transpo.get_column('MEASURE').to_list())\n",
    "print(df_transpo.get_column('TRANSPO').to_list())\n"
   ]
  },
  {
   "cell_type": "code",
   "execution_count": null,
   "id": "762c737c",
   "metadata": {},
   "outputs": [],
   "source": [
    "import us\n",
    "state_list = sorted(df.unique('STATE').get_column('STATE').to_list())\n",
    "state_list\n"
   ]
  },
  {
   "cell_type": "code",
   "execution_count": null,
   "id": "77c7db1b",
   "metadata": {},
   "outputs": [],
   "source": [
    "for col in df.columns:\n",
    "    print(df[col].value_counts().sort('count'))"
   ]
  },
  {
   "cell_type": "code",
   "execution_count": null,
   "id": "83880df6",
   "metadata": {},
   "outputs": [],
   "source": [
    "df.sample(10).glimpse()"
   ]
  },
  {
   "cell_type": "markdown",
   "id": "cab67aaa",
   "metadata": {},
   "source": [
    "#### select, rename, cast columns"
   ]
  },
  {
   "cell_type": "code",
   "execution_count": null,
   "id": "0fd70529",
   "metadata": {},
   "outputs": [],
   "source": [
    "for i, col in enumerate(df.columns):\n",
    "    select_string = (\n",
    "        f\"{col.upper().replace(' ', '_')} \" + \n",
    "        f\"= pl.col('{col}'), # .cast(pl.String)',\"\n",
    "    )\n",
    "\n",
    "    print(select_string)\n",
    "    # print(f\"{col.upper().replace(' ', '_')} = pl.col('{col} # .cast(pl.String)'),\")"
   ]
  },
  {
   "cell_type": "code",
   "execution_count": null,
   "id": "a93b904d",
   "metadata": {},
   "outputs": [],
   "source": [
    "state_list = ['Alaska',  'Arizona', 'California', 'Idaho', 'Maine', 'Michigan',\n",
    "    'Minnesota', 'Montana', 'New Mexico', 'New York', 'North Dakota', 'Texas',\n",
    "    'Vermont', 'Washington']\n",
    "state_abbr_list = []\n",
    "for state in state_list:\n",
    "    state_abbr_list.append(us.states.lookup(state).abbr)\n",
    "print(state_abbr_list)"
   ]
  },
  {
   "cell_type": "code",
   "execution_count": null,
   "id": "30a7ffc2",
   "metadata": {},
   "outputs": [],
   "source": [
    "df.unique(['TRANSPO', 'MEASURE'])"
   ]
  },
  {
   "cell_type": "code",
   "execution_count": 20,
   "id": "105a636a",
   "metadata": {},
   "outputs": [
    {
     "data": {
      "application/vnd.plotly.v1+json": {
       "config": {
        "plotlyServerURL": "https://plot.ly"
       },
       "data": [
        {
         "coloraxis": "coloraxis",
         "geo": "geo",
         "hovertemplate": "STATE_ABBR=%{location}<br>VALUE=%{z}<extra></extra>",
         "locationmode": "USA-states",
         "locations": [
          "AK",
          "ND",
          "VT",
          "ME",
          "MT",
          "TX",
          "NY",
          "NM",
          "ID",
          "WA",
          "MI",
          "AZ",
          "MN",
          "CA"
         ],
         "name": "",
         "type": "choropleth",
         "z": {
          "bdata": "07//AJWQYwUwXc4HvGMkDx+WxAPivs8CtlxdOAeqOwVQ3XkBKTx4IpEcCTOSpD1AxHKKBgRxj7g=",
          "dtype": "u4"
         }
        }
       ],
       "layout": {
        "coloraxis": {
         "colorbar": {
          "title": {
           "text": "VALUE"
          }
         },
         "colorscale": [
          [
           0,
           "#fde725"
          ],
          [
           0.1111111111111111,
           "#b5de2b"
          ],
          [
           0.2222222222222222,
           "#6ece58"
          ],
          [
           0.3333333333333333,
           "#35b779"
          ],
          [
           0.4444444444444444,
           "#1f9e89"
          ],
          [
           0.5555555555555556,
           "#26828e"
          ],
          [
           0.6666666666666666,
           "#31688e"
          ],
          [
           0.7777777777777778,
           "#3e4989"
          ],
          [
           0.8888888888888888,
           "#482878"
          ],
          [
           1,
           "#440154"
          ]
         ]
        },
        "geo": {
         "center": {},
         "domain": {
          "x": [
           0,
           1
          ],
          "y": [
           0,
           1
          ]
         },
         "scope": "usa"
        },
        "legend": {
         "tracegroupgap": 0
        },
        "margin": {
         "t": 60
        },
        "template": {
         "data": {
          "bar": [
           {
            "error_x": {
             "color": "#2a3f5f"
            },
            "error_y": {
             "color": "#2a3f5f"
            },
            "marker": {
             "line": {
              "color": "white",
              "width": 0.5
             },
             "pattern": {
              "fillmode": "overlay",
              "size": 10,
              "solidity": 0.2
             }
            },
            "type": "bar"
           }
          ],
          "barpolar": [
           {
            "marker": {
             "line": {
              "color": "white",
              "width": 0.5
             },
             "pattern": {
              "fillmode": "overlay",
              "size": 10,
              "solidity": 0.2
             }
            },
            "type": "barpolar"
           }
          ],
          "carpet": [
           {
            "aaxis": {
             "endlinecolor": "#2a3f5f",
             "gridcolor": "#C8D4E3",
             "linecolor": "#C8D4E3",
             "minorgridcolor": "#C8D4E3",
             "startlinecolor": "#2a3f5f"
            },
            "baxis": {
             "endlinecolor": "#2a3f5f",
             "gridcolor": "#C8D4E3",
             "linecolor": "#C8D4E3",
             "minorgridcolor": "#C8D4E3",
             "startlinecolor": "#2a3f5f"
            },
            "type": "carpet"
           }
          ],
          "choropleth": [
           {
            "colorbar": {
             "outlinewidth": 0,
             "ticks": ""
            },
            "type": "choropleth"
           }
          ],
          "contour": [
           {
            "colorbar": {
             "outlinewidth": 0,
             "ticks": ""
            },
            "colorscale": [
             [
              0,
              "#0d0887"
             ],
             [
              0.1111111111111111,
              "#46039f"
             ],
             [
              0.2222222222222222,
              "#7201a8"
             ],
             [
              0.3333333333333333,
              "#9c179e"
             ],
             [
              0.4444444444444444,
              "#bd3786"
             ],
             [
              0.5555555555555556,
              "#d8576b"
             ],
             [
              0.6666666666666666,
              "#ed7953"
             ],
             [
              0.7777777777777778,
              "#fb9f3a"
             ],
             [
              0.8888888888888888,
              "#fdca26"
             ],
             [
              1,
              "#f0f921"
             ]
            ],
            "type": "contour"
           }
          ],
          "contourcarpet": [
           {
            "colorbar": {
             "outlinewidth": 0,
             "ticks": ""
            },
            "type": "contourcarpet"
           }
          ],
          "heatmap": [
           {
            "colorbar": {
             "outlinewidth": 0,
             "ticks": ""
            },
            "colorscale": [
             [
              0,
              "#0d0887"
             ],
             [
              0.1111111111111111,
              "#46039f"
             ],
             [
              0.2222222222222222,
              "#7201a8"
             ],
             [
              0.3333333333333333,
              "#9c179e"
             ],
             [
              0.4444444444444444,
              "#bd3786"
             ],
             [
              0.5555555555555556,
              "#d8576b"
             ],
             [
              0.6666666666666666,
              "#ed7953"
             ],
             [
              0.7777777777777778,
              "#fb9f3a"
             ],
             [
              0.8888888888888888,
              "#fdca26"
             ],
             [
              1,
              "#f0f921"
             ]
            ],
            "type": "heatmap"
           }
          ],
          "histogram": [
           {
            "marker": {
             "pattern": {
              "fillmode": "overlay",
              "size": 10,
              "solidity": 0.2
             }
            },
            "type": "histogram"
           }
          ],
          "histogram2d": [
           {
            "colorbar": {
             "outlinewidth": 0,
             "ticks": ""
            },
            "colorscale": [
             [
              0,
              "#0d0887"
             ],
             [
              0.1111111111111111,
              "#46039f"
             ],
             [
              0.2222222222222222,
              "#7201a8"
             ],
             [
              0.3333333333333333,
              "#9c179e"
             ],
             [
              0.4444444444444444,
              "#bd3786"
             ],
             [
              0.5555555555555556,
              "#d8576b"
             ],
             [
              0.6666666666666666,
              "#ed7953"
             ],
             [
              0.7777777777777778,
              "#fb9f3a"
             ],
             [
              0.8888888888888888,
              "#fdca26"
             ],
             [
              1,
              "#f0f921"
             ]
            ],
            "type": "histogram2d"
           }
          ],
          "histogram2dcontour": [
           {
            "colorbar": {
             "outlinewidth": 0,
             "ticks": ""
            },
            "colorscale": [
             [
              0,
              "#0d0887"
             ],
             [
              0.1111111111111111,
              "#46039f"
             ],
             [
              0.2222222222222222,
              "#7201a8"
             ],
             [
              0.3333333333333333,
              "#9c179e"
             ],
             [
              0.4444444444444444,
              "#bd3786"
             ],
             [
              0.5555555555555556,
              "#d8576b"
             ],
             [
              0.6666666666666666,
              "#ed7953"
             ],
             [
              0.7777777777777778,
              "#fb9f3a"
             ],
             [
              0.8888888888888888,
              "#fdca26"
             ],
             [
              1,
              "#f0f921"
             ]
            ],
            "type": "histogram2dcontour"
           }
          ],
          "mesh3d": [
           {
            "colorbar": {
             "outlinewidth": 0,
             "ticks": ""
            },
            "type": "mesh3d"
           }
          ],
          "parcoords": [
           {
            "line": {
             "colorbar": {
              "outlinewidth": 0,
              "ticks": ""
             }
            },
            "type": "parcoords"
           }
          ],
          "pie": [
           {
            "automargin": true,
            "type": "pie"
           }
          ],
          "scatter": [
           {
            "fillpattern": {
             "fillmode": "overlay",
             "size": 10,
             "solidity": 0.2
            },
            "type": "scatter"
           }
          ],
          "scatter3d": [
           {
            "line": {
             "colorbar": {
              "outlinewidth": 0,
              "ticks": ""
             }
            },
            "marker": {
             "colorbar": {
              "outlinewidth": 0,
              "ticks": ""
             }
            },
            "type": "scatter3d"
           }
          ],
          "scattercarpet": [
           {
            "marker": {
             "colorbar": {
              "outlinewidth": 0,
              "ticks": ""
             }
            },
            "type": "scattercarpet"
           }
          ],
          "scattergeo": [
           {
            "marker": {
             "colorbar": {
              "outlinewidth": 0,
              "ticks": ""
             }
            },
            "type": "scattergeo"
           }
          ],
          "scattergl": [
           {
            "marker": {
             "colorbar": {
              "outlinewidth": 0,
              "ticks": ""
             }
            },
            "type": "scattergl"
           }
          ],
          "scattermap": [
           {
            "marker": {
             "colorbar": {
              "outlinewidth": 0,
              "ticks": ""
             }
            },
            "type": "scattermap"
           }
          ],
          "scattermapbox": [
           {
            "marker": {
             "colorbar": {
              "outlinewidth": 0,
              "ticks": ""
             }
            },
            "type": "scattermapbox"
           }
          ],
          "scatterpolar": [
           {
            "marker": {
             "colorbar": {
              "outlinewidth": 0,
              "ticks": ""
             }
            },
            "type": "scatterpolar"
           }
          ],
          "scatterpolargl": [
           {
            "marker": {
             "colorbar": {
              "outlinewidth": 0,
              "ticks": ""
             }
            },
            "type": "scatterpolargl"
           }
          ],
          "scatterternary": [
           {
            "marker": {
             "colorbar": {
              "outlinewidth": 0,
              "ticks": ""
             }
            },
            "type": "scatterternary"
           }
          ],
          "surface": [
           {
            "colorbar": {
             "outlinewidth": 0,
             "ticks": ""
            },
            "colorscale": [
             [
              0,
              "#0d0887"
             ],
             [
              0.1111111111111111,
              "#46039f"
             ],
             [
              0.2222222222222222,
              "#7201a8"
             ],
             [
              0.3333333333333333,
              "#9c179e"
             ],
             [
              0.4444444444444444,
              "#bd3786"
             ],
             [
              0.5555555555555556,
              "#d8576b"
             ],
             [
              0.6666666666666666,
              "#ed7953"
             ],
             [
              0.7777777777777778,
              "#fb9f3a"
             ],
             [
              0.8888888888888888,
              "#fdca26"
             ],
             [
              1,
              "#f0f921"
             ]
            ],
            "type": "surface"
           }
          ],
          "table": [
           {
            "cells": {
             "fill": {
              "color": "#EBF0F8"
             },
             "line": {
              "color": "white"
             }
            },
            "header": {
             "fill": {
              "color": "#C8D4E3"
             },
             "line": {
              "color": "white"
             }
            },
            "type": "table"
           }
          ]
         },
         "layout": {
          "annotationdefaults": {
           "arrowcolor": "#2a3f5f",
           "arrowhead": 0,
           "arrowwidth": 1
          },
          "autotypenumbers": "strict",
          "coloraxis": {
           "colorbar": {
            "outlinewidth": 0,
            "ticks": ""
           }
          },
          "colorscale": {
           "diverging": [
            [
             0,
             "#8e0152"
            ],
            [
             0.1,
             "#c51b7d"
            ],
            [
             0.2,
             "#de77ae"
            ],
            [
             0.3,
             "#f1b6da"
            ],
            [
             0.4,
             "#fde0ef"
            ],
            [
             0.5,
             "#f7f7f7"
            ],
            [
             0.6,
             "#e6f5d0"
            ],
            [
             0.7,
             "#b8e186"
            ],
            [
             0.8,
             "#7fbc41"
            ],
            [
             0.9,
             "#4d9221"
            ],
            [
             1,
             "#276419"
            ]
           ],
           "sequential": [
            [
             0,
             "#0d0887"
            ],
            [
             0.1111111111111111,
             "#46039f"
            ],
            [
             0.2222222222222222,
             "#7201a8"
            ],
            [
             0.3333333333333333,
             "#9c179e"
            ],
            [
             0.4444444444444444,
             "#bd3786"
            ],
            [
             0.5555555555555556,
             "#d8576b"
            ],
            [
             0.6666666666666666,
             "#ed7953"
            ],
            [
             0.7777777777777778,
             "#fb9f3a"
            ],
            [
             0.8888888888888888,
             "#fdca26"
            ],
            [
             1,
             "#f0f921"
            ]
           ],
           "sequentialminus": [
            [
             0,
             "#0d0887"
            ],
            [
             0.1111111111111111,
             "#46039f"
            ],
            [
             0.2222222222222222,
             "#7201a8"
            ],
            [
             0.3333333333333333,
             "#9c179e"
            ],
            [
             0.4444444444444444,
             "#bd3786"
            ],
            [
             0.5555555555555556,
             "#d8576b"
            ],
            [
             0.6666666666666666,
             "#ed7953"
            ],
            [
             0.7777777777777778,
             "#fb9f3a"
            ],
            [
             0.8888888888888888,
             "#fdca26"
            ],
            [
             1,
             "#f0f921"
            ]
           ]
          },
          "colorway": [
           "#636efa",
           "#EF553B",
           "#00cc96",
           "#ab63fa",
           "#FFA15A",
           "#19d3f3",
           "#FF6692",
           "#B6E880",
           "#FF97FF",
           "#FECB52"
          ],
          "font": {
           "color": "#2a3f5f"
          },
          "geo": {
           "bgcolor": "white",
           "lakecolor": "white",
           "landcolor": "white",
           "showlakes": true,
           "showland": true,
           "subunitcolor": "#C8D4E3"
          },
          "hoverlabel": {
           "align": "left"
          },
          "hovermode": "closest",
          "mapbox": {
           "style": "light"
          },
          "paper_bgcolor": "white",
          "plot_bgcolor": "white",
          "polar": {
           "angularaxis": {
            "gridcolor": "#EBF0F8",
            "linecolor": "#EBF0F8",
            "ticks": ""
           },
           "bgcolor": "white",
           "radialaxis": {
            "gridcolor": "#EBF0F8",
            "linecolor": "#EBF0F8",
            "ticks": ""
           }
          },
          "scene": {
           "xaxis": {
            "backgroundcolor": "white",
            "gridcolor": "#DFE8F3",
            "gridwidth": 2,
            "linecolor": "#EBF0F8",
            "showbackground": true,
            "ticks": "",
            "zerolinecolor": "#EBF0F8"
           },
           "yaxis": {
            "backgroundcolor": "white",
            "gridcolor": "#DFE8F3",
            "gridwidth": 2,
            "linecolor": "#EBF0F8",
            "showbackground": true,
            "ticks": "",
            "zerolinecolor": "#EBF0F8"
           },
           "zaxis": {
            "backgroundcolor": "white",
            "gridcolor": "#DFE8F3",
            "gridwidth": 2,
            "linecolor": "#EBF0F8",
            "showbackground": true,
            "ticks": "",
            "zerolinecolor": "#EBF0F8"
           }
          },
          "shapedefaults": {
           "line": {
            "color": "#2a3f5f"
           }
          },
          "ternary": {
           "aaxis": {
            "gridcolor": "#DFE8F3",
            "linecolor": "#A2B1C6",
            "ticks": ""
           },
           "baxis": {
            "gridcolor": "#DFE8F3",
            "linecolor": "#A2B1C6",
            "ticks": ""
           },
           "bgcolor": "white",
           "caxis": {
            "gridcolor": "#DFE8F3",
            "linecolor": "#A2B1C6",
            "ticks": ""
           }
          },
          "title": {
           "x": 0.05
          },
          "xaxis": {
           "automargin": true,
           "gridcolor": "#EBF0F8",
           "linecolor": "#EBF0F8",
           "ticks": "",
           "title": {
            "standoff": 15
           },
           "zerolinecolor": "#EBF0F8",
           "zerolinewidth": 2
          },
          "yaxis": {
           "automargin": true,
           "gridcolor": "#EBF0F8",
           "linecolor": "#EBF0F8",
           "ticks": "",
           "title": {
            "standoff": 15
           },
           "zerolinecolor": "#EBF0F8",
           "zerolinewidth": 2
          }
         }
        }
       }
      }
     },
     "metadata": {},
     "output_type": "display_data"
    }
   ],
   "source": [
    "fig = px.choropleth(\n",
    "    df.group_by('STATE', 'STATE_ABBR').agg(pl.col('VALUE').sum()),\n",
    "    locations='STATE_ABBR', \n",
    "    locationmode='USA-states', \n",
    "    scope='usa',\n",
    "    color='VALUE',\n",
    "    template='plotly_white',\n",
    "    color_continuous_scale=\"Viridis_r\", \n",
    ")\n",
    "fig.show()"
   ]
  },
  {
   "cell_type": "code",
   "execution_count": 25,
   "id": "4448fd6f",
   "metadata": {},
   "outputs": [
    {
     "name": "stdout",
     "output_type": "stream",
     "text": [
      "df_state\n",
      "shape: (7, 6)\n",
      "┌──────────┬────────────┬────────────────────────┬────────────┬───────────┬───────────┐\n",
      "│ STATE    ┆ STATE_ABBR ┆ PORT                   ┆ LAT        ┆ LONG      ┆ VALUE     │\n",
      "│ ---      ┆ ---        ┆ ---                    ┆ ---        ┆ ---       ┆ ---       │\n",
      "│ enum     ┆ enum       ┆ enum                   ┆ f64        ┆ f64       ┆ u32       │\n",
      "╞══════════╪════════════╪════════════════════════╪════════════╪═══════════╪═══════════╡\n",
      "│ New York ┆ NY         ┆ Alexandria Bay         ┆ -75.983592 ┆ 44.347229 ┆ 72103259  │\n",
      "│ New York ┆ NY         ┆ Buffalo Niagara Falls  ┆ -79.055847 ┆ 43.09549  ┆ 614735269 │\n",
      "│ New York ┆ NY         ┆ Cape Vincent           ┆ -76.352489 ┆ 44.134917 ┆ 365490    │\n",
      "│ New York ┆ NY         ┆ Champlain Rouses Point ┆ -73.452663 ┆ 45.008833 ┆ 129754120 │\n",
      "│ New York ┆ NY         ┆ Massena                ┆ -74.739722 ┆ 44.990556 ┆ 85984654  │\n",
      "│ New York ┆ NY         ┆ Ogdensburg             ┆ -75.45775  ┆ 44.73309  ┆ 27048025  │\n",
      "│ New York ┆ NY         ┆ Trout River            ┆ -74.308172 ┆ 44.992058 ┆ 15651861  │\n",
      "└──────────┴────────────┴────────────────────────┴────────────┴───────────┴───────────┘\n"
     ]
    },
    {
     "data": {
      "application/vnd.plotly.v1+json": {
       "config": {
        "plotlyServerURL": "https://plot.ly"
       },
       "data": [
        {
         "hovertemplate": "VALUE=%{marker.size}<br>PORT=%{text}<br>LONG=%{lat}<br>LAT=%{lon}<extra></extra>",
         "lat": {
          "bdata": "hJz3/3EsRkAqjC0EOYxFQFRW0/VEEUZA5fktbSGBRkCkbfyJyn5GQMEEfOPVXUZAGt6swft+RkA=",
          "dtype": "f8"
         },
         "legendgroup": "",
         "lon": {
          "bdata": "3SbcK/P+UsAapUv/ksNTwMnMBS6PFlPAunhEcPhcUsBuiPGaV69SwKTOZMdL3VLAv2INF7mTUsA=",
          "dtype": "f8"
         },
         "marker": {
          "color": "#636efa",
          "size": {
           "bdata": "WzVMBKUdpCSykwUACOS7B44FIAVZuJwBFdTuAA==",
           "dtype": "u4"
          },
          "sizemode": "area",
          "sizeref": 2732156.751111111
         },
         "mode": "markers+text",
         "name": "",
         "showlegend": false,
         "subplot": "map",
         "text": [
          "Alexandria Bay",
          "Buffalo Niagara Falls",
          "Cape Vincent",
          "Champlain Rouses Point",
          "Massena",
          "Ogdensburg",
          "Trout River"
         ],
         "type": "scattermap"
        }
       ],
       "layout": {
        "legend": {
         "itemsizing": "constant",
         "tracegroupgap": 0
        },
        "map": {
         "center": {
          "lat": 44.471738922528566,
          "lon": -75.62146223732857
         },
         "domain": {
          "x": [
           0,
           1
          ],
          "y": [
           0,
           1
          ]
         },
         "zoom": 5
        },
        "mapbox": {
         "center": {
          "lat": 44.471738922528566,
          "lon": -75.62146223732857
         },
         "zoom": 5
        },
        "margin": {
         "t": 60
        },
        "template": {
         "data": {
          "bar": [
           {
            "error_x": {
             "color": "#2a3f5f"
            },
            "error_y": {
             "color": "#2a3f5f"
            },
            "marker": {
             "line": {
              "color": "#E5ECF6",
              "width": 0.5
             },
             "pattern": {
              "fillmode": "overlay",
              "size": 10,
              "solidity": 0.2
             }
            },
            "type": "bar"
           }
          ],
          "barpolar": [
           {
            "marker": {
             "line": {
              "color": "#E5ECF6",
              "width": 0.5
             },
             "pattern": {
              "fillmode": "overlay",
              "size": 10,
              "solidity": 0.2
             }
            },
            "type": "barpolar"
           }
          ],
          "carpet": [
           {
            "aaxis": {
             "endlinecolor": "#2a3f5f",
             "gridcolor": "white",
             "linecolor": "white",
             "minorgridcolor": "white",
             "startlinecolor": "#2a3f5f"
            },
            "baxis": {
             "endlinecolor": "#2a3f5f",
             "gridcolor": "white",
             "linecolor": "white",
             "minorgridcolor": "white",
             "startlinecolor": "#2a3f5f"
            },
            "type": "carpet"
           }
          ],
          "choropleth": [
           {
            "colorbar": {
             "outlinewidth": 0,
             "ticks": ""
            },
            "type": "choropleth"
           }
          ],
          "contour": [
           {
            "colorbar": {
             "outlinewidth": 0,
             "ticks": ""
            },
            "colorscale": [
             [
              0,
              "#0d0887"
             ],
             [
              0.1111111111111111,
              "#46039f"
             ],
             [
              0.2222222222222222,
              "#7201a8"
             ],
             [
              0.3333333333333333,
              "#9c179e"
             ],
             [
              0.4444444444444444,
              "#bd3786"
             ],
             [
              0.5555555555555556,
              "#d8576b"
             ],
             [
              0.6666666666666666,
              "#ed7953"
             ],
             [
              0.7777777777777778,
              "#fb9f3a"
             ],
             [
              0.8888888888888888,
              "#fdca26"
             ],
             [
              1,
              "#f0f921"
             ]
            ],
            "type": "contour"
           }
          ],
          "contourcarpet": [
           {
            "colorbar": {
             "outlinewidth": 0,
             "ticks": ""
            },
            "type": "contourcarpet"
           }
          ],
          "heatmap": [
           {
            "colorbar": {
             "outlinewidth": 0,
             "ticks": ""
            },
            "colorscale": [
             [
              0,
              "#0d0887"
             ],
             [
              0.1111111111111111,
              "#46039f"
             ],
             [
              0.2222222222222222,
              "#7201a8"
             ],
             [
              0.3333333333333333,
              "#9c179e"
             ],
             [
              0.4444444444444444,
              "#bd3786"
             ],
             [
              0.5555555555555556,
              "#d8576b"
             ],
             [
              0.6666666666666666,
              "#ed7953"
             ],
             [
              0.7777777777777778,
              "#fb9f3a"
             ],
             [
              0.8888888888888888,
              "#fdca26"
             ],
             [
              1,
              "#f0f921"
             ]
            ],
            "type": "heatmap"
           }
          ],
          "histogram": [
           {
            "marker": {
             "pattern": {
              "fillmode": "overlay",
              "size": 10,
              "solidity": 0.2
             }
            },
            "type": "histogram"
           }
          ],
          "histogram2d": [
           {
            "colorbar": {
             "outlinewidth": 0,
             "ticks": ""
            },
            "colorscale": [
             [
              0,
              "#0d0887"
             ],
             [
              0.1111111111111111,
              "#46039f"
             ],
             [
              0.2222222222222222,
              "#7201a8"
             ],
             [
              0.3333333333333333,
              "#9c179e"
             ],
             [
              0.4444444444444444,
              "#bd3786"
             ],
             [
              0.5555555555555556,
              "#d8576b"
             ],
             [
              0.6666666666666666,
              "#ed7953"
             ],
             [
              0.7777777777777778,
              "#fb9f3a"
             ],
             [
              0.8888888888888888,
              "#fdca26"
             ],
             [
              1,
              "#f0f921"
             ]
            ],
            "type": "histogram2d"
           }
          ],
          "histogram2dcontour": [
           {
            "colorbar": {
             "outlinewidth": 0,
             "ticks": ""
            },
            "colorscale": [
             [
              0,
              "#0d0887"
             ],
             [
              0.1111111111111111,
              "#46039f"
             ],
             [
              0.2222222222222222,
              "#7201a8"
             ],
             [
              0.3333333333333333,
              "#9c179e"
             ],
             [
              0.4444444444444444,
              "#bd3786"
             ],
             [
              0.5555555555555556,
              "#d8576b"
             ],
             [
              0.6666666666666666,
              "#ed7953"
             ],
             [
              0.7777777777777778,
              "#fb9f3a"
             ],
             [
              0.8888888888888888,
              "#fdca26"
             ],
             [
              1,
              "#f0f921"
             ]
            ],
            "type": "histogram2dcontour"
           }
          ],
          "mesh3d": [
           {
            "colorbar": {
             "outlinewidth": 0,
             "ticks": ""
            },
            "type": "mesh3d"
           }
          ],
          "parcoords": [
           {
            "line": {
             "colorbar": {
              "outlinewidth": 0,
              "ticks": ""
             }
            },
            "type": "parcoords"
           }
          ],
          "pie": [
           {
            "automargin": true,
            "type": "pie"
           }
          ],
          "scatter": [
           {
            "fillpattern": {
             "fillmode": "overlay",
             "size": 10,
             "solidity": 0.2
            },
            "type": "scatter"
           }
          ],
          "scatter3d": [
           {
            "line": {
             "colorbar": {
              "outlinewidth": 0,
              "ticks": ""
             }
            },
            "marker": {
             "colorbar": {
              "outlinewidth": 0,
              "ticks": ""
             }
            },
            "type": "scatter3d"
           }
          ],
          "scattercarpet": [
           {
            "marker": {
             "colorbar": {
              "outlinewidth": 0,
              "ticks": ""
             }
            },
            "type": "scattercarpet"
           }
          ],
          "scattergeo": [
           {
            "marker": {
             "colorbar": {
              "outlinewidth": 0,
              "ticks": ""
             }
            },
            "type": "scattergeo"
           }
          ],
          "scattergl": [
           {
            "marker": {
             "colorbar": {
              "outlinewidth": 0,
              "ticks": ""
             }
            },
            "type": "scattergl"
           }
          ],
          "scattermap": [
           {
            "marker": {
             "colorbar": {
              "outlinewidth": 0,
              "ticks": ""
             }
            },
            "type": "scattermap"
           }
          ],
          "scattermapbox": [
           {
            "marker": {
             "colorbar": {
              "outlinewidth": 0,
              "ticks": ""
             }
            },
            "type": "scattermapbox"
           }
          ],
          "scatterpolar": [
           {
            "marker": {
             "colorbar": {
              "outlinewidth": 0,
              "ticks": ""
             }
            },
            "type": "scatterpolar"
           }
          ],
          "scatterpolargl": [
           {
            "marker": {
             "colorbar": {
              "outlinewidth": 0,
              "ticks": ""
             }
            },
            "type": "scatterpolargl"
           }
          ],
          "scatterternary": [
           {
            "marker": {
             "colorbar": {
              "outlinewidth": 0,
              "ticks": ""
             }
            },
            "type": "scatterternary"
           }
          ],
          "surface": [
           {
            "colorbar": {
             "outlinewidth": 0,
             "ticks": ""
            },
            "colorscale": [
             [
              0,
              "#0d0887"
             ],
             [
              0.1111111111111111,
              "#46039f"
             ],
             [
              0.2222222222222222,
              "#7201a8"
             ],
             [
              0.3333333333333333,
              "#9c179e"
             ],
             [
              0.4444444444444444,
              "#bd3786"
             ],
             [
              0.5555555555555556,
              "#d8576b"
             ],
             [
              0.6666666666666666,
              "#ed7953"
             ],
             [
              0.7777777777777778,
              "#fb9f3a"
             ],
             [
              0.8888888888888888,
              "#fdca26"
             ],
             [
              1,
              "#f0f921"
             ]
            ],
            "type": "surface"
           }
          ],
          "table": [
           {
            "cells": {
             "fill": {
              "color": "#EBF0F8"
             },
             "line": {
              "color": "white"
             }
            },
            "header": {
             "fill": {
              "color": "#C8D4E3"
             },
             "line": {
              "color": "white"
             }
            },
            "type": "table"
           }
          ]
         },
         "layout": {
          "annotationdefaults": {
           "arrowcolor": "#2a3f5f",
           "arrowhead": 0,
           "arrowwidth": 1
          },
          "autotypenumbers": "strict",
          "coloraxis": {
           "colorbar": {
            "outlinewidth": 0,
            "ticks": ""
           }
          },
          "colorscale": {
           "diverging": [
            [
             0,
             "#8e0152"
            ],
            [
             0.1,
             "#c51b7d"
            ],
            [
             0.2,
             "#de77ae"
            ],
            [
             0.3,
             "#f1b6da"
            ],
            [
             0.4,
             "#fde0ef"
            ],
            [
             0.5,
             "#f7f7f7"
            ],
            [
             0.6,
             "#e6f5d0"
            ],
            [
             0.7,
             "#b8e186"
            ],
            [
             0.8,
             "#7fbc41"
            ],
            [
             0.9,
             "#4d9221"
            ],
            [
             1,
             "#276419"
            ]
           ],
           "sequential": [
            [
             0,
             "#0d0887"
            ],
            [
             0.1111111111111111,
             "#46039f"
            ],
            [
             0.2222222222222222,
             "#7201a8"
            ],
            [
             0.3333333333333333,
             "#9c179e"
            ],
            [
             0.4444444444444444,
             "#bd3786"
            ],
            [
             0.5555555555555556,
             "#d8576b"
            ],
            [
             0.6666666666666666,
             "#ed7953"
            ],
            [
             0.7777777777777778,
             "#fb9f3a"
            ],
            [
             0.8888888888888888,
             "#fdca26"
            ],
            [
             1,
             "#f0f921"
            ]
           ],
           "sequentialminus": [
            [
             0,
             "#0d0887"
            ],
            [
             0.1111111111111111,
             "#46039f"
            ],
            [
             0.2222222222222222,
             "#7201a8"
            ],
            [
             0.3333333333333333,
             "#9c179e"
            ],
            [
             0.4444444444444444,
             "#bd3786"
            ],
            [
             0.5555555555555556,
             "#d8576b"
            ],
            [
             0.6666666666666666,
             "#ed7953"
            ],
            [
             0.7777777777777778,
             "#fb9f3a"
            ],
            [
             0.8888888888888888,
             "#fdca26"
            ],
            [
             1,
             "#f0f921"
            ]
           ]
          },
          "colorway": [
           "#636efa",
           "#EF553B",
           "#00cc96",
           "#ab63fa",
           "#FFA15A",
           "#19d3f3",
           "#FF6692",
           "#B6E880",
           "#FF97FF",
           "#FECB52"
          ],
          "font": {
           "color": "#2a3f5f"
          },
          "geo": {
           "bgcolor": "white",
           "lakecolor": "white",
           "landcolor": "#E5ECF6",
           "showlakes": true,
           "showland": true,
           "subunitcolor": "white"
          },
          "hoverlabel": {
           "align": "left"
          },
          "hovermode": "closest",
          "mapbox": {
           "style": "light"
          },
          "paper_bgcolor": "white",
          "plot_bgcolor": "#E5ECF6",
          "polar": {
           "angularaxis": {
            "gridcolor": "white",
            "linecolor": "white",
            "ticks": ""
           },
           "bgcolor": "#E5ECF6",
           "radialaxis": {
            "gridcolor": "white",
            "linecolor": "white",
            "ticks": ""
           }
          },
          "scene": {
           "xaxis": {
            "backgroundcolor": "#E5ECF6",
            "gridcolor": "white",
            "gridwidth": 2,
            "linecolor": "white",
            "showbackground": true,
            "ticks": "",
            "zerolinecolor": "white"
           },
           "yaxis": {
            "backgroundcolor": "#E5ECF6",
            "gridcolor": "white",
            "gridwidth": 2,
            "linecolor": "white",
            "showbackground": true,
            "ticks": "",
            "zerolinecolor": "white"
           },
           "zaxis": {
            "backgroundcolor": "#E5ECF6",
            "gridcolor": "white",
            "gridwidth": 2,
            "linecolor": "white",
            "showbackground": true,
            "ticks": "",
            "zerolinecolor": "white"
           }
          },
          "shapedefaults": {
           "line": {
            "color": "#2a3f5f"
           }
          },
          "ternary": {
           "aaxis": {
            "gridcolor": "white",
            "linecolor": "white",
            "ticks": ""
           },
           "baxis": {
            "gridcolor": "white",
            "linecolor": "white",
            "ticks": ""
           },
           "bgcolor": "#E5ECF6",
           "caxis": {
            "gridcolor": "white",
            "linecolor": "white",
            "ticks": ""
           }
          },
          "title": {
           "x": 0.05
          },
          "xaxis": {
           "automargin": true,
           "gridcolor": "white",
           "linecolor": "white",
           "ticks": "",
           "title": {
            "standoff": 15
           },
           "zerolinecolor": "white",
           "zerolinewidth": 2
          },
          "yaxis": {
           "automargin": true,
           "gridcolor": "white",
           "linecolor": "white",
           "ticks": "",
           "title": {
            "standoff": 15
           },
           "zerolinecolor": "white",
           "zerolinewidth": 2
          }
         }
        }
       }
      }
     },
     "metadata": {},
     "output_type": "display_data"
    }
   ],
   "source": [
    "selected_state = 'New York'\n",
    "df_state = (\n",
    "    df\n",
    "    .filter(pl.col('STATE') == selected_state)\n",
    "    .group_by('STATE', 'STATE_ABBR', 'PORT', 'LAT', 'LONG')\n",
    "    .agg(pl.col('VALUE').sum())\n",
    "    .sort('PORT')\n",
    ")\n",
    "print('df_state')\n",
    "print(df_state)\n",
    "\n",
    "# Create a scatter map\n",
    "\n",
    "fig_state_port_map = px.scatter_map(\n",
    "    df_state,\n",
    "    lon='LAT',\n",
    "    lat='LONG',\n",
    "    # hover_name='PORT',\n",
    "    text='PORT',\n",
    "    size='VALUE',\n",
    "    size_max=15,\n",
    "    zoom=5,\n",
    "    # title=f'Border Crossing in {selected_state}',\n",
    "    # map_style='carto-positron'  # Use MapLibre-compatible tile style\n",
    ")\n",
    "fig_state_port_map.write_html('map.html')\n",
    "fig_state_port_map.show()"
   ]
  },
  {
   "cell_type": "code",
   "execution_count": null,
   "id": "34f4b422",
   "metadata": {},
   "outputs": [],
   "source": []
  }
 ],
 "metadata": {
  "kernelspec": {
   "display_name": "Python 3",
   "language": "python",
   "name": "python3"
  },
  "language_info": {
   "codemirror_mode": {
    "name": "ipython",
    "version": 3
   },
   "file_extension": ".py",
   "mimetype": "text/x-python",
   "name": "python",
   "nbconvert_exporter": "python",
   "pygments_lexer": "ipython3",
   "version": "3.13.5"
  }
 },
 "nbformat": 4,
 "nbformat_minor": 5
}
