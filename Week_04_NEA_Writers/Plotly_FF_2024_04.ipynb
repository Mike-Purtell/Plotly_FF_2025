{
 "cells": [
  {
   "cell_type": "code",
   "execution_count": 36,
   "metadata": {},
   "outputs": [
    {
     "data": {
      "text/html": [
       "<div><style>\n",
       ".dataframe > thead > tr,\n",
       ".dataframe > tbody > tr {\n",
       "  text-align: right;\n",
       "  white-space: pre-wrap;\n",
       "}\n",
       "</style>\n",
       "<small>shape: (24, 2)</small><table border=\"1\" class=\"dataframe\"><thead><tr><th>country</th><th>COUNTRY_PCT</th></tr><tr><td>str</td><td>f32</td></tr></thead><tbody><tr><td>&quot;USA&quot;</td><td>91.390015</td></tr><tr><td>&quot;No state or country listed&quot;</td><td>7.476383</td></tr><tr><td>&quot;England&quot;</td><td>0.215924</td></tr><tr><td>&quot;Canada&quot;</td><td>0.161943</td></tr><tr><td>&quot;France&quot;</td><td>0.134953</td></tr><tr><td>&hellip;</td><td>&hellip;</td></tr><tr><td>&quot;Mexico&quot;</td><td>0.026991</td></tr><tr><td>&quot;USA / Israel&quot;</td><td>0.026991</td></tr><tr><td>&quot;China&quot;</td><td>0.026991</td></tr><tr><td>&quot;Turkey&quot;</td><td>0.026991</td></tr><tr><td>&quot;Israel&quot;</td><td>0.026991</td></tr></tbody></table></div>"
      ],
      "text/plain": [
       "shape: (24, 2)\n",
       "┌────────────────────────────┬─────────────┐\n",
       "│ country                    ┆ COUNTRY_PCT │\n",
       "│ ---                        ┆ ---         │\n",
       "│ str                        ┆ f32         │\n",
       "╞════════════════════════════╪═════════════╡\n",
       "│ USA                        ┆ 91.390015   │\n",
       "│ No state or country listed ┆ 7.476383    │\n",
       "│ England                    ┆ 0.215924    │\n",
       "│ Canada                     ┆ 0.161943    │\n",
       "│ France                     ┆ 0.134953    │\n",
       "│ …                          ┆ …           │\n",
       "│ Mexico                     ┆ 0.026991    │\n",
       "│ USA / Israel               ┆ 0.026991    │\n",
       "│ China                      ┆ 0.026991    │\n",
       "│ Turkey                     ┆ 0.026991    │\n",
       "│ Israel                     ┆ 0.026991    │\n",
       "└────────────────────────────┴─────────────┘"
      ]
     },
     "execution_count": 36,
     "metadata": {},
     "output_type": "execute_result"
    }
   ],
   "source": [
    "import polars as pl\n",
    "import plotly.graph_objects as go \n",
    "from dash import Dash, dcc\n",
    "import dash_ag_grid as dag\n",
    "\n",
    "#-------------------------------------------------------------------------------\n",
    "#  This data set has 91.4% of entries from the United States, and 7.5% of\n",
    "#  its entries from \"No state or country\". The second most identified country\n",
    "#  is England, with 0.26% of the datasets entries. This visualization will focus\n",
    "#  on USA only. A dashboard similar to the code sample will have a dash_ag table,\n",
    "#  a graph objects to show 4 histogram overlays from east, central, mountain,\n",
    "#  and pacific regions, and a choropleth map to show the number of entries by\n",
    "#  American state.\n",
    "\n",
    "#-------------------------------------------------------------------------------\n",
    "\n",
    "# split long path name for PEP-8 compliance\n",
    "source_file = 'https://raw.githubusercontent.com/plotly/Figure-Friday/refs/'\n",
    "source_file += 'heads/main/2025/week-4/Post45_NEAData_Final.csv'\n",
    "\n",
    "df = (\n",
    "    pl.read_csv(source_file)\n",
    "    .with_columns(\n",
    "        WRITERS_AGE = (pl.col('nea_grant_year') - pl.col('birth_year'))\n",
    "    )\n",
    "    .with_row_index(offset=1)\n",
    "    .with_columns(\n",
    "        COUNTRY_PCT = \n",
    "            (100 * pl.col('country').count().over('country')\n",
    "            /\n",
    "            pl.col('index').max())\n",
    "            .cast(pl.Float32())\n",
    "    )\n",
    ")\n",
    "\n",
    "# df = pl.read_csv(\"https://raw.githubusercontent.com/plotly/Figure-Friday/refs/heads/main/2025/week-4/Post45_NEAData_Final.csv\")\n",
    "# df['age of writer'] = df.nea_grant_year - df.birth_year\n",
    "#fig = px.histogram(df, x='age of writer')\n",
    "#fig.show()\n",
    "(\n",
    "    df\n",
    "    .unique('country')\n",
    "    .select(pl.col('country', 'COUNTRY_PCT'))\n",
    "    .sort('COUNTRY_PCT', descending=True)\n",
    ")\n"
   ]
  },
  {
   "cell_type": "code",
   "execution_count": null,
   "metadata": {},
   "outputs": [],
   "source": []
  }
 ],
 "metadata": {
  "kernelspec": {
   "display_name": "Python 3",
   "language": "python",
   "name": "python3"
  },
  "language_info": {
   "codemirror_mode": {
    "name": "ipython",
    "version": 3
   },
   "file_extension": ".py",
   "mimetype": "text/x-python",
   "name": "python",
   "nbconvert_exporter": "python",
   "pygments_lexer": "ipython3",
   "version": "3.13.1"
  }
 },
 "nbformat": 4,
 "nbformat_minor": 2
}
