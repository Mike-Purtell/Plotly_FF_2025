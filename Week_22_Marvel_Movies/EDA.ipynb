{
 "cells": [
  {
   "cell_type": "code",
   "execution_count": 46,
   "id": "80911e33",
   "metadata": {},
   "outputs": [],
   "source": [
    "import polars as pl\n",
    "import polars.selectors as cs\n",
    "import plotly.express as px"
   ]
  },
  {
   "cell_type": "code",
   "execution_count": 47,
   "id": "c27512be",
   "metadata": {},
   "outputs": [
    {
     "name": "stdout",
     "output_type": "stream",
     "text": [
      "len(org_col_names) = 17\n",
      "org_col_names = ['film', 'category', 'worldwide gross', '% budget recovered', 'critics % score', 'audience % score', 'audience vs critics % deviance', 'budget', 'domestic gross ($m)', 'international gross ($m)', 'opening weekend ($m)', 'second weekend ($m)', '1st vs 2nd weekend drop off', '% gross from opening weekend', '% budget opening weekend', 'year', 'source']\n",
      "len(short_col_names) = 17\n",
      "short_col_names = ['FILM', 'FRANCHISE', 'WW_GROSS', 'BUD_PCT_REC', 'CRIT_PCT_SCORE', 'AUD_PCT_SCORE', 'CRIT_AUD_PCT', 'BUDGET', 'DOM_GROSS', 'INT_GROSS', 'WEEK1', 'WEEK2', 'WEEK2_DROP_OFF', 'GROSS_PCT_OPEN', 'BUDGET_PCT_OPEN', 'YEAR', 'SOURCE']\n"
     ]
    }
   ],
   "source": [
    "org_col_names  = [c for c in pl.scan_csv('Marvel-Movies.csv').collect_schema()]\n",
    "short_col_names =[\n",
    "    'FILM', 'FRANCHISE', 'WW_GROSS', 'BUD_PCT_REC', 'CRIT_PCT_SCORE', 'AUD_PCT_SCORE', \n",
    "    'CRIT_AUD_PCT', 'BUDGET', 'DOM_GROSS', 'INT_GROSS', 'WEEK1', 'WEEK2',\n",
    "    'WEEK2_DROP_OFF', 'GROSS_PCT_OPEN', 'BUDGET_PCT_OPEN', 'YEAR', 'SOURCE'\n",
    "]\n",
    "print(f'{len(org_col_names) = }')\n",
    "print(f'{org_col_names = }')\n",
    "print(f'{len(short_col_names) = }')\n",
    "print(f'{short_col_names = }')"
   ]
  },
  {
   "cell_type": "code",
   "execution_count": 60,
   "id": "e870bfd8",
   "metadata": {},
   "outputs": [
    {
     "data": {
      "text/plain": [
       "<xlsxwriter.workbook.Workbook at 0x2354885f8c0>"
      ]
     },
     "execution_count": 60,
     "metadata": {},
     "output_type": "execute_result"
    }
   ],
   "source": [
    "df = (\n",
    "    pl.read_csv('Marvel-Movies.csv')\n",
    "    .rename(dict(zip(org_col_names, short_col_names)))\n",
    "    .with_columns(\n",
    "        cs.string().exclude(['FILM', 'FRANCHISE','SOURCE'])\n",
    "        .str.replace_all(r'%', '')\n",
    "        .cast(pl.Float64())\n",
    "        .mul(0.01)  # divide by 100 for proper percentage format\n",
    "        .round(3)\n",
    "    )\n",
    "    .filter(pl.col('FRANCHISE') != 'Unique')\n",
    "    .sort('FRANCHISE', 'YEAR')\n",
    ")\n",
    "df.head()\n",
    "df.write_excel('df.xlsx')\n",
    "#df['FRANCHISE'].value_counts()"
   ]
  },
  {
   "cell_type": "code",
   "execution_count": null,
   "id": "c80ae710",
   "metadata": {},
   "outputs": [],
   "source": []
  },
  {
   "cell_type": "code",
   "execution_count": null,
   "id": "69719cce",
   "metadata": {},
   "outputs": [],
   "source": []
  }
 ],
 "metadata": {
  "kernelspec": {
   "display_name": "Python 3",
   "language": "python",
   "name": "python3"
  },
  "language_info": {
   "codemirror_mode": {
    "name": "ipython",
    "version": 3
   },
   "file_extension": ".py",
   "mimetype": "text/x-python",
   "name": "python",
   "nbconvert_exporter": "python",
   "pygments_lexer": "ipython3",
   "version": "3.13.1"
  }
 },
 "nbformat": 4,
 "nbformat_minor": 5
}
