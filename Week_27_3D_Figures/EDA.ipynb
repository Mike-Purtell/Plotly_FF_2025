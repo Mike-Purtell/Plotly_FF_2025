{
 "cells": [
  {
   "cell_type": "code",
   "execution_count": 2,
   "id": "d788182f",
   "metadata": {},
   "outputs": [],
   "source": [
    "import polars as pl\n",
    "import pandas as pd\n",
    "\n",
    "df_pl = pl.read_csv(\"model-grid-subsample.csv\")\n",
    "df_pd = pd.read_csv(\"model-grid-subsample.csv\")"
   ]
  },
  {
   "cell_type": "code",
   "execution_count": 3,
   "id": "d1fcf1c5",
   "metadata": {},
   "outputs": [
    {
     "data": {
      "text/html": [
       "<div><style>\n",
       ".dataframe > thead > tr,\n",
       ".dataframe > tbody > tr {\n",
       "  text-align: right;\n",
       "  white-space: pre-wrap;\n",
       "}\n",
       "</style>\n",
       "<small>shape: (5_000, 35)</small><table border=\"1\" class=\"dataframe\"><thead><tr><th></th><th>Longitude</th><th>Latitude</th><th>xm</th><th>ym</th><th>zm_depth</th><th>zm</th><th>xkm</th><th>ykm</th><th>zkm</th><th>dem_m</th><th>date</th><th>mean_tds_t</th><th>var_tds_t</th><th>sigma_tds_t</th><th>mean_tds</th><th>sigma_tds</th><th>mean_temp_t</th><th>var_temp_t</th><th>sigma_temp_t</th><th>mean_temp</th><th>sigma_temp</th><th>mean_res_t</th><th>var_res_t</th><th>sigma_res_t</th><th>mean_res</th><th>sigma_res</th><th>mean_por_t</th><th>var_por_t</th><th>sigma_por_t</th><th>mean_por</th><th>sigma_por</th><th>mean_bicarb</th><th>var_bicarb</th><th>sigma_bicarb</th></tr><tr><td>i64</td><td>f64</td><td>f64</td><td>f64</td><td>f64</td><td>f64</td><td>f64</td><td>f64</td><td>f64</td><td>f64</td><td>f64</td><td>f64</td><td>f64</td><td>f64</td><td>f64</td><td>f64</td><td>f64</td><td>f64</td><td>f64</td><td>f64</td><td>f64</td><td>f64</td><td>f64</td><td>f64</td><td>f64</td><td>f64</td><td>f64</td><td>f64</td><td>f64</td><td>f64</td><td>f64</td><td>f64</td><td>f64</td><td>f64</td><td>f64</td></tr></thead><tbody><tr><td>144274</td><td>-120.847149</td><td>35.957816</td><td>-76.320399</td><td>-228.4621</td><td>700.325317</td><td>-510.0</td><td>-76.320399</td><td>-228.4621</td><td>-0.51</td><td>190.33</td><td>2017.667</td><td>8.92052</td><td>0.13401</td><td>0.366</td><td>7484.0</td><td>3030.0</td><td>0.58837</td><td>0.04807</td><td>0.219</td><td>60.3</td><td>14.8</td><td>1.25663</td><td>0.07111</td><td>0.267</td><td>3.5</td><td>1.0</td><td>-1.1534</td><td>0.0114</td><td>0.1068</td><td>0.3156</td><td>0.034</td><td>0.1108</td><td>0.0255</td><td>0.1597</td></tr><tr><td>69657</td><td>-120.914815</td><td>35.960966</td><td>-82.412946</td><td>-228.05542</td><td>130.682251</td><td>140.0</td><td>-82.412946</td><td>-228.05542</td><td>0.14</td><td>270.68</td><td>2017.667</td><td>6.17145</td><td>0.23935</td><td>0.489</td><td>479.0</td><td>281.0</td><td>-0.0332</td><td>0.06606</td><td>0.257</td><td>22.4</td><td>8.1</td><td>3.31619</td><td>0.1208</td><td>0.348</td><td>27.6</td><td>10.5</td><td>-1.0983</td><td>0.0151</td><td>0.1229</td><td>0.3334</td><td>0.0414</td><td>0.5522</td><td>0.0427</td><td>0.2066</td></tr><tr><td>230805</td><td>-120.90614</td><td>36.005075</td><td>-81.584613</td><td>-223.162386</td><td>406.9394</td><td>-280.0</td><td>-81.584613</td><td>-223.162386</td><td>-0.28</td><td>126.94</td><td>2017.667</td><td>7.6153</td><td>0.17526</td><td>0.419</td><td>2029.0</td><td>969.0</td><td>0.28115</td><td>0.06461</td><td>0.254</td><td>38.6</td><td>12.3</td><td>2.28232</td><td>0.08883</td><td>0.298</td><td>9.8</td><td>3.1</td><td>-1.1713</td><td>0.0124</td><td>0.1114</td><td>0.31</td><td>0.0348</td><td>0.3801</td><td>0.0638</td><td>0.2526</td></tr><tr><td>473210</td><td>-120.822858</td><td>35.998774</td><td>-74.092612</td><td>-223.930848</td><td>900.460632</td><td>-560.0</td><td>-74.092612</td><td>-223.930848</td><td>-0.56</td><td>340.46</td><td>2017.667</td><td>9.51045</td><td>0.46264</td><td>0.68</td><td>13500.0</td><td>13049.0</td><td>0.65576</td><td>0.0725</td><td>0.269</td><td>66.0</td><td>21.1</td><td>0.82224</td><td>0.2133</td><td>0.462</td><td>2.3</td><td>1.2</td><td>-1.1216</td><td>0.0163</td><td>0.1277</td><td>0.3258</td><td>0.0421</td><td>0.0837</td><td>0.1237</td><td>0.3517</td></tr><tr><td>418835</td><td>-120.829798</td><td>35.940488</td><td>-74.774185</td><td>-230.401113</td><td>247.998993</td><td>10.0</td><td>-74.774185</td><td>-230.401113</td><td>0.01</td><td>258.0</td><td>2017.667</td><td>6.78198</td><td>0.11945</td><td>0.346</td><td>882.0</td><td>333.0</td><td>0.13262</td><td>0.05623</td><td>0.237</td><td>30.3</td><td>9.1</td><td>2.8875</td><td>0.06446</td><td>0.254</td><td>17.9</td><td>4.8</td><td>-1.2051</td><td>0.0109</td><td>0.1044</td><td>0.2997</td><td>0.0315</td><td>0.3158</td><td>0.0508</td><td>0.2254</td></tr><tr><td>&hellip;</td><td>&hellip;</td><td>&hellip;</td><td>&hellip;</td><td>&hellip;</td><td>&hellip;</td><td>&hellip;</td><td>&hellip;</td><td>&hellip;</td><td>&hellip;</td><td>&hellip;</td><td>&hellip;</td><td>&hellip;</td><td>&hellip;</td><td>&hellip;</td><td>&hellip;</td><td>&hellip;</td><td>&hellip;</td><td>&hellip;</td><td>&hellip;</td><td>&hellip;</td><td>&hellip;</td><td>&hellip;</td><td>&hellip;</td><td>&hellip;</td><td>&hellip;</td><td>&hellip;</td><td>&hellip;</td><td>&hellip;</td><td>&hellip;</td><td>&hellip;</td><td>&hellip;</td><td>&hellip;</td><td>&hellip;</td><td>&hellip;</td></tr><tr><td>295604</td><td>-120.828063</td><td>35.920009</td><td>-74.637715</td><td>-232.67768</td><td>551.761688</td><td>-290.0</td><td>-74.637715</td><td>-232.67768</td><td>-0.29</td><td>261.76</td><td>2017.667</td><td>8.12716</td><td>0.18305</td><td>0.428</td><td>3385.0</td><td>1663.0</td><td>0.42003</td><td>0.05861</td><td>0.242</td><td>47.6</td><td>13.7</td><td>1.80857</td><td>0.09185</td><td>0.303</td><td>6.1</td><td>2.0</td><td>-1.0663</td><td>0.0122</td><td>0.1105</td><td>0.3443</td><td>0.0384</td><td>0.2999</td><td>0.066</td><td>0.2569</td></tr><tr><td>111830</td><td>-120.852354</td><td>35.940488</td><td>-76.806626</td><td>-230.383083</td><td>355.369034</td><td>-140.0</td><td>-76.806626</td><td>-230.383083</td><td>-0.14</td><td>215.37</td><td>2017.667</td><td>8.06154</td><td>0.1026</td><td>0.32</td><td>3170.0</td><td>1097.0</td><td>0.24336</td><td>0.01645</td><td>0.128</td><td>36.4</td><td>3.8</td><td>1.99131</td><td>0.05106</td><td>0.226</td><td>7.3</td><td>1.7</td><td>-1.1739</td><td>0.0106</td><td>0.103</td><td>0.3092</td><td>0.0321</td><td>0.2833</td><td>0.0648</td><td>0.2546</td></tr><tr><td>375807</td><td>-120.798568</td><td>35.937337</td><td>-71.962977</td><td>-230.775314</td><td>467.213684</td><td>-160.0</td><td>-71.962977</td><td>-230.775314</td><td>-0.16</td><td>307.21</td><td>2017.667</td><td>7.97086</td><td>0.274</td><td>0.523</td><td>2895.0</td><td>1864.0</td><td>0.30526</td><td>0.0645</td><td>0.254</td><td>40.1</td><td>12.7</td><td>1.99945</td><td>0.13256</td><td>0.364</td><td>7.4</td><td>3.0</td><td>-1.1209</td><td>0.0134</td><td>0.1158</td><td>0.326</td><td>0.0381</td><td>0.3372</td><td>0.0719</td><td>0.2681</td></tr><tr><td>358352</td><td>-120.772542</td><td>35.905831</td><td>-69.646268</td><td>-234.295053</td><td>890.083405</td><td>-560.0</td><td>-69.646268</td><td>-234.295053</td><td>-0.56</td><td>330.08</td><td>2017.667</td><td>8.91115</td><td>0.26899</td><td>0.519</td><td>7414.0</td><td>4712.0</td><td>0.54541</td><td>0.06895</td><td>0.263</td><td>56.8</td><td>17.9</td><td>1.26779</td><td>0.13115</td><td>0.362</td><td>3.6</td><td>1.4</td><td>-1.1044</td><td>0.0143</td><td>0.1196</td><td>0.3314</td><td>0.0401</td><td>0.2282</td><td>0.0576</td><td>0.24</td></tr><tr><td>94104</td><td>-120.90614</td><td>35.990897</td><td>-81.599669</td><td>-224.737573</td><td>167.632278</td><td>-10.0</td><td>-81.599669</td><td>-224.737573</td><td>-0.01</td><td>157.63</td><td>2017.667</td><td>6.74066</td><td>0.14765</td><td>0.384</td><td>846.0</td><td>363.0</td><td>0.04714</td><td>0.06454</td><td>0.254</td><td>26.1</td><td>8.9</td><td>2.88741</td><td>0.07729</td><td>0.278</td><td>17.9</td><td>5.3</td><td>-1.0922</td><td>0.0127</td><td>0.1127</td><td>0.3355</td><td>0.0382</td><td>0.4195</td><td>0.0505</td><td>0.2247</td></tr></tbody></table></div>"
      ],
      "text/plain": [
       "shape: (5_000, 35)\n",
       "┌────────┬────────────┬───────────┬────────────┬───┬───────────┬───────────┬───────────┬───────────┐\n",
       "│        ┆ Longitude  ┆ Latitude  ┆ xm         ┆ … ┆ sigma_por ┆ mean_bica ┆ var_bicar ┆ sigma_bic │\n",
       "│ ---    ┆ ---        ┆ ---       ┆ ---        ┆   ┆ ---       ┆ rb        ┆ b         ┆ arb       │\n",
       "│ i64    ┆ f64        ┆ f64       ┆ f64        ┆   ┆ f64       ┆ ---       ┆ ---       ┆ ---       │\n",
       "│        ┆            ┆           ┆            ┆   ┆           ┆ f64       ┆ f64       ┆ f64       │\n",
       "╞════════╪════════════╪═══════════╪════════════╪═══╪═══════════╪═══════════╪═══════════╪═══════════╡\n",
       "│ 144274 ┆ -120.84714 ┆ 35.957816 ┆ -76.320399 ┆ … ┆ 0.034     ┆ 0.1108    ┆ 0.0255    ┆ 0.1597    │\n",
       "│        ┆ 9          ┆           ┆            ┆   ┆           ┆           ┆           ┆           │\n",
       "│ 69657  ┆ -120.91481 ┆ 35.960966 ┆ -82.412946 ┆ … ┆ 0.0414    ┆ 0.5522    ┆ 0.0427    ┆ 0.2066    │\n",
       "│        ┆ 5          ┆           ┆            ┆   ┆           ┆           ┆           ┆           │\n",
       "│ 230805 ┆ -120.90614 ┆ 36.005075 ┆ -81.584613 ┆ … ┆ 0.0348    ┆ 0.3801    ┆ 0.0638    ┆ 0.2526    │\n",
       "│ 473210 ┆ -120.82285 ┆ 35.998774 ┆ -74.092612 ┆ … ┆ 0.0421    ┆ 0.0837    ┆ 0.1237    ┆ 0.3517    │\n",
       "│        ┆ 8          ┆           ┆            ┆   ┆           ┆           ┆           ┆           │\n",
       "│ 418835 ┆ -120.82979 ┆ 35.940488 ┆ -74.774185 ┆ … ┆ 0.0315    ┆ 0.3158    ┆ 0.0508    ┆ 0.2254    │\n",
       "│        ┆ 8          ┆           ┆            ┆   ┆           ┆           ┆           ┆           │\n",
       "│ …      ┆ …          ┆ …         ┆ …          ┆ … ┆ …         ┆ …         ┆ …         ┆ …         │\n",
       "│ 295604 ┆ -120.82806 ┆ 35.920009 ┆ -74.637715 ┆ … ┆ 0.0384    ┆ 0.2999    ┆ 0.066     ┆ 0.2569    │\n",
       "│        ┆ 3          ┆           ┆            ┆   ┆           ┆           ┆           ┆           │\n",
       "│ 111830 ┆ -120.85235 ┆ 35.940488 ┆ -76.806626 ┆ … ┆ 0.0321    ┆ 0.2833    ┆ 0.0648    ┆ 0.2546    │\n",
       "│        ┆ 4          ┆           ┆            ┆   ┆           ┆           ┆           ┆           │\n",
       "│ 375807 ┆ -120.79856 ┆ 35.937337 ┆ -71.962977 ┆ … ┆ 0.0381    ┆ 0.3372    ┆ 0.0719    ┆ 0.2681    │\n",
       "│        ┆ 8          ┆           ┆            ┆   ┆           ┆           ┆           ┆           │\n",
       "│ 358352 ┆ -120.77254 ┆ 35.905831 ┆ -69.646268 ┆ … ┆ 0.0401    ┆ 0.2282    ┆ 0.0576    ┆ 0.24      │\n",
       "│        ┆ 2          ┆           ┆            ┆   ┆           ┆           ┆           ┆           │\n",
       "│ 94104  ┆ -120.90614 ┆ 35.990897 ┆ -81.599669 ┆ … ┆ 0.0382    ┆ 0.4195    ┆ 0.0505    ┆ 0.2247    │\n",
       "└────────┴────────────┴───────────┴────────────┴───┴───────────┴───────────┴───────────┴───────────┘"
      ]
     },
     "execution_count": 3,
     "metadata": {},
     "output_type": "execute_result"
    }
   ],
   "source": [
    "df_pl"
   ]
  },
  {
   "cell_type": "code",
   "execution_count": 8,
   "id": "5c49ebfa",
   "metadata": {},
   "outputs": [
    {
     "data": {
      "text/plain": [
       "[400, 500, 600, 700, 800, 900]"
      ]
     },
     "execution_count": 8,
     "metadata": {},
     "output_type": "execute_result"
    }
   ],
   "source": [
    "[t for t in range(400, 1000, 100)]"
   ]
  },
  {
   "cell_type": "code",
   "execution_count": 9,
   "id": "78c58976",
   "metadata": {},
   "outputs": [
    {
     "data": {
      "text/plain": [
       "[1000, 2000, 3000, 4000, 5000, 6000, 7000, 8000, 9000, 10000]"
      ]
     },
     "execution_count": 9,
     "metadata": {},
     "output_type": "execute_result"
    }
   ],
   "source": [
    "[t for t in range(1000, 11000, 1000)]"
   ]
  },
  {
   "cell_type": "code",
   "execution_count": 12,
   "id": "d858a8f8",
   "metadata": {},
   "outputs": [
    {
     "data": {
      "text/plain": [
       "[400,\n",
       " 500,\n",
       " 600,\n",
       " 700,\n",
       " 800,\n",
       " 900,\n",
       " 1000,\n",
       " 2000,\n",
       " 3000,\n",
       " 4000,\n",
       " 5000,\n",
       " 6000,\n",
       " 7000,\n",
       " 8000,\n",
       " 9000,\n",
       " 10000]"
      ]
     },
     "execution_count": 12,
     "metadata": {},
     "output_type": "execute_result"
    }
   ],
   "source": [
    "[t for t in range(400, 1000, 100)] +  [t for t in range(1000, 11000, 1000)]"
   ]
  }
 ],
 "metadata": {
  "kernelspec": {
   "display_name": "Python 3",
   "language": "python",
   "name": "python3"
  },
  "language_info": {
   "codemirror_mode": {
    "name": "ipython",
    "version": 3
   },
   "file_extension": ".py",
   "mimetype": "text/x-python",
   "name": "python",
   "nbconvert_exporter": "python",
   "pygments_lexer": "ipython3",
   "version": "3.13.5"
  }
 },
 "nbformat": 4,
 "nbformat_minor": 5
}
