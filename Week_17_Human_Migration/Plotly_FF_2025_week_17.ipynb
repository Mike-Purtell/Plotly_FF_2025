{
 "cells": [
  {
   "cell_type": "code",
   "execution_count": 64,
   "metadata": {},
   "outputs": [],
   "source": [
    "import polars as pl\n",
    "import polars.selectors as cs\n",
    "import plotly.express as px"
   ]
  },
  {
   "cell_type": "code",
   "execution_count": 73,
   "metadata": {},
   "outputs": [
    {
     "data": {
      "text/plain": [
       "{903: 'AFRICA',\n",
       " 935: 'ASIA',\n",
       " 4: 'Afghanistan',\n",
       " 8: 'Albania',\n",
       " 12: 'Algeria',\n",
       " 16: 'American Samoa*',\n",
       " 20: 'Andorra',\n",
       " 24: 'Angola',\n",
       " 660: 'Anguilla*',\n",
       " 28: 'Antigua and Barbuda',\n",
       " 32: 'Argentina',\n",
       " 51: 'Armenia',\n",
       " 533: 'Aruba*',\n",
       " 36: 'Australia*',\n",
       " 1836: 'Australia/New Zealand',\n",
       " 40: 'Austria',\n",
       " 31: 'Azerbaijan',\n",
       " 44: 'Bahamas',\n",
       " 48: 'Bahrain',\n",
       " 50: 'Bangladesh',\n",
       " 52: 'Barbados',\n",
       " 112: 'Belarus',\n",
       " 56: 'Belgium',\n",
       " 84: 'Belize',\n",
       " 204: 'Benin',\n",
       " 60: 'Bermuda*',\n",
       " 64: 'Bhutan',\n",
       " 68: 'Bolivia (Plurinational State of)',\n",
       " 535: 'Bonaire, Sint Eustatius and Saba*',\n",
       " 70: 'Bosnia and Herzegovina',\n",
       " 72: 'Botswana',\n",
       " 76: 'Brazil',\n",
       " 92: 'British Virgin Islands*',\n",
       " 96: 'Brunei Darussalam',\n",
       " 100: 'Bulgaria',\n",
       " 854: 'Burkina Faso',\n",
       " 108: 'Burundi',\n",
       " 132: 'Cabo Verde',\n",
       " 116: 'Cambodia',\n",
       " 120: 'Cameroon',\n",
       " 124: 'Canada',\n",
       " 915: 'Caribbean',\n",
       " 136: 'Cayman Islands*',\n",
       " 140: 'Central African Republic',\n",
       " 916: 'Central America',\n",
       " 5500: 'Central Asia',\n",
       " 1831: 'Central and Southern Asia',\n",
       " 148: 'Chad',\n",
       " 830: 'Channel Islands*',\n",
       " 152: 'Chile',\n",
       " 156: 'China',\n",
       " 344: 'China, Hong Kong SAR',\n",
       " 446: 'China, Macao SAR',\n",
       " 158: 'China, Taiwan Province of China',\n",
       " 170: 'Colombia',\n",
       " 174: 'Comoros',\n",
       " 178: 'Congo',\n",
       " 184: 'Cook Islands*',\n",
       " 188: 'Costa Rica',\n",
       " 191: 'Croatia',\n",
       " 192: 'Cuba',\n",
       " 531: 'Curaçao*',\n",
       " 196: 'Cyprus',\n",
       " 203: 'Czechia',\n",
       " 384: \"Côte d'Ivoire\",\n",
       " 408: \"Dem. People's Republic of Korea\",\n",
       " 180: 'Democratic Republic of the Congo',\n",
       " 208: 'Denmark*',\n",
       " 262: 'Djibouti',\n",
       " 212: 'Dominica',\n",
       " 214: 'Dominican Republic',\n",
       " 908: 'EUROPE',\n",
       " 910: 'Eastern Africa',\n",
       " 906: 'Eastern Asia',\n",
       " 923: 'Eastern Europe',\n",
       " 1832: 'Eastern and South-Eastern Asia',\n",
       " 218: 'Ecuador',\n",
       " 818: 'Egypt',\n",
       " 222: 'El Salvador',\n",
       " 226: 'Equatorial Guinea',\n",
       " 232: 'Eritrea',\n",
       " 233: 'Estonia',\n",
       " 748: 'Eswatini',\n",
       " 231: 'Ethiopia',\n",
       " 1829: 'Europe and Northern America',\n",
       " 238: 'Falkland Islands (Malvinas)*',\n",
       " 234: 'Faroe Islands*',\n",
       " 242: 'Fiji',\n",
       " 246: 'Finland*',\n",
       " 250: 'France*',\n",
       " 254: 'French Guiana*',\n",
       " 258: 'French Polynesia*',\n",
       " 266: 'Gabon',\n",
       " 270: 'Gambia',\n",
       " 268: 'Georgia',\n",
       " 276: 'Germany',\n",
       " 288: 'Ghana',\n",
       " 292: 'Gibraltar*',\n",
       " 300: 'Greece',\n",
       " 304: 'Greenland*',\n",
       " 308: 'Grenada',\n",
       " 312: 'Guadeloupe*',\n",
       " 316: 'Guam*',\n",
       " 320: 'Guatemala',\n",
       " 324: 'Guinea',\n",
       " 624: 'Guinea-Bissau',\n",
       " 328: 'Guyana',\n",
       " 332: 'Haiti',\n",
       " 5503: 'High-and-upper-middle-income countries',\n",
       " 1503: 'High-income countries',\n",
       " 336: 'Holy See*',\n",
       " 340: 'Honduras',\n",
       " 348: 'Hungary',\n",
       " 352: 'Iceland',\n",
       " 356: 'India',\n",
       " 360: 'Indonesia',\n",
       " 364: 'Iran (Islamic Republic of)',\n",
       " 368: 'Iraq',\n",
       " 372: 'Ireland',\n",
       " 833: 'Isle of Man*',\n",
       " 376: 'Israel',\n",
       " 380: 'Italy',\n",
       " 388: 'Jamaica',\n",
       " 392: 'Japan',\n",
       " 400: 'Jordan',\n",
       " 398: 'Kazakhstan',\n",
       " 404: 'Kenya',\n",
       " 296: 'Kiribati',\n",
       " 414: 'Kuwait',\n",
       " 417: 'Kyrgyzstan',\n",
       " 904: 'LATIN AMERICA AND THE CARIBBEAN',\n",
       " 1636: 'Land-locked Developing Countries (LLDC)',\n",
       " 418: \"Lao People's Democratic Republic\",\n",
       " 1830: 'Latin America and the Caribbean',\n",
       " 428: 'Latvia',\n",
       " 941: 'Least developed countries',\n",
       " 422: 'Lebanon',\n",
       " 426: 'Lesotho',\n",
       " 902: 'Less developed regions',\n",
       " 948: 'Less developed regions, excluding China',\n",
       " 934: 'Less developed regions, excluding least developed countries',\n",
       " 430: 'Liberia',\n",
       " 434: 'Libya',\n",
       " 438: 'Liechtenstein',\n",
       " 440: 'Lithuania',\n",
       " 5504: 'Low-and-Lower-middle-income countries',\n",
       " 1859: 'Low-and-middle-income countries',\n",
       " 1500: 'Low-income countries',\n",
       " 1501: 'Lower-middle-income countries',\n",
       " 442: 'Luxembourg',\n",
       " 450: 'Madagascar',\n",
       " 454: 'Malawi',\n",
       " 458: 'Malaysia',\n",
       " 462: 'Maldives',\n",
       " 466: 'Mali',\n",
       " 470: 'Malta',\n",
       " 584: 'Marshall Islands',\n",
       " 474: 'Martinique*',\n",
       " 478: 'Mauritania',\n",
       " 480: 'Mauritius',\n",
       " 175: 'Mayotte',\n",
       " 928: 'Melanesia',\n",
       " 484: 'Mexico',\n",
       " 954: 'Micronesia',\n",
       " 583: 'Micronesia (Fed. States of)',\n",
       " 911: 'Middle Africa',\n",
       " 1517: 'Middle-income countries',\n",
       " 492: 'Monaco',\n",
       " 496: 'Mongolia',\n",
       " 499: 'Montenegro',\n",
       " 500: 'Montserrat*',\n",
       " 901: 'More developed regions',\n",
       " 504: 'Morocco',\n",
       " 508: 'Mozambique',\n",
       " 104: 'Myanmar',\n",
       " 905: 'NORTHERN AMERICA',\n",
       " 516: 'Namibia',\n",
       " 520: 'Nauru',\n",
       " 524: 'Nepal',\n",
       " 528: 'Netherlands*',\n",
       " 540: 'New Caledonia*',\n",
       " 554: 'New Zealand*',\n",
       " 558: 'Nicaragua',\n",
       " 562: 'Niger',\n",
       " 566: 'Nigeria',\n",
       " 570: 'Niue*',\n",
       " 1518: 'No income group available',\n",
       " 807: 'North Macedonia',\n",
       " 912: 'Northern Africa',\n",
       " 1833: 'Northern Africa and Western Asia',\n",
       " 924: 'Northern Europe',\n",
       " 580: 'Northern Mariana Islands*',\n",
       " 578: 'Norway*',\n",
       " 909: 'OCEANIA',\n",
       " 1835: 'Oceania (excluding Australia and New Zealand)',\n",
       " 512: 'Oman',\n",
       " 586: 'Pakistan',\n",
       " 585: 'Palau',\n",
       " 591: 'Panama',\n",
       " 598: 'Papua New Guinea',\n",
       " 600: 'Paraguay',\n",
       " 604: 'Peru',\n",
       " 608: 'Philippines',\n",
       " 616: 'Poland',\n",
       " 957: 'Polynesia*',\n",
       " 620: 'Portugal',\n",
       " 630: 'Puerto Rico*',\n",
       " 634: 'Qatar',\n",
       " 410: 'Republic of Korea',\n",
       " 498: 'Republic of Moldova*',\n",
       " 642: 'Romania',\n",
       " 643: 'Russian Federation',\n",
       " 646: 'Rwanda',\n",
       " 638: 'Réunion',\n",
       " 654: 'Saint Helena',\n",
       " 659: 'Saint Kitts and Nevis',\n",
       " 662: 'Saint Lucia',\n",
       " 666: 'Saint Pierre and Miquelon*',\n",
       " 670: 'Saint Vincent and the Grenadines',\n",
       " 882: 'Samoa',\n",
       " 674: 'San Marino',\n",
       " 678: 'Sao Tome and Principe',\n",
       " 682: 'Saudi Arabia',\n",
       " 686: 'Senegal',\n",
       " 688: 'Serbia*',\n",
       " 690: 'Seychelles',\n",
       " 694: 'Sierra Leone',\n",
       " 702: 'Singapore',\n",
       " 534: 'Sint Maarten (Dutch part)*',\n",
       " 703: 'Slovakia',\n",
       " 705: 'Slovenia',\n",
       " 1637: 'Small Island Developing States (SIDS)',\n",
       " 90: 'Solomon Islands',\n",
       " 706: 'Somalia',\n",
       " 710: 'South Africa',\n",
       " 931: 'South America',\n",
       " 728: 'South Sudan',\n",
       " 920: 'South-Eastern Asia',\n",
       " 913: 'Southern Africa',\n",
       " 5501: 'Southern Asia',\n",
       " 925: 'Southern Europe',\n",
       " 724: 'Spain*',\n",
       " 144: 'Sri Lanka',\n",
       " 275: 'State of Palestine',\n",
       " 1834: 'Sub-Saharan Africa',\n",
       " 729: 'Sudan',\n",
       " 740: 'Suriname',\n",
       " 752: 'Sweden',\n",
       " 756: 'Switzerland',\n",
       " 760: 'Syrian Arab Republic',\n",
       " 762: 'Tajikistan',\n",
       " 764: 'Thailand',\n",
       " 626: 'Timor-Leste',\n",
       " 768: 'Togo',\n",
       " 772: 'Tokelau*',\n",
       " 776: 'Tonga',\n",
       " 780: 'Trinidad and Tobago',\n",
       " 788: 'Tunisia',\n",
       " 795: 'Turkmenistan',\n",
       " 796: 'Turks and Caicos Islands*',\n",
       " 798: 'Tuvalu',\n",
       " 792: 'Türkiye',\n",
       " 800: 'Uganda',\n",
       " 804: 'Ukraine*',\n",
       " 784: 'United Arab Emirates',\n",
       " 826: 'United Kingdom*',\n",
       " 834: 'United Republic of Tanzania',\n",
       " 850: 'United States Virgin Islands*',\n",
       " 840: 'United States of America*',\n",
       " 1502: 'Upper-middle-income countries',\n",
       " 858: 'Uruguay',\n",
       " 860: 'Uzbekistan',\n",
       " 548: 'Vanuatu',\n",
       " 862: 'Venezuela (Bolivarian Republic of)',\n",
       " 704: 'Viet Nam',\n",
       " 876: 'Wallis and Futuna Islands*',\n",
       " 914: 'Western Africa',\n",
       " 922: 'Western Asia',\n",
       " 926: 'Western Europe',\n",
       " 732: 'Western Sahara',\n",
       " 900: 'World',\n",
       " 887: 'Yemen',\n",
       " 894: 'Zambia',\n",
       " 716: 'Zimbabwe'}"
      ]
     },
     "execution_count": 73,
     "metadata": {},
     "output_type": "execute_result"
    }
   ],
   "source": [
    "df= (\n",
    "        pl.read_excel(\n",
    "        'undesa_pd_2024_ims_stock_by_sex_destination_and_origin.xlsx',\n",
    "        sheet_name='Table 1',\n",
    "        has_header=True,\n",
    "        read_options={'header_row': 10}\n",
    "    )\n",
    "    .rename(\n",
    "        {\n",
    "            'Region, development group, country or area of destination' :\n",
    "            'DESTINATION',\n",
    "            'Location code of destination' :'DEST_CODE',\n",
    "            'Region, development group, country or area of origin' :\n",
    "            'ORIGIN',\n",
    "            'Location code of origin' :'ORIGIN_CODE',\n",
    "        }\n",
    "    )\n",
    ")\n",
    "df_dest_codes = (\n",
    "    df\n",
    "    .select(\n",
    "        LOCATION=pl.col('DESTINATION'),\n",
    "        CODE = pl.col('DEST_CODE')\n",
    "    )\n",
    "    .unique('LOCATION')\n",
    "    .sort('CODE')\n",
    "    .with_columns(REF = pl.lit('DESTINATION'))\n",
    ")\n",
    "\n",
    "df_origin_codes = (\n",
    "    df\n",
    "    .select(\n",
    "        LOCATION=pl.col('ORIGIN'),\n",
    "        CODE = pl.col('ORIGIN_CODE')\n",
    "    )\n",
    "    .unique('LOCATION')\n",
    "    .sort('CODE')\n",
    "    .with_columns(REF = pl.lit('ORIGIN'))\n",
    ")\n",
    "df_codes = (\n",
    "    # checks the code numbers are consistent between dest and origin countries\n",
    "    pl.concat([df_dest_codes,df_origin_codes])\n",
    "    .sort('LOCATION')\n",
    "    .pivot(\n",
    "        index='LOCATION',\n",
    "        on='REF',\n",
    "        values='CODE'\n",
    "    )\n",
    "    .with_columns(DIFF = (pl.col('DESTINATION') - pl.col('ORIGIN')))\n",
    "    # filter excludes Others, Saint BarthÃ©lemy, and Saint Martin (French part)\n",
    "    .filter(pl.col('DIFF') == 0) # gets rid or inconsistencies\n",
    "    .rename({'DESTINATION': 'CODE'})\n",
    "    .select('LOCATION', 'CODE')\n",
    ")\n",
    "\n",
    "df_codes.write_csv('df_codes.csv')\n",
    "dict_codes = (\n",
    "    dict(\n",
    "        zip(\n",
    "            df_codes['CODE'],\n",
    "            df_codes['LOCATION'],\n",
    "        )\n",
    "    )\n",
    ")\n",
    "dict_codes\n",
    "# df_join = (\n",
    "#     df_dest_codes\n",
    "#     .join(\n",
    "#         df_orgin_codes,\n",
    "#         how='left',\n",
    "#         left_on= 'DEST_CODE',\n",
    "#         right_on = 'ORIGIN_CODE'\n",
    "#     )\n",
    "# )\n",
    "#df_dest_codes\n",
    "\n",
    "# destination_codes = (\n",
    "#     dict(\n",
    "#         zip(\n",
    "#             df.unique('DESTINATION')['DEST_CODE'],\n",
    "#             df.unique('DESTINATION')['DESTINATION']\n",
    "#         )\n",
    "#     )\n",
    "# )\n",
    "# len(sorted(destination_codes))\n",
    "\n",
    "# location_code_dict = (\n",
    "#     df\n",
    "# )\n",
    "# df\n",
    "# destination_codes"
   ]
  },
  {
   "cell_type": "code",
   "execution_count": 66,
   "metadata": {},
   "outputs": [
    {
     "data": {
      "text/html": [
       "<div><style>\n",
       ".dataframe > thead > tr,\n",
       ".dataframe > tbody > tr {\n",
       "  text-align: right;\n",
       "  white-space: pre-wrap;\n",
       "}\n",
       "</style>\n",
       "<small>shape: (286, 3)</small><table border=\"1\" class=\"dataframe\"><thead><tr><th>LOCATION</th><th>CODE</th><th>REF</th></tr><tr><td>str</td><td>i64</td><td>str</td></tr></thead><tbody><tr><td>&quot;Afghanistan&quot;</td><td>4</td><td>&quot;DESTINATION&quot;</td></tr><tr><td>&quot;Albania&quot;</td><td>8</td><td>&quot;DESTINATION&quot;</td></tr><tr><td>&quot;Algeria&quot;</td><td>12</td><td>&quot;DESTINATION&quot;</td></tr><tr><td>&quot;American Samoa*&quot;</td><td>16</td><td>&quot;DESTINATION&quot;</td></tr><tr><td>&quot;Andorra&quot;</td><td>20</td><td>&quot;DESTINATION&quot;</td></tr><tr><td>&hellip;</td><td>&hellip;</td><td>&hellip;</td></tr><tr><td>&quot;Low-and-middle-income countrie…</td><td>1859</td><td>&quot;DESTINATION&quot;</td></tr><tr><td>&quot;Central Asia&quot;</td><td>5500</td><td>&quot;DESTINATION&quot;</td></tr><tr><td>&quot;Southern Asia&quot;</td><td>5501</td><td>&quot;DESTINATION&quot;</td></tr><tr><td>&quot;High-and-upper-middle-income c…</td><td>5503</td><td>&quot;DESTINATION&quot;</td></tr><tr><td>&quot;Low-and-Lower-middle-income co…</td><td>5504</td><td>&quot;DESTINATION&quot;</td></tr></tbody></table></div>"
      ],
      "text/plain": [
       "shape: (286, 3)\n",
       "┌─────────────────────────────────┬──────┬─────────────┐\n",
       "│ LOCATION                        ┆ CODE ┆ REF         │\n",
       "│ ---                             ┆ ---  ┆ ---         │\n",
       "│ str                             ┆ i64  ┆ str         │\n",
       "╞═════════════════════════════════╪══════╪═════════════╡\n",
       "│ Afghanistan                     ┆ 4    ┆ DESTINATION │\n",
       "│ Albania                         ┆ 8    ┆ DESTINATION │\n",
       "│ Algeria                         ┆ 12   ┆ DESTINATION │\n",
       "│ American Samoa*                 ┆ 16   ┆ DESTINATION │\n",
       "│ Andorra                         ┆ 20   ┆ DESTINATION │\n",
       "│ …                               ┆ …    ┆ …           │\n",
       "│ Low-and-middle-income countrie… ┆ 1859 ┆ DESTINATION │\n",
       "│ Central Asia                    ┆ 5500 ┆ DESTINATION │\n",
       "│ Southern Asia                   ┆ 5501 ┆ DESTINATION │\n",
       "│ High-and-upper-middle-income c… ┆ 5503 ┆ DESTINATION │\n",
       "│ Low-and-Lower-middle-income co… ┆ 5504 ┆ DESTINATION │\n",
       "└─────────────────────────────────┴──────┴─────────────┘"
      ]
     },
     "execution_count": 66,
     "metadata": {},
     "output_type": "execute_result"
    }
   ],
   "source": [
    "df_dest_codes"
   ]
  },
  {
   "cell_type": "code",
   "execution_count": 67,
   "metadata": {},
   "outputs": [
    {
     "name": "stdout",
     "output_type": "stream",
     "text": [
      "913 New Caledonia* Central and Southern Asia\n",
      "8 Central and Southern Asia Cameroon\n",
      "524 Western Africa Slovenia\n",
      "788 Nauru Mongolia\n",
      "296 Armenia Ghana\n",
      "674 Syrian Arab Republic Southern Africa\n",
      "266 India Malta\n",
      "909 Argentina South-Eastern Asia\n",
      "332 France* Belarus\n",
      "20 Honduras Bangladesh\n",
      "764 Middle-income countries Tuvalu\n",
      "124 Burundi Sub-Saharan Africa\n",
      "1836 Central America Mauritius\n",
      "854 South Sudan Benin\n",
      "682 Bangladesh Palau\n",
      "64 Ukraine* Japan\n",
      "12 Togo Israel\n",
      "533 No income group available North Macedonia\n",
      "308 Turks and Caicos Islands* Spain*\n",
      "642 Oceania (excluding Australia and New Zealand) Barbados\n",
      "748 LATIN AMERICA AND THE CARIBBEAN Poland\n",
      "120 Nicaragua South Africa\n",
      "903 Sudan Antigua and Barbuda\n",
      "1517 Croatia Serbia*\n",
      "620 Palau Guinea\n",
      "51 Venezuela (Bolivarian Republic of) Saint Helena\n",
      "466 Land-locked Developing Countries (LLDC) British Virgin Islands*\n",
      "136 Tonga Land-locked Developing Countries (LLDC)\n",
      "902 Spain* Saint Lucia\n",
      "203 Iraq Denmark*\n",
      "148 Saint Lucia Monaco\n",
      "694 Dominican Republic Germany\n",
      "941 Kuwait Turkmenistan\n",
      "760 Bulgaria AFRICA\n",
      "1830 Australia/New Zealand Western Africa\n",
      "36 Bahamas Gabon\n",
      "583 Morocco Central Asia\n",
      "458 Eastern Asia Papua New Guinea\n",
      "916 Kenya Kuwait\n",
      "862 Saint Vincent and the Grenadines Latin America and the Caribbean\n",
      "901 Thailand Eastern and South-Eastern Asia\n",
      "398 More developed regions Low-and-middle-income countries\n",
      "180 EUROPE Eastern Europe\n",
      "499 Cabo Verde Polynesia*\n",
      "344 Lao People's Democratic Republic Europe and Northern America\n",
      "598 Norway* Least developed countries\n",
      "800 Northern Europe Nauru\n",
      "798 Caribbean Peru\n",
      "170 Cayman Islands* Afghanistan\n",
      "830 Estonia Grenada\n",
      "920 Kazakhstan Sri Lanka\n",
      "428 Eastern Africa Timor-Leste\n",
      "704 Maldives Morocco\n",
      "1831 Trinidad and Tobago Angola\n",
      "5503 Angola Western Sahara\n",
      "804 United Kingdom* Ethiopia\n",
      "368 French Guiana* Liechtenstein\n",
      "340 Panama State of Palestine\n",
      "498 Faroe Islands* United States Virgin Islands*\n",
      "254 Sierra Leone Bosnia and Herzegovina\n",
      "1636 Slovakia Argentina\n",
      "100 Guadeloupe* Singapore\n",
      "380 Cameroon Honduras\n",
      "911 Channel Islands* Trinidad and Tobago\n",
      "90 Canada Botswana\n",
      "31 Rwanda Switzerland\n",
      "1637 Brazil Montenegro\n",
      "56 Puerto Rico* EUROPE\n",
      "634 Less developed regions, excluding China Cambodia\n",
      "192 Oman Western Asia\n",
      "304 Barbados Isle of Man*\n",
      "860 Northern Africa Bahrain\n",
      "826 Cook Islands* Eritrea\n",
      "196 Guinea Caribbean\n",
      "795 Guinea-Bissau Less developed regions, excluding least developed countries\n",
      "275 Niue* Australia*\n"
     ]
    },
    {
     "ename": "KeyError",
     "evalue": "663",
     "output_type": "error",
     "traceback": [
      "\u001b[1;31m---------------------------------------------------------------------------\u001b[0m",
      "\u001b[1;31mKeyError\u001b[0m                                  Traceback (most recent call last)",
      "Cell \u001b[1;32mIn[67], line 2\u001b[0m\n\u001b[0;32m      1\u001b[0m \u001b[38;5;28;01mfor\u001b[39;00m key \u001b[38;5;129;01min\u001b[39;00m destination_codes:\n\u001b[1;32m----> 2\u001b[0m     \u001b[38;5;28mprint\u001b[39m(key, destination_codes[key], \u001b[43morigin_codes\u001b[49m\u001b[43m[\u001b[49m\u001b[43mkey\u001b[49m\u001b[43m]\u001b[49m)\n",
      "\u001b[1;31mKeyError\u001b[0m: 663"
     ]
    }
   ],
   "source": [
    "for key in destination_codes:\n",
    "    print(key, destination_codes[key], origin_codes[key])"
   ]
  },
  {
   "cell_type": "code",
   "execution_count": null,
   "metadata": {},
   "outputs": [
    {
     "data": {
      "text/plain": [
       "{710: 'San Marino',\n",
       " 276: 'United Republic of Tanzania',\n",
       " 450: 'Finland*',\n",
       " 534: 'Seychelles',\n",
       " 462: 'Faroe Islands*',\n",
       " 156: 'Togo',\n",
       " 120: 'South Africa',\n",
       " 931: 'Zimbabwe',\n",
       " 724: 'Canada',\n",
       " 72: 'Marshall Islands',\n",
       " 912: 'Kyrgyzstan',\n",
       " 422: 'Bermuda*',\n",
       " 957: 'Kenya',\n",
       " 454: 'Jordan',\n",
       " 380: 'Honduras',\n",
       " 2003: 'Russian Federation',\n",
       " 132: 'ASIA',\n",
       " 5503: 'Western Sahara',\n",
       " 364: 'Czechia',\n",
       " 591: 'Paraguay',\n",
       " 570: 'Micronesia',\n",
       " 188: 'World',\n",
       " 288: 'Channel Islands*',\n",
       " 925: 'Eastern Asia',\n",
       " 418: 'Brazil',\n",
       " 496: 'Cuba',\n",
       " 826: 'Eritrea',\n",
       " 548: 'NORTHERN AMERICA',\n",
       " 4: 'Micronesia (Fed. States of)',\n",
       " 84: 'Uganda',\n",
       " 706: 'Myanmar',\n",
       " 728: 'Vanuatu',\n",
       " 170: 'Afghanistan',\n",
       " 528: 'Zambia',\n",
       " 598: 'Least developed countries',\n",
       " 604: 'Iraq',\n",
       " 660: 'Northern Europe',\n",
       " 608: 'High-income countries',\n",
       " 136: 'Land-locked Developing Countries (LLDC)',\n",
       " 674: 'Southern Africa',\n",
       " 328: 'Philippines',\n",
       " 934: 'Sudan',\n",
       " 788: 'Mongolia',\n",
       " 558: 'Bonaire, Sint Eustatius and Saba*',\n",
       " 768: 'Upper-middle-income countries',\n",
       " 191: 'Malawi',\n",
       " 682: 'Palau',\n",
       " 798: 'Peru',\n",
       " 232: 'Croatia',\n",
       " 914: \"Côte d'Ivoire\",\n",
       " 300: 'Azerbaijan',\n",
       " 332: 'Belarus',\n",
       " 646: 'Sao Tome and Principe',\n",
       " 480: 'Brunei Darussalam',\n",
       " 254: 'Bosnia and Herzegovina',\n",
       " 258: 'Chad',\n",
       " 204: 'Algeria',\n",
       " 858: 'Malaysia',\n",
       " 1501: 'Guam*',\n",
       " 924: 'Cyprus',\n",
       " 499: 'Polynesia*',\n",
       " 438: 'Tokelau*',\n",
       " 500: 'Turks and Caicos Islands*',\n",
       " 704: 'Morocco',\n",
       " 56: 'EUROPE',\n",
       " 478: 'Madagascar',\n",
       " 578: 'Somalia',\n",
       " 756: 'Low-and-Lower-middle-income countries',\n",
       " 226: 'Tonga',\n",
       " 426: 'No income group available',\n",
       " 8: 'Cameroon',\n",
       " 1637: 'Montenegro',\n",
       " 860: 'Bahrain',\n",
       " 440: 'Mauritania',\n",
       " 928: 'Niue*',\n",
       " 104: 'Oceania (excluding Australia and New Zealand)',\n",
       " 616: 'Middle Africa',\n",
       " 834: 'Mexico',\n",
       " 417: 'China, Hong Kong SAR',\n",
       " 520: 'Bulgaria',\n",
       " 296: 'Ghana',\n",
       " 784: 'France*',\n",
       " 504: 'Equatorial Guinea',\n",
       " 533: 'North Macedonia',\n",
       " 275: 'Australia*',\n",
       " 732: 'Venezuela (Bolivarian Republic of)',\n",
       " 688: 'High-and-upper-middle-income countries',\n",
       " 24: 'Albania',\n",
       " 795: 'Less developed regions, excluding least developed countries',\n",
       " 1836: 'Mauritius',\n",
       " 748: 'Poland',\n",
       " 268: 'Southern Europe',\n",
       " 5500: 'Northern Africa',\n",
       " 180: 'Eastern Europe',\n",
       " 352: 'Ireland',\n",
       " 233: 'South Sudan',\n",
       " 158: 'OCEANIA',\n",
       " 638: 'Ecuador',\n",
       " 840: 'Guinea-Bissau',\n",
       " 762: 'Puerto Rico*',\n",
       " 634: 'Cambodia',\n",
       " 804: 'Ethiopia',\n",
       " 50: 'Armenia',\n",
       " 92: 'Dominica',\n",
       " 492: 'Western Europe',\n",
       " 1517: 'Serbia*',\n",
       " 916: 'Kuwait',\n",
       " 948: 'Greenland*',\n",
       " 5501: 'Colombia',\n",
       " 910: 'Central African Republic',\n",
       " 659: 'Falkland Islands (Malvinas)*',\n",
       " 900: 'French Guiana*',\n",
       " 705: 'Pakistan',\n",
       " 903: 'Antigua and Barbuda',\n",
       " 308: 'Spain*',\n",
       " 531: 'Qatar',\n",
       " 690: 'Maldives',\n",
       " 586: 'Liberia',\n",
       " 196: 'Caribbean',\n",
       " 140: 'Mayotte',\n",
       " 208: 'Niger',\n",
       " 902: 'Saint Lucia',\n",
       " 344: 'Europe and Northern America',\n",
       " 662: 'Australia/New Zealand',\n",
       " 203: 'Denmark*',\n",
       " 941: 'Turkmenistan',\n",
       " 368: 'Liechtenstein',\n",
       " 818: 'Luxembourg',\n",
       " 854: 'Benin',\n",
       " 913: 'Central and Southern Asia',\n",
       " 1834: 'Comoros',\n",
       " 760: 'AFRICA',\n",
       " 231: 'Uzbekistan',\n",
       " 850: 'Italy',\n",
       " 1502: 'Oman',\n",
       " 540: 'Latvia',\n",
       " 270: 'More developed regions',\n",
       " 876: 'Costa Rica',\n",
       " 772: 'Bolivia (Plurinational State of)',\n",
       " 414: 'China',\n",
       " 68: 'Melanesia',\n",
       " 178: 'El Salvador',\n",
       " 148: 'Monaco',\n",
       " 642: 'Barbados',\n",
       " 372: 'Ukraine*',\n",
       " 234: 'Lesotho',\n",
       " 887: 'Martinique*',\n",
       " 446: 'Yemen',\n",
       " 1500: 'Lower-middle-income countries',\n",
       " 516: 'Eastern Africa',\n",
       " 70: 'Saint Vincent and the Grenadines',\n",
       " 410: 'India',\n",
       " 124: 'Sub-Saharan Africa',\n",
       " 400: 'Saint Kitts and Nevis',\n",
       " 624: 'Democratic Republic of the Congo',\n",
       " 52: 'Uruguay',\n",
       " 304: 'Isle of Man*',\n",
       " 566: 'Saudi Arabia',\n",
       " 218: 'Viet Nam',\n",
       " 12: 'Israel',\n",
       " 780: 'Romania',\n",
       " 923: 'Nigeria',\n",
       " 1518: 'Burundi',\n",
       " 238: 'United Arab Emirates',\n",
       " 32: 'Bahamas',\n",
       " 1636: 'Argentina',\n",
       " 654: 'Estonia',\n",
       " 144: 'Small Island Developing States (SIDS)',\n",
       " 404: 'Portugal',\n",
       " 729: 'Less developed regions, excluding China',\n",
       " 116: 'Egypt',\n",
       " 184: 'Suriname',\n",
       " 694: 'Germany',\n",
       " 906: 'Rwanda',\n",
       " 408: 'Hungary',\n",
       " 360: 'Nepal',\n",
       " 320: 'Kiribati',\n",
       " 242: 'Slovakia',\n",
       " 40: 'New Caledonia*',\n",
       " 935: 'Austria',\n",
       " 336: 'South America',\n",
       " 64: 'Japan',\n",
       " 554: 'Solomon Islands',\n",
       " 666: 'Lebanon',\n",
       " 174: 'Djibouti',\n",
       " 250: 'Less developed regions',\n",
       " 1835: 'Gambia',\n",
       " 508: 'Chile',\n",
       " 584: 'Sierra Leone',\n",
       " 600: 'Wallis and Futuna Islands*',\n",
       " 670: 'Senegal',\n",
       " 96: 'Sweden',\n",
       " 626: 'Aruba*',\n",
       " 51: 'Saint Helena',\n",
       " 312: 'Réunion',\n",
       " 428: 'Timor-Leste',\n",
       " 316: 'Holy See*',\n",
       " 340: 'State of Palestine',\n",
       " 1833: 'Bhutan',\n",
       " 292: 'Northern Mariana Islands*',\n",
       " 764: 'Tuvalu',\n",
       " 904: 'Indonesia',\n",
       " 266: 'Malta',\n",
       " 430: 'Syrian Arab Republic',\n",
       " 356: 'LATIN AMERICA AND THE CARIBBEAN',\n",
       " 920: 'Sri Lanka',\n",
       " 398: 'Low-and-middle-income countries',\n",
       " 535: 'Republic of Korea',\n",
       " 630: 'Haiti',\n",
       " 76: 'Cabo Verde',\n",
       " 915: 'French Polynesia*',\n",
       " 376: 'Curaçao*',\n",
       " 214: 'Iran (Islamic Republic of)',\n",
       " 1831: 'Angola',\n",
       " 388: 'Eswatini',\n",
       " 48: 'Southern Asia',\n",
       " 620: 'Guinea',\n",
       " 192: 'Western Asia',\n",
       " 246: 'United Kingdom*',\n",
       " 16: 'Cook Islands*',\n",
       " 44: 'Republic of Moldova*',\n",
       " 909: 'South-Eastern Asia',\n",
       " 20: 'Bangladesh',\n",
       " 112: 'Namibia',\n",
       " 686: 'Guadeloupe*',\n",
       " 833: 'Guatemala',\n",
       " 434: 'Mali',\n",
       " 580: 'Kazakhstan',\n",
       " 512: 'Jamaica',\n",
       " 442: 'Netherlands*',\n",
       " 796: 'Thailand',\n",
       " 585: 'New Zealand*',\n",
       " 776: 'Montserrat*',\n",
       " 498: 'United States Virgin Islands*',\n",
       " 807: 'Lithuania',\n",
       " 954: \"Dem. People's Republic of Korea\",\n",
       " 152: 'Fiji',\n",
       " 222: 'Saint Pierre and Miquelon*',\n",
       " 458: 'Papua New Guinea',\n",
       " 262: 'Georgia',\n",
       " 583: 'Central Asia',\n",
       " 348: 'Panama',\n",
       " 324: 'Tajikistan',\n",
       " 905: 'Middle-income countries',\n",
       " 100: 'Singapore',\n",
       " 60: 'Nicaragua',\n",
       " 31: 'Switzerland',\n",
       " 524: 'Slovenia',\n",
       " 678: 'Belgium',\n",
       " 882: 'American Samoa*',\n",
       " 1830: 'Western Africa',\n",
       " 175: 'Central America',\n",
       " 716: 'Samoa',\n",
       " 1859: 'Iceland',\n",
       " 800: 'Nauru',\n",
       " 108: 'Libya',\n",
       " 752: 'Greece',\n",
       " 862: 'Latin America and the Caribbean',\n",
       " 740: 'Cayman Islands*',\n",
       " 926: 'United States of America*',\n",
       " 474: \"Lao People's Democratic Republic\",\n",
       " 911: 'Trinidad and Tobago',\n",
       " 702: 'China, Taiwan Province of China',\n",
       " 1503: 'Sint Maarten (Dutch part)*',\n",
       " 922: 'Guyana',\n",
       " 1829: 'Tunisia',\n",
       " 901: 'Eastern and South-Eastern Asia',\n",
       " 792: 'Anguilla*',\n",
       " 1832: 'Burkina Faso',\n",
       " 894: 'China, Macao SAR',\n",
       " 466: 'British Virgin Islands*',\n",
       " 830: 'Grenada',\n",
       " 384: 'Andorra',\n",
       " 484: 'Low-income countries',\n",
       " 28: 'Gibraltar*',\n",
       " 5504: 'Congo',\n",
       " 470: 'Türkiye',\n",
       " 392: 'Belize',\n",
       " 36: 'Gabon',\n",
       " 90: 'Botswana',\n",
       " 703: 'Dominican Republic',\n",
       " 908: 'Northern Africa and Western Asia',\n",
       " 212: 'Mozambique',\n",
       " 562: 'Others',\n",
       " 643: 'Norway*'}"
      ]
     },
     "execution_count": 31,
     "metadata": {},
     "output_type": "execute_result"
    }
   ],
   "source": [
    "origin_codes = (\n",
    "    dict(\n",
    "        zip(\n",
    "            df.unique('ORIGIN')['ORIGIN_CODE'],\n",
    "            df.unique('ORIGIN')['ORIGIN']\n",
    "        )\n",
    "    )\n",
    ")\n",
    "origin_codes"
   ]
  },
  {
   "cell_type": "code",
   "execution_count": null,
   "metadata": {},
   "outputs": [],
   "source": []
  },
  {
   "cell_type": "code",
   "execution_count": null,
   "metadata": {},
   "outputs": [
    {
     "data": {
      "application/vnd.plotly.v1+json": {
       "config": {
        "plotlyServerURL": "https://plot.ly"
       },
       "data": [
        {
         "hovertemplate": "variable=RIVIAN<br>YEAR=%{x}<br>value=%{y}<extra></extra>",
         "legendgroup": "RIVIAN",
         "line": {
          "color": "rgb(229, 134, 6)",
          "dash": "solid",
          "shape": "spline"
         },
         "marker": {
          "symbol": "circle"
         },
         "mode": "lines+markers",
         "name": "RIVIAN",
         "orientation": "v",
         "showlegend": true,
         "type": "scatter",
         "x": [
          "2021",
          "2022",
          "2023",
          "2024",
          "2025"
         ],
         "xaxis": "x",
         "y": {
          "bdata": "AAAAAAAA+H+z9VMtKNIgQK9WlebxriFA3u0ZchSgE0AwwYFdbXYyQA==",
          "dtype": "f8"
         },
         "yaxis": "y"
        },
        {
         "hovertemplate": "variable=BMW<br>YEAR=%{x}<br>value=%{y}<extra></extra>",
         "legendgroup": "BMW",
         "line": {
          "color": "rgb(93, 105, 177)",
          "dash": "solid",
          "shape": "spline"
         },
         "marker": {
          "symbol": "circle"
         },
         "mode": "lines+markers",
         "name": "BMW",
         "orientation": "v",
         "showlegend": true,
         "type": "scatter",
         "x": [
          "2021",
          "2022",
          "2023",
          "2024",
          "2025"
         ],
         "xaxis": "x",
         "y": {
          "bdata": "B+z2WMsQIUAB7zCxKMEZQI5LRTimyxVAGtVXBJvNGkD+vZmpsm4wQA==",
          "dtype": "f8"
         },
         "yaxis": "y"
        },
        {
         "hovertemplate": "variable=KIA<br>YEAR=%{x}<br>value=%{y}<extra></extra>",
         "legendgroup": "KIA",
         "line": {
          "color": "rgb(82, 188, 163)",
          "dash": "solid",
          "shape": "spline"
         },
         "marker": {
          "symbol": "circle"
         },
         "mode": "lines+markers",
         "name": "KIA",
         "orientation": "v",
         "showlegend": true,
         "type": "scatter",
         "x": [
          "2021",
          "2022",
          "2023",
          "2024",
          "2025"
         ],
         "xaxis": "x",
         "y": {
          "bdata": "6jsb9Z2N8T9H5y/Txl4sQLrSCzVpgB9Arc9KBj7vJ0CUUr+PdEAnQA==",
          "dtype": "f8"
         },
         "yaxis": "y"
        },
        {
         "hovertemplate": "variable=VOLVO<br>YEAR=%{x}<br>value=%{y}<extra></extra>",
         "legendgroup": "VOLVO",
         "line": {
          "color": "rgb(153, 201, 69)",
          "dash": "solid",
          "shape": "spline"
         },
         "marker": {
          "symbol": "circle"
         },
         "mode": "lines+markers",
         "name": "VOLVO",
         "orientation": "v",
         "showlegend": true,
         "type": "scatter",
         "x": [
          "2021",
          "2022",
          "2023",
          "2024",
          "2025"
         ],
         "xaxis": "x",
         "y": {
          "bdata": "mVxBTK7gJEDqNWKsHKMeQDrH4X3pIxJAx9MrcUtQCEDGW/pUrZYgQA==",
          "dtype": "f8"
         },
         "yaxis": "y"
        },
        {
         "hovertemplate": "variable=NISSAN<br>YEAR=%{x}<br>value=%{y}<extra></extra>",
         "legendgroup": "NISSAN",
         "line": {
          "color": "rgb(204, 97, 176)",
          "dash": "solid",
          "shape": "spline"
         },
         "marker": {
          "symbol": "circle"
         },
         "mode": "lines+markers",
         "name": "NISSAN",
         "orientation": "v",
         "showlegend": true,
         "type": "scatter",
         "x": [
          "2021",
          "2022",
          "2023",
          "2024",
          "2025"
         ],
         "xaxis": "x",
         "y": {
          "bdata": "lCuIyRWEH0DqNWKsHKMeQIIW3LdkFxRAHL9Kbt/eD0AoJrd3U2McQA==",
          "dtype": "f8"
         },
         "yaxis": "y"
        }
       ],
       "layout": {
        "annotations": [
         {
          "font": {
           "color": "rgb(229, 134, 6)"
          },
          "showarrow": false,
          "text": "<b>RIVIAN</b>",
          "x": 0.96,
          "xanchor": "left",
          "xref": "paper",
          "y": 18.462606281450633,
          "yref": "y"
         },
         {
          "font": {
           "color": "rgb(93, 105, 177)"
          },
          "showarrow": false,
          "text": "<b>BMW</b>",
          "x": 0.96,
          "xanchor": "left",
          "xref": "paper",
          "y": 16.432413673433977,
          "yref": "y"
         },
         {
          "font": {
           "color": "rgb(82, 188, 163)"
          },
          "showarrow": false,
          "text": "<b>KIA</b>",
          "x": 0.96,
          "xanchor": "left",
          "xref": "paper",
          "y": 11.625889293770605,
          "yref": "y"
         },
         {
          "font": {
           "color": "rgb(153, 201, 69)"
          },
          "showarrow": false,
          "text": "<b>VOLVO</b>",
          "x": 0.96,
          "xanchor": "left",
          "xref": "paper",
          "y": 8.294291167794551,
          "yref": "y"
         },
         {
          "font": {
           "color": "rgb(204, 97, 176)"
          },
          "showarrow": false,
          "text": "<b>NISSAN</b>",
          "x": 0.96,
          "xanchor": "left",
          "xref": "paper",
          "y": 7.096998091271907,
          "yref": "y"
         }
        ],
        "height": 500,
        "hovermode": "x unified",
        "legend": {
         "title": {
          "text": "variable"
         },
         "tracegroupgap": 0
        },
        "showlegend": false,
        "template": {
         "data": {
          "bar": [
           {
            "error_x": {
             "color": "rgb(36,36,36)"
            },
            "error_y": {
             "color": "rgb(36,36,36)"
            },
            "marker": {
             "line": {
              "color": "white",
              "width": 0.5
             },
             "pattern": {
              "fillmode": "overlay",
              "size": 10,
              "solidity": 0.2
             }
            },
            "type": "bar"
           }
          ],
          "barpolar": [
           {
            "marker": {
             "line": {
              "color": "white",
              "width": 0.5
             },
             "pattern": {
              "fillmode": "overlay",
              "size": 10,
              "solidity": 0.2
             }
            },
            "type": "barpolar"
           }
          ],
          "carpet": [
           {
            "aaxis": {
             "endlinecolor": "rgb(36,36,36)",
             "gridcolor": "white",
             "linecolor": "white",
             "minorgridcolor": "white",
             "startlinecolor": "rgb(36,36,36)"
            },
            "baxis": {
             "endlinecolor": "rgb(36,36,36)",
             "gridcolor": "white",
             "linecolor": "white",
             "minorgridcolor": "white",
             "startlinecolor": "rgb(36,36,36)"
            },
            "type": "carpet"
           }
          ],
          "choropleth": [
           {
            "colorbar": {
             "outlinewidth": 1,
             "tickcolor": "rgb(36,36,36)",
             "ticks": "outside"
            },
            "type": "choropleth"
           }
          ],
          "contour": [
           {
            "colorbar": {
             "outlinewidth": 1,
             "tickcolor": "rgb(36,36,36)",
             "ticks": "outside"
            },
            "colorscale": [
             [
              0,
              "#440154"
             ],
             [
              0.1111111111111111,
              "#482878"
             ],
             [
              0.2222222222222222,
              "#3e4989"
             ],
             [
              0.3333333333333333,
              "#31688e"
             ],
             [
              0.4444444444444444,
              "#26828e"
             ],
             [
              0.5555555555555556,
              "#1f9e89"
             ],
             [
              0.6666666666666666,
              "#35b779"
             ],
             [
              0.7777777777777778,
              "#6ece58"
             ],
             [
              0.8888888888888888,
              "#b5de2b"
             ],
             [
              1,
              "#fde725"
             ]
            ],
            "type": "contour"
           }
          ],
          "contourcarpet": [
           {
            "colorbar": {
             "outlinewidth": 1,
             "tickcolor": "rgb(36,36,36)",
             "ticks": "outside"
            },
            "type": "contourcarpet"
           }
          ],
          "heatmap": [
           {
            "colorbar": {
             "outlinewidth": 1,
             "tickcolor": "rgb(36,36,36)",
             "ticks": "outside"
            },
            "colorscale": [
             [
              0,
              "#440154"
             ],
             [
              0.1111111111111111,
              "#482878"
             ],
             [
              0.2222222222222222,
              "#3e4989"
             ],
             [
              0.3333333333333333,
              "#31688e"
             ],
             [
              0.4444444444444444,
              "#26828e"
             ],
             [
              0.5555555555555556,
              "#1f9e89"
             ],
             [
              0.6666666666666666,
              "#35b779"
             ],
             [
              0.7777777777777778,
              "#6ece58"
             ],
             [
              0.8888888888888888,
              "#b5de2b"
             ],
             [
              1,
              "#fde725"
             ]
            ],
            "type": "heatmap"
           }
          ],
          "histogram": [
           {
            "marker": {
             "line": {
              "color": "white",
              "width": 0.6
             }
            },
            "type": "histogram"
           }
          ],
          "histogram2d": [
           {
            "colorbar": {
             "outlinewidth": 1,
             "tickcolor": "rgb(36,36,36)",
             "ticks": "outside"
            },
            "colorscale": [
             [
              0,
              "#440154"
             ],
             [
              0.1111111111111111,
              "#482878"
             ],
             [
              0.2222222222222222,
              "#3e4989"
             ],
             [
              0.3333333333333333,
              "#31688e"
             ],
             [
              0.4444444444444444,
              "#26828e"
             ],
             [
              0.5555555555555556,
              "#1f9e89"
             ],
             [
              0.6666666666666666,
              "#35b779"
             ],
             [
              0.7777777777777778,
              "#6ece58"
             ],
             [
              0.8888888888888888,
              "#b5de2b"
             ],
             [
              1,
              "#fde725"
             ]
            ],
            "type": "histogram2d"
           }
          ],
          "histogram2dcontour": [
           {
            "colorbar": {
             "outlinewidth": 1,
             "tickcolor": "rgb(36,36,36)",
             "ticks": "outside"
            },
            "colorscale": [
             [
              0,
              "#440154"
             ],
             [
              0.1111111111111111,
              "#482878"
             ],
             [
              0.2222222222222222,
              "#3e4989"
             ],
             [
              0.3333333333333333,
              "#31688e"
             ],
             [
              0.4444444444444444,
              "#26828e"
             ],
             [
              0.5555555555555556,
              "#1f9e89"
             ],
             [
              0.6666666666666666,
              "#35b779"
             ],
             [
              0.7777777777777778,
              "#6ece58"
             ],
             [
              0.8888888888888888,
              "#b5de2b"
             ],
             [
              1,
              "#fde725"
             ]
            ],
            "type": "histogram2dcontour"
           }
          ],
          "mesh3d": [
           {
            "colorbar": {
             "outlinewidth": 1,
             "tickcolor": "rgb(36,36,36)",
             "ticks": "outside"
            },
            "type": "mesh3d"
           }
          ],
          "parcoords": [
           {
            "line": {
             "colorbar": {
              "outlinewidth": 1,
              "tickcolor": "rgb(36,36,36)",
              "ticks": "outside"
             }
            },
            "type": "parcoords"
           }
          ],
          "pie": [
           {
            "automargin": true,
            "type": "pie"
           }
          ],
          "scatter": [
           {
            "fillpattern": {
             "fillmode": "overlay",
             "size": 10,
             "solidity": 0.2
            },
            "type": "scatter"
           }
          ],
          "scatter3d": [
           {
            "line": {
             "colorbar": {
              "outlinewidth": 1,
              "tickcolor": "rgb(36,36,36)",
              "ticks": "outside"
             }
            },
            "marker": {
             "colorbar": {
              "outlinewidth": 1,
              "tickcolor": "rgb(36,36,36)",
              "ticks": "outside"
             }
            },
            "type": "scatter3d"
           }
          ],
          "scattercarpet": [
           {
            "marker": {
             "colorbar": {
              "outlinewidth": 1,
              "tickcolor": "rgb(36,36,36)",
              "ticks": "outside"
             }
            },
            "type": "scattercarpet"
           }
          ],
          "scattergeo": [
           {
            "marker": {
             "colorbar": {
              "outlinewidth": 1,
              "tickcolor": "rgb(36,36,36)",
              "ticks": "outside"
             }
            },
            "type": "scattergeo"
           }
          ],
          "scattergl": [
           {
            "marker": {
             "colorbar": {
              "outlinewidth": 1,
              "tickcolor": "rgb(36,36,36)",
              "ticks": "outside"
             }
            },
            "type": "scattergl"
           }
          ],
          "scattermap": [
           {
            "marker": {
             "colorbar": {
              "outlinewidth": 1,
              "tickcolor": "rgb(36,36,36)",
              "ticks": "outside"
             }
            },
            "type": "scattermap"
           }
          ],
          "scattermapbox": [
           {
            "marker": {
             "colorbar": {
              "outlinewidth": 1,
              "tickcolor": "rgb(36,36,36)",
              "ticks": "outside"
             }
            },
            "type": "scattermapbox"
           }
          ],
          "scatterpolar": [
           {
            "marker": {
             "colorbar": {
              "outlinewidth": 1,
              "tickcolor": "rgb(36,36,36)",
              "ticks": "outside"
             }
            },
            "type": "scatterpolar"
           }
          ],
          "scatterpolargl": [
           {
            "marker": {
             "colorbar": {
              "outlinewidth": 1,
              "tickcolor": "rgb(36,36,36)",
              "ticks": "outside"
             }
            },
            "type": "scatterpolargl"
           }
          ],
          "scatterternary": [
           {
            "marker": {
             "colorbar": {
              "outlinewidth": 1,
              "tickcolor": "rgb(36,36,36)",
              "ticks": "outside"
             }
            },
            "type": "scatterternary"
           }
          ],
          "surface": [
           {
            "colorbar": {
             "outlinewidth": 1,
             "tickcolor": "rgb(36,36,36)",
             "ticks": "outside"
            },
            "colorscale": [
             [
              0,
              "#440154"
             ],
             [
              0.1111111111111111,
              "#482878"
             ],
             [
              0.2222222222222222,
              "#3e4989"
             ],
             [
              0.3333333333333333,
              "#31688e"
             ],
             [
              0.4444444444444444,
              "#26828e"
             ],
             [
              0.5555555555555556,
              "#1f9e89"
             ],
             [
              0.6666666666666666,
              "#35b779"
             ],
             [
              0.7777777777777778,
              "#6ece58"
             ],
             [
              0.8888888888888888,
              "#b5de2b"
             ],
             [
              1,
              "#fde725"
             ]
            ],
            "type": "surface"
           }
          ],
          "table": [
           {
            "cells": {
             "fill": {
              "color": "rgb(237,237,237)"
             },
             "line": {
              "color": "white"
             }
            },
            "header": {
             "fill": {
              "color": "rgb(217,217,217)"
             },
             "line": {
              "color": "white"
             }
            },
            "type": "table"
           }
          ]
         },
         "layout": {
          "annotationdefaults": {
           "arrowhead": 0,
           "arrowwidth": 1
          },
          "autotypenumbers": "strict",
          "coloraxis": {
           "colorbar": {
            "outlinewidth": 1,
            "tickcolor": "rgb(36,36,36)",
            "ticks": "outside"
           }
          },
          "colorscale": {
           "diverging": [
            [
             0,
             "rgb(103,0,31)"
            ],
            [
             0.1,
             "rgb(178,24,43)"
            ],
            [
             0.2,
             "rgb(214,96,77)"
            ],
            [
             0.3,
             "rgb(244,165,130)"
            ],
            [
             0.4,
             "rgb(253,219,199)"
            ],
            [
             0.5,
             "rgb(247,247,247)"
            ],
            [
             0.6,
             "rgb(209,229,240)"
            ],
            [
             0.7,
             "rgb(146,197,222)"
            ],
            [
             0.8,
             "rgb(67,147,195)"
            ],
            [
             0.9,
             "rgb(33,102,172)"
            ],
            [
             1,
             "rgb(5,48,97)"
            ]
           ],
           "sequential": [
            [
             0,
             "#440154"
            ],
            [
             0.1111111111111111,
             "#482878"
            ],
            [
             0.2222222222222222,
             "#3e4989"
            ],
            [
             0.3333333333333333,
             "#31688e"
            ],
            [
             0.4444444444444444,
             "#26828e"
            ],
            [
             0.5555555555555556,
             "#1f9e89"
            ],
            [
             0.6666666666666666,
             "#35b779"
            ],
            [
             0.7777777777777778,
             "#6ece58"
            ],
            [
             0.8888888888888888,
             "#b5de2b"
            ],
            [
             1,
             "#fde725"
            ]
           ],
           "sequentialminus": [
            [
             0,
             "#440154"
            ],
            [
             0.1111111111111111,
             "#482878"
            ],
            [
             0.2222222222222222,
             "#3e4989"
            ],
            [
             0.3333333333333333,
             "#31688e"
            ],
            [
             0.4444444444444444,
             "#26828e"
            ],
            [
             0.5555555555555556,
             "#1f9e89"
            ],
            [
             0.6666666666666666,
             "#35b779"
            ],
            [
             0.7777777777777778,
             "#6ece58"
            ],
            [
             0.8888888888888888,
             "#b5de2b"
            ],
            [
             1,
             "#fde725"
            ]
           ]
          },
          "colorway": [
           "#1F77B4",
           "#FF7F0E",
           "#2CA02C",
           "#D62728",
           "#9467BD",
           "#8C564B",
           "#E377C2",
           "#7F7F7F",
           "#BCBD22",
           "#17BECF"
          ],
          "font": {
           "color": "rgb(36,36,36)"
          },
          "geo": {
           "bgcolor": "white",
           "lakecolor": "white",
           "landcolor": "white",
           "showlakes": true,
           "showland": true,
           "subunitcolor": "white"
          },
          "hoverlabel": {
           "align": "left"
          },
          "hovermode": "closest",
          "mapbox": {
           "style": "light"
          },
          "paper_bgcolor": "white",
          "plot_bgcolor": "white",
          "polar": {
           "angularaxis": {
            "gridcolor": "rgb(232,232,232)",
            "linecolor": "rgb(36,36,36)",
            "showgrid": false,
            "showline": true,
            "ticks": "outside"
           },
           "bgcolor": "white",
           "radialaxis": {
            "gridcolor": "rgb(232,232,232)",
            "linecolor": "rgb(36,36,36)",
            "showgrid": false,
            "showline": true,
            "ticks": "outside"
           }
          },
          "scene": {
           "xaxis": {
            "backgroundcolor": "white",
            "gridcolor": "rgb(232,232,232)",
            "gridwidth": 2,
            "linecolor": "rgb(36,36,36)",
            "showbackground": true,
            "showgrid": false,
            "showline": true,
            "ticks": "outside",
            "zeroline": false,
            "zerolinecolor": "rgb(36,36,36)"
           },
           "yaxis": {
            "backgroundcolor": "white",
            "gridcolor": "rgb(232,232,232)",
            "gridwidth": 2,
            "linecolor": "rgb(36,36,36)",
            "showbackground": true,
            "showgrid": false,
            "showline": true,
            "ticks": "outside",
            "zeroline": false,
            "zerolinecolor": "rgb(36,36,36)"
           },
           "zaxis": {
            "backgroundcolor": "white",
            "gridcolor": "rgb(232,232,232)",
            "gridwidth": 2,
            "linecolor": "rgb(36,36,36)",
            "showbackground": true,
            "showgrid": false,
            "showline": true,
            "ticks": "outside",
            "zeroline": false,
            "zerolinecolor": "rgb(36,36,36)"
           }
          },
          "shapedefaults": {
           "fillcolor": "black",
           "line": {
            "width": 0
           },
           "opacity": 0.3
          },
          "ternary": {
           "aaxis": {
            "gridcolor": "rgb(232,232,232)",
            "linecolor": "rgb(36,36,36)",
            "showgrid": false,
            "showline": true,
            "ticks": "outside"
           },
           "baxis": {
            "gridcolor": "rgb(232,232,232)",
            "linecolor": "rgb(36,36,36)",
            "showgrid": false,
            "showline": true,
            "ticks": "outside"
           },
           "bgcolor": "white",
           "caxis": {
            "gridcolor": "rgb(232,232,232)",
            "linecolor": "rgb(36,36,36)",
            "showgrid": false,
            "showline": true,
            "ticks": "outside"
           }
          },
          "title": {
           "x": 0.05
          },
          "xaxis": {
           "automargin": true,
           "gridcolor": "rgb(232,232,232)",
           "linecolor": "rgb(36,36,36)",
           "showgrid": false,
           "showline": true,
           "ticks": "outside",
           "title": {
            "standoff": 15
           },
           "zeroline": false,
           "zerolinecolor": "rgb(36,36,36)"
          },
          "yaxis": {
           "automargin": true,
           "gridcolor": "rgb(232,232,232)",
           "linecolor": "rgb(36,36,36)",
           "showgrid": false,
           "showline": true,
           "ticks": "outside",
           "title": {
            "standoff": 15
           },
           "zeroline": false,
           "zerolinecolor": "rgb(36,36,36)"
          }
         }
        },
        "title": {
         "subtitle": {
          "text": "Companies not led by <b>M</b>ostly <b>U</b>nhinged <b>S</b>pace <b>K</b>ings"
         },
         "text": "WASHINGTON STATE'S TOP 5 ALTERNATE ELECTRIC VEHICLES"
        },
        "width": 800,
        "xaxis": {
         "anchor": "y",
         "domain": [
          0,
          1
         ],
         "title": {
          "font": {
           "color": "gray"
          },
          "text": "Data source: https://catalog.data.gov/dataset/electric-vehicle-population-data"
         }
        },
        "yaxis": {
         "anchor": "x",
         "domain": [
          0,
          1
         ],
         "ticksuffix": "%",
         "title": {
          "font": {
           "color": "gray"
          },
          "text": "ALTERNATE EV SHARE"
         }
        }
       }
      }
     },
     "metadata": {},
     "output_type": "display_data"
    }
   ],
   "source": [
    "import polars as pl\n",
    "import polars.selectors as cs\n",
    "import plotly.express as px\n",
    "\n",
    "# dataset issue:\n",
    "#   99.8% of dataset is from Washington State. I dropped all other locations.\n",
    "#   Base MSRP is 0 for 99.5% of the entries, dropped this too\n",
    "#   Utility company info is long and messy, dropped it to\n",
    "#   Vehicle Indentification Numbers (VIN) dropped, no interest\n",
    "#   Range data is not credible with 2/3 of values as 0, dropped it too\n",
    "\n",
    "df = (\n",
    "    pl.scan_csv('Electric_Vehicle_Population_Data.csv')  # lazyframe\n",
    "    .select(\n",
    "        STATE = pl.col('State'),\n",
    "        YEAR = pl.col('Model Year'),\n",
    "        MAKE = pl.col('Make'),\n",
    "    )\n",
    "    .filter(pl.col('STATE') == 'WA')\n",
    "    .filter(pl.col('MAKE') != 'TESLA')\n",
    "    .select(\n",
    "        'YEAR', 'MAKE', # 'MODEL',\n",
    "        YEAR_MAKE_TOT = pl.col('STATE').count().over(['YEAR', 'MAKE']),\n",
    "        YEAR_TOT = pl.col('STATE').count().over('YEAR'),\n",
    "    )\n",
    "    .unique(['YEAR', 'MAKE'])\n",
    "    .with_columns(\n",
    "        PCT_SHARE = 100*(pl.col('YEAR_MAKE_TOT')/pl.col('YEAR_TOT'))\n",
    "    )\n",
    "    .collect()  # convert to dataframe for pivot\n",
    "    .pivot(\n",
    "        on='MAKE',\n",
    "        index='YEAR',\n",
    "        values='PCT_SHARE'\n",
    "    )\n",
    "    .lazy()     # back to lazyframe\n",
    "    .filter(pl.col('YEAR') > 2020)\n",
    "    .sort('YEAR')\n",
    "    .with_columns(\n",
    "        PCT_TOT = pl.sum_horizontal(cs.exclude(pl.col('YEAR')))\n",
    "    )\n",
    "    .with_columns(\n",
    "        PCT_TOT = pl.when(pl.col('PCT_TOT') >= 5)\n",
    "                    .then('PCT_TOT')\n",
    "                    .otherwise(pl.lit(0.0))\n",
    "    )\n",
    "    .with_columns(\n",
    "        pl.col('YEAR').cast(pl.String)\n",
    "    )\n",
    "    .collect()  # lazyframe to data frame from here to the end of script\n",
    ")\n",
    "\n",
    "#----- EXCLUDE MAKES WITH 1 OR MORE NULL VALUES, ALPHABETIC SORT ---------------\n",
    "sorted_cols_null_filter = sorted(\n",
    "    [\n",
    "        c for c in df.columns \n",
    "        if (df[c].is_null().sum() <= 1) and\n",
    "        (c not in ['YEAR', 'PCT_TOT'])\n",
    "    ]\n",
    ")\n",
    "\n",
    "#----- MAKE LIST OF TOP 5 MAKES in 2025 ----------------------------------------\n",
    "top_5_makes = (\n",
    "    df\n",
    "    .select(['YEAR'] + sorted_cols_null_filter + ['PCT_TOT'] )\n",
    "    .transpose(\n",
    "        include_header=True,\n",
    "        header_name='MAKE',\n",
    "        column_names='YEAR',\n",
    "    )\n",
    "    .sort('2025', descending=True)\n",
    "    .head(6)    # make a list of the top 6 makes\n",
    "    .tail(5)    # then exclude the top brand\n",
    "    .select('MAKE')\n",
    "    .to_series()\n",
    "    .to_list()\n",
    ")\n",
    "\n",
    "#----- COLOR DICTIONARY FOR THE GRAPHS AND ANNOTATED LABELS --------------------\n",
    "my_color_dict = dict(\n",
    "    zip(top_5_makes,px.colors.qualitative.Vivid[:5] )\n",
    ")\n",
    "\n",
    "#----- PLOT SHARE OF TOP 5 ALTERNATIVE EVS--------------------------------------\n",
    "my_subtitle = (\n",
    "    'Companies not led by ' +\n",
    "    '<b>M</b>ostly <b>U</b>nhinged <b>S</b>pace <b>K</b>ings'\n",
    ")\n",
    "fig=px.line(\n",
    "    df,\n",
    "    'YEAR',\n",
    "    top_5_makes,\n",
    "    # Just found out from plotly youtube that markers can be enabled in px.line\n",
    "    markers=True, \n",
    "    title=\"WASHINGTON STATE'S TOP 5 ALTERNATE ELECTRIC VEHICLES\",\n",
    "    subtitle=my_subtitle,\n",
    "    template='simple_white',\n",
    "    line_shape='spline',\n",
    "    color_discrete_map=my_color_dict,\n",
    "    height=500, width=800\n",
    ")\n",
    "for make in top_5_makes:\n",
    "    fig.add_annotation(\n",
    "            x=0.96, xref='paper',\n",
    "            y=df[make].to_list()[-1], yref='y',\n",
    "            text=f'<b>{make}</b>',\n",
    "            showarrow=False,\n",
    "            xanchor='left',\n",
    "            font=dict(color=my_color_dict.get(make))\n",
    "        )\n",
    "    \n",
    "data_source = 'https://catalog.data.gov/dataset/electric-vehicle-population-data'\n",
    "fig.update_layout(\n",
    "    showlegend=False,\n",
    "    xaxis=dict(\n",
    "        title=dict(text=f'Data source: {data_source}', font=dict(color='gray')),\n",
    "    ),\n",
    "    yaxis=dict(\n",
    "        title=dict(\n",
    "            text='ALTERNATE EV SHARE', \n",
    "            font=dict(color='gray'),\n",
    "        ),\n",
    "        ticksuffix = \"%\",\n",
    "    ),\n",
    "    hovermode='x unified'\n",
    ")\n",
    "fig.show()"
   ]
  }
 ],
 "metadata": {
  "kernelspec": {
   "display_name": "Python 3",
   "language": "python",
   "name": "python3"
  },
  "language_info": {
   "codemirror_mode": {
    "name": "ipython",
    "version": 3
   },
   "file_extension": ".py",
   "mimetype": "text/x-python",
   "name": "python",
   "nbconvert_exporter": "python",
   "pygments_lexer": "ipython3",
   "version": "3.13.1"
  }
 },
 "nbformat": 4,
 "nbformat_minor": 2
}
