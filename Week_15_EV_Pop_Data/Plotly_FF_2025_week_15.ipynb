{
 "cells": [
  {
   "cell_type": "code",
   "execution_count": 1,
   "metadata": {},
   "outputs": [
    {
     "data": {
      "application/vnd.plotly.v1+json": {
       "config": {
        "plotlyServerURL": "https://plot.ly"
       },
       "data": [
        {
         "hovertemplate": "variable=RIVIAN<br>YEAR=%{x}<br>value=%{y}<extra></extra>",
         "legendgroup": "RIVIAN",
         "line": {
          "color": "rgb(229, 134, 6)",
          "dash": "solid",
          "shape": "spline"
         },
         "marker": {
          "symbol": "circle"
         },
         "mode": "lines+markers",
         "name": "RIVIAN",
         "orientation": "v",
         "showlegend": true,
         "type": "scatter",
         "x": [
          "2021",
          "2022",
          "2023",
          "2024",
          "2025"
         ],
         "xaxis": "x",
         "y": {
          "bdata": "AAAAAAAA+H+z9VMtKNIgQK9WlebxriFA3u0ZchSgE0AwwYFdbXYyQA==",
          "dtype": "f8"
         },
         "yaxis": "y"
        },
        {
         "hovertemplate": "variable=BMW<br>YEAR=%{x}<br>value=%{y}<extra></extra>",
         "legendgroup": "BMW",
         "line": {
          "color": "rgb(93, 105, 177)",
          "dash": "solid",
          "shape": "spline"
         },
         "marker": {
          "symbol": "circle"
         },
         "mode": "lines+markers",
         "name": "BMW",
         "orientation": "v",
         "showlegend": true,
         "type": "scatter",
         "x": [
          "2021",
          "2022",
          "2023",
          "2024",
          "2025"
         ],
         "xaxis": "x",
         "y": {
          "bdata": "B+z2WMsQIUAB7zCxKMEZQI5LRTimyxVAGtVXBJvNGkD+vZmpsm4wQA==",
          "dtype": "f8"
         },
         "yaxis": "y"
        },
        {
         "hovertemplate": "variable=KIA<br>YEAR=%{x}<br>value=%{y}<extra></extra>",
         "legendgroup": "KIA",
         "line": {
          "color": "rgb(82, 188, 163)",
          "dash": "solid",
          "shape": "spline"
         },
         "marker": {
          "symbol": "circle"
         },
         "mode": "lines+markers",
         "name": "KIA",
         "orientation": "v",
         "showlegend": true,
         "type": "scatter",
         "x": [
          "2021",
          "2022",
          "2023",
          "2024",
          "2025"
         ],
         "xaxis": "x",
         "y": {
          "bdata": "6jsb9Z2N8T9H5y/Txl4sQLrSCzVpgB9Arc9KBj7vJ0CUUr+PdEAnQA==",
          "dtype": "f8"
         },
         "yaxis": "y"
        },
        {
         "hovertemplate": "variable=VOLVO<br>YEAR=%{x}<br>value=%{y}<extra></extra>",
         "legendgroup": "VOLVO",
         "line": {
          "color": "rgb(153, 201, 69)",
          "dash": "solid",
          "shape": "spline"
         },
         "marker": {
          "symbol": "circle"
         },
         "mode": "lines+markers",
         "name": "VOLVO",
         "orientation": "v",
         "showlegend": true,
         "type": "scatter",
         "x": [
          "2021",
          "2022",
          "2023",
          "2024",
          "2025"
         ],
         "xaxis": "x",
         "y": {
          "bdata": "mVxBTK7gJEDqNWKsHKMeQDrH4X3pIxJAx9MrcUtQCEDGW/pUrZYgQA==",
          "dtype": "f8"
         },
         "yaxis": "y"
        },
        {
         "hovertemplate": "variable=NISSAN<br>YEAR=%{x}<br>value=%{y}<extra></extra>",
         "legendgroup": "NISSAN",
         "line": {
          "color": "rgb(204, 97, 176)",
          "dash": "solid",
          "shape": "spline"
         },
         "marker": {
          "symbol": "circle"
         },
         "mode": "lines+markers",
         "name": "NISSAN",
         "orientation": "v",
         "showlegend": true,
         "type": "scatter",
         "x": [
          "2021",
          "2022",
          "2023",
          "2024",
          "2025"
         ],
         "xaxis": "x",
         "y": {
          "bdata": "lCuIyRWEH0DqNWKsHKMeQIIW3LdkFxRAHL9Kbt/eD0AoJrd3U2McQA==",
          "dtype": "f8"
         },
         "yaxis": "y"
        }
       ],
       "layout": {
        "annotations": [
         {
          "font": {
           "color": "rgb(229, 134, 6)"
          },
          "showarrow": false,
          "text": "<b>RIVIAN</b>",
          "x": 0.96,
          "xanchor": "left",
          "xref": "paper",
          "y": 18.462606281450633,
          "yref": "y"
         },
         {
          "font": {
           "color": "rgb(93, 105, 177)"
          },
          "showarrow": false,
          "text": "<b>BMW</b>",
          "x": 0.96,
          "xanchor": "left",
          "xref": "paper",
          "y": 16.432413673433977,
          "yref": "y"
         },
         {
          "font": {
           "color": "rgb(82, 188, 163)"
          },
          "showarrow": false,
          "text": "<b>KIA</b>",
          "x": 0.96,
          "xanchor": "left",
          "xref": "paper",
          "y": 11.625889293770605,
          "yref": "y"
         },
         {
          "font": {
           "color": "rgb(153, 201, 69)"
          },
          "showarrow": false,
          "text": "<b>VOLVO</b>",
          "x": 0.96,
          "xanchor": "left",
          "xref": "paper",
          "y": 8.294291167794551,
          "yref": "y"
         },
         {
          "font": {
           "color": "rgb(204, 97, 176)"
          },
          "showarrow": false,
          "text": "<b>NISSAN</b>",
          "x": 0.96,
          "xanchor": "left",
          "xref": "paper",
          "y": 7.096998091271907,
          "yref": "y"
         }
        ],
        "height": 500,
        "hovermode": "x unified",
        "legend": {
         "title": {
          "text": "variable"
         },
         "tracegroupgap": 0
        },
        "showlegend": false,
        "template": {
         "data": {
          "bar": [
           {
            "error_x": {
             "color": "rgb(36,36,36)"
            },
            "error_y": {
             "color": "rgb(36,36,36)"
            },
            "marker": {
             "line": {
              "color": "white",
              "width": 0.5
             },
             "pattern": {
              "fillmode": "overlay",
              "size": 10,
              "solidity": 0.2
             }
            },
            "type": "bar"
           }
          ],
          "barpolar": [
           {
            "marker": {
             "line": {
              "color": "white",
              "width": 0.5
             },
             "pattern": {
              "fillmode": "overlay",
              "size": 10,
              "solidity": 0.2
             }
            },
            "type": "barpolar"
           }
          ],
          "carpet": [
           {
            "aaxis": {
             "endlinecolor": "rgb(36,36,36)",
             "gridcolor": "white",
             "linecolor": "white",
             "minorgridcolor": "white",
             "startlinecolor": "rgb(36,36,36)"
            },
            "baxis": {
             "endlinecolor": "rgb(36,36,36)",
             "gridcolor": "white",
             "linecolor": "white",
             "minorgridcolor": "white",
             "startlinecolor": "rgb(36,36,36)"
            },
            "type": "carpet"
           }
          ],
          "choropleth": [
           {
            "colorbar": {
             "outlinewidth": 1,
             "tickcolor": "rgb(36,36,36)",
             "ticks": "outside"
            },
            "type": "choropleth"
           }
          ],
          "contour": [
           {
            "colorbar": {
             "outlinewidth": 1,
             "tickcolor": "rgb(36,36,36)",
             "ticks": "outside"
            },
            "colorscale": [
             [
              0,
              "#440154"
             ],
             [
              0.1111111111111111,
              "#482878"
             ],
             [
              0.2222222222222222,
              "#3e4989"
             ],
             [
              0.3333333333333333,
              "#31688e"
             ],
             [
              0.4444444444444444,
              "#26828e"
             ],
             [
              0.5555555555555556,
              "#1f9e89"
             ],
             [
              0.6666666666666666,
              "#35b779"
             ],
             [
              0.7777777777777778,
              "#6ece58"
             ],
             [
              0.8888888888888888,
              "#b5de2b"
             ],
             [
              1,
              "#fde725"
             ]
            ],
            "type": "contour"
           }
          ],
          "contourcarpet": [
           {
            "colorbar": {
             "outlinewidth": 1,
             "tickcolor": "rgb(36,36,36)",
             "ticks": "outside"
            },
            "type": "contourcarpet"
           }
          ],
          "heatmap": [
           {
            "colorbar": {
             "outlinewidth": 1,
             "tickcolor": "rgb(36,36,36)",
             "ticks": "outside"
            },
            "colorscale": [
             [
              0,
              "#440154"
             ],
             [
              0.1111111111111111,
              "#482878"
             ],
             [
              0.2222222222222222,
              "#3e4989"
             ],
             [
              0.3333333333333333,
              "#31688e"
             ],
             [
              0.4444444444444444,
              "#26828e"
             ],
             [
              0.5555555555555556,
              "#1f9e89"
             ],
             [
              0.6666666666666666,
              "#35b779"
             ],
             [
              0.7777777777777778,
              "#6ece58"
             ],
             [
              0.8888888888888888,
              "#b5de2b"
             ],
             [
              1,
              "#fde725"
             ]
            ],
            "type": "heatmap"
           }
          ],
          "histogram": [
           {
            "marker": {
             "line": {
              "color": "white",
              "width": 0.6
             }
            },
            "type": "histogram"
           }
          ],
          "histogram2d": [
           {
            "colorbar": {
             "outlinewidth": 1,
             "tickcolor": "rgb(36,36,36)",
             "ticks": "outside"
            },
            "colorscale": [
             [
              0,
              "#440154"
             ],
             [
              0.1111111111111111,
              "#482878"
             ],
             [
              0.2222222222222222,
              "#3e4989"
             ],
             [
              0.3333333333333333,
              "#31688e"
             ],
             [
              0.4444444444444444,
              "#26828e"
             ],
             [
              0.5555555555555556,
              "#1f9e89"
             ],
             [
              0.6666666666666666,
              "#35b779"
             ],
             [
              0.7777777777777778,
              "#6ece58"
             ],
             [
              0.8888888888888888,
              "#b5de2b"
             ],
             [
              1,
              "#fde725"
             ]
            ],
            "type": "histogram2d"
           }
          ],
          "histogram2dcontour": [
           {
            "colorbar": {
             "outlinewidth": 1,
             "tickcolor": "rgb(36,36,36)",
             "ticks": "outside"
            },
            "colorscale": [
             [
              0,
              "#440154"
             ],
             [
              0.1111111111111111,
              "#482878"
             ],
             [
              0.2222222222222222,
              "#3e4989"
             ],
             [
              0.3333333333333333,
              "#31688e"
             ],
             [
              0.4444444444444444,
              "#26828e"
             ],
             [
              0.5555555555555556,
              "#1f9e89"
             ],
             [
              0.6666666666666666,
              "#35b779"
             ],
             [
              0.7777777777777778,
              "#6ece58"
             ],
             [
              0.8888888888888888,
              "#b5de2b"
             ],
             [
              1,
              "#fde725"
             ]
            ],
            "type": "histogram2dcontour"
           }
          ],
          "mesh3d": [
           {
            "colorbar": {
             "outlinewidth": 1,
             "tickcolor": "rgb(36,36,36)",
             "ticks": "outside"
            },
            "type": "mesh3d"
           }
          ],
          "parcoords": [
           {
            "line": {
             "colorbar": {
              "outlinewidth": 1,
              "tickcolor": "rgb(36,36,36)",
              "ticks": "outside"
             }
            },
            "type": "parcoords"
           }
          ],
          "pie": [
           {
            "automargin": true,
            "type": "pie"
           }
          ],
          "scatter": [
           {
            "fillpattern": {
             "fillmode": "overlay",
             "size": 10,
             "solidity": 0.2
            },
            "type": "scatter"
           }
          ],
          "scatter3d": [
           {
            "line": {
             "colorbar": {
              "outlinewidth": 1,
              "tickcolor": "rgb(36,36,36)",
              "ticks": "outside"
             }
            },
            "marker": {
             "colorbar": {
              "outlinewidth": 1,
              "tickcolor": "rgb(36,36,36)",
              "ticks": "outside"
             }
            },
            "type": "scatter3d"
           }
          ],
          "scattercarpet": [
           {
            "marker": {
             "colorbar": {
              "outlinewidth": 1,
              "tickcolor": "rgb(36,36,36)",
              "ticks": "outside"
             }
            },
            "type": "scattercarpet"
           }
          ],
          "scattergeo": [
           {
            "marker": {
             "colorbar": {
              "outlinewidth": 1,
              "tickcolor": "rgb(36,36,36)",
              "ticks": "outside"
             }
            },
            "type": "scattergeo"
           }
          ],
          "scattergl": [
           {
            "marker": {
             "colorbar": {
              "outlinewidth": 1,
              "tickcolor": "rgb(36,36,36)",
              "ticks": "outside"
             }
            },
            "type": "scattergl"
           }
          ],
          "scattermap": [
           {
            "marker": {
             "colorbar": {
              "outlinewidth": 1,
              "tickcolor": "rgb(36,36,36)",
              "ticks": "outside"
             }
            },
            "type": "scattermap"
           }
          ],
          "scattermapbox": [
           {
            "marker": {
             "colorbar": {
              "outlinewidth": 1,
              "tickcolor": "rgb(36,36,36)",
              "ticks": "outside"
             }
            },
            "type": "scattermapbox"
           }
          ],
          "scatterpolar": [
           {
            "marker": {
             "colorbar": {
              "outlinewidth": 1,
              "tickcolor": "rgb(36,36,36)",
              "ticks": "outside"
             }
            },
            "type": "scatterpolar"
           }
          ],
          "scatterpolargl": [
           {
            "marker": {
             "colorbar": {
              "outlinewidth": 1,
              "tickcolor": "rgb(36,36,36)",
              "ticks": "outside"
             }
            },
            "type": "scatterpolargl"
           }
          ],
          "scatterternary": [
           {
            "marker": {
             "colorbar": {
              "outlinewidth": 1,
              "tickcolor": "rgb(36,36,36)",
              "ticks": "outside"
             }
            },
            "type": "scatterternary"
           }
          ],
          "surface": [
           {
            "colorbar": {
             "outlinewidth": 1,
             "tickcolor": "rgb(36,36,36)",
             "ticks": "outside"
            },
            "colorscale": [
             [
              0,
              "#440154"
             ],
             [
              0.1111111111111111,
              "#482878"
             ],
             [
              0.2222222222222222,
              "#3e4989"
             ],
             [
              0.3333333333333333,
              "#31688e"
             ],
             [
              0.4444444444444444,
              "#26828e"
             ],
             [
              0.5555555555555556,
              "#1f9e89"
             ],
             [
              0.6666666666666666,
              "#35b779"
             ],
             [
              0.7777777777777778,
              "#6ece58"
             ],
             [
              0.8888888888888888,
              "#b5de2b"
             ],
             [
              1,
              "#fde725"
             ]
            ],
            "type": "surface"
           }
          ],
          "table": [
           {
            "cells": {
             "fill": {
              "color": "rgb(237,237,237)"
             },
             "line": {
              "color": "white"
             }
            },
            "header": {
             "fill": {
              "color": "rgb(217,217,217)"
             },
             "line": {
              "color": "white"
             }
            },
            "type": "table"
           }
          ]
         },
         "layout": {
          "annotationdefaults": {
           "arrowhead": 0,
           "arrowwidth": 1
          },
          "autotypenumbers": "strict",
          "coloraxis": {
           "colorbar": {
            "outlinewidth": 1,
            "tickcolor": "rgb(36,36,36)",
            "ticks": "outside"
           }
          },
          "colorscale": {
           "diverging": [
            [
             0,
             "rgb(103,0,31)"
            ],
            [
             0.1,
             "rgb(178,24,43)"
            ],
            [
             0.2,
             "rgb(214,96,77)"
            ],
            [
             0.3,
             "rgb(244,165,130)"
            ],
            [
             0.4,
             "rgb(253,219,199)"
            ],
            [
             0.5,
             "rgb(247,247,247)"
            ],
            [
             0.6,
             "rgb(209,229,240)"
            ],
            [
             0.7,
             "rgb(146,197,222)"
            ],
            [
             0.8,
             "rgb(67,147,195)"
            ],
            [
             0.9,
             "rgb(33,102,172)"
            ],
            [
             1,
             "rgb(5,48,97)"
            ]
           ],
           "sequential": [
            [
             0,
             "#440154"
            ],
            [
             0.1111111111111111,
             "#482878"
            ],
            [
             0.2222222222222222,
             "#3e4989"
            ],
            [
             0.3333333333333333,
             "#31688e"
            ],
            [
             0.4444444444444444,
             "#26828e"
            ],
            [
             0.5555555555555556,
             "#1f9e89"
            ],
            [
             0.6666666666666666,
             "#35b779"
            ],
            [
             0.7777777777777778,
             "#6ece58"
            ],
            [
             0.8888888888888888,
             "#b5de2b"
            ],
            [
             1,
             "#fde725"
            ]
           ],
           "sequentialminus": [
            [
             0,
             "#440154"
            ],
            [
             0.1111111111111111,
             "#482878"
            ],
            [
             0.2222222222222222,
             "#3e4989"
            ],
            [
             0.3333333333333333,
             "#31688e"
            ],
            [
             0.4444444444444444,
             "#26828e"
            ],
            [
             0.5555555555555556,
             "#1f9e89"
            ],
            [
             0.6666666666666666,
             "#35b779"
            ],
            [
             0.7777777777777778,
             "#6ece58"
            ],
            [
             0.8888888888888888,
             "#b5de2b"
            ],
            [
             1,
             "#fde725"
            ]
           ]
          },
          "colorway": [
           "#1F77B4",
           "#FF7F0E",
           "#2CA02C",
           "#D62728",
           "#9467BD",
           "#8C564B",
           "#E377C2",
           "#7F7F7F",
           "#BCBD22",
           "#17BECF"
          ],
          "font": {
           "color": "rgb(36,36,36)"
          },
          "geo": {
           "bgcolor": "white",
           "lakecolor": "white",
           "landcolor": "white",
           "showlakes": true,
           "showland": true,
           "subunitcolor": "white"
          },
          "hoverlabel": {
           "align": "left"
          },
          "hovermode": "closest",
          "mapbox": {
           "style": "light"
          },
          "paper_bgcolor": "white",
          "plot_bgcolor": "white",
          "polar": {
           "angularaxis": {
            "gridcolor": "rgb(232,232,232)",
            "linecolor": "rgb(36,36,36)",
            "showgrid": false,
            "showline": true,
            "ticks": "outside"
           },
           "bgcolor": "white",
           "radialaxis": {
            "gridcolor": "rgb(232,232,232)",
            "linecolor": "rgb(36,36,36)",
            "showgrid": false,
            "showline": true,
            "ticks": "outside"
           }
          },
          "scene": {
           "xaxis": {
            "backgroundcolor": "white",
            "gridcolor": "rgb(232,232,232)",
            "gridwidth": 2,
            "linecolor": "rgb(36,36,36)",
            "showbackground": true,
            "showgrid": false,
            "showline": true,
            "ticks": "outside",
            "zeroline": false,
            "zerolinecolor": "rgb(36,36,36)"
           },
           "yaxis": {
            "backgroundcolor": "white",
            "gridcolor": "rgb(232,232,232)",
            "gridwidth": 2,
            "linecolor": "rgb(36,36,36)",
            "showbackground": true,
            "showgrid": false,
            "showline": true,
            "ticks": "outside",
            "zeroline": false,
            "zerolinecolor": "rgb(36,36,36)"
           },
           "zaxis": {
            "backgroundcolor": "white",
            "gridcolor": "rgb(232,232,232)",
            "gridwidth": 2,
            "linecolor": "rgb(36,36,36)",
            "showbackground": true,
            "showgrid": false,
            "showline": true,
            "ticks": "outside",
            "zeroline": false,
            "zerolinecolor": "rgb(36,36,36)"
           }
          },
          "shapedefaults": {
           "fillcolor": "black",
           "line": {
            "width": 0
           },
           "opacity": 0.3
          },
          "ternary": {
           "aaxis": {
            "gridcolor": "rgb(232,232,232)",
            "linecolor": "rgb(36,36,36)",
            "showgrid": false,
            "showline": true,
            "ticks": "outside"
           },
           "baxis": {
            "gridcolor": "rgb(232,232,232)",
            "linecolor": "rgb(36,36,36)",
            "showgrid": false,
            "showline": true,
            "ticks": "outside"
           },
           "bgcolor": "white",
           "caxis": {
            "gridcolor": "rgb(232,232,232)",
            "linecolor": "rgb(36,36,36)",
            "showgrid": false,
            "showline": true,
            "ticks": "outside"
           }
          },
          "title": {
           "x": 0.05
          },
          "xaxis": {
           "automargin": true,
           "gridcolor": "rgb(232,232,232)",
           "linecolor": "rgb(36,36,36)",
           "showgrid": false,
           "showline": true,
           "ticks": "outside",
           "title": {
            "standoff": 15
           },
           "zeroline": false,
           "zerolinecolor": "rgb(36,36,36)"
          },
          "yaxis": {
           "automargin": true,
           "gridcolor": "rgb(232,232,232)",
           "linecolor": "rgb(36,36,36)",
           "showgrid": false,
           "showline": true,
           "ticks": "outside",
           "title": {
            "standoff": 15
           },
           "zeroline": false,
           "zerolinecolor": "rgb(36,36,36)"
          }
         }
        },
        "title": {
         "subtitle": {
          "text": "Companies not led by <b>M</b>ostly <b>U</b>nhinged <b>S</b>pace <b>K</b>ings"
         },
         "text": "WASHINGTON STATE'S TOP 5 ALTERNATE ELECTRIC VEHICLES"
        },
        "width": 800,
        "xaxis": {
         "anchor": "y",
         "domain": [
          0,
          1
         ],
         "title": {
          "font": {
           "color": "gray"
          },
          "text": "Data source: https://catalog.data.gov/dataset/electric-vehicle-population-data"
         }
        },
        "yaxis": {
         "anchor": "x",
         "domain": [
          0,
          1
         ],
         "ticksuffix": "%",
         "title": {
          "font": {
           "color": "gray"
          },
          "text": "ALTERNATE EV SHARE"
         }
        }
       }
      }
     },
     "metadata": {},
     "output_type": "display_data"
    }
   ],
   "source": [
    "import polars as pl\n",
    "import polars.selectors as cs\n",
    "import plotly.express as px\n",
    "\n",
    "# dataset issue:\n",
    "#   99.8% of dataset is from Washington State. I dropped all other locations.\n",
    "#   Base MSRP is 0 for 99.5% of the entries, dropped this too\n",
    "#   Utility company info is long and messy, dropped it to\n",
    "#   Vehicle Indentification Numbers (VIN) dropped, no interest\n",
    "#   Range data is not credible with 2/3 of values as 0, dropped it too\n",
    "\n",
    "df = (\n",
    "    pl.scan_csv('Electric_Vehicle_Population_Data.csv')  # lazyframe\n",
    "    .select(\n",
    "        STATE = pl.col('State'),\n",
    "        YEAR = pl.col('Model Year'),\n",
    "        MAKE = pl.col('Make'),\n",
    "    )\n",
    "    .filter(pl.col('STATE') == 'WA')\n",
    "    .filter(pl.col('MAKE') != 'TESLA')\n",
    "    .select(\n",
    "        'YEAR', 'MAKE', # 'MODEL',\n",
    "        YEAR_MAKE_TOT = pl.col('STATE').count().over(['YEAR', 'MAKE']),\n",
    "        YEAR_TOT = pl.col('STATE').count().over('YEAR'),\n",
    "    )\n",
    "    .unique(['YEAR', 'MAKE'])\n",
    "    .with_columns(\n",
    "        PCT_SHARE = 100*(pl.col('YEAR_MAKE_TOT')/pl.col('YEAR_TOT'))\n",
    "    )\n",
    "    .collect()  # convert to dataframe for pivot\n",
    "    .pivot(\n",
    "        on='MAKE',\n",
    "        index='YEAR',\n",
    "        values='PCT_SHARE'\n",
    "    )\n",
    "    .lazy()     # back to lazyframe\n",
    "    .filter(pl.col('YEAR') > 2020)\n",
    "    .sort('YEAR')\n",
    "    .with_columns(\n",
    "        PCT_TOT = pl.sum_horizontal(cs.exclude(pl.col('YEAR')))\n",
    "    )\n",
    "    .with_columns(\n",
    "        PCT_TOT = pl.when(pl.col('PCT_TOT') >= 5)\n",
    "                    .then('PCT_TOT')\n",
    "                    .otherwise(pl.lit(0.0))\n",
    "    )\n",
    "    .with_columns(\n",
    "        pl.col('YEAR').cast(pl.String)\n",
    "    )\n",
    "    .collect()  # lazyframe to data frame from here to the end of script\n",
    ")\n",
    "\n",
    "#----- EXCLUDE MAKES WITH 1 OR MORE NULL VALUES, ALPHABETIC SORT ---------------\n",
    "sorted_cols_null_filter = sorted(\n",
    "    [\n",
    "        c for c in df.columns \n",
    "        if (df[c].is_null().sum() <= 1) and\n",
    "        (c not in ['YEAR', 'PCT_TOT'])\n",
    "    ]\n",
    ")\n",
    "\n",
    "#----- MAKE LIST OF TOP 5 MAKES in 2025 ----------------------------------------\n",
    "top_5_makes = (\n",
    "    df\n",
    "    .select(['YEAR'] + sorted_cols_null_filter + ['PCT_TOT'] )\n",
    "    .transpose(\n",
    "        include_header=True,\n",
    "        header_name='MAKE',\n",
    "        column_names='YEAR',\n",
    "    )\n",
    "    .sort('2025', descending=True)\n",
    "    .head(6)    # make a list of the top 6 makes\n",
    "    .tail(5)    # then exclude the top brand\n",
    "    .select('MAKE')\n",
    "    .to_series()\n",
    "    .to_list()\n",
    ")\n",
    "\n",
    "#----- COLOR DICTIONARY FOR THE GRAPHS AND ANNOTATED LABELS --------------------\n",
    "my_color_dict = dict(\n",
    "    zip(top_5_makes,px.colors.qualitative.Vivid[:5] )\n",
    ")\n",
    "\n",
    "#----- PLOT SHARE OF TOP 5 ALTERNATIVE EVS--------------------------------------\n",
    "my_subtitle = (\n",
    "    'Companies not led by ' +\n",
    "    '<b>M</b>ostly <b>U</b>nhinged <b>S</b>pace <b>K</b>ings'\n",
    ")\n",
    "fig=px.line(\n",
    "    df,\n",
    "    'YEAR',\n",
    "    top_5_makes,\n",
    "    # Just found out from plotly youtube that markers can be enabled in px.line\n",
    "    markers=True, \n",
    "    title=\"WASHINGTON STATE'S TOP 5 ALTERNATE ELECTRIC VEHICLES\",\n",
    "    subtitle=my_subtitle,\n",
    "    template='simple_white',\n",
    "    line_shape='spline',\n",
    "    color_discrete_map=my_color_dict,\n",
    "    height=500, width=800\n",
    ")\n",
    "for make in top_5_makes:\n",
    "    fig.add_annotation(\n",
    "            x=0.96, xref='paper',\n",
    "            y=df[make].to_list()[-1], yref='y',\n",
    "            text=f'<b>{make}</b>',\n",
    "            showarrow=False,\n",
    "            xanchor='left',\n",
    "            font=dict(color=my_color_dict.get(make))\n",
    "        )\n",
    "    \n",
    "data_source = 'https://catalog.data.gov/dataset/electric-vehicle-population-data'\n",
    "fig.update_layout(\n",
    "    showlegend=False,\n",
    "    xaxis=dict(\n",
    "        title=dict(text=f'Data source: {data_source}', font=dict(color='gray')),\n",
    "    ),\n",
    "    yaxis=dict(\n",
    "        title=dict(\n",
    "            text='ALTERNATE EV SHARE', \n",
    "            font=dict(color='gray'),\n",
    "        ),\n",
    "        ticksuffix = \"%\",\n",
    "    ),\n",
    "    hovermode='x unified'\n",
    ")\n",
    "fig.show()"
   ]
  }
 ],
 "metadata": {
  "kernelspec": {
   "display_name": "Python 3",
   "language": "python",
   "name": "python3"
  },
  "language_info": {
   "codemirror_mode": {
    "name": "ipython",
    "version": 3
   },
   "file_extension": ".py",
   "mimetype": "text/x-python",
   "name": "python",
   "nbconvert_exporter": "python",
   "pygments_lexer": "ipython3",
   "version": "3.13.1"
  }
 },
 "nbformat": 4,
 "nbformat_minor": 2
}
