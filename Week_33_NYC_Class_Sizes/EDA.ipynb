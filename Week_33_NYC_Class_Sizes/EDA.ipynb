{
 "cells": [
  {
   "cell_type": "code",
   "execution_count": 4,
   "id": "6b388aa7",
   "metadata": {},
   "outputs": [
    {
     "name": "stdout",
     "output_type": "stream",
     "text": [
      "No Filter, NUMBER OF STUDENTS: 38,190,266\n"
     ]
    },
    {
     "data": {
      "text/plain": [
       "<xlsxwriter.workbook.Workbook at 0x21f6774d1d0>"
      ]
     },
     "execution_count": 4,
     "metadata": {},
     "output_type": "execute_result"
    }
   ],
   "source": [
    "import polars as pl\n",
    "\n",
    "# print NUMBER OF STUDENTS from pipe, and return the DataFrame unchanged\n",
    "def log_size(stage: str):\n",
    "    def inner(df: pl.DataFrame) -> pl.DataFrame:\n",
    "        print(f'{stage}: {df['NUMBER OF STUDENTS'].sum():,}')\n",
    "        return df\n",
    "    return inner\n",
    "\n",
    "csv_file = 'Class_Size_Report_Distribution_Summary__2010-2015__20250814.csv'\n",
    "df = (\n",
    "    pl.read_csv(\n",
    "    csv_file,\n",
    "    ignore_errors=True\n",
    "    )\n",
    "    .pipe(log_size('No Filter, NUMBER OF STUDENTS'))\n",
    "    # .drop_nulls(subset='BOROUGH')\n",
    "    # .pipe(log_size('Remove Nulls from BOROUGH, NUMBER OF STUDENTS'))\n",
    "    # .drop_nulls(subset='CLASS SIZE')\n",
    "    # .pipe(log_size('Remove Nulls from CLASS SIZE, NUMBER OF STUDENTS'))\n",
    "    # .drop_nulls(subset='CORE SUBJECT')\n",
    "    # .pipe(log_size('Remove Nulls from CORE SUBJECT, NUMBER OF STUDENTS'))\n",
    "    # .filter(pl.col('REPORT TYPE') == 'Borough')\n",
    "    # .pipe(log_size('filter REPORT TYPE == BOROUGH, NUMBER OF STUDENTS'))\n",
    "    .select('SCHOOL YEAR','BOROUGH', 'GRADE LEVEL',\n",
    "            'CORE SUBJECT','CLASS SIZE','NUMBER OF STUDENTS', 'NUMBER OF CLASSES' )\n",
    "    .with_columns(\n",
    "        BOROUGH = pl.col('BOROUGH')\n",
    "            .str.replace('Q', 'Queens')\n",
    "            .str.replace('M', 'Manhattan')\n",
    "            .str.replace('R', 'Staten Island')  # Richmond county\n",
    "            .str.replace('K', 'Brooklyn')       # Kings County\n",
    "            .str.replace('X', 'The Bronx')\n",
    "    )\n",
    "\n",
    ")\n",
    "df.write_parquet('NYC_Class_Sizes.parquet')\n",
    "df.write_excel('NYC_Class_Sizes.xlsx')"
   ]
  },
  {
   "cell_type": "code",
   "execution_count": null,
   "id": "0ee20015",
   "metadata": {},
   "outputs": [],
   "source": []
  }
 ],
 "metadata": {
  "kernelspec": {
   "display_name": "Python 3",
   "language": "python",
   "name": "python3"
  },
  "language_info": {
   "codemirror_mode": {
    "name": "ipython",
    "version": 3
   },
   "file_extension": ".py",
   "mimetype": "text/x-python",
   "name": "python",
   "nbconvert_exporter": "python",
   "pygments_lexer": "ipython3",
   "version": "3.13.5"
  }
 },
 "nbformat": 4,
 "nbformat_minor": 5
}
