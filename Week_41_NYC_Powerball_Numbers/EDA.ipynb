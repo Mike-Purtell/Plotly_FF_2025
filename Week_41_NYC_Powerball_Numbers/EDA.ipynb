{
 "cells": [
  {
   "cell_type": "code",
   "execution_count": 3,
   "id": "4061ee11",
   "metadata": {},
   "outputs": [
    {
     "data": {
      "text/html": [
       "<div><style>\n",
       ".dataframe > thead > tr,\n",
       ".dataframe > tbody > tr {\n",
       "  text-align: right;\n",
       "  white-space: pre-wrap;\n",
       "}\n",
       "</style>\n",
       "<small>shape: (5, 11)</small><table border=\"1\" class=\"dataframe\"><thead><tr><th>DATE</th><th>YEAR</th><th>MONTH</th><th>DAY</th><th>DAY_NAME</th><th>NUM_1</th><th>NUM_2</th><th>NUM_3</th><th>NUM_4</th><th>NUM_5</th><th>NUM_6</th></tr><tr><td>date</td><td>u16</td><td>str</td><td>u8</td><td>str</td><td>u8</td><td>u8</td><td>u8</td><td>u8</td><td>u8</td><td>u8</td></tr></thead><tbody><tr><td>2020-09-26</td><td>2020</td><td>&quot;Sep&quot;</td><td>26</td><td>&quot;Sat&quot;</td><td>11</td><td>21</td><td>27</td><td>36</td><td>62</td><td>24</td></tr><tr><td>2020-09-30</td><td>2020</td><td>&quot;Sep&quot;</td><td>30</td><td>&quot;Wed&quot;</td><td>14</td><td>18</td><td>36</td><td>49</td><td>67</td><td>18</td></tr><tr><td>2020-10-03</td><td>2020</td><td>&quot;Oct&quot;</td><td>3</td><td>&quot;Sat&quot;</td><td>18</td><td>31</td><td>36</td><td>43</td><td>47</td><td>20</td></tr><tr><td>2020-10-07</td><td>2020</td><td>&quot;Oct&quot;</td><td>7</td><td>&quot;Wed&quot;</td><td>6</td><td>24</td><td>30</td><td>53</td><td>56</td><td>19</td></tr><tr><td>2020-10-10</td><td>2020</td><td>&quot;Oct&quot;</td><td>10</td><td>&quot;Sat&quot;</td><td>5</td><td>18</td><td>23</td><td>40</td><td>50</td><td>18</td></tr></tbody></table></div>"
      ],
      "text/plain": [
       "shape: (5, 11)\n",
       "┌────────────┬──────┬───────┬─────┬───┬───────┬───────┬───────┬───────┐\n",
       "│ DATE       ┆ YEAR ┆ MONTH ┆ DAY ┆ … ┆ NUM_3 ┆ NUM_4 ┆ NUM_5 ┆ NUM_6 │\n",
       "│ ---        ┆ ---  ┆ ---   ┆ --- ┆   ┆ ---   ┆ ---   ┆ ---   ┆ ---   │\n",
       "│ date       ┆ u16  ┆ str   ┆ u8  ┆   ┆ u8    ┆ u8    ┆ u8    ┆ u8    │\n",
       "╞════════════╪══════╪═══════╪═════╪═══╪═══════╪═══════╪═══════╪═══════╡\n",
       "│ 2020-09-26 ┆ 2020 ┆ Sep   ┆ 26  ┆ … ┆ 27    ┆ 36    ┆ 62    ┆ 24    │\n",
       "│ 2020-09-30 ┆ 2020 ┆ Sep   ┆ 30  ┆ … ┆ 36    ┆ 49    ┆ 67    ┆ 18    │\n",
       "│ 2020-10-03 ┆ 2020 ┆ Oct   ┆ 3   ┆ … ┆ 36    ┆ 43    ┆ 47    ┆ 20    │\n",
       "│ 2020-10-07 ┆ 2020 ┆ Oct   ┆ 7   ┆ … ┆ 30    ┆ 53    ┆ 56    ┆ 19    │\n",
       "│ 2020-10-10 ┆ 2020 ┆ Oct   ┆ 10  ┆ … ┆ 23    ┆ 40    ┆ 50    ┆ 18    │\n",
       "└────────────┴──────┴───────┴─────┴───┴───────┴───────┴───────┴───────┘"
      ]
     },
     "execution_count": 3,
     "metadata": {},
     "output_type": "execute_result"
    }
   ],
   "source": [
    "import polars as pl\n",
    "import polars.selectors as cs\n",
    "import plotly.express as px\n",
    "import os\n",
    "\n",
    "source_data = 'Lottery_Powerball_Winning_Numbers__Beginning_2010.csv'\n",
    "df = (\n",
    "    pl.scan_csv(source_data)\n",
    "    .with_columns(\n",
    "        DATE = pl.col('Draw Date').str.to_date(format='%m/%d/%Y'),\n",
    "        SPLIT_NUMS = pl.col('Winning Numbers').str.split(' ')\n",
    "    )\n",
    "    .select(\n",
    "        pl.col('DATE'),\n",
    "        YEAR = pl.col('DATE').dt.year().cast(pl.UInt16),\n",
    "        MONTH = pl.col('DATE').dt.strftime('%b'),\n",
    "        DAY = pl.col('DATE').dt.strftime('%d').cast(pl.UInt8),\n",
    "        DAY_NAME = pl.col('DATE').dt.strftime('%a'),\n",
    "        NUM_1 = pl.col('SPLIT_NUMS')\n",
    "            .list.get(0, null_on_oob=True)\n",
    "            .str.strip_chars().cast(pl.UInt8),\n",
    "        NUM_2 = pl.col('SPLIT_NUMS')\n",
    "            .list.get(1, null_on_oob=True)\n",
    "            .str.strip_chars().cast(pl.UInt8),\n",
    "        NUM_3 = pl.col('SPLIT_NUMS')\n",
    "            .list.get(2, null_on_oob=True)\n",
    "            .str.strip_chars().cast(pl.UInt8),\n",
    "        NUM_4 = pl.col('SPLIT_NUMS')\n",
    "            .list.get(3, null_on_oob=True)\n",
    "            .str.strip_chars().cast(pl.UInt8),\n",
    "        NUM_5 = pl.col('SPLIT_NUMS')\n",
    "            .list.get(4, null_on_oob=True)\n",
    "            .str.strip_chars().cast(pl.UInt8),\n",
    "        NUM_6 = pl.col('SPLIT_NUMS')\n",
    "            .list.get(5, null_on_oob=True)\n",
    "            .str.strip_chars().cast(pl.UInt8),\n",
    "    )\n",
    "    .collect()\n",
    ")\n",
    "df.head()\n",
    "\n"
   ]
  },
  {
   "cell_type": "code",
   "execution_count": null,
   "id": "0d737bb4",
   "metadata": {},
   "outputs": [],
   "source": [
    "(\n",
    "    df\n",
    "    .filter(pl.col('CREATED_DATE') != pl.col('RECEIVE_DATE'))\n",
    "    .filter(pl.col('PICKUP_DURATION').is_not_null())\n",
    "    .sample(10)\n",
    "    .glimpse()\n",
    ")"
   ]
  },
  {
   "cell_type": "code",
   "execution_count": null,
   "id": "857de896",
   "metadata": {},
   "outputs": [],
   "source": [
    "(\n",
    "    df\n",
    "    .filter(pl.col('CREATED_DATE') != pl.col('RECEIVE_DATE'))\n",
    "    .filter(pl.col('PICKUP_DURATION').is_not_null())\n",
    "    .select('CREATED_DATE', 'DELIVERY_DATE', 'RECEIVE_DATE','WITHDRAW_DATE', 'EXPIRE_DATE' )\n",
    "    .sample(5)\n",
    "    .transpose(include_header=True)\n",
    "    .sort('column_0')\n",
    ")\n",
    "\n",
    "\n",
    "\n",
    "# .str.strptime(pl.Datetime, fmt=\"%m/%d/%Y %H:%M\")\n"
   ]
  },
  {
   "cell_type": "code",
   "execution_count": null,
   "id": "2ff8ac0f",
   "metadata": {},
   "outputs": [],
   "source": [
    "for c in df.columns:\n",
    "    print(\n",
    "        c, \n",
    "        df[c]\n",
    "        .value_counts()\n",
    "        .with_columns(\n",
    "            PCT = (100*pl.col('count')/pl.col('count').sum()).cast(pl.Float32)\n",
    "        )\n",
    "    )"
   ]
  },
  {
   "cell_type": "code",
   "execution_count": null,
   "id": "7198f0b1",
   "metadata": {},
   "outputs": [],
   "source": [
    "print(list(df.columns))\n",
    "print()"
   ]
  },
  {
   "cell_type": "code",
   "execution_count": null,
   "id": "2ece95a1",
   "metadata": {},
   "outputs": [],
   "source": [
    "print(sorted(list(set(df['BOROUGH']))))"
   ]
  },
  {
   "cell_type": "code",
   "execution_count": null,
   "id": "42a70bf2",
   "metadata": {},
   "outputs": [],
   "source": [
    "fig = px.scatter_map(\n",
    "    df,\n",
    "    lat = 'LATITUDE',\n",
    "    lon = 'LONGITUDE',\n",
    "    color='BOROUGH'\n",
    ")\n",
    "fig.show()"
   ]
  },
  {
   "cell_type": "code",
   "execution_count": null,
   "id": "fdf84de0",
   "metadata": {},
   "outputs": [],
   "source": [
    "group_by_cols = ['LOCKER_NAME', 'ADDRESS', 'LOCATION_TYPE', 'LATITUDE', 'LONGITUDE', 'BOROUGH']\n",
    "df_group_by = (\n",
    "    df\n",
    "    .group_by(group_by_cols).len()\n",
    "    .rename({'len':  'COUNT'})\n",
    "    .sort('COUNT')\n",
    ")\n",
    "df_group_by\n",
    "# df_group_by['len'].sum()"
   ]
  },
  {
   "cell_type": "code",
   "execution_count": null,
   "id": "4609744d",
   "metadata": {},
   "outputs": [],
   "source": [
    "df.columns"
   ]
  }
 ],
 "metadata": {
  "kernelspec": {
   "display_name": "Python 3",
   "language": "python",
   "name": "python3"
  },
  "language_info": {
   "codemirror_mode": {
    "name": "ipython",
    "version": 3
   },
   "file_extension": ".py",
   "mimetype": "text/x-python",
   "name": "python",
   "nbconvert_exporter": "python",
   "pygments_lexer": "ipython3",
   "version": "3.13.5"
  }
 },
 "nbformat": 4,
 "nbformat_minor": 5
}
