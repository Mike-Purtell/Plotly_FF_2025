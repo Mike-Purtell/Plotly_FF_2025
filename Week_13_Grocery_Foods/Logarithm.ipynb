{
 "cells": [
  {
   "cell_type": "code",
   "execution_count": 12,
   "metadata": {},
   "outputs": [
    {
     "data": {
      "text/html": [
       "<div><style>\n",
       ".dataframe > thead > tr,\n",
       ".dataframe > tbody > tr {\n",
       "  text-align: right;\n",
       "  white-space: pre-wrap;\n",
       "}\n",
       "</style>\n",
       "<small>shape: (5, 3)</small><table border=\"1\" class=\"dataframe\"><thead><tr><th>CAT</th><th>A</th><th>B</th></tr><tr><td>str</td><td>f64</td><td>f64</td></tr></thead><tbody><tr><td>&quot;A&quot;</td><td>0.0</td><td>-1.0</td></tr><tr><td>&quot;B&quot;</td><td>1.0</td><td>-3.0</td></tr><tr><td>&quot;C&quot;</td><td>1.30103</td><td>-0.30103</td></tr><tr><td>&quot;D&quot;</td><td>1.69897</td><td>-0.481486</td></tr><tr><td>&quot;E&quot;</td><td>2.0</td><td>-inf</td></tr></tbody></table></div>"
      ],
      "text/plain": [
       "shape: (5, 3)\n",
       "┌─────┬─────────┬───────────┐\n",
       "│ CAT ┆ A       ┆ B         │\n",
       "│ --- ┆ ---     ┆ ---       │\n",
       "│ str ┆ f64     ┆ f64       │\n",
       "╞═════╪═════════╪═══════════╡\n",
       "│ A   ┆ 0.0     ┆ -1.0      │\n",
       "│ B   ┆ 1.0     ┆ -3.0      │\n",
       "│ C   ┆ 1.30103 ┆ -0.30103  │\n",
       "│ D   ┆ 1.69897 ┆ -0.481486 │\n",
       "│ E   ┆ 2.0     ┆ -inf      │\n",
       "└─────┴─────────┴───────────┘"
      ]
     },
     "execution_count": 12,
     "metadata": {},
     "output_type": "execute_result"
    }
   ],
   "source": [
    "import polars as pl\n",
    "df = (\n",
    "    pl.DataFrame(\n",
    "        {\n",
    "            'CAT':['A', 'B', 'C', 'D', 'E'],\n",
    "            'A':  [1, 10, 20, 50 ,100],\n",
    "            'B': [0.1, 0.001, 0.5, 0.33, 0],\n",
    "        }\n",
    "    )\n",
    "    .with_columns(\n",
    "        pl.col('A').log10(),\n",
    "        pl.col('B').log10(),\n",
    "    )\n",
    ")\n",
    "df"
   ]
  }
 ],
 "metadata": {
  "kernelspec": {
   "display_name": "Python 3",
   "language": "python",
   "name": "python3"
  },
  "language_info": {
   "codemirror_mode": {
    "name": "ipython",
    "version": 3
   },
   "file_extension": ".py",
   "mimetype": "text/x-python",
   "name": "python",
   "nbconvert_exporter": "python",
   "pygments_lexer": "ipython3",
   "version": "3.13.1"
  }
 },
 "nbformat": 4,
 "nbformat_minor": 2
}
