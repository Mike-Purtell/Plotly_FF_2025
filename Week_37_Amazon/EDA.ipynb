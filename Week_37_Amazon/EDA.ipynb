{
 "cells": [
  {
   "cell_type": "code",
   "execution_count": 10,
   "id": "c4307239",
   "metadata": {},
   "outputs": [
    {
     "ename": "AttributeError",
     "evalue": "'Config' object has no attribute 'set_table_rows'",
     "output_type": "error",
     "traceback": [
      "\u001b[1;31m---------------------------------------------------------------------------\u001b[0m",
      "\u001b[1;31mAttributeError\u001b[0m                            Traceback (most recent call last)",
      "Cell \u001b[1;32mIn[10], line 2\u001b[0m\n\u001b[0;32m      1\u001b[0m \u001b[38;5;28;01mimport\u001b[39;00m \u001b[38;5;21;01mpolars\u001b[39;00m \u001b[38;5;28;01mas\u001b[39;00m \u001b[38;5;21;01mpl\u001b[39;00m\n\u001b[1;32m----> 2\u001b[0m \u001b[43mpl\u001b[49m\u001b[38;5;241;43m.\u001b[39;49m\u001b[43mConfig\u001b[49m\u001b[43m(\u001b[49m\u001b[43m)\u001b[49m\u001b[38;5;241;43m.\u001b[39;49m\u001b[43mset_table_rows\u001b[49m(\u001b[38;5;241m20\u001b[39m)\n\u001b[0;32m      3\u001b[0m \u001b[38;5;28;01mimport\u001b[39;00m \u001b[38;5;21;01mpolars\u001b[39;00m\u001b[38;5;21;01m.\u001b[39;00m\u001b[38;5;21;01mselectors\u001b[39;00m \u001b[38;5;28;01mas\u001b[39;00m \u001b[38;5;21;01mcs\u001b[39;00m\n\u001b[0;32m      4\u001b[0m \u001b[38;5;28;01mimport\u001b[39;00m \u001b[38;5;21;01mos\u001b[39;00m\n",
      "\u001b[1;31mAttributeError\u001b[0m: 'Config' object has no attribute 'set_table_rows'"
     ]
    }
   ],
   "source": [
    "import polars as pl\n",
    "pl.Config().set_table_rows(20)\n",
    "import polars.selectors as cs\n",
    "import os\n",
    "\n",
    "if 'df.parquet' not in os.listdir():\n",
    "    print('reading data from csv file')\n",
    "    #----- SETUP ENUMERATED TYPES --------------------------------------------------\n",
    "    product_enum = pl.Enum(\n",
    "        ['Book', 'Headphones', 'Jeans', 'Laptop', 'Refrigerator', 'Running Shoes', \n",
    "        'Smartphone', 'Smartwatch', 'T-Shirt', 'Washing Machine']\n",
    "    )\n",
    "    category_enum =  pl.Enum(\n",
    "        ['Books', 'Clothing', 'Electronics', 'Footwear', 'Home Appliances']\n",
    "    )\n",
    "    customer_enum = pl.Enum(\n",
    "        ['Chris White', 'Daniel Harris', 'David Lee', 'Emily Johnson', 'Emma Clark', \n",
    "        'Jane Smith', 'John Doe', 'Michael Brown', 'Olivia Wilson', 'Sophia Miller']\n",
    "    )\n",
    "    location_enum = pl.Enum(\n",
    "        ['Boston', 'Chicago', 'Dallas', 'Denver', 'Houston', 'Los Angeles', 'Miami', \n",
    "        'New York', 'San Francisco', 'Seattle']\n",
    "    )\n",
    "    payment_method_enum = pl.Enum(\n",
    "        ['Amazon Pay', 'Credit Card', 'Debit Card', 'Gift Card', 'PayPal']\n",
    "    )\n",
    "    status_enum=pl.Enum(['Cancelled', 'Completed', 'Pending'])\n",
    "\n",
    "    #----- LOAD AND CLEAN THE DATASET\n",
    "    df  = (\n",
    "        pl.read_csv(\n",
    "            'amazon_sales_data.csv',\n",
    "        )\n",
    "        .rename(  # upper case all column names, replace spaces with underscores\n",
    "            lambda c: \n",
    "                c.upper()            # column names to upper case\n",
    "                .replace(' ', '_')   # blanks replaced with underscores\n",
    "        )\n",
    "        .with_columns(      # clean up DATE column and convert to pl.Date\n",
    "            DATE = pl.col('DATE')\n",
    "                .str.replace_all('-', '/')\n",
    "                .str.replace_all('/25', '/2025')\n",
    "                .str.to_date(format='%d/%m/%Y')\n",
    "        )\n",
    "        .rename({\n",
    "            'ORDER_ID'           : 'ID',\n",
    "            'CUSTOMER_NAME'      : 'CUSTOMER',\n",
    "            'TOTAL_SALES'        : 'TOTAL',\n",
    "            'CUSTOMER_LOCATION'  : 'LOCATION',\n",
    "            'PAYMENT_METHOD'     : 'METHOD'\n",
    "        })\n",
    "        .with_columns(\n",
    "            pl.col(['PRICE','TOTAL']).cast(pl.UInt16),\n",
    "            pl.col('ID').str.slice(3).cast(pl.UInt8),\n",
    "            pl.col('PRODUCT').cast(product_enum),\n",
    "            pl.col('CATEGORY').cast(category_enum),       \n",
    "            pl.col('CUSTOMER').cast(customer_enum),\n",
    "            pl.col('LOCATION').cast(location_enum),\n",
    "            pl.col('METHOD').cast(payment_method_enum),\n",
    "            pl.col('STATUS').cast(status_enum),\n",
    "            pl.col('QUANTITY').cast(pl.UInt8),\n",
    "        )    \n",
    "    )\n",
    "    df.glimpse()\n",
    "    df.write_parquet('df.parquet')\n",
    "else:\n",
    "    print('reading data from parquet file')\n",
    "    df = pl.read_parquet('df.parquet')\n",
    "\n",
    "print(df)"
   ]
  },
  {
   "cell_type": "code",
   "execution_count": 6,
   "id": "08f17693",
   "metadata": {},
   "outputs": [
    {
     "name": "stdout",
     "output_type": "stream",
     "text": [
      "ID [1, 2, 3, 4, 5, 6, 7, 8, 9, 10, 11, 12, 13, 14, 15, 16, 17, 18, 19, 20, 21, 22, 23, 24, 25, 26, 27, 28, 29, 30, 31, 32, 33, 34, 35, 36, 37, 38, 39, 40, 41, 42, 43, 44, 45, 46, 47, 48, 49, 50, 51, 52, 53, 54, 55, 56, 57, 58, 59, 60, 61, 62, 63, 64, 65, 66, 67, 68, 69, 70, 71, 72, 73, 74, 75, 76, 77, 78, 79, 80, 81, 82, 83, 84, 85, 86, 87, 88, 89, 90, 91, 92, 93, 94, 95, 96, 97, 98, 99, 100, 101, 102, 103, 104, 105, 106, 107, 108, 109, 110, 111, 112, 113, 114, 115, 116, 117, 118, 119, 120, 121, 122, 123, 124, 125, 126, 127, 128, 129, 130, 131, 132, 133, 134, 135, 136, 137, 138, 139, 140, 141, 142, 143, 144, 145, 146, 147, 148, 149, 150, 151, 152, 153, 154, 155, 156, 157, 158, 159, 160, 161, 162, 163, 164, 165, 166, 167, 168, 169, 170, 171, 172, 173, 174, 175, 176, 177, 178, 179, 180, 181, 182, 183, 184, 185, 186, 187, 188, 189, 190, 191, 192, 193, 194, 195, 196, 197, 198, 199, 200, 201, 202, 203, 204, 205, 206, 207, 208, 209, 210, 211, 212, 213, 214, 215, 216, 217, 218, 219, 220, 221, 222, 223, 224, 225, 226, 227, 228, 229, 230, 231, 232, 233, 234, 235, 236, 237, 238, 239, 240, 241, 242, 243, 244, 245, 246, 247, 248, 249, 250]\n",
      "DATE [datetime.date(2025, 2, 2), datetime.date(2025, 2, 3), datetime.date(2025, 2, 4), datetime.date(2025, 2, 5), datetime.date(2025, 2, 6), datetime.date(2025, 2, 7), datetime.date(2025, 2, 8), datetime.date(2025, 2, 9), datetime.date(2025, 2, 10), datetime.date(2025, 2, 11), datetime.date(2025, 2, 12), datetime.date(2025, 2, 13), datetime.date(2025, 2, 14), datetime.date(2025, 2, 15), datetime.date(2025, 2, 16), datetime.date(2025, 2, 17), datetime.date(2025, 2, 18), datetime.date(2025, 2, 19), datetime.date(2025, 2, 20), datetime.date(2025, 2, 21), datetime.date(2025, 2, 22), datetime.date(2025, 2, 23), datetime.date(2025, 2, 24), datetime.date(2025, 2, 25), datetime.date(2025, 2, 26), datetime.date(2025, 2, 27), datetime.date(2025, 2, 28), datetime.date(2025, 3, 1), datetime.date(2025, 3, 2), datetime.date(2025, 3, 3), datetime.date(2025, 3, 4), datetime.date(2025, 3, 5), datetime.date(2025, 3, 6), datetime.date(2025, 3, 7), datetime.date(2025, 3, 8), datetime.date(2025, 3, 9), datetime.date(2025, 3, 10), datetime.date(2025, 3, 11), datetime.date(2025, 3, 12), datetime.date(2025, 3, 13), datetime.date(2025, 3, 14), datetime.date(2025, 3, 15), datetime.date(2025, 3, 16), datetime.date(2025, 3, 17), datetime.date(2025, 3, 18), datetime.date(2025, 3, 19), datetime.date(2025, 3, 20), datetime.date(2025, 3, 21), datetime.date(2025, 3, 22), datetime.date(2025, 3, 23), datetime.date(2025, 3, 24), datetime.date(2025, 3, 25), datetime.date(2025, 3, 26), datetime.date(2025, 3, 27), datetime.date(2025, 3, 28), datetime.date(2025, 3, 29), datetime.date(2025, 3, 30), datetime.date(2025, 3, 31), datetime.date(2025, 4, 1), datetime.date(2025, 4, 2)]\n",
      "PRODUCT ['Book', 'Headphones', 'Jeans', 'Laptop', 'Refrigerator', 'Running Shoes', 'Smartphone', 'Smartwatch', 'T-Shirt', 'Washing Machine']\n",
      "CATEGORY ['Books', 'Clothing', 'Electronics', 'Footwear', 'Home Appliances']\n",
      "PRICE [15, 20, 40, 60, 100, 150, 500, 600, 800, 1200]\n",
      "QUANTITY [1, 2, 3, 4, 5]\n",
      "TOTAL [15, 20, 30, 40, 45, 60, 75, 80, 100, 120, 150, 160, 180, 200, 240, 300, 400, 450, 500, 600, 750, 800, 1000, 1200, 1500, 1600, 1800, 2000, 2400, 2500, 3000, 3200, 3600, 4000, 4800, 6000]\n",
      "CUSTOMER ['Chris White', 'Daniel Harris', 'David Lee', 'Emily Johnson', 'Emma Clark', 'Jane Smith', 'John Doe', 'Michael Brown', 'Olivia Wilson', 'Sophia Miller']\n",
      "LOCATION ['Boston', 'Chicago', 'Dallas', 'Denver', 'Houston', 'Los Angeles', 'Miami', 'New York', 'San Francisco', 'Seattle']\n",
      "METHOD ['Amazon Pay', 'Credit Card', 'Debit Card', 'Gift Card', 'PayPal']\n",
      "STATUS ['Cancelled', 'Completed', 'Pending']\n"
     ]
    }
   ],
   "source": [
    "for c in df.columns:\n",
    "    # print(df[c].value_counts())\n",
    "    print(c, df.unique(c).sort(c).get_column(c).to_list())"
   ]
  },
  {
   "cell_type": "code",
   "execution_count": 12,
   "id": "4bd90764",
   "metadata": {},
   "outputs": [
    {
     "data": {
      "text/html": [
       "<div><style>\n",
       ".dataframe > thead > tr,\n",
       ".dataframe > tbody > tr {\n",
       "  text-align: right;\n",
       "  white-space: pre-wrap;\n",
       "}\n",
       "</style>\n",
       "<small>shape: (92, 11)</small><table border=\"1\" class=\"dataframe\"><thead><tr><th>ID</th><th>DATE</th><th>PRODUCT</th><th>CATEGORY</th><th>PRICE</th><th>QUANTITY</th><th>TOTAL</th><th>CUSTOMER</th><th>LOCATION</th><th>METHOD</th><th>STATUS</th></tr><tr><td>u8</td><td>date</td><td>enum</td><td>enum</td><td>u16</td><td>u8</td><td>u16</td><td>enum</td><td>enum</td><td>enum</td><td>enum</td></tr></thead><tbody><tr><td>44</td><td>2025-03-24</td><td>&quot;Smartwatch&quot;</td><td>&quot;Electronics&quot;</td><td>150</td><td>1</td><td>150</td><td>&quot;Chris White&quot;</td><td>&quot;Houston&quot;</td><td>&quot;Debit Card&quot;</td><td>&quot;Pending&quot;</td></tr><tr><td>57</td><td>2025-03-15</td><td>&quot;Smartphone&quot;</td><td>&quot;Electronics&quot;</td><td>500</td><td>1</td><td>500</td><td>&quot;Jane Smith&quot;</td><td>&quot;Los Angeles&quot;</td><td>&quot;Debit Card&quot;</td><td>&quot;Cancelled&quot;</td></tr><tr><td>11</td><td>2025-02-17</td><td>&quot;Book&quot;</td><td>&quot;Books&quot;</td><td>15</td><td>2</td><td>30</td><td>&quot;David Lee&quot;</td><td>&quot;Boston&quot;</td><td>&quot;Amazon Pay&quot;</td><td>&quot;Pending&quot;</td></tr><tr><td>129</td><td>2025-02-26</td><td>&quot;Jeans&quot;</td><td>&quot;Clothing&quot;</td><td>40</td><td>5</td><td>200</td><td>&quot;Emily Johnson&quot;</td><td>&quot;New York&quot;</td><td>&quot;Debit Card&quot;</td><td>&quot;Pending&quot;</td></tr><tr><td>119</td><td>2025-03-16</td><td>&quot;Smartphone&quot;</td><td>&quot;Electronics&quot;</td><td>500</td><td>2</td><td>1000</td><td>&quot;Chris White&quot;</td><td>&quot;Chicago&quot;</td><td>&quot;PayPal&quot;</td><td>&quot;Pending&quot;</td></tr><tr><td>&hellip;</td><td>&hellip;</td><td>&hellip;</td><td>&hellip;</td><td>&hellip;</td><td>&hellip;</td><td>&hellip;</td><td>&hellip;</td><td>&hellip;</td><td>&hellip;</td><td>&hellip;</td></tr><tr><td>56</td><td>2025-03-19</td><td>&quot;Smartwatch&quot;</td><td>&quot;Electronics&quot;</td><td>150</td><td>2</td><td>300</td><td>&quot;Emma Clark&quot;</td><td>&quot;Dallas&quot;</td><td>&quot;Credit Card&quot;</td><td>&quot;Completed&quot;</td></tr><tr><td>112</td><td>2025-03-06</td><td>&quot;Washing Machine&quot;</td><td>&quot;Home Appliances&quot;</td><td>600</td><td>2</td><td>1200</td><td>&quot;David Lee&quot;</td><td>&quot;Dallas&quot;</td><td>&quot;Gift Card&quot;</td><td>&quot;Cancelled&quot;</td></tr><tr><td>25</td><td>2025-03-02</td><td>&quot;Book&quot;</td><td>&quot;Books&quot;</td><td>15</td><td>5</td><td>75</td><td>&quot;Sophia Miller&quot;</td><td>&quot;Seattle&quot;</td><td>&quot;Amazon Pay&quot;</td><td>&quot;Completed&quot;</td></tr><tr><td>72</td><td>2025-03-07</td><td>&quot;Laptop&quot;</td><td>&quot;Electronics&quot;</td><td>800</td><td>3</td><td>2400</td><td>&quot;Daniel Harris&quot;</td><td>&quot;Houston&quot;</td><td>&quot;Credit Card&quot;</td><td>&quot;Pending&quot;</td></tr><tr><td>122</td><td>2025-03-28</td><td>&quot;Laptop&quot;</td><td>&quot;Electronics&quot;</td><td>800</td><td>3</td><td>2400</td><td>&quot;John Doe&quot;</td><td>&quot;Miami&quot;</td><td>&quot;Credit Card&quot;</td><td>&quot;Cancelled&quot;</td></tr></tbody></table></div>"
      ],
      "text/plain": [
       "shape: (92, 11)\n",
       "┌─────┬────────────┬────────────┬────────────┬───┬────────────┬────────────┬───────────┬───────────┐\n",
       "│ ID  ┆ DATE       ┆ PRODUCT    ┆ CATEGORY   ┆ … ┆ CUSTOMER   ┆ LOCATION   ┆ METHOD    ┆ STATUS    │\n",
       "│ --- ┆ ---        ┆ ---        ┆ ---        ┆   ┆ ---        ┆ ---        ┆ ---       ┆ ---       │\n",
       "│ u8  ┆ date       ┆ enum       ┆ enum       ┆   ┆ enum       ┆ enum       ┆ enum      ┆ enum      │\n",
       "╞═════╪════════════╪════════════╪════════════╪═══╪════════════╪════════════╪═══════════╪═══════════╡\n",
       "│ 44  ┆ 2025-03-24 ┆ Smartwatch ┆ Electronic ┆ … ┆ Chris      ┆ Houston    ┆ Debit     ┆ Pending   │\n",
       "│     ┆            ┆            ┆ s          ┆   ┆ White      ┆            ┆ Card      ┆           │\n",
       "│ 57  ┆ 2025-03-15 ┆ Smartphone ┆ Electronic ┆ … ┆ Jane Smith ┆ Los        ┆ Debit     ┆ Cancelled │\n",
       "│     ┆            ┆            ┆ s          ┆   ┆            ┆ Angeles    ┆ Card      ┆           │\n",
       "│ 11  ┆ 2025-02-17 ┆ Book       ┆ Books      ┆ … ┆ David Lee  ┆ Boston     ┆ Amazon    ┆ Pending   │\n",
       "│     ┆            ┆            ┆            ┆   ┆            ┆            ┆ Pay       ┆           │\n",
       "│ 129 ┆ 2025-02-26 ┆ Jeans      ┆ Clothing   ┆ … ┆ Emily      ┆ New York   ┆ Debit     ┆ Pending   │\n",
       "│     ┆            ┆            ┆            ┆   ┆ Johnson    ┆            ┆ Card      ┆           │\n",
       "│ 119 ┆ 2025-03-16 ┆ Smartphone ┆ Electronic ┆ … ┆ Chris      ┆ Chicago    ┆ PayPal    ┆ Pending   │\n",
       "│     ┆            ┆            ┆ s          ┆   ┆ White      ┆            ┆           ┆           │\n",
       "│ …   ┆ …          ┆ …          ┆ …          ┆ … ┆ …          ┆ …          ┆ …         ┆ …         │\n",
       "│ 56  ┆ 2025-03-19 ┆ Smartwatch ┆ Electronic ┆ … ┆ Emma Clark ┆ Dallas     ┆ Credit    ┆ Completed │\n",
       "│     ┆            ┆            ┆ s          ┆   ┆            ┆            ┆ Card      ┆           │\n",
       "│ 112 ┆ 2025-03-06 ┆ Washing    ┆ Home       ┆ … ┆ David Lee  ┆ Dallas     ┆ Gift Card ┆ Cancelled │\n",
       "│     ┆            ┆ Machine    ┆ Appliances ┆   ┆            ┆            ┆           ┆           │\n",
       "│ 25  ┆ 2025-03-02 ┆ Book       ┆ Books      ┆ … ┆ Sophia     ┆ Seattle    ┆ Amazon    ┆ Completed │\n",
       "│     ┆            ┆            ┆            ┆   ┆ Miller     ┆            ┆ Pay       ┆           │\n",
       "│ 72  ┆ 2025-03-07 ┆ Laptop     ┆ Electronic ┆ … ┆ Daniel     ┆ Houston    ┆ Credit    ┆ Pending   │\n",
       "│     ┆            ┆            ┆ s          ┆   ┆ Harris     ┆            ┆ Card      ┆           │\n",
       "│ 122 ┆ 2025-03-28 ┆ Laptop     ┆ Electronic ┆ … ┆ John Doe   ┆ Miami      ┆ Credit    ┆ Cancelled │\n",
       "│     ┆            ┆            ┆ s          ┆   ┆            ┆            ┆ Card      ┆           │\n",
       "└─────┴────────────┴────────────┴────────────┴───┴────────────┴────────────┴───────────┴───────────┘"
      ]
     },
     "execution_count": 12,
     "metadata": {},
     "output_type": "execute_result"
    }
   ],
   "source": [
    "df.unique(['CUSTOMER', 'LOCATION']) "
   ]
  }
 ],
 "metadata": {
  "kernelspec": {
   "display_name": "Python 3",
   "language": "python",
   "name": "python3"
  },
  "language_info": {
   "codemirror_mode": {
    "name": "ipython",
    "version": 3
   },
   "file_extension": ".py",
   "mimetype": "text/x-python",
   "name": "python",
   "nbconvert_exporter": "python",
   "pygments_lexer": "ipython3",
   "version": "3.13.5"
  }
 },
 "nbformat": 4,
 "nbformat_minor": 5
}
