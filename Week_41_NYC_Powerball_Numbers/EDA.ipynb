{
 "cells": [
  {
   "cell_type": "code",
   "execution_count": null,
   "id": "4061ee11",
   "metadata": {},
   "outputs": [
    {
     "data": {
      "text/html": [
       "<div><style>\n",
       ".dataframe > thead > tr,\n",
       ".dataframe > tbody > tr {\n",
       "  text-align: right;\n",
       "  white-space: pre-wrap;\n",
       "}\n",
       "</style>\n",
       "<small>shape: (1_847, 7)</small><table border=\"1\" class=\"dataframe\"><thead><tr><th>DATE</th><th>LOWEST</th><th>SECOND_LOWEST</th><th>MEDIAN</th><th>SECOND_HIGHEST</th><th>HIGHEST</th><th>POWERBALL</th></tr><tr><td>date</td><td>u8</td><td>u8</td><td>u8</td><td>u8</td><td>u8</td><td>u8</td></tr></thead><tbody><tr><td>2020-10-21</td><td>1</td><td>3</td><td>13</td><td>44</td><td>56</td><td>26</td></tr><tr><td>2021-01-06</td><td>1</td><td>20</td><td>22</td><td>60</td><td>66</td><td>3</td></tr><tr><td>2021-01-30</td><td>1</td><td>2</td><td>7</td><td>52</td><td>61</td><td>4</td></tr><tr><td>2021-02-06</td><td>1</td><td>16</td><td>48</td><td>49</td><td>65</td><td>8</td></tr><tr><td>2021-02-17</td><td>1</td><td>15</td><td>21</td><td>32</td><td>46</td><td>1</td></tr><tr><td>&hellip;</td><td>&hellip;</td><td>&hellip;</td><td>&hellip;</td><td>&hellip;</td><td>&hellip;</td><td>&hellip;</td></tr><tr><td>2015-10-17</td><td>48</td><td>49</td><td>57</td><td>62</td><td>69</td><td>19</td></tr><tr><td>2020-01-01</td><td>49</td><td>53</td><td>57</td><td>59</td><td>62</td><td>26</td></tr><tr><td>2017-07-19</td><td>50</td><td>51</td><td>59</td><td>61</td><td>63</td><td>4</td></tr><tr><td>2020-11-21</td><td>51</td><td>54</td><td>57</td><td>60</td><td>69</td><td>11</td></tr><tr><td>2023-02-08</td><td>52</td><td>58</td><td>59</td><td>64</td><td>66</td><td>9</td></tr></tbody></table></div>"
      ],
      "text/plain": [
       "shape: (1_847, 7)\n",
       "┌────────────┬────────┬───────────────┬────────┬────────────────┬─────────┬───────────┐\n",
       "│ DATE       ┆ LOWEST ┆ SECOND_LOWEST ┆ MEDIAN ┆ SECOND_HIGHEST ┆ HIGHEST ┆ POWERBALL │\n",
       "│ ---        ┆ ---    ┆ ---           ┆ ---    ┆ ---            ┆ ---     ┆ ---       │\n",
       "│ date       ┆ u8     ┆ u8            ┆ u8     ┆ u8             ┆ u8      ┆ u8        │\n",
       "╞════════════╪════════╪═══════════════╪════════╪════════════════╪═════════╪═══════════╡\n",
       "│ 2020-10-21 ┆ 1      ┆ 3             ┆ 13     ┆ 44             ┆ 56      ┆ 26        │\n",
       "│ 2021-01-06 ┆ 1      ┆ 20            ┆ 22     ┆ 60             ┆ 66      ┆ 3         │\n",
       "│ 2021-01-30 ┆ 1      ┆ 2             ┆ 7      ┆ 52             ┆ 61      ┆ 4         │\n",
       "│ 2021-02-06 ┆ 1      ┆ 16            ┆ 48     ┆ 49             ┆ 65      ┆ 8         │\n",
       "│ 2021-02-17 ┆ 1      ┆ 15            ┆ 21     ┆ 32             ┆ 46      ┆ 1         │\n",
       "│ …          ┆ …      ┆ …             ┆ …      ┆ …              ┆ …       ┆ …         │\n",
       "│ 2015-10-17 ┆ 48     ┆ 49            ┆ 57     ┆ 62             ┆ 69      ┆ 19        │\n",
       "│ 2020-01-01 ┆ 49     ┆ 53            ┆ 57     ┆ 59             ┆ 62      ┆ 26        │\n",
       "│ 2017-07-19 ┆ 50     ┆ 51            ┆ 59     ┆ 61             ┆ 63      ┆ 4         │\n",
       "│ 2020-11-21 ┆ 51     ┆ 54            ┆ 57     ┆ 60             ┆ 69      ┆ 11        │\n",
       "│ 2023-02-08 ┆ 52     ┆ 58            ┆ 59     ┆ 64             ┆ 66      ┆ 9         │\n",
       "└────────────┴────────┴───────────────┴────────┴────────────────┴─────────┴───────────┘"
      ]
     },
     "execution_count": 6,
     "metadata": {},
     "output_type": "execute_result"
    }
   ],
   "source": [
    "import polars as pl\n",
    "import polars.selectors as cs\n",
    "import plotly.express as px\n",
    "import os\n",
    "\n",
    "source_data = 'Lottery_Powerball_Winning_Numbers__Beginning_2010.csv'\n",
    "df = (\n",
    "    pl.scan_csv(source_data)\n",
    "    .with_columns(\n",
    "        DATE = pl.col('Draw Date').str.to_date(format='%m/%d/%Y'),\n",
    "        SPLIT_NUMS = pl.col('Winning Numbers').str.split(' ')\n",
    "    )\n",
    "    .select(\n",
    "        pl.col('DATE'),\n",
    "        # YEAR = pl.col('DATE').dt.year().cast(pl.UInt16),\n",
    "        # MONTH = pl.col('DATE').dt.strftime('%b'),\n",
    "        # DAY = pl.col('DATE').dt.strftime('%d').cast(pl.UInt8),\n",
    "        # DAY_NAME = pl.col('DATE').dt.strftime('%a'),\n",
    "        LOWEST = pl.col('SPLIT_NUMS')\n",
    "            .list.get(0, null_on_oob=True)\n",
    "            .str.strip_chars().cast(pl.UInt8),\n",
    "        SECOND_LOWEST = pl.col('SPLIT_NUMS')\n",
    "            .list.get(1, null_on_oob=True)\n",
    "            .str.strip_chars().cast(pl.UInt8),\n",
    "        MEDIAN = pl.col('SPLIT_NUMS')\n",
    "            .list.get(2, null_on_oob=True)\n",
    "            .str.strip_chars().cast(pl.UInt8),\n",
    "        SECOND_HIGHEST = pl.col('SPLIT_NUMS')\n",
    "            .list.get(3, null_on_oob=True)\n",
    "            .str.strip_chars().cast(pl.UInt8),\n",
    "        HIGHEST = pl.col('SPLIT_NUMS')\n",
    "            .list.get(4, null_on_oob=True)\n",
    "            .str.strip_chars().cast(pl.UInt8),\n",
    "        POWERBALL = pl.col('SPLIT_NUMS')\n",
    "            .list.get(5, null_on_oob=True)\n",
    "            .str.strip_chars().cast(pl.UInt8),\n",
    "    )\n",
    "    .sort('DATE', descending=True)\n",
    "    .sort('LOWEST', descending=False)\n",
    "    .collect()\n",
    ")\n",
    "df\n"
   ]
  },
  {
   "cell_type": "code",
   "execution_count": 1,
   "id": "e6dcc662",
   "metadata": {},
   "outputs": [
    {
     "data": {
      "text/plain": [
       "['LOWEST', 'SECOND_LOWEST', 'MEDIAN', 'SECOND_HIGHEST', 'HIGHEST', 'ALL']"
      ]
     },
     "execution_count": 1,
     "metadata": {},
     "output_type": "execute_result"
    }
   ],
   "source": [
    "pick_list = ['LOWEST', 'SECOND_LOWEST', 'MEDIAN', 'SECOND_HIGHEST', 'HIGHEST']\n",
    "pick_list + ['ALL']"
   ]
  },
  {
   "cell_type": "code",
   "execution_count": null,
   "id": "0d737bb4",
   "metadata": {},
   "outputs": [],
   "source": [
    "(\n",
    "    df\n",
    "    .filter(pl.col('CREATED_DATE') != pl.col('RECEIVE_DATE'))\n",
    "    .filter(pl.col('PICKUP_DURATION').is_not_null())\n",
    "    .sample(10)\n",
    "    .glimpse()\n",
    ")"
   ]
  },
  {
   "cell_type": "code",
   "execution_count": null,
   "id": "857de896",
   "metadata": {},
   "outputs": [],
   "source": [
    "(\n",
    "    df\n",
    "    .filter(pl.col('CREATED_DATE') != pl.col('RECEIVE_DATE'))\n",
    "    .filter(pl.col('PICKUP_DURATION').is_not_null())\n",
    "    .select('CREATED_DATE', 'DELIVERY_DATE', 'RECEIVE_DATE','WITHDRAW_DATE', 'EXPIRE_DATE' )\n",
    "    .sample(5)\n",
    "    .transpose(include_header=True)\n",
    "    .sort('column_0')\n",
    ")\n",
    "\n",
    "\n",
    "\n",
    "# .str.strptime(pl.Datetime, fmt=\"%m/%d/%Y %H:%M\")\n"
   ]
  },
  {
   "cell_type": "code",
   "execution_count": null,
   "id": "2ff8ac0f",
   "metadata": {},
   "outputs": [],
   "source": [
    "for c in df.columns:\n",
    "    print(\n",
    "        c, \n",
    "        df[c]\n",
    "        .value_counts()\n",
    "        .with_columns(\n",
    "            PCT = (100*pl.col('count')/pl.col('count').sum()).cast(pl.Float32)\n",
    "        )\n",
    "    )"
   ]
  },
  {
   "cell_type": "code",
   "execution_count": null,
   "id": "7198f0b1",
   "metadata": {},
   "outputs": [],
   "source": [
    "print(list(df.columns))\n",
    "print()"
   ]
  },
  {
   "cell_type": "code",
   "execution_count": null,
   "id": "2ece95a1",
   "metadata": {},
   "outputs": [],
   "source": [
    "print(sorted(list(set(df['BOROUGH']))))"
   ]
  },
  {
   "cell_type": "code",
   "execution_count": null,
   "id": "42a70bf2",
   "metadata": {},
   "outputs": [],
   "source": [
    "fig = px.scatter_map(\n",
    "    df,\n",
    "    lat = 'LATITUDE',\n",
    "    lon = 'LONGITUDE',\n",
    "    color='BOROUGH'\n",
    ")\n",
    "fig.show()"
   ]
  },
  {
   "cell_type": "code",
   "execution_count": null,
   "id": "fdf84de0",
   "metadata": {},
   "outputs": [],
   "source": [
    "group_by_cols = ['LOCKER_NAME', 'ADDRESS', 'LOCATION_TYPE', 'LATITUDE', 'LONGITUDE', 'BOROUGH']\n",
    "df_group_by = (\n",
    "    df\n",
    "    .group_by(group_by_cols).len()\n",
    "    .rename({'len':  'COUNT'})\n",
    "    .sort('COUNT')\n",
    ")\n",
    "df_group_by\n",
    "# df_group_by['len'].sum()"
   ]
  },
  {
   "cell_type": "code",
   "execution_count": null,
   "id": "4609744d",
   "metadata": {},
   "outputs": [],
   "source": [
    "df.columns"
   ]
  }
 ],
 "metadata": {
  "kernelspec": {
   "display_name": "Python 3",
   "language": "python",
   "name": "python3"
  },
  "language_info": {
   "codemirror_mode": {
    "name": "ipython",
    "version": 3
   },
   "file_extension": ".py",
   "mimetype": "text/x-python",
   "name": "python",
   "nbconvert_exporter": "python",
   "pygments_lexer": "ipython3",
   "version": "3.13.5"
  }
 },
 "nbformat": 4,
 "nbformat_minor": 5
}
