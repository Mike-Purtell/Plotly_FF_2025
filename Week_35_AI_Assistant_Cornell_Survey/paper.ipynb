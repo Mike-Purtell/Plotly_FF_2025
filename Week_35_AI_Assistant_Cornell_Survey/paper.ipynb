{
 "cells": [
  {
   "cell_type": "code",
   "execution_count": null,
   "id": "initial_id",
   "metadata": {
    "ExecuteTime": {
     "end_time": "2025-07-31T11:57:22.130050Z",
     "start_time": "2025-07-31T11:57:21.879226Z"
    },
    "collapsed": true
   },
   "outputs": [],
   "source": [
    "import pandas as pd\n",
    "\n",
    "from utils import calculate_question_stats, mask"
   ]
  },
  {
   "cell_type": "code",
   "execution_count": null,
   "id": "6c181abf90730b65",
   "metadata": {
    "ExecuteTime": {
     "end_time": "2025-07-31T11:57:23.083860Z",
     "start_time": "2025-07-31T11:57:22.203371Z"
    }
   },
   "outputs": [],
   "source": [
    "data = pd.read_csv(\"dataset.csv\", low_memory=False)\n",
    "data"
   ]
  },
  {
   "cell_type": "markdown",
   "id": "a4b0db9f077de117",
   "metadata": {},
   "source": [
    "# RQ1"
   ]
  },
  {
   "cell_type": "code",
   "execution_count": null,
   "id": "4d1aaf991e99a243",
   "metadata": {
    "ExecuteTime": {
     "end_time": "2025-07-31T11:57:23.219569Z",
     "start_time": "2025-07-31T11:57:23.163413Z"
    }
   },
   "outputs": [],
   "source": [
    "calculate_question_stats(data, 67)"
   ]
  },
  {
   "cell_type": "code",
   "execution_count": null,
   "id": "28a7691914adbf74",
   "metadata": {
    "ExecuteTime": {
     "end_time": "2025-07-31T11:57:23.393575Z",
     "start_time": "2025-07-31T11:57:23.356460Z"
    }
   },
   "outputs": [],
   "source": [
    "calculate_question_stats(data, 65)"
   ]
  },
  {
   "cell_type": "code",
   "execution_count": null,
   "id": "bf2f56627583ec1",
   "metadata": {
    "ExecuteTime": {
     "end_time": "2025-07-31T11:57:23.485330Z",
     "start_time": "2025-07-31T11:57:23.474813Z"
    }
   },
   "outputs": [],
   "source": [
    "calculate_question_stats(data, 68)"
   ]
  },
  {
   "cell_type": "code",
   "execution_count": null,
   "id": "f423290b74b0bf5b",
   "metadata": {
    "ExecuteTime": {
     "end_time": "2025-07-31T11:57:24.574537Z",
     "start_time": "2025-07-31T11:57:24.541643Z"
    }
   },
   "outputs": [],
   "source": [
    "calculate_question_stats(data, 70)"
   ]
  },
  {
   "cell_type": "markdown",
   "id": "bf4ef279c14e70",
   "metadata": {},
   "source": [
    "# RQ2"
   ]
  },
  {
   "cell_type": "code",
   "execution_count": null,
   "id": "d81e5ea780a7a9",
   "metadata": {
    "ExecuteTime": {
     "end_time": "2025-07-31T11:57:24.685751Z",
     "start_time": "2025-07-31T11:57:24.644717Z"
    }
   },
   "outputs": [],
   "source": [
    "calculate_question_stats(data, 33)"
   ]
  },
  {
   "cell_type": "code",
   "execution_count": null,
   "id": "278b9943f748959c",
   "metadata": {
    "ExecuteTime": {
     "end_time": "2025-07-31T11:57:24.802530Z",
     "start_time": "2025-07-31T11:57:24.751575Z"
    }
   },
   "outputs": [],
   "source": [
    "calculate_question_stats(data, 34, value_order=[5, 4, 3, 2, 1])[0]"
   ]
  },
  {
   "cell_type": "code",
   "execution_count": null,
   "id": "ce1464c0a3acb435",
   "metadata": {
    "ExecuteTime": {
     "end_time": "2025-07-31T11:57:24.923482Z",
     "start_time": "2025-07-31T11:57:24.869284Z"
    }
   },
   "outputs": [],
   "source": [
    "# Figure 1\n",
    "calculate_question_stats(data, 34, value_order=[5, 4, 3, 2, 1], precision=0)[0]"
   ]
  },
  {
   "cell_type": "code",
   "execution_count": null,
   "id": "a8556e992f50b757",
   "metadata": {
    "ExecuteTime": {
     "end_time": "2025-07-31T11:57:25.105824Z",
     "start_time": "2025-07-31T11:57:24.995453Z"
    }
   },
   "outputs": [],
   "source": [
    "calculate_question_stats(\n",
    "    data,\n",
    "    35,\n",
    "    value_order=[\n",
    "        \"Currently use it\",\n",
    "        \"Tried it, but don’t use it anymore\",\n",
    "        \"Aware of it, but never tried it\",\n",
    "        \"Never heard of it\",\n",
    "    ],\n",
    ")[0]"
   ]
  },
  {
   "cell_type": "markdown",
   "id": "cefd1a4fd1ff4dbb",
   "metadata": {},
   "source": [
    "# RQ3"
   ]
  },
  {
   "cell_type": "code",
   "execution_count": null,
   "id": "6ceb83ca94ed7f7e",
   "metadata": {
    "ExecuteTime": {
     "end_time": "2025-07-31T11:57:25.281141Z",
     "start_time": "2025-07-31T11:57:25.198590Z"
    }
   },
   "outputs": [],
   "source": [
    "q16_mask = ~mask(data, 16, option=\"No\")\n",
    "\n",
    "q33_free_moocs_mask = mask(data, 33, option=\"Free online courses (MOOCs) or code schools\")\n",
    "q33_paid_moocs_mask = mask(data, 33, option=\"Paid online courses (MOOCs) or code schools\")\n",
    "q33_oup_mask = mask(data, 33, option=\"Online university programs\")\n",
    "q33_mask = q33_free_moocs_mask | q33_paid_moocs_mask | q33_oup_mask\n",
    "\n",
    "q35_javarush_mask = mask(data, 35, option=\"JavaRush\", value=\"Currently use it\")\n",
    "q35_jba_mask = mask(data, 35, option=\"JetBrains Academy\", value=\"Currently use it\")\n",
    "q35_mask = q35_jba_mask | q35_javarush_mask\n",
    "\n",
    "q80_laptop_mask = mask(data, 80, option=\"Laptop\")\n",
    "q80_desktop_mask = mask(data, 80, option=\"Desktop computer\")\n",
    "q80_mask = q80_desktop_mask | q80_laptop_mask\n",
    "\n",
    "q58_mask = mask(data, 58, value=\"Yes\")\n",
    "q49_mask = mask(data, 49, option=\"An integrated development environment (IDE)\")\n",
    "\n",
    "q55_personal_mask = mask(data, 55, option=\"Personal or side projects\")\n",
    "q55_other_mask = mask(data, 55, option=\"Other\")\n",
    "q55_mask = q55_other_mask | q55_personal_mask\n",
    "\n",
    "rq3_mask = q16_mask & q33_mask & q35_mask & q80_mask & q58_mask & q49_mask & q55_mask\n",
    "\n",
    "data[rq3_mask]"
   ]
  },
  {
   "cell_type": "code",
   "execution_count": null,
   "id": "bdfc1bae606bdebe",
   "metadata": {
    "ExecuteTime": {
     "end_time": "2025-07-31T11:57:25.417457Z",
     "start_time": "2025-07-31T11:57:25.390751Z"
    }
   },
   "outputs": [],
   "source": [
    "calculate_question_stats(data[rq3_mask], 67)"
   ]
  },
  {
   "cell_type": "code",
   "execution_count": null,
   "id": "8df9832fc3b7c839",
   "metadata": {
    "ExecuteTime": {
     "end_time": "2025-07-31T11:57:25.617129Z",
     "start_time": "2025-07-31T11:57:25.566074Z"
    }
   },
   "outputs": [],
   "source": [
    "calculate_question_stats(data, 67)"
   ]
  }
 ],
 "metadata": {
  "kernelspec": {
   "display_name": "Python 3",
   "language": "python",
   "name": "python3"
  },
  "language_info": {
   "codemirror_mode": {
    "name": "ipython",
    "version": 3
   },
   "file_extension": ".py",
   "mimetype": "text/x-python",
   "name": "python",
   "nbconvert_exporter": "python",
   "pygments_lexer": "ipython3",
   "version": "3.13.5"
  }
 },
 "nbformat": 4,
 "nbformat_minor": 5
}
