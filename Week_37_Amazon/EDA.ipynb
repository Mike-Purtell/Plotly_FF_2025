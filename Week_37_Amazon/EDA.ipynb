{
 "cells": [
  {
   "cell_type": "code",
   "execution_count": null,
   "id": "4bd90764",
   "metadata": {},
   "outputs": [],
   "source": [
    "import polars as pl\n",
    "import plotly.express as px\n",
    "#  Dataset has 10 unique customers & locations, 92 unique customer/locatio pairs\n",
    "\n",
    "#----- LOAD AND CLEAN THE DATASET\n",
    "df  = (\n",
    "    pl.read_csv(\n",
    "        'amazon_sales_data.csv',\n",
    "    )\n",
    "    .rename(  # upper case all column names, replace spaces with underscores\n",
    "        lambda c: \n",
    "            c.upper()            # column names to upper case\n",
    "            .replace(' ', '_')   # blanks replaced with underscores\n",
    "    )\n",
    "    .rename({\n",
    "        'CUSTOMER_NAME'      : 'CUSTOMER',\n",
    "        'TOTAL_SALES'        : 'TOTAL',\n",
    "        'CUSTOMER_LOCATION'  : 'LOCATION',\n",
    "    })\n",
    "    .group_by(['CUSTOMER', 'LOCATION']).agg(pl.col('TOTAL').sum())\n",
    ")\n",
    "\n",
    "# Convert Polars DataFrame to a dictionary for Plotly\n",
    "heatmap_data = df.to_dict(as_series=False)\n",
    "\n",
    "# Create the heatmap\n",
    "fig = px.density_heatmap(\n",
    "    x=heatmap_data['CUSTOMER'],\n",
    "    y=heatmap_data['LOCATION'],\n",
    "    z=heatmap_data['TOTAL'],\n",
    "    labels={\"x\": 'CUSTOMER', \"y\": 'LOCATION', \"z\": 'TOTAL SPEND'},\n",
    "    color_continuous_scale='greens',\n",
    "    text_auto='$,d'# text_auto=\".2f\",\n",
    "    # title='SALES BY CUSTOMER, LOCATION'\n",
    ")\n",
    "fig.update_layout(\n",
    "    title=dict(text='Sales by Cusomer, Location')\n",
    ")\n",
    "fig.update(layout_coloraxis_showscale=False)\n",
    "fig.show()"
   ]
  }
 ],
 "metadata": {
  "kernelspec": {
   "display_name": "Python 3",
   "language": "python",
   "name": "python3"
  },
  "language_info": {
   "codemirror_mode": {
    "name": "ipython",
    "version": 3
   },
   "file_extension": ".py",
   "mimetype": "text/x-python",
   "name": "python",
   "nbconvert_exporter": "python",
   "pygments_lexer": "ipython3",
   "version": "3.13.5"
  }
 },
 "nbformat": 4,
 "nbformat_minor": 5
}
