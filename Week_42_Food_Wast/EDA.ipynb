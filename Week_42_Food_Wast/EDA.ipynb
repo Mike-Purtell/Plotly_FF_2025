{
 "cells": [
  {
   "cell_type": "code",
   "execution_count": 48,
   "id": "788fbeb2",
   "metadata": {},
   "outputs": [],
   "source": [
    "import polars as pl\n",
    "import polars.selectors as cs\n",
    "import plotly.express as px\n",
    "import os\n",
    "source_data = 'Food Waste data & research - PUBLIC.xlsx'\n",
    "sheet_name = 'food waste by country'"
   ]
  },
  {
   "cell_type": "code",
   "execution_count": 46,
   "id": "7b985cb5",
   "metadata": {},
   "outputs": [
    {
     "data": {
      "text/html": [
       "<div><style>\n",
       ".dataframe > thead > tr,\n",
       ".dataframe > tbody > tr {\n",
       "  text-align: right;\n",
       "  white-space: pre-wrap;\n",
       "}\n",
       "</style>\n",
       "<small>shape: (214, 7)</small><table border=\"1\" class=\"dataframe\"><thead><tr><th>COUNTRY</th><th>HOUSEHOLD_PC</th><th>HOUSEHOLD_TOT</th><th>RETAIL_PC</th><th>RETAIL_TOT</th><th>FOOD_SERVICE_PC</th><th>FOOD_SERVICE_TOT</th></tr><tr><td>str</td><td>u8</td><td>u32</td><td>u8</td><td>u32</td><td>u8</td><td>u32</td></tr></thead><tbody><tr><td>&quot;Afghanistan&quot;</td><td>82</td><td>3109153</td><td>16</td><td>594982</td><td>28</td><td>1051783</td></tr><tr><td>&quot;Albania&quot;</td><td>83</td><td>238492</td><td>16</td><td>45058</td><td>28</td><td>79651</td></tr><tr><td>&quot;Algeria&quot;</td><td>91</td><td>3918529</td><td>16</td><td>673360</td><td>28</td><td>1190335</td></tr><tr><td>&quot;Andorra&quot;</td><td>84</td><td>6497</td><td>13</td><td>988</td><td>26</td><td>1971</td></tr><tr><td>&quot;Angola&quot;</td><td>100</td><td>3169523</td><td>16</td><td>497755</td><td>28</td><td>879908</td></tr><tr><td>&hellip;</td><td>&hellip;</td><td>&hellip;</td><td>&hellip;</td><td>&hellip;</td><td>&hellip;</td><td>&hellip;</td></tr><tr><td>&quot;Venezuela (Boliv. Rep. of)&quot;</td><td>72</td><td>2065461</td><td>16</td><td>445994</td><td>28</td><td>788407</td></tr><tr><td>&quot;Viet Nam&quot;</td><td>76</td><td>7346717</td><td>16</td><td>1508689</td><td>28</td><td>2666991</td></tr><tr><td>&quot;Yemen&quot;</td><td>104</td><td>3026946</td><td>16</td><td>456099</td><td>28</td><td>806270</td></tr><tr><td>&quot;Zambia&quot;</td><td>78</td><td>1391729</td><td>16</td><td>279350</td><td>28</td><td>493822</td></tr><tr><td>&quot;Zimbabwe&quot;</td><td>100</td><td>1458564</td><td>16</td><td>229059</td><td>28</td><td>404920</td></tr></tbody></table></div>"
      ],
      "text/plain": [
       "shape: (214, 7)\n",
       "┌──────────────┬──────────────┬──────────────┬───────────┬────────────┬──────────────┬─────────────┐\n",
       "│ COUNTRY      ┆ HOUSEHOLD_PC ┆ HOUSEHOLD_TO ┆ RETAIL_PC ┆ RETAIL_TOT ┆ FOOD_SERVICE ┆ FOOD_SERVIC │\n",
       "│ ---          ┆ ---          ┆ T            ┆ ---       ┆ ---        ┆ _PC          ┆ E_TOT       │\n",
       "│ str          ┆ u8           ┆ ---          ┆ u8        ┆ u32        ┆ ---          ┆ ---         │\n",
       "│              ┆              ┆ u32          ┆           ┆            ┆ u8           ┆ u32         │\n",
       "╞══════════════╪══════════════╪══════════════╪═══════════╪════════════╪══════════════╪═════════════╡\n",
       "│ Afghanistan  ┆ 82           ┆ 3109153      ┆ 16        ┆ 594982     ┆ 28           ┆ 1051783     │\n",
       "│ Albania      ┆ 83           ┆ 238492       ┆ 16        ┆ 45058      ┆ 28           ┆ 79651       │\n",
       "│ Algeria      ┆ 91           ┆ 3918529      ┆ 16        ┆ 673360     ┆ 28           ┆ 1190335     │\n",
       "│ Andorra      ┆ 84           ┆ 6497         ┆ 13        ┆ 988        ┆ 26           ┆ 1971        │\n",
       "│ Angola       ┆ 100          ┆ 3169523      ┆ 16        ┆ 497755     ┆ 28           ┆ 879908      │\n",
       "│ …            ┆ …            ┆ …            ┆ …         ┆ …          ┆ …            ┆ …           │\n",
       "│ Venezuela    ┆ 72           ┆ 2065461      ┆ 16        ┆ 445994     ┆ 28           ┆ 788407      │\n",
       "│ (Boliv. Rep. ┆              ┆              ┆           ┆            ┆              ┆             │\n",
       "│ of)          ┆              ┆              ┆           ┆            ┆              ┆             │\n",
       "│ Viet Nam     ┆ 76           ┆ 7346717      ┆ 16        ┆ 1508689    ┆ 28           ┆ 2666991     │\n",
       "│ Yemen        ┆ 104          ┆ 3026946      ┆ 16        ┆ 456099     ┆ 28           ┆ 806270      │\n",
       "│ Zambia       ┆ 78           ┆ 1391729      ┆ 16        ┆ 279350     ┆ 28           ┆ 493822      │\n",
       "│ Zimbabwe     ┆ 100          ┆ 1458564      ┆ 16        ┆ 229059     ┆ 28           ┆ 404920      │\n",
       "└──────────────┴──────────────┴──────────────┴───────────┴────────────┴──────────────┴─────────────┘"
      ]
     },
     "execution_count": 46,
     "metadata": {},
     "output_type": "execute_result"
    }
   ],
   "source": [
    "df = (\n",
    "    pl.read_excel(\n",
    "        source_data,    \n",
    "        sheet_name=sheet_name,\n",
    "        has_header=False,\n",
    "        read_options={ \"skip_rows\": 2}\n",
    "    )\n",
    "    .filter(~pl.col('column_1').is_in(['Country', 'AVERAGE']))\n",
    "    .select(\n",
    "        COUNTRY = pl.col('column_1'),\n",
    "        HOUSEHOLD_PC =  pl.col('column_3').cast(pl.UInt8()),\n",
    "        HOUSEHOLD_TOT = pl.col('column_4').cast(pl.UInt32()),\n",
    "        RETAIL_PC =  pl.col('column_5').cast(pl.UInt8()),\n",
    "        RETAIL_TOT = pl.col('column_6').cast(pl.UInt32()),\n",
    "        FOOD_SERVICE_PC =  pl.col('column_7').cast(pl.UInt8()),\n",
    "        FOOD_SERVICE_TOT = pl.col('column_8').cast(pl.UInt32())\n",
    "    )\n",
    ")\n",
    "df"
   ]
  },
  {
   "cell_type": "code",
   "execution_count": null,
   "id": "1a1a14d3",
   "metadata": {},
   "outputs": [],
   "source": []
  },
  {
   "cell_type": "code",
   "execution_count": null,
   "id": "4061ee11",
   "metadata": {},
   "outputs": [
    {
     "data": {
      "text/html": [
       "<div><style>\n",
       ".dataframe > thead > tr,\n",
       ".dataframe > tbody > tr {\n",
       "  text-align: right;\n",
       "  white-space: pre-wrap;\n",
       "}\n",
       "</style>\n",
       "<small>shape: (1_847, 7)</small><table border=\"1\" class=\"dataframe\"><thead><tr><th>DATE</th><th>LOWEST</th><th>SECOND_LOWEST</th><th>MEDIAN</th><th>SECOND_HIGHEST</th><th>HIGHEST</th><th>POWERBALL</th></tr><tr><td>date</td><td>u8</td><td>u8</td><td>u8</td><td>u8</td><td>u8</td><td>u8</td></tr></thead><tbody><tr><td>2020-10-21</td><td>1</td><td>3</td><td>13</td><td>44</td><td>56</td><td>26</td></tr><tr><td>2021-01-06</td><td>1</td><td>20</td><td>22</td><td>60</td><td>66</td><td>3</td></tr><tr><td>2021-01-30</td><td>1</td><td>2</td><td>7</td><td>52</td><td>61</td><td>4</td></tr><tr><td>2021-02-06</td><td>1</td><td>16</td><td>48</td><td>49</td><td>65</td><td>8</td></tr><tr><td>2021-02-17</td><td>1</td><td>15</td><td>21</td><td>32</td><td>46</td><td>1</td></tr><tr><td>&hellip;</td><td>&hellip;</td><td>&hellip;</td><td>&hellip;</td><td>&hellip;</td><td>&hellip;</td><td>&hellip;</td></tr><tr><td>2015-10-17</td><td>48</td><td>49</td><td>57</td><td>62</td><td>69</td><td>19</td></tr><tr><td>2020-01-01</td><td>49</td><td>53</td><td>57</td><td>59</td><td>62</td><td>26</td></tr><tr><td>2017-07-19</td><td>50</td><td>51</td><td>59</td><td>61</td><td>63</td><td>4</td></tr><tr><td>2020-11-21</td><td>51</td><td>54</td><td>57</td><td>60</td><td>69</td><td>11</td></tr><tr><td>2023-02-08</td><td>52</td><td>58</td><td>59</td><td>64</td><td>66</td><td>9</td></tr></tbody></table></div>"
      ],
      "text/plain": [
       "shape: (1_847, 7)\n",
       "┌────────────┬────────┬───────────────┬────────┬────────────────┬─────────┬───────────┐\n",
       "│ DATE       ┆ LOWEST ┆ SECOND_LOWEST ┆ MEDIAN ┆ SECOND_HIGHEST ┆ HIGHEST ┆ POWERBALL │\n",
       "│ ---        ┆ ---    ┆ ---           ┆ ---    ┆ ---            ┆ ---     ┆ ---       │\n",
       "│ date       ┆ u8     ┆ u8            ┆ u8     ┆ u8             ┆ u8      ┆ u8        │\n",
       "╞════════════╪════════╪═══════════════╪════════╪════════════════╪═════════╪═══════════╡\n",
       "│ 2020-10-21 ┆ 1      ┆ 3             ┆ 13     ┆ 44             ┆ 56      ┆ 26        │\n",
       "│ 2021-01-06 ┆ 1      ┆ 20            ┆ 22     ┆ 60             ┆ 66      ┆ 3         │\n",
       "│ 2021-01-30 ┆ 1      ┆ 2             ┆ 7      ┆ 52             ┆ 61      ┆ 4         │\n",
       "│ 2021-02-06 ┆ 1      ┆ 16            ┆ 48     ┆ 49             ┆ 65      ┆ 8         │\n",
       "│ 2021-02-17 ┆ 1      ┆ 15            ┆ 21     ┆ 32             ┆ 46      ┆ 1         │\n",
       "│ …          ┆ …      ┆ …             ┆ …      ┆ …              ┆ …       ┆ …         │\n",
       "│ 2015-10-17 ┆ 48     ┆ 49            ┆ 57     ┆ 62             ┆ 69      ┆ 19        │\n",
       "│ 2020-01-01 ┆ 49     ┆ 53            ┆ 57     ┆ 59             ┆ 62      ┆ 26        │\n",
       "│ 2017-07-19 ┆ 50     ┆ 51            ┆ 59     ┆ 61             ┆ 63      ┆ 4         │\n",
       "│ 2020-11-21 ┆ 51     ┆ 54            ┆ 57     ┆ 60             ┆ 69      ┆ 11        │\n",
       "│ 2023-02-08 ┆ 52     ┆ 58            ┆ 59     ┆ 64             ┆ 66      ┆ 9         │\n",
       "└────────────┴────────┴───────────────┴────────┴────────────────┴─────────┴───────────┘"
      ]
     },
     "execution_count": 6,
     "metadata": {},
     "output_type": "execute_result"
    }
   ],
   "source": [
    "import polars as pl\n",
    "import polars.selectors as cs\n",
    "import plotly.express as px\n",
    "import os\n",
    "\n",
    "source_data = 'Lottery_Powerball_Winning_Numbers__Beginning_2010.csv'\n",
    "df = (\n",
    "    pl.scan_csv(source_data)\n",
    "    .with_columns(\n",
    "        DATE = pl.col('Draw Date').str.to_date(format='%m/%d/%Y'),\n",
    "        SPLIT_NUMS = pl.col('Winning Numbers').str.split(' ')\n",
    "    )\n",
    "    .select(\n",
    "        pl.col('DATE'),\n",
    "        # YEAR = pl.col('DATE').dt.year().cast(pl.UInt16),\n",
    "        # MONTH = pl.col('DATE').dt.strftime('%b'),\n",
    "        # DAY = pl.col('DATE').dt.strftime('%d').cast(pl.UInt8),\n",
    "        # DAY_NAME = pl.col('DATE').dt.strftime('%a'),\n",
    "        LOWEST = pl.col('SPLIT_NUMS')\n",
    "            .list.get(0, null_on_oob=True)\n",
    "            .str.strip_chars().cast(pl.UInt8),\n",
    "        SECOND_LOWEST = pl.col('SPLIT_NUMS')\n",
    "            .list.get(1, null_on_oob=True)\n",
    "            .str.strip_chars().cast(pl.UInt8),\n",
    "        MEDIAN = pl.col('SPLIT_NUMS')\n",
    "            .list.get(2, null_on_oob=True)\n",
    "            .str.strip_chars().cast(pl.UInt8),\n",
    "        SECOND_HIGHEST = pl.col('SPLIT_NUMS')\n",
    "            .list.get(3, null_on_oob=True)\n",
    "            .str.strip_chars().cast(pl.UInt8),\n",
    "        HIGHEST = pl.col('SPLIT_NUMS')\n",
    "            .list.get(4, null_on_oob=True)\n",
    "            .str.strip_chars().cast(pl.UInt8),\n",
    "        POWERBALL = pl.col('SPLIT_NUMS')\n",
    "            .list.get(5, null_on_oob=True)\n",
    "            .str.strip_chars().cast(pl.UInt8),\n",
    "    )\n",
    "    .sort('DATE', descending=True)\n",
    "    .sort('LOWEST', descending=False)\n",
    "    .collect()\n",
    ")\n",
    "df\n"
   ]
  },
  {
   "cell_type": "code",
   "execution_count": 1,
   "id": "e6dcc662",
   "metadata": {},
   "outputs": [
    {
     "data": {
      "text/plain": [
       "['LOWEST', 'SECOND_LOWEST', 'MEDIAN', 'SECOND_HIGHEST', 'HIGHEST', 'ALL']"
      ]
     },
     "execution_count": 1,
     "metadata": {},
     "output_type": "execute_result"
    }
   ],
   "source": [
    "pick_list = ['LOWEST', 'SECOND_LOWEST', 'MEDIAN', 'SECOND_HIGHEST', 'HIGHEST']\n",
    "pick_list + ['ALL']"
   ]
  },
  {
   "cell_type": "code",
   "execution_count": null,
   "id": "0d737bb4",
   "metadata": {},
   "outputs": [],
   "source": [
    "(\n",
    "    df\n",
    "    .filter(pl.col('CREATED_DATE') != pl.col('RECEIVE_DATE'))\n",
    "    .filter(pl.col('PICKUP_DURATION').is_not_null())\n",
    "    .sample(10)\n",
    "    .glimpse()\n",
    ")"
   ]
  },
  {
   "cell_type": "code",
   "execution_count": null,
   "id": "857de896",
   "metadata": {},
   "outputs": [],
   "source": [
    "(\n",
    "    df\n",
    "    .filter(pl.col('CREATED_DATE') != pl.col('RECEIVE_DATE'))\n",
    "    .filter(pl.col('PICKUP_DURATION').is_not_null())\n",
    "    .select('CREATED_DATE', 'DELIVERY_DATE', 'RECEIVE_DATE','WITHDRAW_DATE', 'EXPIRE_DATE' )\n",
    "    .sample(5)\n",
    "    .transpose(include_header=True)\n",
    "    .sort('column_0')\n",
    ")\n",
    "\n",
    "\n",
    "\n",
    "# .str.strptime(pl.Datetime, fmt=\"%m/%d/%Y %H:%M\")\n"
   ]
  },
  {
   "cell_type": "code",
   "execution_count": null,
   "id": "2ff8ac0f",
   "metadata": {},
   "outputs": [],
   "source": [
    "for c in df.columns:\n",
    "    print(\n",
    "        c, \n",
    "        df[c]\n",
    "        .value_counts()\n",
    "        .with_columns(\n",
    "            PCT = (100*pl.col('count')/pl.col('count').sum()).cast(pl.Float32)\n",
    "        )\n",
    "    )"
   ]
  },
  {
   "cell_type": "code",
   "execution_count": null,
   "id": "7198f0b1",
   "metadata": {},
   "outputs": [],
   "source": [
    "print(list(df.columns))\n",
    "print()"
   ]
  },
  {
   "cell_type": "code",
   "execution_count": null,
   "id": "2ece95a1",
   "metadata": {},
   "outputs": [],
   "source": [
    "print(sorted(list(set(df['BOROUGH']))))"
   ]
  },
  {
   "cell_type": "code",
   "execution_count": null,
   "id": "42a70bf2",
   "metadata": {},
   "outputs": [],
   "source": [
    "fig = px.scatter_map(\n",
    "    df,\n",
    "    lat = 'LATITUDE',\n",
    "    lon = 'LONGITUDE',\n",
    "    color='BOROUGH'\n",
    ")\n",
    "fig.show()"
   ]
  },
  {
   "cell_type": "code",
   "execution_count": null,
   "id": "fdf84de0",
   "metadata": {},
   "outputs": [],
   "source": [
    "group_by_cols = ['LOCKER_NAME', 'ADDRESS', 'LOCATION_TYPE', 'LATITUDE', 'LONGITUDE', 'BOROUGH']\n",
    "df_group_by = (\n",
    "    df\n",
    "    .group_by(group_by_cols).len()\n",
    "    .rename({'len':  'COUNT'})\n",
    "    .sort('COUNT')\n",
    ")\n",
    "df_group_by\n",
    "# df_group_by['len'].sum()"
   ]
  },
  {
   "cell_type": "code",
   "execution_count": null,
   "id": "4609744d",
   "metadata": {},
   "outputs": [],
   "source": [
    "df.columns"
   ]
  }
 ],
 "metadata": {
  "kernelspec": {
   "display_name": "Python 3",
   "language": "python",
   "name": "python3"
  },
  "language_info": {
   "codemirror_mode": {
    "name": "ipython",
    "version": 3
   },
   "file_extension": ".py",
   "mimetype": "text/x-python",
   "name": "python",
   "nbconvert_exporter": "python",
   "pygments_lexer": "ipython3",
   "version": "3.13.5"
  }
 },
 "nbformat": 4,
 "nbformat_minor": 5
}
